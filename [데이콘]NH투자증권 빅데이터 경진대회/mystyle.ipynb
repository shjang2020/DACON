{
 "cells": [
  {
   "cell_type": "code",
   "execution_count": 1,
   "metadata": {
    "scrolled": true
   },
   "outputs": [
    {
     "name": "stdout",
     "output_type": "stream",
     "text": [
      "tf Version \n",
      " 2.3.0\n",
      "tf.keras Version \n",
      " 2.4.0\n"
     ]
    }
   ],
   "source": [
    "#기본 패키지\n",
    "import time\n",
    "import warnings\n",
    "warnings.filterwarnings('ignore')\n",
    "\n",
    "#데이터 처리 패키지\n",
    "import numpy as np\n",
    "import pandas as pd\n",
    "\n",
    "#시각화 패키지\n",
    "import matplotlib as mpl\n",
    "import matplotlib.font_manager as fm\n",
    "import matplotlib.pyplot as plt\n",
    "plt.rc('font', family=fm.FontProperties(fname=\"c:/Windows/Fonts/malgun.ttf\").get_name()) # for Windows OS user\n",
    "from matplotlib import rc \n",
    "rc('font', family='malgun gothic')\n",
    "rc('axes', unicode_minus = False)\n",
    "import seaborn as sns\n",
    "#plt.style.use('ggplot')\n",
    "\n",
    "#수학 패키지\n",
    "from scipy.stats.mstats import gmean\n",
    "from scipy.stats import randint as sp_randint\n",
    "from scipy.stats import uniform\n",
    "import uuid\n",
    "import random\n",
    "from tqdm import tqdm, tqdm_notebook\n",
    "from itertools import combinations\n",
    "\n",
    "#머신러닝 패키지\n",
    "from sklearn.model_selection import train_test_split\n",
    "from sklearn.model_selection import cross_val_score\n",
    "from sklearn.model_selection import StratifiedKFold\n",
    "from sklearn.model_selection import KFold\n",
    "from sklearn.model_selection import ShuffleSplit\n",
    "from sklearn.preprocessing import LabelEncoder\n",
    "from sklearn.preprocessing import OneHotEncoder\n",
    "from sklearn.cluster import KMeans\n",
    "from sklearn.decomposition import PCA\n",
    "from sklearn.preprocessing import StandardScaler,RobustScaler\n",
    "from sklearn.feature_selection import SelectPercentile\n",
    "from sklearn.model_selection import GridSearchCV\n",
    "from sklearn.model_selection import RandomizedSearchCV\n",
    "from sklearn.ensemble import *\n",
    "from sklearn.naive_bayes import GaussianNB \n",
    "from sklearn.linear_model import LogisticRegression, SGDClassifier, LinearRegression, SGDRegressor\n",
    "from sklearn.neighbors import KNeighborsClassifier, KNeighborsRegressor\n",
    "from sklearn.neural_network import MLPClassifier, MLPRegressor\n",
    "from sklearn.tree import DecisionTreeClassifier, DecisionTreeRegressor\n",
    "from sklearn.svm import SVC\n",
    "from xgboost import XGBClassifier, XGBRegressor\n",
    "from lightgbm import LGBMClassifier, LGBMRegressor\n",
    "from catboost import CatBoostClassifier, CatBoostRegressor\n",
    "from sklearn.ensemble import RandomForestRegressor\n",
    "\n",
    "from sklearn.cross_decomposition import PLSRegression\n",
    "from sklearn.linear_model import Lasso,ElasticNet,Ridge\n",
    "from sklearn.linear_model import BayesianRidge\n",
    "from vecstack import stacking, StackingTransformer\n",
    "from sklearn.metrics import roc_auc_score\n",
    "from sklearn.metrics import accuracy_score\n",
    "from sklearn.metrics import mean_squared_error\n",
    "from sklearn.metrics import mean_absolute_error\n",
    "from sklearn.metrics import mean_squared_error as mse\n",
    "\n",
    "#딥러닝 패키지\n",
    "import tensorflow.keras as keras\n",
    "import tensorflow as tf\n",
    "from tensorflow.keras import backend as K\n",
    "from tensorflow.keras.models import * #Model\n",
    "from tensorflow.keras.optimizers import *\n",
    "from tensorflow.keras.regularizers import *\n",
    "#from keras.utils.np_utils import *\n",
    "#from tensorflow.keras.utils.vis_utils import * #model_to_dot\n",
    "from tensorflow.keras.callbacks import ModelCheckpoint,EarlyStopping\n",
    "from tensorflow.keras.losses import *\n",
    "from tensorflow.keras import layers\n",
    "print('tf Version \\n', tf.__version__)\n",
    "print('tf.keras Version \\n', tf.keras.__version__)\n",
    "\n",
    "import kerastuner as kt\n",
    "import datetime\n",
    "import os\n",
    "import sys, warnings\n",
    "if not sys.warnoptions: warnings.simplefilter(\"ignore\")\n",
    "\n",
    "import shap\n",
    "\n",
    "import klib\n",
    "# Dacon plotly 그림 업로드 \n",
    "pd.options.plotting.backend = 'plotly'\n",
    "## plotly.io를 import 한 후 renderers 기본값을 꼭 \"notebook_connected\" 로 설정해주시기 바랍니다.\n",
    "import plotly.io as pio\n",
    "pio.renderers.default = \"notebook_connected\"\n",
    "\n",
    "import optuna\n",
    "from optuna import Trial\n",
    "from optuna.samplers import TPESampler"
   ]
  },
  {
   "cell_type": "code",
   "execution_count": 11,
   "metadata": {},
   "outputs": [],
   "source": [
    "cus = pd.read_csv(\"open/cus_info.csv\")\n",
    "hist = pd.read_csv(\"open/stk_bnc_hist.csv\")\n",
    "iem = pd.read_csv(\"open/iem_info.csv\")\n",
    "train = pd.read_csv(\"open/stk_hld_train.csv\")\n",
    "test = pd.read_csv(\"open/stk_hld_test.csv\")\n",
    "\n",
    "submission = pd.read_csv(\"open/sample_submission.csv\")"
   ]
  },
  {
   "cell_type": "code",
   "execution_count": 12,
   "metadata": {},
   "outputs": [],
   "source": [
    "cus.columns=['계좌번호','성별','연령대','투자성향','자산구간','주거래상품군','Life_style','서비스등급','총투자기간','주거래업종구분']\n",
    "hist.columns=['계좌번호','기준일자','종목코드','잔고수량','잔고금액','주당액면가']\n",
    "iem.columns=['종목코드','종목한글명','종목업종','시가총액규모유형','시장구분']\n",
    "train.columns=['계좌번호','종목코드','매수일자','hold_d']\n",
    "test.columns=['계좌번호','종목코드','매수일자','과거보유일','submit_id','hold_d']"
   ]
  },
  {
   "cell_type": "code",
   "execution_count": 13,
   "metadata": {},
   "outputs": [],
   "source": [
    "hist['기준일자']=pd.to_datetime(hist.기준일자.astype(str))\n",
    "train['매수일자']=pd.to_datetime(train.매수일자.astype(str))\n",
    "test['매수일자']=pd.to_datetime(test.매수일자.astype(str))"
   ]
  },
  {
   "cell_type": "markdown",
   "metadata": {},
   "source": [
    "과거보유일을 만들기 위해서는 test에 일관적 기준인 2020년 12월 30일처럼 train 행별로 기준을 만들어준다면 과거보유일을 쉽게 만들 수 있다.\\\n",
    "그 기준을 어떻게 만드는지가 중요한 포인트인 것 같다.\n",
    "\n",
    "1. 특정 고객이 어느년도에 구매했는지에 따라 기준이 생긴다?\n",
    "2. 특정 고객이 어느 달에 구매했는지에 따라 기준이 생긴다?\n",
    "3. 특정 고객이 어떤 종목을 구매했는지에 따라 기준이 생긴다?"
   ]
  },
  {
   "cell_type": "markdown",
   "metadata": {},
   "source": [
    "cus 따로 iem따로 hist따로 열을 만든 다음 더해주는 것이 좋은가?\n",
    "어떤 것이 키포인트인지 생각해보자"
   ]
  },
  {
   "cell_type": "code",
   "execution_count": null,
   "metadata": {},
   "outputs": [],
   "source": [
    "cus['연령대']=cus.연령대.apply(lambda x: 20 if x ==1 else 25 if x==2 else 30 if x==3 else 35 if x==4 else 40 if x==5 else 45 if x==6 \n",
    "              else 50 if x==7 else 55 if x==8 else 60)"
   ]
  },
  {
   "cell_type": "code",
   "execution_count": null,
   "metadata": {},
   "outputs": [],
   "source": [
    "cus['자산구간']=cus.자산구간.apply(lambda x: 0 if x ==1 else 10000000 if x==2 else 30000000 if x==3 \n",
    "                           else 50000000 if x==4 else 100000000 if x==5 else 300000000 )"
   ]
  },
  {
   "cell_type": "code",
   "execution_count": 7,
   "metadata": {},
   "outputs": [],
   "source": [
    "cus['총투자기간']=cus.총투자기간.apply(lambda x:  0 if x ==1 else 128 if x==2 else 260 if x==3 \n",
    "                           else 782 if x==4 else 1303 if x==5 else 2607 )"
   ]
  },
  {
   "cell_type": "code",
   "execution_count": 8,
   "metadata": {},
   "outputs": [
    {
     "data": {
      "text/plain": [
       "0       3_3_2_99\n",
       "1        5_2_2_4\n",
       "2        5_5_2_4\n",
       "3        5_3_8_4\n",
       "4        5_5_2_2\n",
       "          ...   \n",
       "9995     9_5_2_4\n",
       "9996     2_9_2_3\n",
       "9997     5_5_2_4\n",
       "9998    5_3_2_99\n",
       "9999     5_3_2_0\n",
       "Length: 10000, dtype: object"
      ]
     },
     "execution_count": 8,
     "metadata": {},
     "output_type": "execute_result"
    }
   ],
   "source": [
    "# 계좌번호 자체를 보여줄 수 있는 필력할 수 있는 그런 열을 만들면 좋을 것으로 생각된다.\n",
    "#워드투백을 하겠다는 것\n",
    "cus.Life_style.astype(str) +'_' + cus.서비스등급.astype(str) +'_' + cus.주거래상품군.astype(str)  +'_'+ cus.투자성향.astype(str) # + cus.총투자기간 ???"
   ]
  },
  {
   "cell_type": "code",
   "execution_count": 9,
   "metadata": {
    "collapsed": true
   },
   "outputs": [
    {
     "data": {
      "text/plain": [
       "10    2107\n",
       "16    2024\n",
       "9     1320\n",
       "13     867\n",
       "5      831\n",
       "8      550\n",
       "14     496\n",
       "6      488\n",
       "12     325\n",
       "7      324\n",
       "2      322\n",
       "11      83\n",
       "3       79\n",
       "1       75\n",
       "15      63\n",
       "4       46\n",
       "Name: 주거래업종구분, dtype: int64"
      ]
     },
     "execution_count": 9,
     "metadata": {},
     "output_type": "execute_result"
    }
   ],
   "source": [
    "cus.주거래업종구분.value_counts()\n",
    "# 고객의 주거래업종과 그 주식의 종목업종이 같은지를 보고 처리해주기"
   ]
  },
  {
   "cell_type": "code",
   "execution_count": null,
   "metadata": {},
   "outputs": [],
   "source": []
  },
  {
   "cell_type": "code",
   "execution_count": null,
   "metadata": {},
   "outputs": [],
   "source": []
  },
  {
   "cell_type": "code",
   "execution_count": null,
   "metadata": {},
   "outputs": [],
   "source": []
  },
  {
   "cell_type": "markdown",
   "metadata": {},
   "source": [
    "#### 종목 별 주당액면가에 관련된 피처"
   ]
  },
  {
   "cell_type": "markdown",
   "metadata": {},
   "source": [
    "- 주당액면가가 변한 주식도 있다. 이 차이를 넣어주면 좋을 것 같다.\n",
    "- 주당액면가의  max-min\n",
    "- 주당액면가의 nunique도 넣어줘도 될꺼같다? 크게 의미는 없겠지만?"
   ]
  },
  {
   "cell_type": "code",
   "execution_count": 14,
   "metadata": {},
   "outputs": [],
   "source": [
    "hist[\"평균잔고금액\"] = hist[\"잔고금액\"] / hist[\"잔고수량\"]\n",
    "#hist = hist.fillna(0)"
   ]
  },
  {
   "cell_type": "code",
   "execution_count": 15,
   "metadata": {},
   "outputs": [],
   "source": [
    "액면가_변동폭=hist.groupby('종목코드')['주당액면가'].agg([('액면가_변동폭', lambda x: np.max(x)-np.min(x))]).reset_index()\n",
    "액면가_변동수=hist.groupby('종목코드')['주당액면가'].nunique().reset_index()\n",
    "\n",
    "액면가_변동폭['액면가_변동수']=액면가_변동수['주당액면가']"
   ]
  },
  {
   "cell_type": "code",
   "execution_count": 16,
   "metadata": {},
   "outputs": [],
   "source": [
    "hist=pd.merge(hist,액면가_변동폭,how='left',on='종목코드')"
   ]
  },
  {
   "cell_type": "markdown",
   "metadata": {},
   "source": [
    "#### 잔고수량 & 잔고금액을 이용한 피쳐"
   ]
  },
  {
   "cell_type": "code",
   "execution_count": 17,
   "metadata": {
    "scrolled": false
   },
   "outputs": [
    {
     "data": {
      "text/html": [
       "<div>\n",
       "<style scoped>\n",
       "    .dataframe tbody tr th:only-of-type {\n",
       "        vertical-align: middle;\n",
       "    }\n",
       "\n",
       "    .dataframe tbody tr th {\n",
       "        vertical-align: top;\n",
       "    }\n",
       "\n",
       "    .dataframe thead th {\n",
       "        text-align: right;\n",
       "    }\n",
       "</style>\n",
       "<table border=\"1\" class=\"dataframe\">\n",
       "  <thead>\n",
       "    <tr style=\"text-align: right;\">\n",
       "      <th></th>\n",
       "      <th>계좌번호</th>\n",
       "      <th>기준일자</th>\n",
       "      <th>종목코드</th>\n",
       "      <th>잔고수량</th>\n",
       "      <th>잔고금액</th>\n",
       "      <th>주당액면가</th>\n",
       "      <th>평균잔고금액</th>\n",
       "      <th>액면가_변동폭</th>\n",
       "      <th>액면가_변동수</th>\n",
       "    </tr>\n",
       "  </thead>\n",
       "  <tbody>\n",
       "    <tr>\n",
       "      <th>0</th>\n",
       "      <td>1119c23c3a504ca7b75060277410c0f6fb9018ec7638c2...</td>\n",
       "      <td>2020-08-20</td>\n",
       "      <td>A008770</td>\n",
       "      <td>40.0</td>\n",
       "      <td>2828000.0</td>\n",
       "      <td>5000.0</td>\n",
       "      <td>70700.0</td>\n",
       "      <td>0.0</td>\n",
       "      <td>1</td>\n",
       "    </tr>\n",
       "    <tr>\n",
       "      <th>1</th>\n",
       "      <td>1119c23c3a504ca7b75060277410c0f6fb9018ec7638c2...</td>\n",
       "      <td>2020-06-23</td>\n",
       "      <td>A008770</td>\n",
       "      <td>20.0</td>\n",
       "      <td>1390000.0</td>\n",
       "      <td>5000.0</td>\n",
       "      <td>69500.0</td>\n",
       "      <td>0.0</td>\n",
       "      <td>1</td>\n",
       "    </tr>\n",
       "  </tbody>\n",
       "</table>\n",
       "</div>"
      ],
      "text/plain": [
       "                                                계좌번호       기준일자     종목코드  \\\n",
       "0  1119c23c3a504ca7b75060277410c0f6fb9018ec7638c2... 2020-08-20  A008770   \n",
       "1  1119c23c3a504ca7b75060277410c0f6fb9018ec7638c2... 2020-06-23  A008770   \n",
       "\n",
       "   잔고수량       잔고금액   주당액면가   평균잔고금액  액면가_변동폭  액면가_변동수  \n",
       "0  40.0  2828000.0  5000.0  70700.0      0.0        1  \n",
       "1  20.0  1390000.0  5000.0  69500.0      0.0        1  "
      ]
     },
     "execution_count": 17,
     "metadata": {},
     "output_type": "execute_result"
    }
   ],
   "source": [
    "hist[(hist.계좌번호==hist.계좌번호[0])&(hist.종목코드==hist.종목코드[0])]"
   ]
  },
  {
   "cell_type": "code",
   "execution_count": 18,
   "metadata": {
    "scrolled": true
   },
   "outputs": [
    {
     "data": {
      "text/html": [
       "<div>\n",
       "<style scoped>\n",
       "    .dataframe tbody tr th:only-of-type {\n",
       "        vertical-align: middle;\n",
       "    }\n",
       "\n",
       "    .dataframe tbody tr th {\n",
       "        vertical-align: top;\n",
       "    }\n",
       "\n",
       "    .dataframe thead th {\n",
       "        text-align: right;\n",
       "    }\n",
       "</style>\n",
       "<table border=\"1\" class=\"dataframe\">\n",
       "  <thead>\n",
       "    <tr style=\"text-align: right;\">\n",
       "      <th></th>\n",
       "      <th>계좌번호</th>\n",
       "      <th>종목코드</th>\n",
       "      <th>매수일자</th>\n",
       "      <th>과거보유일</th>\n",
       "      <th>submit_id</th>\n",
       "      <th>hold_d</th>\n",
       "    </tr>\n",
       "  </thead>\n",
       "  <tbody>\n",
       "    <tr>\n",
       "      <th>38</th>\n",
       "      <td>1119c23c3a504ca7b75060277410c0f6fb9018ec7638c2...</td>\n",
       "      <td>A008770</td>\n",
       "      <td>2020-06-23</td>\n",
       "      <td>131</td>\n",
       "      <td>IDX00039</td>\n",
       "      <td>0</td>\n",
       "    </tr>\n",
       "  </tbody>\n",
       "</table>\n",
       "</div>"
      ],
      "text/plain": [
       "                                                 계좌번호     종목코드       매수일자  \\\n",
       "38  1119c23c3a504ca7b75060277410c0f6fb9018ec7638c2...  A008770 2020-06-23   \n",
       "\n",
       "    과거보유일 submit_id  hold_d  \n",
       "38    131  IDX00039       0  "
      ]
     },
     "execution_count": 18,
     "metadata": {},
     "output_type": "execute_result"
    }
   ],
   "source": [
    "test[(test.계좌번호==hist.계좌번호[0])&(test.종목코드==hist.종목코드[0])]"
   ]
  },
  {
   "cell_type": "markdown",
   "metadata": {},
   "source": [
    "- hist를 이용해서 이 고객이 이 종목을 몇번 구매했거나 판매했는지 그리고 잔고수량의 변동이 어땠는지 그리고 그 때마다 평균금액이 올랐는지 내렸는지를 표현할 수 있을 것 같다."
   ]
  },
  {
   "cell_type": "code",
   "execution_count": 19,
   "metadata": {},
   "outputs": [],
   "source": [
    "# diff 를 하기 위해 순서대로 정렬해준 것\n",
    "hist_order=hist.sort_values(by=['계좌번호','종목코드','기준일자'],ascending=True).reset_index(drop='index')"
   ]
  },
  {
   "cell_type": "code",
   "execution_count": 20,
   "metadata": {
    "scrolled": true
   },
   "outputs": [
    {
     "data": {
      "text/html": [
       "<div>\n",
       "<style scoped>\n",
       "    .dataframe tbody tr th:only-of-type {\n",
       "        vertical-align: middle;\n",
       "    }\n",
       "\n",
       "    .dataframe tbody tr th {\n",
       "        vertical-align: top;\n",
       "    }\n",
       "\n",
       "    .dataframe thead th {\n",
       "        text-align: right;\n",
       "    }\n",
       "</style>\n",
       "<table border=\"1\" class=\"dataframe\">\n",
       "  <thead>\n",
       "    <tr style=\"text-align: right;\">\n",
       "      <th></th>\n",
       "      <th>계좌번호</th>\n",
       "      <th>기준일자</th>\n",
       "      <th>종목코드</th>\n",
       "      <th>잔고수량</th>\n",
       "      <th>잔고금액</th>\n",
       "      <th>주당액면가</th>\n",
       "      <th>평균잔고금액</th>\n",
       "      <th>액면가_변동폭</th>\n",
       "      <th>액면가_변동수</th>\n",
       "    </tr>\n",
       "  </thead>\n",
       "  <tbody>\n",
       "    <tr>\n",
       "      <th>2573832</th>\n",
       "      <td>fff9cf3aaffd32dcbf70dce8e5216411f9d38537b477d6...</td>\n",
       "      <td>2020-09-14</td>\n",
       "      <td>A293490</td>\n",
       "      <td>2.0</td>\n",
       "      <td>147600.0</td>\n",
       "      <td>100.0</td>\n",
       "      <td>73800.0</td>\n",
       "      <td>0.0</td>\n",
       "      <td>1</td>\n",
       "    </tr>\n",
       "    <tr>\n",
       "      <th>2573833</th>\n",
       "      <td>fff9cf3aaffd32dcbf70dce8e5216411f9d38537b477d6...</td>\n",
       "      <td>2020-09-16</td>\n",
       "      <td>A293490</td>\n",
       "      <td>3.0</td>\n",
       "      <td>198900.0</td>\n",
       "      <td>100.0</td>\n",
       "      <td>66300.0</td>\n",
       "      <td>0.0</td>\n",
       "      <td>1</td>\n",
       "    </tr>\n",
       "    <tr>\n",
       "      <th>2573834</th>\n",
       "      <td>fff9cf3aaffd32dcbf70dce8e5216411f9d38537b477d6...</td>\n",
       "      <td>2020-10-13</td>\n",
       "      <td>A293490</td>\n",
       "      <td>4.0</td>\n",
       "      <td>196600.0</td>\n",
       "      <td>100.0</td>\n",
       "      <td>49150.0</td>\n",
       "      <td>0.0</td>\n",
       "      <td>1</td>\n",
       "    </tr>\n",
       "    <tr>\n",
       "      <th>2573835</th>\n",
       "      <td>fff9cf3aaffd32dcbf70dce8e5216411f9d38537b477d6...</td>\n",
       "      <td>2020-11-24</td>\n",
       "      <td>A293490</td>\n",
       "      <td>5.0</td>\n",
       "      <td>245500.0</td>\n",
       "      <td>100.0</td>\n",
       "      <td>49100.0</td>\n",
       "      <td>0.0</td>\n",
       "      <td>1</td>\n",
       "    </tr>\n",
       "    <tr>\n",
       "      <th>2573836</th>\n",
       "      <td>fff9cf3aaffd32dcbf70dce8e5216411f9d38537b477d6...</td>\n",
       "      <td>2020-12-14</td>\n",
       "      <td>A293490</td>\n",
       "      <td>0.0</td>\n",
       "      <td>0.0</td>\n",
       "      <td>100.0</td>\n",
       "      <td>NaN</td>\n",
       "      <td>0.0</td>\n",
       "      <td>1</td>\n",
       "    </tr>\n",
       "  </tbody>\n",
       "</table>\n",
       "</div>"
      ],
      "text/plain": [
       "                                                      계좌번호       기준일자  \\\n",
       "2573832  fff9cf3aaffd32dcbf70dce8e5216411f9d38537b477d6... 2020-09-14   \n",
       "2573833  fff9cf3aaffd32dcbf70dce8e5216411f9d38537b477d6... 2020-09-16   \n",
       "2573834  fff9cf3aaffd32dcbf70dce8e5216411f9d38537b477d6... 2020-10-13   \n",
       "2573835  fff9cf3aaffd32dcbf70dce8e5216411f9d38537b477d6... 2020-11-24   \n",
       "2573836  fff9cf3aaffd32dcbf70dce8e5216411f9d38537b477d6... 2020-12-14   \n",
       "\n",
       "            종목코드  잔고수량      잔고금액  주당액면가   평균잔고금액  액면가_변동폭  액면가_변동수  \n",
       "2573832  A293490   2.0  147600.0  100.0  73800.0      0.0        1  \n",
       "2573833  A293490   3.0  198900.0  100.0  66300.0      0.0        1  \n",
       "2573834  A293490   4.0  196600.0  100.0  49150.0      0.0        1  \n",
       "2573835  A293490   5.0  245500.0  100.0  49100.0      0.0        1  \n",
       "2573836  A293490   0.0       0.0  100.0      NaN      0.0        1  "
      ]
     },
     "execution_count": 20,
     "metadata": {},
     "output_type": "execute_result"
    }
   ],
   "source": [
    "hist_order[(hist_order.계좌번호==hist_order.계좌번호[2573836])&(hist_order.종목코드==hist_order.종목코드[2573836])]"
   ]
  },
  {
   "cell_type": "code",
   "execution_count": 21,
   "metadata": {},
   "outputs": [],
   "source": [
    "평균잔고금액_na=hist_order[hist_order['평균잔고금액'].isnull()==1].index"
   ]
  },
  {
   "cell_type": "markdown",
   "metadata": {},
   "source": [
    " 고객이 그 종목을 새로 시도한 횟수(0에서 시작한 횟수)"
   ]
  },
  {
   "cell_type": "code",
   "execution_count": 23,
   "metadata": {},
   "outputs": [],
   "source": [
    "train_t=train.copy()\n",
    "train_t['시작날짜']=1"
   ]
  },
  {
   "cell_type": "code",
   "execution_count": 25,
   "metadata": {},
   "outputs": [],
   "source": [
    "test_t=test.copy()\n",
    "test_t['시작날짜']=1\n",
    "test_t=test_t[['계좌번호','종목코드','매수일자','hold_d','시작날짜']]"
   ]
  },
  {
   "cell_type": "code",
   "execution_count": 32,
   "metadata": {},
   "outputs": [],
   "source": [
    "tt=pd.concat((train_t,test_t)).reset_index(drop=True)"
   ]
  },
  {
   "cell_type": "code",
   "execution_count": 33,
   "metadata": {},
   "outputs": [],
   "source": [
    "hist_order=pd.merge(hist_order,tt[['계좌번호','종목코드','매수일자','시작날짜']],how='left',left_on=['계좌번호','종목코드','기준일자'],right_on=['계좌번호','종목코드','매수일자'])\n",
    "hist_order.drop('매수일자',axis=1,inplace=True)"
   ]
  },
  {
   "cell_type": "code",
   "execution_count": 35,
   "metadata": {},
   "outputs": [],
   "source": [
    "aa=hist_order.groupby(['계좌번호','종목코드']).시작날짜.count().reset_index()\n",
    "aa.columns=['계좌번호', '종목코드', '시작횟수']"
   ]
  },
  {
   "cell_type": "code",
   "execution_count": 37,
   "metadata": {},
   "outputs": [],
   "source": [
    "hist_order=pd.merge(hist_order, aa,how='left',on=['계좌번호','종목코드'])"
   ]
  },
  {
   "cell_type": "markdown",
   "metadata": {},
   "source": [
    "고객이 특정 종목을 여러번 시작했을 경우 밑의 전처리에서 계좌번호와 종목코드로만 묶을 경우 해소되지 않는 부분을 해소하기 위한 방법"
   ]
  },
  {
   "cell_type": "code",
   "execution_count": 43,
   "metadata": {},
   "outputs": [],
   "source": [
    "tt=tt.reset_index()\n",
    "tt.columns=['종류별', '계좌번호', '종목코드', '매수일자', 'hold_d', '시작날짜']\n",
    "tt.종류별=tt.종류별+1"
   ]
  },
  {
   "cell_type": "code",
   "execution_count": 44,
   "metadata": {},
   "outputs": [],
   "source": [
    "hist_order=pd.merge(hist_order,tt[['계좌번호','종목코드','매수일자','종류별']],how='left',left_on=['계좌번호','종목코드','기준일자'],right_on=['계좌번호','종목코드','매수일자'])\n",
    "hist_order.drop('매수일자',axis=1,inplace=True)"
   ]
  },
  {
   "cell_type": "code",
   "execution_count": 45,
   "metadata": {},
   "outputs": [],
   "source": [
    "hist_order['종류별']=hist_order.종류별.fillna(method='pad')\n",
    "hist=pd.merge(hist,hist_order[['계좌번호','기준일자','종목코드','종류별']],how='left',on=['계좌번호','기준일자','종목코드'])"
   ]
  },
  {
   "cell_type": "code",
   "execution_count": 50,
   "metadata": {},
   "outputs": [],
   "source": [
    "잔고_수량_차분=hist_order[['기준일자','종류별','계좌번호','종목코드']]\n",
    "# 먼저 \n",
    "잔고_수량_차분['잔고수량_차분']=hist_order.groupby('종류별')['잔고수량'].diff()"
   ]
  },
  {
   "cell_type": "markdown",
   "metadata": {},
   "source": [
    "잔고수량 차분 관련해서는 평균은 넣으면 안되고(팔렸으면 평균 0이기 때문에) 편차는 넣어도 될 것 같다.\n",
    "최대와 최소는 넣기 애매하다. \\\n",
    "이것을 고객별로 묶어서 해야할까 아님 고객별로 종모코드별로 묶어야할까?"
   ]
  },
  {
   "cell_type": "code",
   "execution_count": 51,
   "metadata": {},
   "outputs": [],
   "source": [
    "#결측치 넣기\n",
    "잔고_수량_차분.loc[잔고_수량_차분['잔고수량_차분'].isna(), '잔고수량_차분'] = hist_order.loc[잔고_수량_차분['잔고수량_차분'].isna(), '잔고수량']"
   ]
  },
  {
   "cell_type": "code",
   "execution_count": 52,
   "metadata": {},
   "outputs": [],
   "source": [
    "#잔고_수량_차분['기준일자']=pd.to_datetime(잔고_수량_차분.기준일자.astype(str))\n",
    "잔고_수량_차분['년']=잔고_수량_차분.기준일자.dt.year\n",
    "# 밑에 그룹바이 할때 년도도 넣을 것인지 고민하기"
   ]
  },
  {
   "cell_type": "code",
   "execution_count": 53,
   "metadata": {},
   "outputs": [],
   "source": [
    "잔고_수량_차분_1=잔고_수량_차분.groupby('종류별')['잔고수량_차분'].agg([('잔고수량_편차', np.std),\n",
    "                                                                         ('잔고수량_최대', np.max),\n",
    "                                                                         ('잔고수량_최소', np.min)]).reset_index()"
   ]
  },
  {
   "cell_type": "code",
   "execution_count": 54,
   "metadata": {},
   "outputs": [],
   "source": [
    "년_잔고_수량_차분=잔고_수량_차분.groupby(['종류별','년'])['잔고수량_차분'].agg([('년_잔고수량_편차', np.std),\n",
    "                                                                         ('년_잔고수량_최대', np.max),\n",
    "                                                                         ('년_잔고수량_최소', np.min)]).reset_index()"
   ]
  },
  {
   "cell_type": "code",
   "execution_count": 55,
   "metadata": {},
   "outputs": [],
   "source": [
    "hist=pd.merge(hist,잔고_수량_차분_1,how='left',on='종류별')"
   ]
  },
  {
   "cell_type": "code",
   "execution_count": 56,
   "metadata": {},
   "outputs": [],
   "source": [
    "hist['년']=hist.기준일자.dt.year\n",
    "hist=pd.merge(hist,년_잔고_수량_차분,how='left',on=['종류별','년'])"
   ]
  },
  {
   "cell_type": "markdown",
   "metadata": {},
   "source": [
    "---"
   ]
  },
  {
   "cell_type": "code",
   "execution_count": 57,
   "metadata": {},
   "outputs": [],
   "source": [
    "잔고_금액_차분=hist_order.drop(index=평균잔고금액_na,axis=0)"
   ]
  },
  {
   "cell_type": "code",
   "execution_count": 80,
   "metadata": {},
   "outputs": [],
   "source": [
    "# 그 다음 평균잔고금액에 0인 친구들(다 팔아서) 그 행을 제외하고 나머지에 대한 diff를 보기 위해 제외시키고 diff를 진행한다.\n",
    "잔고_금액_차분['잔고금액_차분']=잔고_금액_차분.groupby('종류별')['평균잔고금액'].diff()"
   ]
  },
  {
   "cell_type": "code",
   "execution_count": 81,
   "metadata": {},
   "outputs": [],
   "source": [
    "잔고_금액_차분.fillna(0,inplace=True)"
   ]
  },
  {
   "cell_type": "code",
   "execution_count": 82,
   "metadata": {},
   "outputs": [],
   "source": [
    "잔고_금액_차분_1=잔고_금액_차분.groupby('종류별')['잔고금액_차분'].agg([('잔고금액_평균', np.mean),\n",
    "                                                                         ('잔고금액_최대', np.max),\n",
    "                                                                         ('잔고금액_최소', np.min)]).reset_index()"
   ]
  },
  {
   "cell_type": "code",
   "execution_count": 83,
   "metadata": {},
   "outputs": [],
   "source": [
    "잔고_금액_차분_1['잔고금액_극값']=잔고_금액_차분_1.잔고금액_최대+잔고_금액_차분_1.잔고금액_최소"
   ]
  },
  {
   "cell_type": "code",
   "execution_count": 84,
   "metadata": {},
   "outputs": [],
   "source": [
    "잔고_금액_차분_1.drop(['잔고금액_최대','잔고금액_최소'],axis=1,inplace=True)"
   ]
  },
  {
   "cell_type": "code",
   "execution_count": 85,
   "metadata": {},
   "outputs": [],
   "source": [
    "# 평균잔고금액의 last - first 를 하면 이 주식 상태가 좋아졌는지 안좋아졌는지를 표현할 수 있다.\n",
    "잔고금액_변동=hist_order.drop(index=평균잔고금액_na,axis=0)\n",
    "잔고금액_last=잔고금액_변동.groupby('종류별')['평균잔고금액'].last().reset_index()\n",
    "잔고금액_first=잔고금액_변동.groupby('종류별')['평균잔고금액'].first().reset_index()\n",
    "잔고금액_last['잔고금액_변동']=잔고금액_last.평균잔고금액 - 잔고금액_first.평균잔고금액"
   ]
  },
  {
   "cell_type": "code",
   "execution_count": 86,
   "metadata": {
    "scrolled": true
   },
   "outputs": [],
   "source": [
    "# 잔고수량으로 그냥 사요한 것\n",
    "hist_잔고수량=hist.groupby('종류별')['잔고수량'].agg([ ('종목_거래횟수',np.size),\n",
    "                                                        ('수량_최대',np.max),\n",
    "                                                        ('수량_편차',np.std)]).reset_index()"
   ]
  },
  {
   "cell_type": "code",
   "execution_count": 87,
   "metadata": {},
   "outputs": [],
   "source": [
    "hist=pd.merge(hist, 잔고_금액_차분_1,how='left',on='종류별')\n",
    "hist=pd.merge(hist, 잔고금액_last[['종류별','잔고금액_변동']], how='left',on='종류별')\n",
    "hist=pd.merge(hist, hist_잔고수량, how='left',on='종류별')"
   ]
  },
  {
   "cell_type": "markdown",
   "metadata": {},
   "source": [
    "---"
   ]
  },
  {
   "cell_type": "markdown",
   "metadata": {},
   "source": [
    "투자성향에 따른 보유기간도 다르다고 생각한다.\\\n",
    "투자성향 + 종목업종에 따른 보유기간이 좋을까나.."
   ]
  },
  {
   "cell_type": "markdown",
   "metadata": {},
   "source": [
    "hold_d에 0.6을 곱한 값을 과거보유일로 했을 때 영향력이 아주 강했다.\\\n",
    "타겟값을 그대로 사용하였을 때 이러한 결과가 나왔기 때문에 카테고리별로 이러한 값을 넣어주어도 과적합이 일어나지 않을 것으로 보인다."
   ]
  },
  {
   "cell_type": "markdown",
   "metadata": {},
   "source": [
    "- 우리가 예측해야하는 값이 뭐냐? - 바로 2020년 12월 31일 이후 살아있는 주식들이 얼마나 보유될 것인가를 예측해야한다.\n",
    "\n",
    "지금 우리에게 있는 데이터는 train 과 test 데이터가 있다.\\\n",
    "train 데이터에는 16년부터 20년 12월30일까지 종료된, 한마디로 팔아버린 주식에 대한 데이터가 있다.\\\n",
    "test 에는 20년 12월30일 이전 구매한 주식을 아직 가지고 있는 데이터가 있다.\\\n",
    "train에는 16년에 사고 16년에 판 주식도 있을 것이고 16년에 사고 20년 12월에 판 주식도 있을 것이다."
   ]
  },
  {
   "cell_type": "markdown",
   "metadata": {},
   "source": [
    "### 과거보유일을 어떻게 넣어줄 것인가가 중요한 것이다!!!"
   ]
  },
  {
   "cell_type": "markdown",
   "metadata": {},
   "source": [
    "16 년 12월 30일을 기준으로 잘라서 데이터 생성(과거보유일, hold_d 가능)\\\n",
    "17 년 12월 30일을 기준으로 잘라서 데이터 생성(과거보유일, hold_d 가능)\\\n",
    "18 년 12월 30일을 기준으로 잘라서 데이터 생성(과거보유일, hold_d 가능)\\\n",
    "19 년 12월 30일을 기준으로 잘라서 데이터 생성(과거보유일, hold_d 가능)\n",
    "\n",
    "20 년 12월 30일을 기준으로 잘라서 데이터 --> test_data"
   ]
  },
  {
   "cell_type": "code",
   "execution_count": null,
   "metadata": {},
   "outputs": [],
   "source": []
  },
  {
   "cell_type": "markdown",
   "metadata": {},
   "source": [
    "markov chain 의 아이디어\n",
    "\n",
    "주식이 bull market, bear market, stagement market 각각에 있을 확률과 변화할 확률이 계속적으로 바뀔것이기 때문에 그에 따른 보유기간이 가능할까?"
   ]
  },
  {
   "cell_type": "markdown",
   "metadata": {},
   "source": [
    "1. 계좌번호와 종목코드별 아이디를 만들어주는 것\n",
    "\n",
    "2. 고객아이디를 cus.Life_style + cus.서비스등급 + cus.주거래상품군 + cus.투자성향 + cus.총투자기간 ???\n",
    "\n",
    "3. hist data 를 좀 사용해볼 것"
   ]
  },
  {
   "cell_type": "code",
   "execution_count": 88,
   "metadata": {},
   "outputs": [],
   "source": [
    "train[\"과거보유일\"] = train[\"hold_d\"]*0.6\n",
    "train.과거보유일 = np.trunc(train[\"과거보유일\"])"
   ]
  },
  {
   "cell_type": "code",
   "execution_count": 89,
   "metadata": {},
   "outputs": [],
   "source": [
    "train_data = pd.merge(train, cus, how = \"left\", on = [\"계좌번호\"])\n",
    "train_data = pd.merge(train_data, iem, how = \"left\", on = [\"종목코드\"])\n",
    "\n",
    "test_data = pd.merge(test, cus, how = \"left\", on = [\"계좌번호\"])\n",
    "test_data = pd.merge(test_data, iem, how = \"left\", on = [\"종목코드\"])"
   ]
  },
  {
   "cell_type": "code",
   "execution_count": 90,
   "metadata": {},
   "outputs": [],
   "source": [
    "train_data['년']=train_data.매수일자.dt.year\n",
    "train_data['월']=train_data.매수일자.dt.month\n",
    "train_data['일']=train_data.매수일자.dt.day\n",
    "train_data['요일']=train_data.매수일자.dt.day_of_week\n",
    "\n",
    "test_data['년']=test_data.매수일자.dt.year\n",
    "test_data['월']=test_data.매수일자.dt.month\n",
    "test_data['일']=test_data.매수일자.dt.day\n",
    "test_data['요일']=test_data.매수일자.dt.day_of_week"
   ]
  },
  {
   "cell_type": "code",
   "execution_count": 91,
   "metadata": {},
   "outputs": [],
   "source": [
    "hist.drop('년',axis=1,inplace=True)\n",
    "hist.fillna(0,inplace=True)"
   ]
  },
  {
   "cell_type": "code",
   "execution_count": 92,
   "metadata": {},
   "outputs": [],
   "source": [
    "train_data = pd.merge(train_data, hist, how = \"left\", left_on = [\"계좌번호\", \"종목코드\",'매수일자'],right_on=['계좌번호','종목코드','기준일자'])\n",
    "train_data.reset_index(drop = True, inplace = True)\n",
    "\n",
    "test_data = pd.merge(test_data, hist, how = \"left\",  left_on= [\"계좌번호\", \"종목코드\",'매수일자'],right_on=['계좌번호','종목코드','기준일자'])\n",
    "test_data.reset_index(drop = True, inplace = True)"
   ]
  },
  {
   "cell_type": "code",
   "execution_count": 93,
   "metadata": {},
   "outputs": [],
   "source": [
    "train_test=pd.concat([train_data,test_data])\n",
    "train_test=train_test.reset_index(drop='index')"
   ]
  },
  {
   "cell_type": "code",
   "execution_count": 94,
   "metadata": {},
   "outputs": [],
   "source": [
    "# 년도별 잔고수량 평균 이상 이하\n",
    "def f_2016(x):\n",
    "    if x<20:\n",
    "        return 0\n",
    "    elif x<122:\n",
    "        return 1\n",
    "    elif x<400:\n",
    "        return 2\n",
    "    elif x<1247:\n",
    "        return 3\n",
    "    else:\n",
    "        return 4\n",
    "def f_2017(x):\n",
    "    if x<8:\n",
    "        return 0\n",
    "    elif x<30:\n",
    "        return 1\n",
    "    elif x<100:\n",
    "        return 2\n",
    "    elif x<500:\n",
    "        return 3\n",
    "    else:\n",
    "        return 4\n",
    "def f_2018(x):\n",
    "    if x<8:\n",
    "        return 0\n",
    "    elif x<30:\n",
    "        return 1\n",
    "    elif x<100:\n",
    "        return 2\n",
    "    elif x<400:\n",
    "        return 3\n",
    "    else:\n",
    "        return 4\n",
    "def f_2019(x):\n",
    "    if x<6:\n",
    "        return 0\n",
    "    elif x<32:\n",
    "        return 1\n",
    "    elif x<110:\n",
    "        return 2\n",
    "    elif x<466:\n",
    "        return 3\n",
    "    else:\n",
    "        return 4\n",
    "def f_2020(x):\n",
    "    if x<5:\n",
    "        return 0\n",
    "    elif x<25:\n",
    "        return 1\n",
    "    elif x<100:\n",
    "        return 2\n",
    "    elif x<300:\n",
    "        return 3\n",
    "    else:\n",
    "        return 4"
   ]
  },
  {
   "cell_type": "code",
   "execution_count": 95,
   "metadata": {},
   "outputs": [],
   "source": [
    "train_data['년도_잔고수량']=0\n",
    "train_data.loc[train_data.년==2016,'년도_잔고수량']=train_data.query('년==2016')['잔고수량'].apply(f_2016)\n",
    "train_data.loc[train_data.년==2017,'년도_잔고수량']=train_data.query('년==2017')['잔고수량'].apply(f_2017)\n",
    "train_data.loc[train_data.년==2018,'년도_잔고수량']=train_data.query('년==2018')['잔고수량'].apply(f_2018)\n",
    "train_data.loc[train_data.년==2019,'년도_잔고수량']=train_data.query('년==2019')['잔고수량'].apply(f_2019)\n",
    "train_data.loc[train_data.년==2020,'년도_잔고수량']=train_data.query('년==2020')['잔고수량'].apply(f_2020)\n",
    "\n",
    "test_data['년도_잔고수량']=0\n",
    "test_data.loc[test_data.년==2016,'년도_잔고수량']=test_data.query('년==2016')['잔고수량'].apply(f_2016)\n",
    "test_data.loc[test_data.년==2017,'년도_잔고수량']=test_data.query('년==2017')['잔고수량'].apply(f_2017)\n",
    "test_data.loc[test_data.년==2018,'년도_잔고수량']=test_data.query('년==2018')['잔고수량'].apply(f_2018)\n",
    "test_data.loc[test_data.년==2019,'년도_잔고수량']=test_data.query('년==2019')['잔고수량'].apply(f_2019)\n",
    "test_data.loc[test_data.년==2020,'년도_잔고수량']=test_data.query('년==2020')['잔고수량'].apply(f_2020)"
   ]
  },
  {
   "cell_type": "code",
   "execution_count": 96,
   "metadata": {},
   "outputs": [],
   "source": [
    "# 년도별 총투자기간 평균 이상 이하\n",
    "def g_2016(x):\n",
    "    if x>5.182650:\n",
    "        return 1\n",
    "    else:\n",
    "        return 0\n",
    "def g_2017(x):\n",
    "    if x>4.162498:\n",
    "        return 1\n",
    "    else:\n",
    "        return 0\n",
    "def g_2018(x):\n",
    "    if x>3.539667:\n",
    "        return 1\n",
    "    else:\n",
    "        return 0\n",
    "def g_2019(x):\n",
    "    if x>3.324126:\n",
    "        return 1\n",
    "    else:\n",
    "        return 0\n",
    "def g_2020(x):\n",
    "    if x>2.832396:\n",
    "        return 1\n",
    "    else:\n",
    "        return 0"
   ]
  },
  {
   "cell_type": "code",
   "execution_count": 97,
   "metadata": {},
   "outputs": [],
   "source": [
    "train_data['년도_총투자기간']=0\n",
    "train_data.loc[train_data.년==2016,'년도_총투자기간']=train_data.query('년==2016')['총투자기간'].apply(g_2016)\n",
    "train_data.loc[train_data.년==2017,'년도_총투자기간']=train_data.query('년==2017')['총투자기간'].apply(g_2017)\n",
    "train_data.loc[train_data.년==2018,'년도_총투자기간']=train_data.query('년==2018')['총투자기간'].apply(g_2018)\n",
    "train_data.loc[train_data.년==2019,'년도_총투자기간']=train_data.query('년==2019')['총투자기간'].apply(g_2019)\n",
    "train_data.loc[train_data.년==2020,'년도_총투자기간']=train_data.query('년==2020')['총투자기간'].apply(g_2020)\n",
    "\n",
    "test_data['년도_총투자기간']=0\n",
    "test_data.loc[test_data.년==2016,'년도_총투자기간']=test_data.query('년==2016')['총투자기간'].apply(g_2016)\n",
    "test_data.loc[test_data.년==2017,'년도_총투자기간']=test_data.query('년==2017')['총투자기간'].apply(g_2017)\n",
    "test_data.loc[test_data.년==2018,'년도_총투자기간']=test_data.query('년==2018')['총투자기간'].apply(g_2018)\n",
    "test_data.loc[test_data.년==2019,'년도_총투자기간']=test_data.query('년==2019')['총투자기간'].apply(g_2019)\n",
    "test_data.loc[test_data.년==2020,'년도_총투자기간']=test_data.query('년==2020')['총투자기간'].apply(g_2020)"
   ]
  },
  {
   "cell_type": "code",
   "execution_count": 98,
   "metadata": {},
   "outputs": [],
   "source": [
    "#\n",
    "train_data['금액변화']=train_data.평균잔고금액-train_data.주당액면가\n",
    "test_data['금액변화']=test_data.평균잔고금액-test_data.주당액면가\n"
   ]
  },
  {
   "cell_type": "code",
   "execution_count": 99,
   "metadata": {},
   "outputs": [],
   "source": [
    "# 매수를 몇번 했는지\n",
    "train_data=pd.merge(train_data,train_test.groupby('계좌번호')['년'].agg([('매수횟수',np.size)]).reset_index(),how='left',on='계좌번호')\n",
    "test_data=pd.merge(test_data,train_test.groupby('계좌번호')['년'].agg([('매수횟수',np.size)]).reset_index(),how='left',on='계좌번호')"
   ]
  },
  {
   "cell_type": "code",
   "execution_count": 100,
   "metadata": {},
   "outputs": [],
   "source": [
    "# 고객별 주 종목업종이 어떤것인지 파악을 한다.\n",
    "고객_종목업종=train_test.groupby('계좌번호')['종목업종'].agg([('고객별_종목업종', lambda x: x.mode()[0])]).reset_index()"
   ]
  },
  {
   "cell_type": "code",
   "execution_count": 101,
   "metadata": {
    "scrolled": true
   },
   "outputs": [],
   "source": [
    "train_data=pd.merge(train_data,고객_종목업종,how='left',on='계좌번호')\n",
    "test_data=pd.merge(test_data,고객_종목업종,how='left',on='계좌번호')"
   ]
  },
  {
   "cell_type": "code",
   "execution_count": 102,
   "metadata": {},
   "outputs": [],
   "source": [
    "# 종목업종 별 hold_d 값의 평균을 넣어준 것\n",
    "train_data=pd.merge(train_data,train_data.groupby('고객별_종목업종')['hold_d'].agg([('고객별_종목_hold',np.mean)]).reset_index(),how='left',on='고객별_종목업종')\n",
    "test_data=pd.merge(test_data,train_data.groupby('고객별_종목업종')['hold_d'].agg([('고객별_종목_hold',np.mean)]).reset_index(),how='left',on='고객별_종목업종')"
   ]
  },
  {
   "cell_type": "code",
   "execution_count": 103,
   "metadata": {},
   "outputs": [],
   "source": [
    "train_data['투자성형_자산구간']=train_data.투자성향*train_data.자산구간\n",
    "test_data['투자성형_자산구간']=test_data.투자성향*test_data.자산구간"
   ]
  },
  {
   "cell_type": "code",
   "execution_count": 104,
   "metadata": {},
   "outputs": [],
   "source": [
    "train_data['총투자제곱']=train_data.총투자기간**2\n",
    "test_data['총투자제곱']=test_data.총투자기간**2"
   ]
  },
  {
   "cell_type": "code",
   "execution_count": 105,
   "metadata": {},
   "outputs": [],
   "source": [
    "mean=train_data['hold_d'].mean()\n",
    "agg=train_data.groupby('주거래업종구분')['hold_d'].agg(['count','mean'])\n",
    "counts=agg['count']\n",
    "means=agg['mean']\n",
    "weight=80\n",
    "smooth=(counts*means+weight*mean)/(counts+weight)\n",
    "\n",
    "train_data['주거래업종구분_ME']=train_data['주거래업종구분'].map(smooth)\n",
    "test_data['주거래업종구분_ME']=test_data['주거래업종구분'].map(smooth)"
   ]
  },
  {
   "cell_type": "code",
   "execution_count": 106,
   "metadata": {},
   "outputs": [],
   "source": [
    "업종_주종목=train_test.groupby('종목업종')['종목한글명'].agg([('업종_주종목', lambda x: x.mode()[0])]).reset_index()"
   ]
  },
  {
   "cell_type": "code",
   "execution_count": 107,
   "metadata": {},
   "outputs": [],
   "source": [
    "train_data=pd.merge(train_data, 업종_주종목, how='left', on='종목업종')\n",
    "test_data=pd.merge(test_data, 업종_주종목, how='left', on='종목업종')"
   ]
  },
  {
   "cell_type": "code",
   "execution_count": 108,
   "metadata": {},
   "outputs": [],
   "source": [
    "train_data.loc[train_data[(train_data[\"종목한글명\"] == train_data[\"업종_주종목\"])].index,'업종_주종목']=1\n",
    "train_data['업종_주종목']=train_data.업종_주종목.apply(lambda x: x if x==1 else 0)\n",
    "\n",
    "test_data.loc[test_data[(test_data[\"종목한글명\"] == test_data[\"업종_주종목\"])].index,'업종_주종목']=1\n",
    "test_data['업종_주종목']=test_data.업종_주종목.apply(lambda x: x if x==1 else 0)"
   ]
  },
  {
   "cell_type": "markdown",
   "metadata": {},
   "source": [
    "### word2vec"
   ]
  },
  {
   "cell_type": "code",
   "execution_count": 107,
   "metadata": {},
   "outputs": [],
   "source": [
    "# 구매 정보 관련\n",
    "train_data['개인정보'] = train_data.Life_style.astype(str) +'_' + train_data.서비스등급.astype(str) +'_' + train_data.주거래상품군.astype(str)  +'_'+ train_data.투자성향.astype(str) \n",
    "test_data['개인정보'] = test_data.Life_style.astype(str) +'_' + test_data.서비스등급.astype(str) +'_' + test_data.주거래상품군.astype(str)  +'_'+ test_data.투자성향.astype(str) "
   ]
  },
  {
   "cell_type": "code",
   "execution_count": 108,
   "metadata": {
    "scrolled": true
   },
   "outputs": [],
   "source": [
    "import random\n",
    "\n",
    "trn = list(train_data.groupby(['계좌번호','종목코드'])['개인정보'].unique())\n",
    "tst = list(test_data.groupby(['계좌번호','종목코드'])['개인정보'].unique())"
   ]
  },
  {
   "cell_type": "code",
   "execution_count": 110,
   "metadata": {},
   "outputs": [],
   "source": [
    "def oversample(x, n,seed=0):\n",
    "    lst = []\n",
    "    for i in x:\n",
    "        tmp = []\n",
    "        np.random.seed(seed)\n",
    "        for j in range(n):\n",
    "            random.shuffle(i)\n",
    "            tmp += list(i)\n",
    "            lst.append(tmp)\n",
    "    return lst"
   ]
  },
  {
   "cell_type": "code",
   "execution_count": 148,
   "metadata": {},
   "outputs": [],
   "source": [
    "w2v_input = oversample(trn+tst, 10)"
   ]
  },
  {
   "cell_type": "code",
   "execution_count": 149,
   "metadata": {},
   "outputs": [],
   "source": [
    "from gensim.models import word2vec\n",
    "\n",
    "w2v = word2vec.Word2Vec(sentences = w2v_input, size = 100, window = 5, min_count = 1, sg = 1,seed=0)"
   ]
  },
  {
   "cell_type": "code",
   "execution_count": 150,
   "metadata": {},
   "outputs": [
    {
     "name": "stderr",
     "output_type": "stream",
     "text": [
      "100%|███████████████████████████████████████████████████████████████████████| 433505/433505 [00:04<00:00, 96495.29it/s]\n"
     ]
    }
   ],
   "source": [
    "train_mean_vector = []\n",
    "for words in tqdm(trn):\n",
    "    tmp = np.zeros(100)\n",
    "    cnt = 0\n",
    "    for word in words:\n",
    "        try:\n",
    "            tmp += w2v[word]\n",
    "            cnt += 1\n",
    "        except:\n",
    "            pass\n",
    "    tmp /= cnt\n",
    "    train_mean_vector.append(tmp)\n",
    "train_mean_vector = np.array(train_mean_vector)"
   ]
  },
  {
   "cell_type": "code",
   "execution_count": 151,
   "metadata": {},
   "outputs": [
    {
     "name": "stderr",
     "output_type": "stream",
     "text": [
      "100%|█████████████████████████████████████████████████████████████████████████| 70596/70596 [00:00<00:00, 93112.58it/s]\n"
     ]
    }
   ],
   "source": [
    "test_mean_vector = []\n",
    "for words in tqdm(tst):\n",
    "    tmp = np.zeros(100)\n",
    "    cnt = 0\n",
    "    for word in words:\n",
    "        try:\n",
    "            tmp += w2v[word]\n",
    "            cnt += 1\n",
    "        except:\n",
    "            pass\n",
    "    tmp /= cnt\n",
    "    test_mean_vector.append(tmp)\n",
    "test_mean_vector = np.array(test_mean_vector)"
   ]
  },
  {
   "cell_type": "code",
   "execution_count": 152,
   "metadata": {},
   "outputs": [],
   "source": [
    "train_mean_vector = pd.DataFrame(train_mean_vector)\n",
    "test_mean_vector = pd.DataFrame(test_mean_vector)"
   ]
  },
  {
   "cell_type": "code",
   "execution_count": 153,
   "metadata": {
    "scrolled": true
   },
   "outputs": [
    {
     "data": {
      "text/plain": [
       "(0, 0)"
      ]
     },
     "execution_count": 153,
     "metadata": {},
     "output_type": "execute_result"
    }
   ],
   "source": [
    "train_mean_vector.isnull().sum().sum(),test_mean_vector.isnull().sum().sum()"
   ]
  },
  {
   "cell_type": "code",
   "execution_count": 154,
   "metadata": {
    "scrolled": false
   },
   "outputs": [
    {
     "data": {
      "text/plain": [
       "((433505, 100), (70596, 100))"
      ]
     },
     "execution_count": 154,
     "metadata": {},
     "output_type": "execute_result"
    }
   ],
   "source": [
    "train_mean_vector.shape,test_mean_vector.shape"
   ]
  },
  {
   "cell_type": "code",
   "execution_count": 161,
   "metadata": {},
   "outputs": [],
   "source": [
    "aa=train_data.groupby(['계좌번호','종목코드'])['성별'].first().reset_index()\n",
    "train_mean_vector[['계좌번호','종목코드']]=aa[['계좌번호','종목코드']]\n",
    "\n",
    "bb=test_data.groupby(['계좌번호','종목코드'])['성별'].first().reset_index()\n",
    "test_mean_vector[['계좌번호','종목코드']]=bb[['계좌번호','종목코드']]"
   ]
  },
  {
   "cell_type": "code",
   "execution_count": 167,
   "metadata": {},
   "outputs": [],
   "source": [
    "train_data=pd.merge(train_data,train_mean_vector,how='left',on=['계좌번호','종목코드'])\n",
    "test_data=pd.merge(test_data,test_mean_vector,how='left',on=['계좌번호','종목코드'])"
   ]
  },
  {
   "cell_type": "code",
   "execution_count": null,
   "metadata": {},
   "outputs": [],
   "source": []
  },
  {
   "cell_type": "code",
   "execution_count": null,
   "metadata": {},
   "outputs": [],
   "source": []
  },
  {
   "cell_type": "code",
   "execution_count": 109,
   "metadata": {},
   "outputs": [],
   "source": [
    "train_data_select = train_data.drop([\"계좌번호\", \"종목코드\", \"매수일자\", \"기준일자\",'종류별'], axis = 1)\n",
    "test_data_select = test_data.drop([\"계좌번호\", \"종목코드\", \"매수일자\", \"submit_id\", \"hold_d\", \"기준일자\",'종류별'], axis = 1)"
   ]
  },
  {
   "cell_type": "code",
   "execution_count": 110,
   "metadata": {},
   "outputs": [],
   "source": [
    "# train_data에서 Y값을 추출한 후 hold_d column을 지워주겠습니다.\n",
    "\n",
    "train_label = train_data_select[\"hold_d\"]\n",
    "train_data_select.drop([\"hold_d\"], axis = 1, inplace = True)"
   ]
  },
  {
   "cell_type": "code",
   "execution_count": 111,
   "metadata": {},
   "outputs": [],
   "source": [
    "L_encoder = LabelEncoder()\n",
    "L_encoder.fit(iem[\"종목한글명\"])\n",
    "train_data_select[\"종목한글명\"] = L_encoder.transform(train_data_select[\"종목한글명\"])\n",
    "test_data_select[\"종목한글명\"] = L_encoder.transform(test_data_select[\"종목한글명\"])"
   ]
  },
  {
   "cell_type": "code",
   "execution_count": 112,
   "metadata": {},
   "outputs": [],
   "source": [
    "#a=pd.get_dummies(train_data['투자_자산_wv'])\n",
    "#b=pd.get_dummies(test_data['투자_자산_wv'])"
   ]
  },
  {
   "cell_type": "code",
   "execution_count": 113,
   "metadata": {},
   "outputs": [],
   "source": [
    "#a_sub_b = [x for x in a.columns if x not in b.columns]\n",
    "#a.drop(a_sub_b,axis=1,inplace=True)"
   ]
  },
  {
   "cell_type": "code",
   "execution_count": 114,
   "metadata": {},
   "outputs": [],
   "source": [
    "#b_sub_a = [x for x in b.columns if x not in a.columns]\n",
    "#b.drop(b_sub_a,axis=1,inplace=True)"
   ]
  },
  {
   "cell_type": "code",
   "execution_count": 115,
   "metadata": {},
   "outputs": [],
   "source": [
    "#train_data=pd.concat([train_data,a],axis=1)\n",
    "#test_data=pd.concat([test_data,b],axis=1)"
   ]
  },
  {
   "cell_type": "code",
   "execution_count": 116,
   "metadata": {
    "scrolled": true
   },
   "outputs": [
    {
     "data": {
      "text/plain": [
       "((681472, 46), (70596, 46))"
      ]
     },
     "execution_count": 116,
     "metadata": {},
     "output_type": "execute_result"
    }
   ],
   "source": [
    "train_data_select.shape,test_data_select.shape"
   ]
  },
  {
   "cell_type": "code",
   "execution_count": 117,
   "metadata": {
    "id": "bkGvrP54M4wh"
   },
   "outputs": [],
   "source": [
    "from sklearn.preprocessing import StandardScaler\n",
    "scaler = StandardScaler()\n",
    "\n",
    "#테스트 스케일링은 data leakge 방지를 위해 transform만\n",
    "train_data_scaled = scaler.fit_transform(train_data_select)\n",
    "test_data_scaled = scaler.transform(test_data_select)"
   ]
  },
  {
   "cell_type": "code",
   "execution_count": 118,
   "metadata": {
    "id": "rOC8CHTCM4wh"
   },
   "outputs": [],
   "source": [
    "train_data_scaled=pd.DataFrame(train_data_scaled,columns=train_data_select.columns)\n",
    "test_data_scaled=pd.DataFrame(test_data_scaled,columns=train_data_select.columns)"
   ]
  },
  {
   "cell_type": "code",
   "execution_count": null,
   "metadata": {},
   "outputs": [],
   "source": []
  },
  {
   "cell_type": "code",
   "execution_count": null,
   "metadata": {},
   "outputs": [],
   "source": []
  },
  {
   "cell_type": "code",
   "execution_count": 119,
   "metadata": {},
   "outputs": [
    {
     "data": {
      "text/html": [
       "<div>\n",
       "<style scoped>\n",
       "    .dataframe tbody tr th:only-of-type {\n",
       "        vertical-align: middle;\n",
       "    }\n",
       "\n",
       "    .dataframe tbody tr th {\n",
       "        vertical-align: top;\n",
       "    }\n",
       "\n",
       "    .dataframe thead th {\n",
       "        text-align: right;\n",
       "    }\n",
       "</style>\n",
       "<table border=\"1\" class=\"dataframe\">\n",
       "  <thead>\n",
       "    <tr style=\"text-align: right;\">\n",
       "      <th></th>\n",
       "      <th>과거보유일</th>\n",
       "      <th>성별</th>\n",
       "      <th>연령대</th>\n",
       "      <th>투자성향</th>\n",
       "      <th>자산구간</th>\n",
       "      <th>주거래상품군</th>\n",
       "      <th>Life_style</th>\n",
       "      <th>서비스등급</th>\n",
       "      <th>총투자기간</th>\n",
       "      <th>주거래업종구분</th>\n",
       "      <th>...</th>\n",
       "      <th>년도_잔고수량</th>\n",
       "      <th>년도_총투자기간</th>\n",
       "      <th>금액변화</th>\n",
       "      <th>매수횟수</th>\n",
       "      <th>고객별_종목업종</th>\n",
       "      <th>고객별_종목_hold</th>\n",
       "      <th>투자성형_자산구간</th>\n",
       "      <th>총투자제곱</th>\n",
       "      <th>주거래업종구분_ME</th>\n",
       "      <th>업종_주종목</th>\n",
       "    </tr>\n",
       "  </thead>\n",
       "  <tbody>\n",
       "    <tr>\n",
       "      <th>0</th>\n",
       "      <td>6.0</td>\n",
       "      <td>1</td>\n",
       "      <td>9</td>\n",
       "      <td>3</td>\n",
       "      <td>2</td>\n",
       "      <td>2</td>\n",
       "      <td>9</td>\n",
       "      <td>5</td>\n",
       "      <td>5</td>\n",
       "      <td>8</td>\n",
       "      <td>...</td>\n",
       "      <td>3</td>\n",
       "      <td>1</td>\n",
       "      <td>38000.0</td>\n",
       "      <td>99</td>\n",
       "      <td>10</td>\n",
       "      <td>17.054015</td>\n",
       "      <td>6</td>\n",
       "      <td>25</td>\n",
       "      <td>19.437957</td>\n",
       "      <td>0</td>\n",
       "    </tr>\n",
       "    <tr>\n",
       "      <th>1</th>\n",
       "      <td>48.0</td>\n",
       "      <td>1</td>\n",
       "      <td>9</td>\n",
       "      <td>3</td>\n",
       "      <td>2</td>\n",
       "      <td>2</td>\n",
       "      <td>9</td>\n",
       "      <td>5</td>\n",
       "      <td>5</td>\n",
       "      <td>8</td>\n",
       "      <td>...</td>\n",
       "      <td>0</td>\n",
       "      <td>1</td>\n",
       "      <td>2490000.0</td>\n",
       "      <td>99</td>\n",
       "      <td>10</td>\n",
       "      <td>17.054015</td>\n",
       "      <td>6</td>\n",
       "      <td>25</td>\n",
       "      <td>19.437957</td>\n",
       "      <td>1</td>\n",
       "    </tr>\n",
       "    <tr>\n",
       "      <th>2</th>\n",
       "      <td>3.0</td>\n",
       "      <td>1</td>\n",
       "      <td>9</td>\n",
       "      <td>3</td>\n",
       "      <td>2</td>\n",
       "      <td>2</td>\n",
       "      <td>9</td>\n",
       "      <td>5</td>\n",
       "      <td>5</td>\n",
       "      <td>8</td>\n",
       "      <td>...</td>\n",
       "      <td>4</td>\n",
       "      <td>1</td>\n",
       "      <td>17600.0</td>\n",
       "      <td>99</td>\n",
       "      <td>10</td>\n",
       "      <td>17.054015</td>\n",
       "      <td>6</td>\n",
       "      <td>25</td>\n",
       "      <td>19.437957</td>\n",
       "      <td>0</td>\n",
       "    </tr>\n",
       "    <tr>\n",
       "      <th>3</th>\n",
       "      <td>13.0</td>\n",
       "      <td>1</td>\n",
       "      <td>9</td>\n",
       "      <td>3</td>\n",
       "      <td>2</td>\n",
       "      <td>2</td>\n",
       "      <td>9</td>\n",
       "      <td>5</td>\n",
       "      <td>5</td>\n",
       "      <td>8</td>\n",
       "      <td>...</td>\n",
       "      <td>2</td>\n",
       "      <td>1</td>\n",
       "      <td>7200.0</td>\n",
       "      <td>99</td>\n",
       "      <td>10</td>\n",
       "      <td>17.054015</td>\n",
       "      <td>6</td>\n",
       "      <td>25</td>\n",
       "      <td>19.437957</td>\n",
       "      <td>0</td>\n",
       "    </tr>\n",
       "    <tr>\n",
       "      <th>4</th>\n",
       "      <td>194.0</td>\n",
       "      <td>1</td>\n",
       "      <td>9</td>\n",
       "      <td>3</td>\n",
       "      <td>2</td>\n",
       "      <td>2</td>\n",
       "      <td>9</td>\n",
       "      <td>5</td>\n",
       "      <td>5</td>\n",
       "      <td>8</td>\n",
       "      <td>...</td>\n",
       "      <td>3</td>\n",
       "      <td>1</td>\n",
       "      <td>39400.0</td>\n",
       "      <td>99</td>\n",
       "      <td>10</td>\n",
       "      <td>17.054015</td>\n",
       "      <td>6</td>\n",
       "      <td>25</td>\n",
       "      <td>19.437957</td>\n",
       "      <td>0</td>\n",
       "    </tr>\n",
       "    <tr>\n",
       "      <th>...</th>\n",
       "      <td>...</td>\n",
       "      <td>...</td>\n",
       "      <td>...</td>\n",
       "      <td>...</td>\n",
       "      <td>...</td>\n",
       "      <td>...</td>\n",
       "      <td>...</td>\n",
       "      <td>...</td>\n",
       "      <td>...</td>\n",
       "      <td>...</td>\n",
       "      <td>...</td>\n",
       "      <td>...</td>\n",
       "      <td>...</td>\n",
       "      <td>...</td>\n",
       "      <td>...</td>\n",
       "      <td>...</td>\n",
       "      <td>...</td>\n",
       "      <td>...</td>\n",
       "      <td>...</td>\n",
       "      <td>...</td>\n",
       "      <td>...</td>\n",
       "    </tr>\n",
       "    <tr>\n",
       "      <th>681467</th>\n",
       "      <td>0.0</td>\n",
       "      <td>1</td>\n",
       "      <td>4</td>\n",
       "      <td>4</td>\n",
       "      <td>2</td>\n",
       "      <td>2</td>\n",
       "      <td>3</td>\n",
       "      <td>4</td>\n",
       "      <td>3</td>\n",
       "      <td>8</td>\n",
       "      <td>...</td>\n",
       "      <td>3</td>\n",
       "      <td>0</td>\n",
       "      <td>17250.0</td>\n",
       "      <td>162</td>\n",
       "      <td>10</td>\n",
       "      <td>17.054015</td>\n",
       "      <td>8</td>\n",
       "      <td>9</td>\n",
       "      <td>19.437957</td>\n",
       "      <td>0</td>\n",
       "    </tr>\n",
       "    <tr>\n",
       "      <th>681468</th>\n",
       "      <td>0.0</td>\n",
       "      <td>1</td>\n",
       "      <td>4</td>\n",
       "      <td>4</td>\n",
       "      <td>2</td>\n",
       "      <td>2</td>\n",
       "      <td>3</td>\n",
       "      <td>4</td>\n",
       "      <td>3</td>\n",
       "      <td>8</td>\n",
       "      <td>...</td>\n",
       "      <td>4</td>\n",
       "      <td>1</td>\n",
       "      <td>46550.0</td>\n",
       "      <td>162</td>\n",
       "      <td>10</td>\n",
       "      <td>17.054015</td>\n",
       "      <td>8</td>\n",
       "      <td>9</td>\n",
       "      <td>19.437957</td>\n",
       "      <td>0</td>\n",
       "    </tr>\n",
       "    <tr>\n",
       "      <th>681469</th>\n",
       "      <td>0.0</td>\n",
       "      <td>1</td>\n",
       "      <td>4</td>\n",
       "      <td>4</td>\n",
       "      <td>2</td>\n",
       "      <td>2</td>\n",
       "      <td>3</td>\n",
       "      <td>4</td>\n",
       "      <td>3</td>\n",
       "      <td>8</td>\n",
       "      <td>...</td>\n",
       "      <td>4</td>\n",
       "      <td>0</td>\n",
       "      <td>3665.0</td>\n",
       "      <td>162</td>\n",
       "      <td>10</td>\n",
       "      <td>17.054015</td>\n",
       "      <td>8</td>\n",
       "      <td>9</td>\n",
       "      <td>19.437957</td>\n",
       "      <td>0</td>\n",
       "    </tr>\n",
       "    <tr>\n",
       "      <th>681470</th>\n",
       "      <td>0.0</td>\n",
       "      <td>1</td>\n",
       "      <td>4</td>\n",
       "      <td>4</td>\n",
       "      <td>2</td>\n",
       "      <td>2</td>\n",
       "      <td>3</td>\n",
       "      <td>4</td>\n",
       "      <td>3</td>\n",
       "      <td>8</td>\n",
       "      <td>...</td>\n",
       "      <td>3</td>\n",
       "      <td>1</td>\n",
       "      <td>9050.0</td>\n",
       "      <td>162</td>\n",
       "      <td>10</td>\n",
       "      <td>17.054015</td>\n",
       "      <td>8</td>\n",
       "      <td>9</td>\n",
       "      <td>19.437957</td>\n",
       "      <td>0</td>\n",
       "    </tr>\n",
       "    <tr>\n",
       "      <th>681471</th>\n",
       "      <td>0.0</td>\n",
       "      <td>1</td>\n",
       "      <td>4</td>\n",
       "      <td>4</td>\n",
       "      <td>2</td>\n",
       "      <td>2</td>\n",
       "      <td>3</td>\n",
       "      <td>4</td>\n",
       "      <td>3</td>\n",
       "      <td>8</td>\n",
       "      <td>...</td>\n",
       "      <td>4</td>\n",
       "      <td>1</td>\n",
       "      <td>12500.0</td>\n",
       "      <td>162</td>\n",
       "      <td>10</td>\n",
       "      <td>17.054015</td>\n",
       "      <td>8</td>\n",
       "      <td>9</td>\n",
       "      <td>19.437957</td>\n",
       "      <td>0</td>\n",
       "    </tr>\n",
       "  </tbody>\n",
       "</table>\n",
       "<p>681472 rows × 46 columns</p>\n",
       "</div>"
      ],
      "text/plain": [
       "        과거보유일  성별  연령대  투자성향  자산구간  주거래상품군  Life_style  서비스등급  총투자기간  주거래업종구분  \\\n",
       "0         6.0   1    9     3     2       2           9      5      5        8   \n",
       "1        48.0   1    9     3     2       2           9      5      5        8   \n",
       "2         3.0   1    9     3     2       2           9      5      5        8   \n",
       "3        13.0   1    9     3     2       2           9      5      5        8   \n",
       "4       194.0   1    9     3     2       2           9      5      5        8   \n",
       "...       ...  ..  ...   ...   ...     ...         ...    ...    ...      ...   \n",
       "681467    0.0   1    4     4     2       2           3      4      3        8   \n",
       "681468    0.0   1    4     4     2       2           3      4      3        8   \n",
       "681469    0.0   1    4     4     2       2           3      4      3        8   \n",
       "681470    0.0   1    4     4     2       2           3      4      3        8   \n",
       "681471    0.0   1    4     4     2       2           3      4      3        8   \n",
       "\n",
       "        ...  년도_잔고수량  년도_총투자기간       금액변화  매수횟수  고객별_종목업종  고객별_종목_hold  \\\n",
       "0       ...        3         1    38000.0    99        10    17.054015   \n",
       "1       ...        0         1  2490000.0    99        10    17.054015   \n",
       "2       ...        4         1    17600.0    99        10    17.054015   \n",
       "3       ...        2         1     7200.0    99        10    17.054015   \n",
       "4       ...        3         1    39400.0    99        10    17.054015   \n",
       "...     ...      ...       ...        ...   ...       ...          ...   \n",
       "681467  ...        3         0    17250.0   162        10    17.054015   \n",
       "681468  ...        4         1    46550.0   162        10    17.054015   \n",
       "681469  ...        4         0     3665.0   162        10    17.054015   \n",
       "681470  ...        3         1     9050.0   162        10    17.054015   \n",
       "681471  ...        4         1    12500.0   162        10    17.054015   \n",
       "\n",
       "        투자성형_자산구간  총투자제곱  주거래업종구분_ME  업종_주종목  \n",
       "0               6     25   19.437957       0  \n",
       "1               6     25   19.437957       1  \n",
       "2               6     25   19.437957       0  \n",
       "3               6     25   19.437957       0  \n",
       "4               6     25   19.437957       0  \n",
       "...           ...    ...         ...     ...  \n",
       "681467          8      9   19.437957       0  \n",
       "681468          8      9   19.437957       0  \n",
       "681469          8      9   19.437957       0  \n",
       "681470          8      9   19.437957       0  \n",
       "681471          8      9   19.437957       0  \n",
       "\n",
       "[681472 rows x 46 columns]"
      ]
     },
     "execution_count": 119,
     "metadata": {},
     "output_type": "execute_result"
    }
   ],
   "source": [
    "train_data_select"
   ]
  },
  {
   "cell_type": "code",
   "execution_count": 120,
   "metadata": {},
   "outputs": [
    {
     "data": {
      "text/html": [
       "<div>\n",
       "<style scoped>\n",
       "    .dataframe tbody tr th:only-of-type {\n",
       "        vertical-align: middle;\n",
       "    }\n",
       "\n",
       "    .dataframe tbody tr th {\n",
       "        vertical-align: top;\n",
       "    }\n",
       "\n",
       "    .dataframe thead th {\n",
       "        text-align: right;\n",
       "    }\n",
       "</style>\n",
       "<table border=\"1\" class=\"dataframe\">\n",
       "  <thead>\n",
       "    <tr style=\"text-align: right;\">\n",
       "      <th></th>\n",
       "      <th>과거보유일</th>\n",
       "      <th>성별</th>\n",
       "      <th>연령대</th>\n",
       "      <th>투자성향</th>\n",
       "      <th>자산구간</th>\n",
       "      <th>주거래상품군</th>\n",
       "      <th>Life_style</th>\n",
       "      <th>서비스등급</th>\n",
       "      <th>총투자기간</th>\n",
       "      <th>주거래업종구분</th>\n",
       "      <th>...</th>\n",
       "      <th>년도_잔고수량</th>\n",
       "      <th>년도_총투자기간</th>\n",
       "      <th>금액변화</th>\n",
       "      <th>매수횟수</th>\n",
       "      <th>고객별_종목업종</th>\n",
       "      <th>고객별_종목_hold</th>\n",
       "      <th>투자성형_자산구간</th>\n",
       "      <th>총투자제곱</th>\n",
       "      <th>주거래업종구분_ME</th>\n",
       "      <th>업종_주종목</th>\n",
       "    </tr>\n",
       "  </thead>\n",
       "  <tbody>\n",
       "    <tr>\n",
       "      <th>0</th>\n",
       "      <td>153</td>\n",
       "      <td>1</td>\n",
       "      <td>9</td>\n",
       "      <td>3</td>\n",
       "      <td>2</td>\n",
       "      <td>2</td>\n",
       "      <td>9</td>\n",
       "      <td>5</td>\n",
       "      <td>5</td>\n",
       "      <td>8</td>\n",
       "      <td>...</td>\n",
       "      <td>4</td>\n",
       "      <td>1</td>\n",
       "      <td>8150.0</td>\n",
       "      <td>99</td>\n",
       "      <td>10</td>\n",
       "      <td>17.054015</td>\n",
       "      <td>6</td>\n",
       "      <td>25</td>\n",
       "      <td>19.437957</td>\n",
       "      <td>0</td>\n",
       "    </tr>\n",
       "    <tr>\n",
       "      <th>1</th>\n",
       "      <td>335</td>\n",
       "      <td>1</td>\n",
       "      <td>9</td>\n",
       "      <td>3</td>\n",
       "      <td>2</td>\n",
       "      <td>2</td>\n",
       "      <td>9</td>\n",
       "      <td>5</td>\n",
       "      <td>5</td>\n",
       "      <td>8</td>\n",
       "      <td>...</td>\n",
       "      <td>3</td>\n",
       "      <td>1</td>\n",
       "      <td>12250.0</td>\n",
       "      <td>99</td>\n",
       "      <td>10</td>\n",
       "      <td>17.054015</td>\n",
       "      <td>6</td>\n",
       "      <td>25</td>\n",
       "      <td>19.437957</td>\n",
       "      <td>0</td>\n",
       "    </tr>\n",
       "    <tr>\n",
       "      <th>2</th>\n",
       "      <td>139</td>\n",
       "      <td>1</td>\n",
       "      <td>9</td>\n",
       "      <td>3</td>\n",
       "      <td>2</td>\n",
       "      <td>2</td>\n",
       "      <td>9</td>\n",
       "      <td>5</td>\n",
       "      <td>5</td>\n",
       "      <td>8</td>\n",
       "      <td>...</td>\n",
       "      <td>3</td>\n",
       "      <td>1</td>\n",
       "      <td>30600.0</td>\n",
       "      <td>99</td>\n",
       "      <td>10</td>\n",
       "      <td>17.054015</td>\n",
       "      <td>6</td>\n",
       "      <td>25</td>\n",
       "      <td>19.437957</td>\n",
       "      <td>0</td>\n",
       "    </tr>\n",
       "    <tr>\n",
       "      <th>3</th>\n",
       "      <td>236</td>\n",
       "      <td>1</td>\n",
       "      <td>9</td>\n",
       "      <td>3</td>\n",
       "      <td>2</td>\n",
       "      <td>2</td>\n",
       "      <td>9</td>\n",
       "      <td>5</td>\n",
       "      <td>5</td>\n",
       "      <td>8</td>\n",
       "      <td>...</td>\n",
       "      <td>4</td>\n",
       "      <td>1</td>\n",
       "      <td>1760.0</td>\n",
       "      <td>99</td>\n",
       "      <td>10</td>\n",
       "      <td>17.054015</td>\n",
       "      <td>6</td>\n",
       "      <td>25</td>\n",
       "      <td>19.437957</td>\n",
       "      <td>0</td>\n",
       "    </tr>\n",
       "    <tr>\n",
       "      <th>4</th>\n",
       "      <td>9</td>\n",
       "      <td>1</td>\n",
       "      <td>9</td>\n",
       "      <td>3</td>\n",
       "      <td>2</td>\n",
       "      <td>2</td>\n",
       "      <td>9</td>\n",
       "      <td>5</td>\n",
       "      <td>5</td>\n",
       "      <td>8</td>\n",
       "      <td>...</td>\n",
       "      <td>1</td>\n",
       "      <td>1</td>\n",
       "      <td>46350.0</td>\n",
       "      <td>99</td>\n",
       "      <td>10</td>\n",
       "      <td>17.054015</td>\n",
       "      <td>6</td>\n",
       "      <td>25</td>\n",
       "      <td>19.437957</td>\n",
       "      <td>0</td>\n",
       "    </tr>\n",
       "    <tr>\n",
       "      <th>...</th>\n",
       "      <td>...</td>\n",
       "      <td>...</td>\n",
       "      <td>...</td>\n",
       "      <td>...</td>\n",
       "      <td>...</td>\n",
       "      <td>...</td>\n",
       "      <td>...</td>\n",
       "      <td>...</td>\n",
       "      <td>...</td>\n",
       "      <td>...</td>\n",
       "      <td>...</td>\n",
       "      <td>...</td>\n",
       "      <td>...</td>\n",
       "      <td>...</td>\n",
       "      <td>...</td>\n",
       "      <td>...</td>\n",
       "      <td>...</td>\n",
       "      <td>...</td>\n",
       "      <td>...</td>\n",
       "      <td>...</td>\n",
       "      <td>...</td>\n",
       "    </tr>\n",
       "    <tr>\n",
       "      <th>70591</th>\n",
       "      <td>23</td>\n",
       "      <td>1</td>\n",
       "      <td>6</td>\n",
       "      <td>0</td>\n",
       "      <td>5</td>\n",
       "      <td>2</td>\n",
       "      <td>5</td>\n",
       "      <td>3</td>\n",
       "      <td>5</td>\n",
       "      <td>2</td>\n",
       "      <td>...</td>\n",
       "      <td>0</td>\n",
       "      <td>1</td>\n",
       "      <td>198000.0</td>\n",
       "      <td>162</td>\n",
       "      <td>2</td>\n",
       "      <td>36.974653</td>\n",
       "      <td>0</td>\n",
       "      <td>25</td>\n",
       "      <td>22.077924</td>\n",
       "      <td>0</td>\n",
       "    </tr>\n",
       "    <tr>\n",
       "      <th>70592</th>\n",
       "      <td>103</td>\n",
       "      <td>1</td>\n",
       "      <td>6</td>\n",
       "      <td>0</td>\n",
       "      <td>5</td>\n",
       "      <td>2</td>\n",
       "      <td>5</td>\n",
       "      <td>3</td>\n",
       "      <td>5</td>\n",
       "      <td>2</td>\n",
       "      <td>...</td>\n",
       "      <td>2</td>\n",
       "      <td>1</td>\n",
       "      <td>2440.0</td>\n",
       "      <td>162</td>\n",
       "      <td>2</td>\n",
       "      <td>36.974653</td>\n",
       "      <td>0</td>\n",
       "      <td>25</td>\n",
       "      <td>22.077924</td>\n",
       "      <td>0</td>\n",
       "    </tr>\n",
       "    <tr>\n",
       "      <th>70593</th>\n",
       "      <td>858</td>\n",
       "      <td>1</td>\n",
       "      <td>4</td>\n",
       "      <td>4</td>\n",
       "      <td>2</td>\n",
       "      <td>2</td>\n",
       "      <td>3</td>\n",
       "      <td>4</td>\n",
       "      <td>3</td>\n",
       "      <td>8</td>\n",
       "      <td>...</td>\n",
       "      <td>4</td>\n",
       "      <td>0</td>\n",
       "      <td>-51.0</td>\n",
       "      <td>162</td>\n",
       "      <td>10</td>\n",
       "      <td>17.054015</td>\n",
       "      <td>8</td>\n",
       "      <td>9</td>\n",
       "      <td>19.437957</td>\n",
       "      <td>0</td>\n",
       "    </tr>\n",
       "    <tr>\n",
       "      <th>70594</th>\n",
       "      <td>11</td>\n",
       "      <td>1</td>\n",
       "      <td>4</td>\n",
       "      <td>4</td>\n",
       "      <td>2</td>\n",
       "      <td>2</td>\n",
       "      <td>3</td>\n",
       "      <td>4</td>\n",
       "      <td>3</td>\n",
       "      <td>8</td>\n",
       "      <td>...</td>\n",
       "      <td>2</td>\n",
       "      <td>1</td>\n",
       "      <td>116500.0</td>\n",
       "      <td>162</td>\n",
       "      <td>10</td>\n",
       "      <td>17.054015</td>\n",
       "      <td>8</td>\n",
       "      <td>9</td>\n",
       "      <td>19.437957</td>\n",
       "      <td>0</td>\n",
       "    </tr>\n",
       "    <tr>\n",
       "      <th>70595</th>\n",
       "      <td>4</td>\n",
       "      <td>1</td>\n",
       "      <td>4</td>\n",
       "      <td>4</td>\n",
       "      <td>2</td>\n",
       "      <td>2</td>\n",
       "      <td>3</td>\n",
       "      <td>4</td>\n",
       "      <td>3</td>\n",
       "      <td>8</td>\n",
       "      <td>...</td>\n",
       "      <td>2</td>\n",
       "      <td>1</td>\n",
       "      <td>225500.0</td>\n",
       "      <td>162</td>\n",
       "      <td>10</td>\n",
       "      <td>17.054015</td>\n",
       "      <td>8</td>\n",
       "      <td>9</td>\n",
       "      <td>19.437957</td>\n",
       "      <td>0</td>\n",
       "    </tr>\n",
       "  </tbody>\n",
       "</table>\n",
       "<p>70596 rows × 46 columns</p>\n",
       "</div>"
      ],
      "text/plain": [
       "       과거보유일  성별  연령대  투자성향  자산구간  주거래상품군  Life_style  서비스등급  총투자기간  주거래업종구분  \\\n",
       "0        153   1    9     3     2       2           9      5      5        8   \n",
       "1        335   1    9     3     2       2           9      5      5        8   \n",
       "2        139   1    9     3     2       2           9      5      5        8   \n",
       "3        236   1    9     3     2       2           9      5      5        8   \n",
       "4          9   1    9     3     2       2           9      5      5        8   \n",
       "...      ...  ..  ...   ...   ...     ...         ...    ...    ...      ...   \n",
       "70591     23   1    6     0     5       2           5      3      5        2   \n",
       "70592    103   1    6     0     5       2           5      3      5        2   \n",
       "70593    858   1    4     4     2       2           3      4      3        8   \n",
       "70594     11   1    4     4     2       2           3      4      3        8   \n",
       "70595      4   1    4     4     2       2           3      4      3        8   \n",
       "\n",
       "       ...  년도_잔고수량  년도_총투자기간      금액변화  매수횟수  고객별_종목업종  고객별_종목_hold  \\\n",
       "0      ...        4         1    8150.0    99        10    17.054015   \n",
       "1      ...        3         1   12250.0    99        10    17.054015   \n",
       "2      ...        3         1   30600.0    99        10    17.054015   \n",
       "3      ...        4         1    1760.0    99        10    17.054015   \n",
       "4      ...        1         1   46350.0    99        10    17.054015   \n",
       "...    ...      ...       ...       ...   ...       ...          ...   \n",
       "70591  ...        0         1  198000.0   162         2    36.974653   \n",
       "70592  ...        2         1    2440.0   162         2    36.974653   \n",
       "70593  ...        4         0     -51.0   162        10    17.054015   \n",
       "70594  ...        2         1  116500.0   162        10    17.054015   \n",
       "70595  ...        2         1  225500.0   162        10    17.054015   \n",
       "\n",
       "       투자성형_자산구간  총투자제곱  주거래업종구분_ME  업종_주종목  \n",
       "0              6     25   19.437957       0  \n",
       "1              6     25   19.437957       0  \n",
       "2              6     25   19.437957       0  \n",
       "3              6     25   19.437957       0  \n",
       "4              6     25   19.437957       0  \n",
       "...          ...    ...         ...     ...  \n",
       "70591          0     25   22.077924       0  \n",
       "70592          0     25   22.077924       0  \n",
       "70593          8      9   19.437957       0  \n",
       "70594          8      9   19.437957       0  \n",
       "70595          8      9   19.437957       0  \n",
       "\n",
       "[70596 rows x 46 columns]"
      ]
     },
     "execution_count": 120,
     "metadata": {},
     "output_type": "execute_result"
    }
   ],
   "source": [
    "test_data_select"
   ]
  },
  {
   "cell_type": "markdown",
   "metadata": {},
   "source": [
    "## Modeling-1\n",
    "- test의 과거보유일로 train 의 과거보유일을 예측하는 모델 만들어서 값 넣는거 가능?"
   ]
  },
  {
   "cell_type": "code",
   "execution_count": 121,
   "metadata": {
    "collapsed": true
   },
   "outputs": [
    {
     "name": "stdout",
     "output_type": "stream",
     "text": [
      "Training until validation scores don't improve for 300 rounds\n",
      "[500]\tvalid_0's rmse: 4.23665\tvalid_0's l2: 17.9492\n",
      "[1000]\tvalid_0's rmse: 4.08469\tvalid_0's l2: 16.6847\n",
      "[1500]\tvalid_0's rmse: 4.03135\tvalid_0's l2: 16.2517\n",
      "[2000]\tvalid_0's rmse: 3.98429\tvalid_0's l2: 15.8745\n",
      "Did not meet early stopping. Best iteration is:\n",
      "[1999]\tvalid_0's rmse: 3.98423\tvalid_0's l2: 15.8741\n",
      "Training until validation scores don't improve for 300 rounds\n",
      "[500]\tvalid_0's rmse: 1.22162\tvalid_0's l2: 1.49236\n",
      "[1000]\tvalid_0's rmse: 0.99383\tvalid_0's l2: 0.987699\n",
      "[1500]\tvalid_0's rmse: 0.97213\tvalid_0's l2: 0.945037\n",
      "[2000]\tvalid_0's rmse: 0.962793\tvalid_0's l2: 0.926971\n",
      "Did not meet early stopping. Best iteration is:\n",
      "[1995]\tvalid_0's rmse: 0.962327\tvalid_0's l2: 0.926072\n",
      "Training until validation scores don't improve for 300 rounds\n",
      "[500]\tvalid_0's rmse: 0.680721\tvalid_0's l2: 0.463381\n",
      "[1000]\tvalid_0's rmse: 0.470222\tvalid_0's l2: 0.221108\n",
      "Early stopping, best iteration is:\n",
      "[1136]\tvalid_0's rmse: 0.469994\tvalid_0's l2: 0.220894\n",
      "Training until validation scores don't improve for 300 rounds\n",
      "[500]\tvalid_0's rmse: 0.570009\tvalid_0's l2: 0.32491\n",
      "[1000]\tvalid_0's rmse: 0.407776\tvalid_0's l2: 0.166281\n",
      "[1500]\tvalid_0's rmse: 0.4071\tvalid_0's l2: 0.16573\n",
      "Early stopping, best iteration is:\n",
      "[1246]\tvalid_0's rmse: 0.406943\tvalid_0's l2: 0.165603\n",
      "Training until validation scores don't improve for 300 rounds\n",
      "[500]\tvalid_0's rmse: 0.538524\tvalid_0's l2: 0.290008\n",
      "[1000]\tvalid_0's rmse: 0.398186\tvalid_0's l2: 0.158552\n",
      "Early stopping, best iteration is:\n",
      "[1130]\tvalid_0's rmse: 0.398065\tvalid_0's l2: 0.158456\n",
      "Training until validation scores don't improve for 300 rounds\n",
      "[500]\tvalid_0's rmse: 0.506435\tvalid_0's l2: 0.256476\n",
      "[1000]\tvalid_0's rmse: 0.393157\tvalid_0's l2: 0.154573\n",
      "Early stopping, best iteration is:\n",
      "[1021]\tvalid_0's rmse: 0.393152\tvalid_0's l2: 0.154569\n",
      "Training until validation scores don't improve for 300 rounds\n",
      "[500]\tvalid_0's rmse: 0.445366\tvalid_0's l2: 0.198351\n",
      "[1000]\tvalid_0's rmse: 0.375207\tvalid_0's l2: 0.14078\n",
      "[1500]\tvalid_0's rmse: 0.375245\tvalid_0's l2: 0.140809\n",
      "Early stopping, best iteration is:\n",
      "[1258]\tvalid_0's rmse: 0.375176\tvalid_0's l2: 0.140757\n",
      "Training until validation scores don't improve for 300 rounds\n",
      "[500]\tvalid_0's rmse: 0.423727\tvalid_0's l2: 0.179545\n",
      "[1000]\tvalid_0's rmse: 0.375161\tvalid_0's l2: 0.140745\n",
      "Early stopping, best iteration is:\n",
      "[1122]\tvalid_0's rmse: 0.375148\tvalid_0's l2: 0.140736\n",
      "Training until validation scores don't improve for 300 rounds\n",
      "[500]\tvalid_0's rmse: 0.407156\tvalid_0's l2: 0.165776\n",
      "[1000]\tvalid_0's rmse: 0.377791\tvalid_0's l2: 0.142726\n",
      "[1500]\tvalid_0's rmse: 0.377755\tvalid_0's l2: 0.142699\n",
      "[2000]\tvalid_0's rmse: 0.377749\tvalid_0's l2: 0.142694\n",
      "Did not meet early stopping. Best iteration is:\n",
      "[1988]\tvalid_0's rmse: 0.377749\tvalid_0's l2: 0.142694\n",
      "Training until validation scores don't improve for 300 rounds\n",
      "[500]\tvalid_0's rmse: 0.633253\tvalid_0's l2: 0.401009\n",
      "Early stopping, best iteration is:\n",
      "[552]\tvalid_0's rmse: 0.626334\tvalid_0's l2: 0.392294\n"
     ]
    }
   ],
   "source": [
    "models = []\n",
    "\n",
    "folds = KFold(n_splits=10)\n",
    "for train_idx, val_idx in folds.split(train_data_scaled):\n",
    "    \n",
    "    train_x = train_data_scaled.iloc[train_idx, :]\n",
    "    train_y = train_label[train_idx]\n",
    "    val_x = train_data_scaled.iloc[val_idx, :]\n",
    "    val_y = train_label[val_idx]\n",
    "    \n",
    "    model = LGBMRegressor(objective= \"regression\",\n",
    "                          max_depth= 5,\n",
    "                          n_estimators= 2000,\n",
    "                          learning_rate= 0.01,\n",
    "                          num_leaves = 31)\n",
    "    \n",
    "    model.fit(train_x, train_y,\n",
    "              eval_set=[(val_x, val_y)],\n",
    "              eval_metric=[\"rmse\"],\n",
    "              early_stopping_rounds=300,\n",
    "              verbose=500)\n",
    "    \n",
    "    models.append(model)"
   ]
  },
  {
   "cell_type": "code",
   "execution_count": 122,
   "metadata": {},
   "outputs": [],
   "source": [
    "result = []\n",
    "for i in models:\n",
    "    result.append(i.predict(test_data_scaled))\n",
    "predict = np.mean(result, axis = 0)"
   ]
  },
  {
   "cell_type": "code",
   "execution_count": 123,
   "metadata": {},
   "outputs": [],
   "source": [
    "submission[\"hold_d\"] = np.round(predict)"
   ]
  },
  {
   "cell_type": "code",
   "execution_count": 125,
   "metadata": {},
   "outputs": [],
   "source": [
    "submission.to_csv(\"dacon_baseline.csv\", index = False)"
   ]
  },
  {
   "cell_type": "markdown",
   "metadata": {},
   "source": [
    "---"
   ]
  },
  {
   "cell_type": "markdown",
   "metadata": {},
   "source": [
    "## Modeling"
   ]
  },
  {
   "cell_type": "code",
   "execution_count": 209,
   "metadata": {
    "collapsed": true
   },
   "outputs": [
    {
     "name": "stdout",
     "output_type": "stream",
     "text": [
      "Training until validation scores don't improve for 300 rounds\n",
      "[500]\tvalid_0's rmse: 4.23773\tvalid_0's l2: 17.9583\n",
      "[1000]\tvalid_0's rmse: 4.08812\tvalid_0's l2: 16.7127\n",
      "[1500]\tvalid_0's rmse: 4.03805\tvalid_0's l2: 16.3058\n",
      "[2000]\tvalid_0's rmse: 3.99292\tvalid_0's l2: 15.9434\n",
      "Did not meet early stopping. Best iteration is:\n",
      "[2000]\tvalid_0's rmse: 3.99292\tvalid_0's l2: 15.9434\n",
      "Training until validation scores don't improve for 300 rounds\n",
      "[500]\tvalid_0's rmse: 1.21832\tvalid_0's l2: 1.4843\n",
      "[1000]\tvalid_0's rmse: 0.995689\tvalid_0's l2: 0.991397\n",
      "Early stopping, best iteration is:\n",
      "[835]\tvalid_0's rmse: 0.9818\tvalid_0's l2: 0.963931\n",
      "Training until validation scores don't improve for 300 rounds\n",
      "[500]\tvalid_0's rmse: 0.68334\tvalid_0's l2: 0.466954\n",
      "[1000]\tvalid_0's rmse: 0.467854\tvalid_0's l2: 0.218888\n",
      "Early stopping, best iteration is:\n",
      "[1082]\tvalid_0's rmse: 0.467634\tvalid_0's l2: 0.218682\n",
      "Training until validation scores don't improve for 300 rounds\n",
      "[500]\tvalid_0's rmse: 0.572023\tvalid_0's l2: 0.32721\n",
      "[1000]\tvalid_0's rmse: 0.407406\tvalid_0's l2: 0.165979\n",
      "Early stopping, best iteration is:\n",
      "[1052]\tvalid_0's rmse: 0.407319\tvalid_0's l2: 0.165909\n",
      "Training until validation scores don't improve for 300 rounds\n",
      "[500]\tvalid_0's rmse: 0.54045\tvalid_0's l2: 0.292086\n",
      "[1000]\tvalid_0's rmse: 0.401196\tvalid_0's l2: 0.160958\n",
      "Early stopping, best iteration is:\n",
      "[895]\tvalid_0's rmse: 0.401105\tvalid_0's l2: 0.160885\n",
      "Training until validation scores don't improve for 300 rounds\n",
      "[500]\tvalid_0's rmse: 0.508157\tvalid_0's l2: 0.258223\n",
      "[1000]\tvalid_0's rmse: 0.394992\tvalid_0's l2: 0.156018\n",
      "Early stopping, best iteration is:\n",
      "[968]\tvalid_0's rmse: 0.394965\tvalid_0's l2: 0.155997\n",
      "Training until validation scores don't improve for 300 rounds\n",
      "[500]\tvalid_0's rmse: 0.447557\tvalid_0's l2: 0.200307\n",
      "[1000]\tvalid_0's rmse: 0.377848\tvalid_0's l2: 0.142769\n",
      "[1500]\tvalid_0's rmse: 0.377821\tvalid_0's l2: 0.142749\n",
      "Early stopping, best iteration is:\n",
      "[1396]\tvalid_0's rmse: 0.377802\tvalid_0's l2: 0.142734\n",
      "Training until validation scores don't improve for 300 rounds\n",
      "[500]\tvalid_0's rmse: 0.42644\tvalid_0's l2: 0.181851\n",
      "[1000]\tvalid_0's rmse: 0.378188\tvalid_0's l2: 0.143026\n",
      "Early stopping, best iteration is:\n",
      "[840]\tvalid_0's rmse: 0.377852\tvalid_0's l2: 0.142772\n",
      "Training until validation scores don't improve for 300 rounds\n",
      "[500]\tvalid_0's rmse: 0.409891\tvalid_0's l2: 0.168011\n",
      "[1000]\tvalid_0's rmse: 0.380157\tvalid_0's l2: 0.144519\n",
      "[1500]\tvalid_0's rmse: 0.380135\tvalid_0's l2: 0.144502\n",
      "Early stopping, best iteration is:\n",
      "[1447]\tvalid_0's rmse: 0.380134\tvalid_0's l2: 0.144502\n",
      "Training until validation scores don't improve for 300 rounds\n",
      "[500]\tvalid_0's rmse: 0.628563\tvalid_0's l2: 0.395092\n",
      "Early stopping, best iteration is:\n",
      "[521]\tvalid_0's rmse: 0.625915\tvalid_0's l2: 0.391769\n"
     ]
    }
   ],
   "source": [
    "models = []\n",
    "\n",
    "folds = KFold(n_splits=10)\n",
    "for train_idx, val_idx in folds.split(train_data_scaled):\n",
    "    \n",
    "    train_x = train_data_scaled.iloc[train_idx, :]\n",
    "    train_y = train_label[train_idx]\n",
    "    val_x = train_data_scaled.iloc[val_idx, :]\n",
    "    val_y = train_label[val_idx]\n",
    "    \n",
    "    model = LGBMRegressor(objective= \"regression\",\n",
    "                          max_depth= 5,\n",
    "                          n_estimators= 2000,\n",
    "                          learning_rate= 0.01,\n",
    "                          num_leaves = 31)\n",
    "    \n",
    "    model.fit(train_x, train_y,\n",
    "              eval_set=[(val_x, val_y)],\n",
    "              eval_metric=[\"rmse\"],\n",
    "              early_stopping_rounds=300,\n",
    "              verbose=500)\n",
    "    \n",
    "    models.append(model)"
   ]
  },
  {
   "cell_type": "code",
   "execution_count": 210,
   "metadata": {},
   "outputs": [
    {
     "data": {
      "text/html": [
       "        <script type=\"text/javascript\">\n",
       "        window.PlotlyConfig = {MathJaxConfig: 'local'};\n",
       "        if (window.MathJax) {MathJax.Hub.Config({SVG: {font: \"STIX-Web\"}});}\n",
       "        if (typeof require !== 'undefined') {\n",
       "        require.undef(\"plotly\");\n",
       "        requirejs.config({\n",
       "            paths: {\n",
       "                'plotly': ['https://cdn.plot.ly/plotly-latest.min']\n",
       "            }\n",
       "        });\n",
       "        require(['plotly'], function(Plotly) {\n",
       "            window._Plotly = Plotly;\n",
       "        });\n",
       "        }\n",
       "        </script>\n",
       "        "
      ]
     },
     "metadata": {},
     "output_type": "display_data"
    },
    {
     "data": {
      "text/html": [
       "<div>                            <div id=\"5b8db354-7e0c-4545-ab0f-b519df4523d8\" class=\"plotly-graph-div\" style=\"height:525px; width:100%;\"></div>            <script type=\"text/javascript\">                require([\"plotly\"], function(Plotly) {                    window.PLOTLYENV=window.PLOTLYENV || {};                                    if (document.getElementById(\"5b8db354-7e0c-4545-ab0f-b519df4523d8\")) {                    Plotly.newPlot(                        \"5b8db354-7e0c-4545-ab0f-b519df4523d8\",                        [{\"alignmentgroup\": \"True\", \"hovertemplate\": \"variable=0<br>index=%{x}<br>value=%{y}<extra></extra>\", \"legendgroup\": \"0\", \"marker\": {\"color\": \"#636efa\"}, \"name\": \"0\", \"offsetgroup\": \"0\", \"orientation\": \"v\", \"showlegend\": true, \"textposition\": \"auto\", \"type\": \"bar\", \"x\": [\"\\uacfc\\uac70\\ubcf4\\uc720\\uc77c\", \"\\uc131\\ubcc4\", \"\\uc5f0\\ub839\\ub300\", \"\\ud22c\\uc790\\uc131\\ud5a5\", \"\\uc790\\uc0b0\\uad6c\\uac04\", \"\\uc8fc\\uac70\\ub798\\uc0c1\\ud488\\uad70\", \"Life_style\", \"\\uc11c\\ube44\\uc2a4\\ub4f1\\uae09\", \"\\ucd1d\\ud22c\\uc790\\uae30\\uac04\", \"\\uc8fc\\uac70\\ub798\\uc5c5\\uc885\\uad6c\\ubd84\", \"\\uc885\\ubaa9\\ud55c\\uae00\\uba85\", \"\\uc885\\ubaa9\\uc5c5\\uc885\", \"\\uc2dc\\uac00\\ucd1d\\uc561\\uaddc\\ubaa8\\uc720\\ud615\", \"\\uc2dc\\uc7a5\\uad6c\\ubd84\", \"\\ub144\", \"\\uc6d4\", \"\\uc77c\", \"\\uc694\\uc77c\", \"\\uc794\\uace0\\uc218\\ub7c9\", \"\\uc794\\uace0\\uae08\\uc561\", \"\\uc8fc\\ub2f9\\uc561\\uba74\\uac00\", \"\\ud3c9\\uade0\\uc794\\uace0\\uae08\\uc561\", \"\\uc561\\uba74\\uac00_\\ubcc0\\ub3d9\\ud3ed\", \"\\uc561\\uba74\\uac00_\\ubcc0\\ub3d9\\uc218\", \"\\uc794\\uace0\\uc218\\ub7c9_\\ud3b8\\ucc28\", \"\\uc794\\uace0\\uc218\\ub7c9_\\ucd5c\\ub300\", \"\\uc794\\uace0\\uc218\\ub7c9_\\ucd5c\\uc18c\", \"\\ub144_\\uc794\\uace0\\uc218\\ub7c9_\\ud3b8\\ucc28\", \"\\ub144_\\uc794\\uace0\\uc218\\ub7c9_\\ucd5c\\ub300\", \"\\ub144_\\uc794\\uace0\\uc218\\ub7c9_\\ucd5c\\uc18c\", \"\\uc794\\uace0\\uae08\\uc561_\\ud3c9\\uade0\", \"\\uc794\\uace0\\uae08\\uc561_\\uadf9\\uac12\", \"\\uc794\\uace0\\uae08\\uc561_\\ubcc0\\ub3d9\", \"\\uc885\\ubaa9_\\uac70\\ub798\\ud69f\\uc218\", \"\\uc218\\ub7c9_\\ucd5c\\ub300\", \"\\uc218\\ub7c9_\\ud3b8\\ucc28\", \"\\ub144\\ub3c4_\\uc794\\uace0\\uc218\\ub7c9\", \"\\ub144\\ub3c4_\\ucd1d\\ud22c\\uc790\\uae30\\uac04\", \"\\uae08\\uc561\\ubcc0\\ud654\", \"\\ub9e4\\uc218\\ud69f\\uc218\", \"\\uace0\\uac1d\\ubcc4_\\uc885\\ubaa9\\uc5c5\\uc885\", \"\\uace0\\uac1d\\ubcc4_\\uc885\\ubaa9_hold\", \"\\ud22c\\uc790\\uc131\\ud615_\\uc790\\uc0b0\\uad6c\\uac04\", \"\\ucd1d\\ud22c\\uc790\\uc81c\\uacf1\", \"\\uc8fc\\uac70\\ub798\\uc5c5\\uc885\\uad6c\\ubd84_ME\", \"\\uc5c5\\uc885_\\uc8fc\\uc885\\ubaa9\"], \"xaxis\": \"x\", \"y\": [14803, 0, 0, 0, 0, 0, 0, 17, 9, 0, 5, 44, 0, 0, 205, 57, 6, 35, 0, 41, 6, 3, 0, 0, 8, 9, 0, 22, 17, 0, 0, 14, 2, 201, 3, 6, 0, 0, 1, 89, 0, 0, 3, 0, 0, 0], \"yaxis\": \"y\"}],                        {\"barmode\": \"relative\", \"legend\": {\"title\": {\"text\": \"variable\"}, \"tracegroupgap\": 0}, \"margin\": {\"t\": 60}, \"template\": {\"data\": {\"bar\": [{\"error_x\": {\"color\": \"#2a3f5f\"}, \"error_y\": {\"color\": \"#2a3f5f\"}, \"marker\": {\"line\": {\"color\": \"#E5ECF6\", \"width\": 0.5}}, \"type\": \"bar\"}], \"barpolar\": [{\"marker\": {\"line\": {\"color\": \"#E5ECF6\", \"width\": 0.5}}, \"type\": \"barpolar\"}], \"carpet\": [{\"aaxis\": {\"endlinecolor\": \"#2a3f5f\", \"gridcolor\": \"white\", \"linecolor\": \"white\", \"minorgridcolor\": \"white\", \"startlinecolor\": \"#2a3f5f\"}, \"baxis\": {\"endlinecolor\": \"#2a3f5f\", \"gridcolor\": \"white\", \"linecolor\": \"white\", \"minorgridcolor\": \"white\", \"startlinecolor\": \"#2a3f5f\"}, \"type\": \"carpet\"}], \"choropleth\": [{\"colorbar\": {\"outlinewidth\": 0, \"ticks\": \"\"}, \"type\": \"choropleth\"}], \"contour\": [{\"colorbar\": {\"outlinewidth\": 0, \"ticks\": \"\"}, \"colorscale\": [[0.0, \"#0d0887\"], [0.1111111111111111, \"#46039f\"], [0.2222222222222222, \"#7201a8\"], [0.3333333333333333, \"#9c179e\"], [0.4444444444444444, \"#bd3786\"], [0.5555555555555556, \"#d8576b\"], [0.6666666666666666, \"#ed7953\"], [0.7777777777777778, \"#fb9f3a\"], [0.8888888888888888, \"#fdca26\"], [1.0, \"#f0f921\"]], \"type\": \"contour\"}], \"contourcarpet\": [{\"colorbar\": {\"outlinewidth\": 0, \"ticks\": \"\"}, \"type\": \"contourcarpet\"}], \"heatmap\": [{\"colorbar\": {\"outlinewidth\": 0, \"ticks\": \"\"}, \"colorscale\": [[0.0, \"#0d0887\"], [0.1111111111111111, \"#46039f\"], [0.2222222222222222, \"#7201a8\"], [0.3333333333333333, \"#9c179e\"], [0.4444444444444444, \"#bd3786\"], [0.5555555555555556, \"#d8576b\"], [0.6666666666666666, \"#ed7953\"], [0.7777777777777778, \"#fb9f3a\"], [0.8888888888888888, \"#fdca26\"], [1.0, \"#f0f921\"]], \"type\": \"heatmap\"}], \"heatmapgl\": [{\"colorbar\": {\"outlinewidth\": 0, \"ticks\": \"\"}, \"colorscale\": [[0.0, \"#0d0887\"], [0.1111111111111111, \"#46039f\"], [0.2222222222222222, \"#7201a8\"], [0.3333333333333333, \"#9c179e\"], [0.4444444444444444, \"#bd3786\"], [0.5555555555555556, \"#d8576b\"], [0.6666666666666666, \"#ed7953\"], [0.7777777777777778, \"#fb9f3a\"], [0.8888888888888888, \"#fdca26\"], [1.0, \"#f0f921\"]], \"type\": \"heatmapgl\"}], \"histogram\": [{\"marker\": {\"colorbar\": {\"outlinewidth\": 0, \"ticks\": \"\"}}, \"type\": \"histogram\"}], \"histogram2d\": [{\"colorbar\": {\"outlinewidth\": 0, \"ticks\": \"\"}, \"colorscale\": [[0.0, \"#0d0887\"], [0.1111111111111111, \"#46039f\"], [0.2222222222222222, \"#7201a8\"], [0.3333333333333333, \"#9c179e\"], [0.4444444444444444, \"#bd3786\"], [0.5555555555555556, \"#d8576b\"], [0.6666666666666666, \"#ed7953\"], [0.7777777777777778, \"#fb9f3a\"], [0.8888888888888888, \"#fdca26\"], [1.0, \"#f0f921\"]], \"type\": \"histogram2d\"}], \"histogram2dcontour\": [{\"colorbar\": {\"outlinewidth\": 0, \"ticks\": \"\"}, \"colorscale\": [[0.0, \"#0d0887\"], [0.1111111111111111, \"#46039f\"], [0.2222222222222222, \"#7201a8\"], [0.3333333333333333, \"#9c179e\"], [0.4444444444444444, \"#bd3786\"], [0.5555555555555556, \"#d8576b\"], [0.6666666666666666, \"#ed7953\"], [0.7777777777777778, \"#fb9f3a\"], [0.8888888888888888, \"#fdca26\"], [1.0, \"#f0f921\"]], \"type\": \"histogram2dcontour\"}], \"mesh3d\": [{\"colorbar\": {\"outlinewidth\": 0, \"ticks\": \"\"}, \"type\": \"mesh3d\"}], \"parcoords\": [{\"line\": {\"colorbar\": {\"outlinewidth\": 0, \"ticks\": \"\"}}, \"type\": \"parcoords\"}], \"pie\": [{\"automargin\": true, \"type\": \"pie\"}], \"scatter\": [{\"marker\": {\"colorbar\": {\"outlinewidth\": 0, \"ticks\": \"\"}}, \"type\": \"scatter\"}], \"scatter3d\": [{\"line\": {\"colorbar\": {\"outlinewidth\": 0, \"ticks\": \"\"}}, \"marker\": {\"colorbar\": {\"outlinewidth\": 0, \"ticks\": \"\"}}, \"type\": \"scatter3d\"}], \"scattercarpet\": [{\"marker\": {\"colorbar\": {\"outlinewidth\": 0, \"ticks\": \"\"}}, \"type\": \"scattercarpet\"}], \"scattergeo\": [{\"marker\": {\"colorbar\": {\"outlinewidth\": 0, \"ticks\": \"\"}}, \"type\": \"scattergeo\"}], \"scattergl\": [{\"marker\": {\"colorbar\": {\"outlinewidth\": 0, \"ticks\": \"\"}}, \"type\": \"scattergl\"}], \"scattermapbox\": [{\"marker\": {\"colorbar\": {\"outlinewidth\": 0, \"ticks\": \"\"}}, \"type\": \"scattermapbox\"}], \"scatterpolar\": [{\"marker\": {\"colorbar\": {\"outlinewidth\": 0, \"ticks\": \"\"}}, \"type\": \"scatterpolar\"}], \"scatterpolargl\": [{\"marker\": {\"colorbar\": {\"outlinewidth\": 0, \"ticks\": \"\"}}, \"type\": \"scatterpolargl\"}], \"scatterternary\": [{\"marker\": {\"colorbar\": {\"outlinewidth\": 0, \"ticks\": \"\"}}, \"type\": \"scatterternary\"}], \"surface\": [{\"colorbar\": {\"outlinewidth\": 0, \"ticks\": \"\"}, \"colorscale\": [[0.0, \"#0d0887\"], [0.1111111111111111, \"#46039f\"], [0.2222222222222222, \"#7201a8\"], [0.3333333333333333, \"#9c179e\"], [0.4444444444444444, \"#bd3786\"], [0.5555555555555556, \"#d8576b\"], [0.6666666666666666, \"#ed7953\"], [0.7777777777777778, \"#fb9f3a\"], [0.8888888888888888, \"#fdca26\"], [1.0, \"#f0f921\"]], \"type\": \"surface\"}], \"table\": [{\"cells\": {\"fill\": {\"color\": \"#EBF0F8\"}, \"line\": {\"color\": \"white\"}}, \"header\": {\"fill\": {\"color\": \"#C8D4E3\"}, \"line\": {\"color\": \"white\"}}, \"type\": \"table\"}]}, \"layout\": {\"annotationdefaults\": {\"arrowcolor\": \"#2a3f5f\", \"arrowhead\": 0, \"arrowwidth\": 1}, \"autotypenumbers\": \"strict\", \"coloraxis\": {\"colorbar\": {\"outlinewidth\": 0, \"ticks\": \"\"}}, \"colorscale\": {\"diverging\": [[0, \"#8e0152\"], [0.1, \"#c51b7d\"], [0.2, \"#de77ae\"], [0.3, \"#f1b6da\"], [0.4, \"#fde0ef\"], [0.5, \"#f7f7f7\"], [0.6, \"#e6f5d0\"], [0.7, \"#b8e186\"], [0.8, \"#7fbc41\"], [0.9, \"#4d9221\"], [1, \"#276419\"]], \"sequential\": [[0.0, \"#0d0887\"], [0.1111111111111111, \"#46039f\"], [0.2222222222222222, \"#7201a8\"], [0.3333333333333333, \"#9c179e\"], [0.4444444444444444, \"#bd3786\"], [0.5555555555555556, \"#d8576b\"], [0.6666666666666666, \"#ed7953\"], [0.7777777777777778, \"#fb9f3a\"], [0.8888888888888888, \"#fdca26\"], [1.0, \"#f0f921\"]], \"sequentialminus\": [[0.0, \"#0d0887\"], [0.1111111111111111, \"#46039f\"], [0.2222222222222222, \"#7201a8\"], [0.3333333333333333, \"#9c179e\"], [0.4444444444444444, \"#bd3786\"], [0.5555555555555556, \"#d8576b\"], [0.6666666666666666, \"#ed7953\"], [0.7777777777777778, \"#fb9f3a\"], [0.8888888888888888, \"#fdca26\"], [1.0, \"#f0f921\"]]}, \"colorway\": [\"#636efa\", \"#EF553B\", \"#00cc96\", \"#ab63fa\", \"#FFA15A\", \"#19d3f3\", \"#FF6692\", \"#B6E880\", \"#FF97FF\", \"#FECB52\"], \"font\": {\"color\": \"#2a3f5f\"}, \"geo\": {\"bgcolor\": \"white\", \"lakecolor\": \"white\", \"landcolor\": \"#E5ECF6\", \"showlakes\": true, \"showland\": true, \"subunitcolor\": \"white\"}, \"hoverlabel\": {\"align\": \"left\"}, \"hovermode\": \"closest\", \"mapbox\": {\"style\": \"light\"}, \"paper_bgcolor\": \"white\", \"plot_bgcolor\": \"#E5ECF6\", \"polar\": {\"angularaxis\": {\"gridcolor\": \"white\", \"linecolor\": \"white\", \"ticks\": \"\"}, \"bgcolor\": \"#E5ECF6\", \"radialaxis\": {\"gridcolor\": \"white\", \"linecolor\": \"white\", \"ticks\": \"\"}}, \"scene\": {\"xaxis\": {\"backgroundcolor\": \"#E5ECF6\", \"gridcolor\": \"white\", \"gridwidth\": 2, \"linecolor\": \"white\", \"showbackground\": true, \"ticks\": \"\", \"zerolinecolor\": \"white\"}, \"yaxis\": {\"backgroundcolor\": \"#E5ECF6\", \"gridcolor\": \"white\", \"gridwidth\": 2, \"linecolor\": \"white\", \"showbackground\": true, \"ticks\": \"\", \"zerolinecolor\": \"white\"}, \"zaxis\": {\"backgroundcolor\": \"#E5ECF6\", \"gridcolor\": \"white\", \"gridwidth\": 2, \"linecolor\": \"white\", \"showbackground\": true, \"ticks\": \"\", \"zerolinecolor\": \"white\"}}, \"shapedefaults\": {\"line\": {\"color\": \"#2a3f5f\"}}, \"ternary\": {\"aaxis\": {\"gridcolor\": \"white\", \"linecolor\": \"white\", \"ticks\": \"\"}, \"baxis\": {\"gridcolor\": \"white\", \"linecolor\": \"white\", \"ticks\": \"\"}, \"bgcolor\": \"#E5ECF6\", \"caxis\": {\"gridcolor\": \"white\", \"linecolor\": \"white\", \"ticks\": \"\"}}, \"title\": {\"x\": 0.05}, \"xaxis\": {\"automargin\": true, \"gridcolor\": \"white\", \"linecolor\": \"white\", \"ticks\": \"\", \"title\": {\"standoff\": 15}, \"zerolinecolor\": \"white\", \"zerolinewidth\": 2}, \"yaxis\": {\"automargin\": true, \"gridcolor\": \"white\", \"linecolor\": \"white\", \"ticks\": \"\", \"title\": {\"standoff\": 15}, \"zerolinecolor\": \"white\", \"zerolinewidth\": 2}}}, \"xaxis\": {\"anchor\": \"y\", \"domain\": [0.0, 1.0], \"title\": {\"text\": \"index\"}}, \"yaxis\": {\"anchor\": \"x\", \"domain\": [0.0, 1.0], \"title\": {\"text\": \"value\"}}},                        {\"responsive\": true}                    ).then(function(){\n",
       "                            \n",
       "var gd = document.getElementById('5b8db354-7e0c-4545-ab0f-b519df4523d8');\n",
       "var x = new MutationObserver(function (mutations, observer) {{\n",
       "        var display = window.getComputedStyle(gd).display;\n",
       "        if (!display || display === 'none') {{\n",
       "            console.log([gd, 'removed!']);\n",
       "            Plotly.purge(gd);\n",
       "            observer.disconnect();\n",
       "        }}\n",
       "}});\n",
       "\n",
       "// Listen for the removal of the full notebook cells\n",
       "var notebookContainer = gd.closest('#notebook-container');\n",
       "if (notebookContainer) {{\n",
       "    x.observe(notebookContainer, {childList: true});\n",
       "}}\n",
       "\n",
       "// Listen for the clearing of the current output cell\n",
       "var outputEl = gd.closest('.output');\n",
       "if (outputEl) {{\n",
       "    x.observe(outputEl, {childList: true});\n",
       "}}\n",
       "\n",
       "                        })                };                });            </script>        </div>"
      ]
     },
     "metadata": {},
     "output_type": "display_data"
    }
   ],
   "source": [
    "pd.DataFrame(model.feature_importances_,index=train_data_select.columns).plot.bar()"
   ]
  },
  {
   "cell_type": "code",
   "execution_count": 211,
   "metadata": {},
   "outputs": [],
   "source": [
    "result = []\n",
    "for i in models:\n",
    "    result.append(i.predict(test_data_scaled))\n",
    "predict = np.mean(result, axis = 0)"
   ]
  },
  {
   "cell_type": "code",
   "execution_count": 212,
   "metadata": {},
   "outputs": [],
   "source": [
    "submission[\"hold_d\"] = np.round(predict)"
   ]
  },
  {
   "cell_type": "code",
   "execution_count": 213,
   "metadata": {},
   "outputs": [],
   "source": [
    "submission.to_csv(\"dacon_baseline.csv\", index = False)"
   ]
  },
  {
   "cell_type": "code",
   "execution_count": null,
   "metadata": {},
   "outputs": [],
   "source": []
  },
  {
   "cell_type": "code",
   "execution_count": null,
   "metadata": {},
   "outputs": [],
   "source": []
  },
  {
   "cell_type": "code",
   "execution_count": null,
   "metadata": {},
   "outputs": [],
   "source": []
  },
  {
   "cell_type": "code",
   "execution_count": null,
   "metadata": {},
   "outputs": [],
   "source": []
  },
  {
   "cell_type": "code",
   "execution_count": null,
   "metadata": {},
   "outputs": [],
   "source": []
  }
 ],
 "metadata": {
  "kernelspec": {
   "display_name": "Python 3",
   "language": "python",
   "name": "python3"
  },
  "language_info": {
   "codemirror_mode": {
    "name": "ipython",
    "version": 3
   },
   "file_extension": ".py",
   "mimetype": "text/x-python",
   "name": "python",
   "nbconvert_exporter": "python",
   "pygments_lexer": "ipython3",
   "version": "3.8.5"
  }
 },
 "nbformat": 4,
 "nbformat_minor": 4
}
