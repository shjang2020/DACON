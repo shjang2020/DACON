{
 "cells": [
  {
   "cell_type": "code",
   "execution_count": 1,
   "metadata": {},
   "outputs": [],
   "source": [
    "import lightgbm as lgb\n",
    "from matplotlib import pyplot as plt\n",
    "import numpy as np\n",
    "import pandas as pd\n",
    "from pprint import pprint\n",
    "from sklearn.metrics import log_loss\n",
    "from sklearn.model_selection import StratifiedKFold\n",
    "import seaborn as sns\n",
    "from tensorflow import keras\n",
    "import warnings\n",
    "from tqdm import tqdm\n",
    "\n",
    "from sklearn.feature_selection import RFE\n",
    "from sklearn.feature_selection import SelectPercentile"
   ]
  },
  {
   "cell_type": "code",
   "execution_count": 2,
   "metadata": {},
   "outputs": [],
   "source": [
    "plt.style.use('fivethirtyeight')\n",
    "pd.set_option('max_columns', 100)\n",
    "warnings.simplefilter('ignore')"
   ]
  },
  {
   "cell_type": "markdown",
   "metadata": {},
   "source": [
    "### Load Data"
   ]
  },
  {
   "cell_type": "code",
   "execution_count": 3,
   "metadata": {},
   "outputs": [],
   "source": [
    "feature_name = 'ae'\n",
    "algo_name = 'lgb'\n",
    "model_name = f'{algo_name}_{feature_name}'\n",
    "\n",
    "feature_file = f'{feature_name}.csv'\n",
    "predict_val_file = f'{model_name}.val.txt'\n",
    "predict_tst_file = f'{model_name}.tst.txt'\n",
    "submission_file = f'{model_name}.sub.csv'\n",
    "\n",
    "index_col = 'index'\n",
    "target_col = 'credit'"
   ]
  },
  {
   "cell_type": "code",
   "execution_count": 5,
   "metadata": {
    "scrolled": false
   },
   "outputs": [
    {
     "name": "stdout",
     "output_type": "stream",
     "text": [
      "(26457, 19)\n"
     ]
    },
    {
     "data": {
      "text/html": [
       "<div>\n",
       "<style scoped>\n",
       "    .dataframe tbody tr th:only-of-type {\n",
       "        vertical-align: middle;\n",
       "    }\n",
       "\n",
       "    .dataframe tbody tr th {\n",
       "        vertical-align: top;\n",
       "    }\n",
       "\n",
       "    .dataframe thead th {\n",
       "        text-align: right;\n",
       "    }\n",
       "</style>\n",
       "<table border=\"1\" class=\"dataframe\">\n",
       "  <thead>\n",
       "    <tr style=\"text-align: right;\">\n",
       "      <th></th>\n",
       "      <th>gender</th>\n",
       "      <th>car</th>\n",
       "      <th>reality</th>\n",
       "      <th>child_num</th>\n",
       "      <th>income_total</th>\n",
       "      <th>income_type</th>\n",
       "      <th>edu_type</th>\n",
       "      <th>family_type</th>\n",
       "      <th>house_type</th>\n",
       "      <th>DAYS_BIRTH</th>\n",
       "      <th>DAYS_EMPLOYED</th>\n",
       "      <th>FLAG_MOBIL</th>\n",
       "      <th>work_phone</th>\n",
       "      <th>phone</th>\n",
       "      <th>email</th>\n",
       "      <th>occyp_type</th>\n",
       "      <th>family_size</th>\n",
       "      <th>begin_month</th>\n",
       "      <th>credit</th>\n",
       "    </tr>\n",
       "    <tr>\n",
       "      <th>index</th>\n",
       "      <th></th>\n",
       "      <th></th>\n",
       "      <th></th>\n",
       "      <th></th>\n",
       "      <th></th>\n",
       "      <th></th>\n",
       "      <th></th>\n",
       "      <th></th>\n",
       "      <th></th>\n",
       "      <th></th>\n",
       "      <th></th>\n",
       "      <th></th>\n",
       "      <th></th>\n",
       "      <th></th>\n",
       "      <th></th>\n",
       "      <th></th>\n",
       "      <th></th>\n",
       "      <th></th>\n",
       "      <th></th>\n",
       "    </tr>\n",
       "  </thead>\n",
       "  <tbody>\n",
       "    <tr>\n",
       "      <th>0</th>\n",
       "      <td>F</td>\n",
       "      <td>N</td>\n",
       "      <td>N</td>\n",
       "      <td>0</td>\n",
       "      <td>202500.0</td>\n",
       "      <td>Commercial associate</td>\n",
       "      <td>Higher education</td>\n",
       "      <td>Married</td>\n",
       "      <td>Municipal apartment</td>\n",
       "      <td>-13899</td>\n",
       "      <td>-4709</td>\n",
       "      <td>1</td>\n",
       "      <td>0</td>\n",
       "      <td>0</td>\n",
       "      <td>0</td>\n",
       "      <td>NaN</td>\n",
       "      <td>2.0</td>\n",
       "      <td>-6.0</td>\n",
       "      <td>1.0</td>\n",
       "    </tr>\n",
       "    <tr>\n",
       "      <th>1</th>\n",
       "      <td>F</td>\n",
       "      <td>N</td>\n",
       "      <td>Y</td>\n",
       "      <td>1</td>\n",
       "      <td>247500.0</td>\n",
       "      <td>Commercial associate</td>\n",
       "      <td>Secondary / secondary special</td>\n",
       "      <td>Civil marriage</td>\n",
       "      <td>House / apartment</td>\n",
       "      <td>-11380</td>\n",
       "      <td>-1540</td>\n",
       "      <td>1</td>\n",
       "      <td>0</td>\n",
       "      <td>0</td>\n",
       "      <td>1</td>\n",
       "      <td>Laborers</td>\n",
       "      <td>3.0</td>\n",
       "      <td>-5.0</td>\n",
       "      <td>1.0</td>\n",
       "    </tr>\n",
       "    <tr>\n",
       "      <th>2</th>\n",
       "      <td>M</td>\n",
       "      <td>Y</td>\n",
       "      <td>Y</td>\n",
       "      <td>0</td>\n",
       "      <td>450000.0</td>\n",
       "      <td>Working</td>\n",
       "      <td>Higher education</td>\n",
       "      <td>Married</td>\n",
       "      <td>House / apartment</td>\n",
       "      <td>-19087</td>\n",
       "      <td>-4434</td>\n",
       "      <td>1</td>\n",
       "      <td>0</td>\n",
       "      <td>1</td>\n",
       "      <td>0</td>\n",
       "      <td>Managers</td>\n",
       "      <td>2.0</td>\n",
       "      <td>-22.0</td>\n",
       "      <td>2.0</td>\n",
       "    </tr>\n",
       "    <tr>\n",
       "      <th>3</th>\n",
       "      <td>F</td>\n",
       "      <td>N</td>\n",
       "      <td>Y</td>\n",
       "      <td>0</td>\n",
       "      <td>202500.0</td>\n",
       "      <td>Commercial associate</td>\n",
       "      <td>Secondary / secondary special</td>\n",
       "      <td>Married</td>\n",
       "      <td>House / apartment</td>\n",
       "      <td>-15088</td>\n",
       "      <td>-2092</td>\n",
       "      <td>1</td>\n",
       "      <td>0</td>\n",
       "      <td>1</td>\n",
       "      <td>0</td>\n",
       "      <td>Sales staff</td>\n",
       "      <td>2.0</td>\n",
       "      <td>-37.0</td>\n",
       "      <td>0.0</td>\n",
       "    </tr>\n",
       "    <tr>\n",
       "      <th>4</th>\n",
       "      <td>F</td>\n",
       "      <td>Y</td>\n",
       "      <td>Y</td>\n",
       "      <td>0</td>\n",
       "      <td>157500.0</td>\n",
       "      <td>State servant</td>\n",
       "      <td>Higher education</td>\n",
       "      <td>Married</td>\n",
       "      <td>House / apartment</td>\n",
       "      <td>-15037</td>\n",
       "      <td>-2105</td>\n",
       "      <td>1</td>\n",
       "      <td>0</td>\n",
       "      <td>0</td>\n",
       "      <td>0</td>\n",
       "      <td>Managers</td>\n",
       "      <td>2.0</td>\n",
       "      <td>-26.0</td>\n",
       "      <td>2.0</td>\n",
       "    </tr>\n",
       "  </tbody>\n",
       "</table>\n",
       "</div>"
      ],
      "text/plain": [
       "      gender car reality  child_num  income_total           income_type  \\\n",
       "index                                                                     \n",
       "0          F   N       N          0      202500.0  Commercial associate   \n",
       "1          F   N       Y          1      247500.0  Commercial associate   \n",
       "2          M   Y       Y          0      450000.0               Working   \n",
       "3          F   N       Y          0      202500.0  Commercial associate   \n",
       "4          F   Y       Y          0      157500.0         State servant   \n",
       "\n",
       "                            edu_type     family_type           house_type  \\\n",
       "index                                                                       \n",
       "0                   Higher education         Married  Municipal apartment   \n",
       "1      Secondary / secondary special  Civil marriage    House / apartment   \n",
       "2                   Higher education         Married    House / apartment   \n",
       "3      Secondary / secondary special         Married    House / apartment   \n",
       "4                   Higher education         Married    House / apartment   \n",
       "\n",
       "       DAYS_BIRTH  DAYS_EMPLOYED  FLAG_MOBIL  work_phone  phone  email  \\\n",
       "index                                                                    \n",
       "0          -13899          -4709           1           0      0      0   \n",
       "1          -11380          -1540           1           0      0      1   \n",
       "2          -19087          -4434           1           0      1      0   \n",
       "3          -15088          -2092           1           0      1      0   \n",
       "4          -15037          -2105           1           0      0      0   \n",
       "\n",
       "        occyp_type  family_size  begin_month  credit  \n",
       "index                                                 \n",
       "0              NaN          2.0         -6.0     1.0  \n",
       "1         Laborers          3.0         -5.0     1.0  \n",
       "2         Managers          2.0        -22.0     2.0  \n",
       "3      Sales staff          2.0        -37.0     0.0  \n",
       "4         Managers          2.0        -26.0     2.0  "
      ]
     },
     "execution_count": 5,
     "metadata": {},
     "output_type": "execute_result"
    }
   ],
   "source": [
    "trn = pd.read_csv('./train.csv', index_col=index_col)\n",
    "print(trn.shape)\n",
    "trn.head()"
   ]
  },
  {
   "cell_type": "code",
   "execution_count": 6,
   "metadata": {
    "scrolled": false
   },
   "outputs": [
    {
     "name": "stdout",
     "output_type": "stream",
     "text": [
      "(10000, 18)\n"
     ]
    },
    {
     "data": {
      "text/html": [
       "<div>\n",
       "<style scoped>\n",
       "    .dataframe tbody tr th:only-of-type {\n",
       "        vertical-align: middle;\n",
       "    }\n",
       "\n",
       "    .dataframe tbody tr th {\n",
       "        vertical-align: top;\n",
       "    }\n",
       "\n",
       "    .dataframe thead th {\n",
       "        text-align: right;\n",
       "    }\n",
       "</style>\n",
       "<table border=\"1\" class=\"dataframe\">\n",
       "  <thead>\n",
       "    <tr style=\"text-align: right;\">\n",
       "      <th></th>\n",
       "      <th>gender</th>\n",
       "      <th>car</th>\n",
       "      <th>reality</th>\n",
       "      <th>child_num</th>\n",
       "      <th>income_total</th>\n",
       "      <th>income_type</th>\n",
       "      <th>edu_type</th>\n",
       "      <th>family_type</th>\n",
       "      <th>house_type</th>\n",
       "      <th>DAYS_BIRTH</th>\n",
       "      <th>DAYS_EMPLOYED</th>\n",
       "      <th>FLAG_MOBIL</th>\n",
       "      <th>work_phone</th>\n",
       "      <th>phone</th>\n",
       "      <th>email</th>\n",
       "      <th>occyp_type</th>\n",
       "      <th>family_size</th>\n",
       "      <th>begin_month</th>\n",
       "    </tr>\n",
       "    <tr>\n",
       "      <th>index</th>\n",
       "      <th></th>\n",
       "      <th></th>\n",
       "      <th></th>\n",
       "      <th></th>\n",
       "      <th></th>\n",
       "      <th></th>\n",
       "      <th></th>\n",
       "      <th></th>\n",
       "      <th></th>\n",
       "      <th></th>\n",
       "      <th></th>\n",
       "      <th></th>\n",
       "      <th></th>\n",
       "      <th></th>\n",
       "      <th></th>\n",
       "      <th></th>\n",
       "      <th></th>\n",
       "      <th></th>\n",
       "    </tr>\n",
       "  </thead>\n",
       "  <tbody>\n",
       "    <tr>\n",
       "      <th>26457</th>\n",
       "      <td>M</td>\n",
       "      <td>Y</td>\n",
       "      <td>N</td>\n",
       "      <td>0</td>\n",
       "      <td>112500.0</td>\n",
       "      <td>Pensioner</td>\n",
       "      <td>Secondary / secondary special</td>\n",
       "      <td>Civil marriage</td>\n",
       "      <td>House / apartment</td>\n",
       "      <td>-21990</td>\n",
       "      <td>365243</td>\n",
       "      <td>1</td>\n",
       "      <td>0</td>\n",
       "      <td>1</td>\n",
       "      <td>0</td>\n",
       "      <td>NaN</td>\n",
       "      <td>2.0</td>\n",
       "      <td>-60.0</td>\n",
       "    </tr>\n",
       "    <tr>\n",
       "      <th>26458</th>\n",
       "      <td>F</td>\n",
       "      <td>N</td>\n",
       "      <td>Y</td>\n",
       "      <td>0</td>\n",
       "      <td>135000.0</td>\n",
       "      <td>State servant</td>\n",
       "      <td>Higher education</td>\n",
       "      <td>Married</td>\n",
       "      <td>House / apartment</td>\n",
       "      <td>-18964</td>\n",
       "      <td>-8671</td>\n",
       "      <td>1</td>\n",
       "      <td>0</td>\n",
       "      <td>1</td>\n",
       "      <td>0</td>\n",
       "      <td>Core staff</td>\n",
       "      <td>2.0</td>\n",
       "      <td>-36.0</td>\n",
       "    </tr>\n",
       "    <tr>\n",
       "      <th>26459</th>\n",
       "      <td>F</td>\n",
       "      <td>N</td>\n",
       "      <td>Y</td>\n",
       "      <td>0</td>\n",
       "      <td>69372.0</td>\n",
       "      <td>Working</td>\n",
       "      <td>Secondary / secondary special</td>\n",
       "      <td>Married</td>\n",
       "      <td>House / apartment</td>\n",
       "      <td>-15887</td>\n",
       "      <td>-217</td>\n",
       "      <td>1</td>\n",
       "      <td>1</td>\n",
       "      <td>1</td>\n",
       "      <td>0</td>\n",
       "      <td>Laborers</td>\n",
       "      <td>2.0</td>\n",
       "      <td>-40.0</td>\n",
       "    </tr>\n",
       "    <tr>\n",
       "      <th>26460</th>\n",
       "      <td>M</td>\n",
       "      <td>Y</td>\n",
       "      <td>N</td>\n",
       "      <td>0</td>\n",
       "      <td>112500.0</td>\n",
       "      <td>Commercial associate</td>\n",
       "      <td>Secondary / secondary special</td>\n",
       "      <td>Married</td>\n",
       "      <td>House / apartment</td>\n",
       "      <td>-19270</td>\n",
       "      <td>-2531</td>\n",
       "      <td>1</td>\n",
       "      <td>1</td>\n",
       "      <td>0</td>\n",
       "      <td>0</td>\n",
       "      <td>Drivers</td>\n",
       "      <td>2.0</td>\n",
       "      <td>-41.0</td>\n",
       "    </tr>\n",
       "    <tr>\n",
       "      <th>26461</th>\n",
       "      <td>F</td>\n",
       "      <td>Y</td>\n",
       "      <td>Y</td>\n",
       "      <td>0</td>\n",
       "      <td>225000.0</td>\n",
       "      <td>State servant</td>\n",
       "      <td>Higher education</td>\n",
       "      <td>Married</td>\n",
       "      <td>House / apartment</td>\n",
       "      <td>-17822</td>\n",
       "      <td>-9385</td>\n",
       "      <td>1</td>\n",
       "      <td>1</td>\n",
       "      <td>0</td>\n",
       "      <td>0</td>\n",
       "      <td>Managers</td>\n",
       "      <td>2.0</td>\n",
       "      <td>-8.0</td>\n",
       "    </tr>\n",
       "  </tbody>\n",
       "</table>\n",
       "</div>"
      ],
      "text/plain": [
       "      gender car reality  child_num  income_total           income_type  \\\n",
       "index                                                                     \n",
       "26457      M   Y       N          0      112500.0             Pensioner   \n",
       "26458      F   N       Y          0      135000.0         State servant   \n",
       "26459      F   N       Y          0       69372.0               Working   \n",
       "26460      M   Y       N          0      112500.0  Commercial associate   \n",
       "26461      F   Y       Y          0      225000.0         State servant   \n",
       "\n",
       "                            edu_type     family_type         house_type  \\\n",
       "index                                                                     \n",
       "26457  Secondary / secondary special  Civil marriage  House / apartment   \n",
       "26458               Higher education         Married  House / apartment   \n",
       "26459  Secondary / secondary special         Married  House / apartment   \n",
       "26460  Secondary / secondary special         Married  House / apartment   \n",
       "26461               Higher education         Married  House / apartment   \n",
       "\n",
       "       DAYS_BIRTH  DAYS_EMPLOYED  FLAG_MOBIL  work_phone  phone  email  \\\n",
       "index                                                                    \n",
       "26457      -21990         365243           1           0      1      0   \n",
       "26458      -18964          -8671           1           0      1      0   \n",
       "26459      -15887           -217           1           1      1      0   \n",
       "26460      -19270          -2531           1           1      0      0   \n",
       "26461      -17822          -9385           1           1      0      0   \n",
       "\n",
       "       occyp_type  family_size  begin_month  \n",
       "index                                        \n",
       "26457         NaN          2.0        -60.0  \n",
       "26458  Core staff          2.0        -36.0  \n",
       "26459    Laborers          2.0        -40.0  \n",
       "26460     Drivers          2.0        -41.0  \n",
       "26461    Managers          2.0         -8.0  "
      ]
     },
     "execution_count": 6,
     "metadata": {},
     "output_type": "execute_result"
    }
   ],
   "source": [
    "tst = pd.read_csv('./test.csv', index_col=index_col)\n",
    "print(tst.shape)\n",
    "tst.head()"
   ]
  },
  {
   "cell_type": "code",
   "execution_count": 7,
   "metadata": {
    "scrolled": true
   },
   "outputs": [
    {
     "name": "stdout",
     "output_type": "stream",
     "text": [
      "(10000, 3)\n"
     ]
    },
    {
     "data": {
      "text/html": [
       "<div>\n",
       "<style scoped>\n",
       "    .dataframe tbody tr th:only-of-type {\n",
       "        vertical-align: middle;\n",
       "    }\n",
       "\n",
       "    .dataframe tbody tr th {\n",
       "        vertical-align: top;\n",
       "    }\n",
       "\n",
       "    .dataframe thead th {\n",
       "        text-align: right;\n",
       "    }\n",
       "</style>\n",
       "<table border=\"1\" class=\"dataframe\">\n",
       "  <thead>\n",
       "    <tr style=\"text-align: right;\">\n",
       "      <th></th>\n",
       "      <th>0</th>\n",
       "      <th>1</th>\n",
       "      <th>2</th>\n",
       "    </tr>\n",
       "    <tr>\n",
       "      <th>index</th>\n",
       "      <th></th>\n",
       "      <th></th>\n",
       "      <th></th>\n",
       "    </tr>\n",
       "  </thead>\n",
       "  <tbody>\n",
       "    <tr>\n",
       "      <th>26457</th>\n",
       "      <td>0</td>\n",
       "      <td>0</td>\n",
       "      <td>0</td>\n",
       "    </tr>\n",
       "    <tr>\n",
       "      <th>26458</th>\n",
       "      <td>0</td>\n",
       "      <td>0</td>\n",
       "      <td>0</td>\n",
       "    </tr>\n",
       "    <tr>\n",
       "      <th>26459</th>\n",
       "      <td>0</td>\n",
       "      <td>0</td>\n",
       "      <td>0</td>\n",
       "    </tr>\n",
       "    <tr>\n",
       "      <th>26460</th>\n",
       "      <td>0</td>\n",
       "      <td>0</td>\n",
       "      <td>0</td>\n",
       "    </tr>\n",
       "    <tr>\n",
       "      <th>26461</th>\n",
       "      <td>0</td>\n",
       "      <td>0</td>\n",
       "      <td>0</td>\n",
       "    </tr>\n",
       "  </tbody>\n",
       "</table>\n",
       "</div>"
      ],
      "text/plain": [
       "       0  1  2\n",
       "index         \n",
       "26457  0  0  0\n",
       "26458  0  0  0\n",
       "26459  0  0  0\n",
       "26460  0  0  0\n",
       "26461  0  0  0"
      ]
     },
     "execution_count": 7,
     "metadata": {},
     "output_type": "execute_result"
    }
   ],
   "source": [
    "sub = pd.read_csv('./sample_submission.csv', index_col=index_col)\n",
    "print(sub.shape)\n",
    "sub.head()"
   ]
  },
  {
   "cell_type": "markdown",
   "metadata": {},
   "source": [
    "### Simple EDA"
   ]
  },
  {
   "cell_type": "code",
   "execution_count": 8,
   "metadata": {
    "scrolled": true
   },
   "outputs": [
    {
     "data": {
      "text/plain": [
       "index\n",
       "0        1.0\n",
       "1        1.0\n",
       "2        2.0\n",
       "3        0.0\n",
       "4        2.0\n",
       "        ... \n",
       "26452    1.0\n",
       "26453    2.0\n",
       "26454    2.0\n",
       "26455    2.0\n",
       "26456    2.0\n",
       "Name: credit, Length: 26457, dtype: category\n",
       "Categories (3, float64): [0.0, 1.0, 2.0]"
      ]
     },
     "execution_count": 8,
     "metadata": {},
     "output_type": "execute_result"
    }
   ],
   "source": [
    "trn[target_col] = trn[target_col].astype('category')\n",
    "trn[target_col]"
   ]
  },
  {
   "cell_type": "code",
   "execution_count": 9,
   "metadata": {
    "scrolled": true
   },
   "outputs": [
    {
     "name": "stdout",
     "output_type": "stream",
     "text": [
      "          gender: 26457\t2\tobject\n",
      "             car: 26457\t2\tobject\n",
      "         reality: 26457\t2\tobject\n",
      "       child_num: 26457\t9\tint64\n",
      "    income_total: 26457\t249\tfloat64\n",
      "     income_type: 26457\t5\tobject\n",
      "        edu_type: 26457\t5\tobject\n",
      "     family_type: 26457\t5\tobject\n",
      "      house_type: 26457\t6\tobject\n",
      "      DAYS_BIRTH: 26457\t6621\tint64\n",
      "   DAYS_EMPLOYED: 26457\t3470\tint64\n",
      "      FLAG_MOBIL: 26457\t1\tint64\n",
      "      work_phone: 26457\t2\tint64\n",
      "           phone: 26457\t2\tint64\n",
      "           email: 26457\t2\tint64\n",
      "      occyp_type: 18286\t18\tobject\n",
      "     family_size: 26457\t10\tfloat64\n",
      "     begin_month: 26457\t61\tfloat64\n",
      "          credit: 26457\t3\tcategory\n"
     ]
    }
   ],
   "source": [
    "for col in trn.columns:\n",
    "    print(f'{col:>16s}: {trn[col].count()}\\t{trn[col].nunique()}\\t{trn[col].dtype}')"
   ]
  },
  {
   "cell_type": "markdown",
   "metadata": {},
   "source": [
    "### Feature Engineering"
   ]
  },
  {
   "cell_type": "code",
   "execution_count": 10,
   "metadata": {},
   "outputs": [],
   "source": [
    "trn = pd.read_csv('./train.csv', index_col=index_col)\n",
    "tst = pd.read_csv('./test.csv', index_col=index_col)"
   ]
  },
  {
   "cell_type": "code",
   "execution_count": 11,
   "metadata": {},
   "outputs": [],
   "source": [
    "trn.drop('FLAG_MOBIL', axis=1, inplace=True)\n",
    "tst.drop('FLAG_MOBIL', axis=1, inplace=True)"
   ]
  },
  {
   "cell_type": "code",
   "execution_count": 12,
   "metadata": {
    "scrolled": false
   },
   "outputs": [
    {
     "data": {
      "text/plain": [
       "((26457, 18), (10000, 17))"
      ]
     },
     "execution_count": 12,
     "metadata": {},
     "output_type": "execute_result"
    }
   ],
   "source": [
    "trn.shape, tst.shape"
   ]
  },
  {
   "cell_type": "markdown",
   "metadata": {},
   "source": [
    "#### Numerical Features"
   ]
  },
  {
   "cell_type": "markdown",
   "metadata": {},
   "source": [
    "국가기밀"
   ]
  },
  {
   "cell_type": "code",
   "execution_count": 13,
   "metadata": {},
   "outputs": [],
   "source": [
    "trn['National']=0\n",
    "nat = list(trn[trn.DAYS_EMPLOYED ==365243].index)\n",
    "\n",
    "for i in range(0,26457):\n",
    "    if i in nat:\n",
    "        trn.loc[i,'National']=1"
   ]
  },
  {
   "cell_type": "code",
   "execution_count": 14,
   "metadata": {},
   "outputs": [],
   "source": [
    "tst['National']=0\n",
    "nat = list(tst[tst.DAYS_EMPLOYED ==365243].index)\n",
    "\n",
    "for i in range(0,26457):\n",
    "    if i in nat:\n",
    "        tst.loc[i,'National']=1"
   ]
  },
  {
   "cell_type": "markdown",
   "metadata": {},
   "source": [
    "절대값을 씌운다"
   ]
  },
  {
   "cell_type": "code",
   "execution_count": 15,
   "metadata": {},
   "outputs": [],
   "source": [
    "trn['DAYS_BIRTH']=abs(trn['DAYS_BIRTH'])\n",
    "trn['begin_month']=abs(trn['begin_month'])\n",
    "trn['DAYS_EMPLOYED']=abs(trn['DAYS_EMPLOYED'])\n",
    "tst['DAYS_BIRTH']=abs(tst['DAYS_BIRTH'])\n",
    "tst['begin_month']=abs(tst['begin_month'])\n",
    "tst['DAYS_EMPLOYED']=abs(tst['DAYS_EMPLOYED'])"
   ]
  },
  {
   "cell_type": "code",
   "execution_count": 16,
   "metadata": {},
   "outputs": [],
   "source": [
    "trn['DAYS_EMPLOYED'] = trn['DAYS_EMPLOYED'].replace(365243, 0)\n",
    "tst['DAYS_EMPLOYED'] = tst['DAYS_EMPLOYED'].replace(365243, 0)"
   ]
  },
  {
   "cell_type": "markdown",
   "metadata": {},
   "source": [
    "시계열을 더욱 더 다루어보자"
   ]
  },
  {
   "cell_type": "code",
   "execution_count": 17,
   "metadata": {},
   "outputs": [],
   "source": [
    "trn['child_ratio'] = trn['child_num'] / trn['family_size']\n",
    "\n",
    "trn['begin_credit_year'] = (trn['begin_month']//12)\n",
    "trn['begin_credit_day']= (trn['begin_month']*30)\n",
    "\n",
    "# DAYS_BIRTH\n",
    "trn['DAYS_BIRTH_year'] = trn['DAYS_BIRTH'] // 365 ## 나이\n",
    "trn['DAYS_BIRTH_Aday'] = trn['DAYS_BIRTH'] % 365 ## 생일 일자\n",
    "trn['DAYS_BIRTH_year2'] = trn['DAYS_BIRTH'] / 365\n",
    "trn['DAYS_BIRTH_month']=trn['DAYS_BIRTH_Aday'].apply(lambda x: 1 if (x <31) else 2 if(x <59) else 3 if(x <90) else 4 if(x <120)\n",
    "                                                    else 5 if(x <151) else 6 if(x <181) else 7 if(x <212) else 8 if(x <243) else 9 if(x <273)\n",
    "                                                    else 10 if(x <304) else 11 if(x <334) else 12 )\n",
    "\n",
    "trn['DAYS_BIRTH_day']=trn['DAYS_BIRTH_Aday'].apply(lambda x: x+1 if (x <31) else x-30 if(x <59) else x-58 if(x <90) else x-89 if(x <120)\n",
    "                                                    else x-119 if(x <151) else x-150 if(x <181) else x-180 if(x <212) else x-211 if(x <243) else x-242 if(x <273)\n",
    "                                                    else x-272 if(x <304) else x-303 if(x <334) else x-333 )\n",
    "\n",
    "trn['DAYS_BIRTH_week'] = np.floor((trn['DAYS_BIRTH'])/7)-((np.floor((trn['DAYS_BIRTH'])/7)/4).astype(int)*4)\n",
    "\n",
    "# DAYS_EMPLOYED - 업무를 진행한 일자\n",
    "trn['DAYS_EMPLOYED_year'] = trn['DAYS_EMPLOYED'] / 365\n",
    "trn['DAYS_EMPLOYED_month'] = trn['DAYS_EMPLOYED'] / 30\n",
    "trn['DAYS_EMPLOYED_week'] = np.floor((trn['DAYS_EMPLOYED'])/7)-((np.floor((trn['DAYS_EMPLOYED'])/7)/4).astype(int)*4)\n",
    "\n",
    "trn['EMPLOYED_START']=trn['DAYS_BIRTH_year'] -trn['DAYS_EMPLOYED_year']\n",
    "\n",
    "trn['mean_income_family'] = trn['income_total'] / trn['family_size']\n",
    "trn['income_day'] = trn['income_total'] /(trn['DAYS_EMPLOYED']+1)\n",
    "trn['income_month'] = trn['income_total'] /(trn['DAYS_EMPLOYED_month']+1)\n",
    "trn['income_year'] = trn['income_total'] /(trn['DAYS_EMPLOYED_year']+1)\n",
    "\n",
    "\n",
    "trn['income_begin_ratio'] = (trn['begin_credit_year']) / trn['income_total']\n",
    "trn['family_age_ratio'] = trn['DAYS_BIRTH_year'] / trn['family_size']\n",
    "trn['family_income_ratio'] = trn['income_day'] / trn['family_size']\n",
    "trn['family_child_abstract'] = trn['family_size'] - trn['child_num']\n",
    "trn['income>mean'] = trn['income_day'].apply(lambda x: 1 if x>=trn['income_day'].mean() else 0)\n",
    "trn['begin_month>mean'] = trn['begin_month'].apply(lambda x: 1 if x>=trn['begin_month'].mean() else 0)\n",
    "\n",
    "# before_EMPLOYED\n",
    "trn['before_EMPLOYED'] = trn['DAYS_BIRTH']-trn['DAYS_EMPLOYED']\n",
    "trn['before_EMPLOYED_age'] = trn['before_EMPLOYED']//365\n",
    "trn['before_EMPLOYED_month'] = trn['before_EMPLOYED']//30\n",
    "trn['before_EMPLOYED_week'] = trn['before_EMPLOYED']//7\n",
    "\n",
    "trn['before_EMPLOYED_BIRTH_ratio'] = trn['before_EMPLOYED'] / trn['DAYS_BIRTH']\n",
    "trn['before_EMPLOYED_ratio'] = trn['before_EMPLOYED'] / (trn['DAYS_EMPLOYED']+1)\n",
    "trn['before_EMPLOYED>mean'] = trn['before_EMPLOYED'].apply(lambda x: 1 if x>=trn['before_EMPLOYED'].mean() else 0)"
   ]
  },
  {
   "cell_type": "code",
   "execution_count": 18,
   "metadata": {},
   "outputs": [],
   "source": [
    "tst['child_ratio'] = tst['child_num'] / tst['family_size']\n",
    "\n",
    "tst['begin_credit_year'] = (tst['begin_month']//12)\n",
    "tst['begin_credit_day']= (tst['begin_month']*30)\n",
    "\n",
    "# DAYS_BIRTH\n",
    "tst['DAYS_BIRTH_year'] = tst['DAYS_BIRTH'] // 365\n",
    "tst['DAYS_BIRTH_Aday'] = tst['DAYS_BIRTH'] % 365\n",
    "tst['DAYS_BIRTH_year2'] = tst['DAYS_BIRTH'] / 365\n",
    "tst['DAYS_BIRTH_month']=tst['DAYS_BIRTH_Aday'].apply(lambda x: 1 if (x <31) else 2 if(x <59) else 3 if(x <90) else 4 if(x <120)\n",
    "                                                    else 5 if(x <151) else 6 if(x <181) else 7 if(x <212) else 8 if(x <243) else 9 if(x <273)\n",
    "                                                    else 10 if(x <304) else 11 if(x <334) else 12 )\n",
    "\n",
    "tst['DAYS_BIRTH_day']=tst['DAYS_BIRTH_Aday'].apply(lambda x: x+1 if (x <31) else x-30 if(x <59) else x-58 if(x <90) else x-89 if(x <120)\n",
    "                                                    else x-119 if(x <151) else x-150 if(x <181) else x-180 if(x <212) else x-211 if(x <243) else x-242 if(x <273)\n",
    "                                                    else x-272 if(x <304) else x-303 if(x <334) else x-333 )\n",
    "\n",
    "tst['DAYS_BIRTH_week'] = np.floor((tst['DAYS_BIRTH'])/7)-((np.floor((tst['DAYS_BIRTH'])/7)/4).astype(int)*4)\n",
    "\n",
    "# DAYS_EMPLOYED\n",
    "tst['DAYS_EMPLOYED_year'] = tst['DAYS_EMPLOYED'] / 365\n",
    "tst['DAYS_EMPLOYED_month'] = tst['DAYS_EMPLOYED'] / 30\n",
    "tst['DAYS_EMPLOYED_week'] = np.floor((-tst['DAYS_EMPLOYED'])/7)-((np.floor((-tst['DAYS_EMPLOYED'])/7)/4).astype(int)*4)\n",
    "\n",
    "tst['EMPLOYED_START']=tst['DAYS_BIRTH_year'] -tst['DAYS_EMPLOYED_year']\n",
    "\n",
    "tst['mean_income_family'] = tst['income_total'] / tst['family_size']\n",
    "tst['income_day'] = tst['income_total'] / (tst['DAYS_EMPLOYED']+1)\n",
    "tst['income_month'] = tst['income_total'] /(tst['DAYS_EMPLOYED_month']+1)\n",
    "tst['income_year'] = tst['income_total'] /(tst['DAYS_EMPLOYED_year']+1)\n",
    "\n",
    "\n",
    "tst['income_begin_ratio'] = (tst['begin_credit_year']) / tst['income_total']\n",
    "tst['family_age_ratio'] = tst['DAYS_BIRTH_year'] / tst['family_size']\n",
    "tst['family_income_ratio'] = tst['income_day'] / tst['family_size']\n",
    "tst['family_child_abstract'] = tst['family_size'] - tst['child_num']\n",
    "tst['income>mean'] = tst['income_day'].apply(lambda x: 1 if x>=tst['income_day'].mean() else 0)\n",
    "tst['begin_month>mean'] = tst['begin_month'].apply(lambda x: 1 if x>=tst['begin_month'].mean() else 0)\n",
    "\n",
    "# before_EMPLOYED\n",
    "tst['before_EMPLOYED'] = tst['DAYS_BIRTH']-tst['DAYS_EMPLOYED']\n",
    "tst['before_EMPLOYED_age'] = tst['before_EMPLOYED']//365\n",
    "tst['before_EMPLOYED_month'] = tst['before_EMPLOYED']//30\n",
    "tst['before_EMPLOYED_week'] = tst['before_EMPLOYED']//7\n",
    "\n",
    "tst['before_EMPLOYED_BIRTH_ratio'] = tst['before_EMPLOYED'] / tst['DAYS_BIRTH']\n",
    "tst['before_EMPLOYED_ratio'] = tst['before_EMPLOYED'] / (tst['DAYS_EMPLOYED']+1)\n",
    "tst['before_EMPLOYED>mean'] = tst['before_EMPLOYED'].apply(lambda x: 1 if x>=tst['before_EMPLOYED'].mean() else 0)"
   ]
  },
  {
   "cell_type": "code",
   "execution_count": 19,
   "metadata": {},
   "outputs": [],
   "source": [
    "trn['National_age']=trn['National']/trn['DAYS_BIRTH_year']\n",
    "tst['National_age']=tst['National']/tst['DAYS_BIRTH_year']"
   ]
  },
  {
   "cell_type": "code",
   "execution_count": 20,
   "metadata": {},
   "outputs": [],
   "source": [
    "trn['age_group'] = pd.cut(trn['DAYS_BIRTH_year2'], bins=[20, 30, 40, 50, 60, 70],\n",
    "                         labels=['20ager', '30ager', '40ager', '50ager', '60ager'])\n",
    "\n",
    "tst['age_group'] = pd.cut(tst['DAYS_BIRTH_year2'], bins=[20, 30, 40, 50, 60, 70],\n",
    "                         labels=['20ager', '30ager', '40ager', '50ager', '60ager'])"
   ]
  },
  {
   "cell_type": "code",
   "execution_count": 21,
   "metadata": {},
   "outputs": [],
   "source": [
    "trn = pd.concat([trn, pd.get_dummies(trn['age_group'])], axis=1)\n",
    "tst = pd.concat([tst, pd.get_dummies(tst['age_group'])], axis=1)"
   ]
  },
  {
   "cell_type": "code",
   "execution_count": 22,
   "metadata": {},
   "outputs": [],
   "source": [
    "trn['dup']=0\n",
    "du = list(trn[trn.duplicated(keep=False)].index)\n",
    "\n",
    "for i in range(0,26457):\n",
    "    if i in du:\n",
    "        trn.loc[i,'dup']=1"
   ]
  },
  {
   "cell_type": "code",
   "execution_count": 23,
   "metadata": {},
   "outputs": [],
   "source": [
    "tst['dup']=0\n",
    "du = list(tst[tst.duplicated(keep=False)].index)\n",
    "\n",
    "for i in range(26457,36457):\n",
    "    if i in du:\n",
    "        tst.loc[i,'dup']=1"
   ]
  },
  {
   "cell_type": "code",
   "execution_count": 24,
   "metadata": {
    "scrolled": true
   },
   "outputs": [
    {
     "data": {
      "text/plain": [
       "<AxesSubplot:ylabel='Frequency'>"
      ]
     },
     "execution_count": 24,
     "metadata": {},
     "output_type": "execute_result"
    },
    {
     "data": {
      "image/png": "[encoded data removed]",
      "text/plain": [
       "<Figure size 432x288 with 1 Axes>"
      ]
     },
     "metadata": {},
     "output_type": "display_data"
    }
   ],
   "source": [
    "trn.credit.plot.hist()"
   ]
  },
  {
   "cell_type": "code",
   "execution_count": 25,
   "metadata": {},
   "outputs": [],
   "source": [
    "#trn3 = trn.groupby(['income_total', 'income_type', 'DAYS_BIRTH', 'DAYS_EMPLOYED'])['begin_month'].agg([('begin_month_sum', 'sum')])\n",
    "#trn3 = pd.DataFrame(trn3)\n",
    "\n",
    "#tst3 = tst.groupby(['income_total', 'income_type', 'DAYS_BIRTH', 'DAYS_EMPLOYED'])['begin_month'].agg([('begin_month_sum', 'sum')])\n",
    "#tst3 = pd.DataFrame(tst3)"
   ]
  },
  {
   "cell_type": "code",
   "execution_count": 26,
   "metadata": {},
   "outputs": [],
   "source": [
    "#trn = trn.merge(trn3, how='left', on=('income_total', 'income_type', 'DAYS_BIRTH', 'DAYS_EMPLOYED'))\n",
    "#tst = tst.merge(tst3, how='left', on=('income_total', 'income_type', 'DAYS_BIRTH', 'DAYS_EMPLOYED'))"
   ]
  },
  {
   "cell_type": "code",
   "execution_count": 27,
   "metadata": {},
   "outputs": [],
   "source": [
    "#trn['begin_month_mean'] = -trn['begin_month_sum'] / trn['duplicated']\n",
    "#tst['begin_month_mean'] = -tst['begin_month_sum'] / tst['duplicated']"
   ]
  },
  {
   "cell_type": "code",
   "execution_count": 28,
   "metadata": {
    "scrolled": false
   },
   "outputs": [
    {
     "data": {
      "text/plain": [
       "((26457, 57), (10000, 56))"
      ]
     },
     "execution_count": 28,
     "metadata": {},
     "output_type": "execute_result"
    }
   ],
   "source": [
    "trn.shape, tst.shape"
   ]
  },
  {
   "cell_type": "markdown",
   "metadata": {},
   "source": [
    "####  Encoding for Categorical Features"
   ]
  },
  {
   "cell_type": "code",
   "execution_count": 29,
   "metadata": {},
   "outputs": [
    {
     "name": "stdout",
     "output_type": "stream",
     "text": [
      "56 8 48\n"
     ]
    }
   ],
   "source": [
    "cat_cols = [x for x in trn.columns if trn[x].dtype == 'object']\n",
    "num_cols = [x for x in trn.columns if x not in cat_cols + [target_col]]\n",
    "\n",
    "feature_cols = num_cols + cat_cols\n",
    "print(len(feature_cols), len(cat_cols), len(num_cols))"
   ]
  },
  {
   "cell_type": "code",
   "execution_count": 30,
   "metadata": {},
   "outputs": [],
   "source": [
    "trn['occyp_type'] = trn['occyp_type'].fillna('no job')\n",
    "tst['occyp_type'] = tst['occyp_type'].fillna('no job')"
   ]
  },
  {
   "cell_type": "code",
   "execution_count": 31,
   "metadata": {},
   "outputs": [],
   "source": [
    "trn['income_occyp_type'] = trn['income_type'].astype(str) + \"_\" + trn['occyp_type'].astype(str)\n",
    "tst['income_occyp_type'] = tst['income_type'].astype(str) + \"_\" + tst['occyp_type'].astype(str)"
   ]
  },
  {
   "cell_type": "code",
   "execution_count": 32,
   "metadata": {},
   "outputs": [],
   "source": [
    "trn['income_age_type'] = trn['income_type'].astype(str) + \"_\" + trn['age_group'].astype(str)\n",
    "tst['income_age_type'] = tst['income_type'].astype(str) + \"_\" + tst['age_group'].astype(str)\n",
    "trn.drop('age_group', axis=1, inplace=True)\n",
    "tst.drop('age_group', axis=1, inplace=True)"
   ]
  },
  {
   "cell_type": "code",
   "execution_count": 33,
   "metadata": {},
   "outputs": [],
   "source": [
    "trn['edu_occyp_type'] = trn['edu_type'].astype(str) + \"_\" + trn['occyp_type'].astype(str)\n",
    "tst['edu_occyp_type'] = tst['edu_type'].astype(str) + \"_\" + tst['occyp_type'].astype(str)\n",
    "\n",
    "trn['edu_income_type'] = trn['edu_type'].astype(str) + \"_\" + trn['income_type'].astype(str)\n",
    "tst['edu_income_type'] = tst['edu_type'].astype(str) + \"_\" + tst['income_type'].astype(str)\n",
    "\n",
    "trn['family_income_type'] = trn['family_type'].astype(str) + \"_\" + trn['income_type'].astype(str)\n",
    "tst['family_income_type'] = tst['family_type'].astype(str) + \"_\" + tst['income_type'].astype(str)"
   ]
  },
  {
   "cell_type": "code",
   "execution_count": 34,
   "metadata": {},
   "outputs": [
    {
     "data": {
      "text/plain": [
       "0"
      ]
     },
     "execution_count": 34,
     "metadata": {},
     "output_type": "execute_result"
    }
   ],
   "source": [
    "trn.income_age_type.isnull().sum()"
   ]
  },
  {
   "cell_type": "code",
   "execution_count": 35,
   "metadata": {},
   "outputs": [],
   "source": [
    "def add_var(data):\n",
    "    \n",
    "    # 개개인을 구분할 수 있는 변수들을 묶어서 생성\n",
    "    data['personal_id'] = data['gender'] + \"_\" + data['DAYS_BIRTH'].astype(str) + \"_\" + data['income_total'].astype(str) + \"_\" + data['income_type'].astype(str)\n",
    "    \n",
    "    # 카드를 생성한 기간도 같은 경우가 있어서 begin을 추가하여 하나의 변수를 더 생성\n",
    "    data['personal_begin_id'] = data['gender'] + \"_\" + data['DAYS_BIRTH'].astype(str) + \"_\" + data['income_total'].astype(str) + \"_\" + data['income_type'].astype(str) + \"_\" + data['begin_month'].astype(str)\n",
    "    \n",
    "    # 그외의 변수들을 조합하여 하나의 변수로 추가 생성\n",
    "    data['g_r_c'] = data['gender'] + \"_\" + data['reality'] + \"_\" + data['car'] \n",
    "    data['p_w_e'] = data['phone'].astype(str) + \"_\" + data['work_phone'].astype(str) + \"_\" + data['email'].astype(str) \n",
    "    \n",
    "    return data"
   ]
  },
  {
   "cell_type": "code",
   "execution_count": 36,
   "metadata": {},
   "outputs": [],
   "source": [
    "trn = add_var(trn)\n",
    "tst = add_var(tst)"
   ]
  },
  {
   "cell_type": "code",
   "execution_count": null,
   "metadata": {},
   "outputs": [],
   "source": []
  },
  {
   "cell_type": "markdown",
   "metadata": {},
   "source": [
    "### word2vec"
   ]
  },
  {
   "cell_type": "code",
   "execution_count": 9,
   "metadata": {
    "collapsed": true
   },
   "outputs": [
    {
     "data": {
      "text/html": [
       "<div>\n",
       "<style scoped>\n",
       "    .dataframe tbody tr th:only-of-type {\n",
       "        vertical-align: middle;\n",
       "    }\n",
       "\n",
       "    .dataframe tbody tr th {\n",
       "        vertical-align: top;\n",
       "    }\n",
       "\n",
       "    .dataframe thead th {\n",
       "        text-align: right;\n",
       "    }\n",
       "</style>\n",
       "<table border=\"1\" class=\"dataframe\">\n",
       "  <thead>\n",
       "    <tr style=\"text-align: right;\">\n",
       "      <th></th>\n",
       "      <th>gender</th>\n",
       "      <th>car</th>\n",
       "      <th>reality</th>\n",
       "      <th>child_num</th>\n",
       "      <th>income_total</th>\n",
       "      <th>income_type</th>\n",
       "      <th>edu_type</th>\n",
       "      <th>family_type</th>\n",
       "      <th>house_type</th>\n",
       "      <th>DAYS_BIRTH</th>\n",
       "      <th>DAYS_EMPLOYED</th>\n",
       "      <th>FLAG_MOBIL</th>\n",
       "      <th>work_phone</th>\n",
       "      <th>phone</th>\n",
       "      <th>email</th>\n",
       "      <th>occyp_type</th>\n",
       "      <th>family_size</th>\n",
       "      <th>begin_month</th>\n",
       "      <th>credit</th>\n",
       "    </tr>\n",
       "    <tr>\n",
       "      <th>index</th>\n",
       "      <th></th>\n",
       "      <th></th>\n",
       "      <th></th>\n",
       "      <th></th>\n",
       "      <th></th>\n",
       "      <th></th>\n",
       "      <th></th>\n",
       "      <th></th>\n",
       "      <th></th>\n",
       "      <th></th>\n",
       "      <th></th>\n",
       "      <th></th>\n",
       "      <th></th>\n",
       "      <th></th>\n",
       "      <th></th>\n",
       "      <th></th>\n",
       "      <th></th>\n",
       "      <th></th>\n",
       "      <th></th>\n",
       "    </tr>\n",
       "  </thead>\n",
       "  <tbody>\n",
       "    <tr>\n",
       "      <th>0</th>\n",
       "      <td>F</td>\n",
       "      <td>N</td>\n",
       "      <td>N</td>\n",
       "      <td>0</td>\n",
       "      <td>202500.0</td>\n",
       "      <td>Commercial associate</td>\n",
       "      <td>Higher education</td>\n",
       "      <td>Married</td>\n",
       "      <td>Municipal apartment</td>\n",
       "      <td>-13899</td>\n",
       "      <td>-4709</td>\n",
       "      <td>1</td>\n",
       "      <td>0</td>\n",
       "      <td>0</td>\n",
       "      <td>0</td>\n",
       "      <td>NaN</td>\n",
       "      <td>2.0</td>\n",
       "      <td>-6.0</td>\n",
       "      <td>1.0</td>\n",
       "    </tr>\n",
       "    <tr>\n",
       "      <th>1</th>\n",
       "      <td>F</td>\n",
       "      <td>N</td>\n",
       "      <td>Y</td>\n",
       "      <td>1</td>\n",
       "      <td>247500.0</td>\n",
       "      <td>Commercial associate</td>\n",
       "      <td>Secondary / secondary special</td>\n",
       "      <td>Civil marriage</td>\n",
       "      <td>House / apartment</td>\n",
       "      <td>-11380</td>\n",
       "      <td>-1540</td>\n",
       "      <td>1</td>\n",
       "      <td>0</td>\n",
       "      <td>0</td>\n",
       "      <td>1</td>\n",
       "      <td>Laborers</td>\n",
       "      <td>3.0</td>\n",
       "      <td>-5.0</td>\n",
       "      <td>1.0</td>\n",
       "    </tr>\n",
       "    <tr>\n",
       "      <th>2</th>\n",
       "      <td>M</td>\n",
       "      <td>Y</td>\n",
       "      <td>Y</td>\n",
       "      <td>0</td>\n",
       "      <td>450000.0</td>\n",
       "      <td>Working</td>\n",
       "      <td>Higher education</td>\n",
       "      <td>Married</td>\n",
       "      <td>House / apartment</td>\n",
       "      <td>-19087</td>\n",
       "      <td>-4434</td>\n",
       "      <td>1</td>\n",
       "      <td>0</td>\n",
       "      <td>1</td>\n",
       "      <td>0</td>\n",
       "      <td>Managers</td>\n",
       "      <td>2.0</td>\n",
       "      <td>-22.0</td>\n",
       "      <td>2.0</td>\n",
       "    </tr>\n",
       "    <tr>\n",
       "      <th>3</th>\n",
       "      <td>F</td>\n",
       "      <td>N</td>\n",
       "      <td>Y</td>\n",
       "      <td>0</td>\n",
       "      <td>202500.0</td>\n",
       "      <td>Commercial associate</td>\n",
       "      <td>Secondary / secondary special</td>\n",
       "      <td>Married</td>\n",
       "      <td>House / apartment</td>\n",
       "      <td>-15088</td>\n",
       "      <td>-2092</td>\n",
       "      <td>1</td>\n",
       "      <td>0</td>\n",
       "      <td>1</td>\n",
       "      <td>0</td>\n",
       "      <td>Sales staff</td>\n",
       "      <td>2.0</td>\n",
       "      <td>-37.0</td>\n",
       "      <td>0.0</td>\n",
       "    </tr>\n",
       "    <tr>\n",
       "      <th>4</th>\n",
       "      <td>F</td>\n",
       "      <td>Y</td>\n",
       "      <td>Y</td>\n",
       "      <td>0</td>\n",
       "      <td>157500.0</td>\n",
       "      <td>State servant</td>\n",
       "      <td>Higher education</td>\n",
       "      <td>Married</td>\n",
       "      <td>House / apartment</td>\n",
       "      <td>-15037</td>\n",
       "      <td>-2105</td>\n",
       "      <td>1</td>\n",
       "      <td>0</td>\n",
       "      <td>0</td>\n",
       "      <td>0</td>\n",
       "      <td>Managers</td>\n",
       "      <td>2.0</td>\n",
       "      <td>-26.0</td>\n",
       "      <td>2.0</td>\n",
       "    </tr>\n",
       "    <tr>\n",
       "      <th>...</th>\n",
       "      <td>...</td>\n",
       "      <td>...</td>\n",
       "      <td>...</td>\n",
       "      <td>...</td>\n",
       "      <td>...</td>\n",
       "      <td>...</td>\n",
       "      <td>...</td>\n",
       "      <td>...</td>\n",
       "      <td>...</td>\n",
       "      <td>...</td>\n",
       "      <td>...</td>\n",
       "      <td>...</td>\n",
       "      <td>...</td>\n",
       "      <td>...</td>\n",
       "      <td>...</td>\n",
       "      <td>...</td>\n",
       "      <td>...</td>\n",
       "      <td>...</td>\n",
       "      <td>...</td>\n",
       "    </tr>\n",
       "    <tr>\n",
       "      <th>26452</th>\n",
       "      <td>F</td>\n",
       "      <td>N</td>\n",
       "      <td>N</td>\n",
       "      <td>2</td>\n",
       "      <td>225000.0</td>\n",
       "      <td>State servant</td>\n",
       "      <td>Secondary / secondary special</td>\n",
       "      <td>Married</td>\n",
       "      <td>House / apartment</td>\n",
       "      <td>-12079</td>\n",
       "      <td>-1984</td>\n",
       "      <td>1</td>\n",
       "      <td>0</td>\n",
       "      <td>0</td>\n",
       "      <td>0</td>\n",
       "      <td>Core staff</td>\n",
       "      <td>4.0</td>\n",
       "      <td>-2.0</td>\n",
       "      <td>1.0</td>\n",
       "    </tr>\n",
       "    <tr>\n",
       "      <th>26453</th>\n",
       "      <td>F</td>\n",
       "      <td>N</td>\n",
       "      <td>Y</td>\n",
       "      <td>1</td>\n",
       "      <td>180000.0</td>\n",
       "      <td>Working</td>\n",
       "      <td>Higher education</td>\n",
       "      <td>Separated</td>\n",
       "      <td>House / apartment</td>\n",
       "      <td>-15291</td>\n",
       "      <td>-2475</td>\n",
       "      <td>1</td>\n",
       "      <td>0</td>\n",
       "      <td>0</td>\n",
       "      <td>0</td>\n",
       "      <td>NaN</td>\n",
       "      <td>2.0</td>\n",
       "      <td>-47.0</td>\n",
       "      <td>2.0</td>\n",
       "    </tr>\n",
       "    <tr>\n",
       "      <th>26454</th>\n",
       "      <td>F</td>\n",
       "      <td>Y</td>\n",
       "      <td>N</td>\n",
       "      <td>0</td>\n",
       "      <td>292500.0</td>\n",
       "      <td>Working</td>\n",
       "      <td>Secondary / secondary special</td>\n",
       "      <td>Civil marriage</td>\n",
       "      <td>With parents</td>\n",
       "      <td>-10082</td>\n",
       "      <td>-2015</td>\n",
       "      <td>1</td>\n",
       "      <td>0</td>\n",
       "      <td>0</td>\n",
       "      <td>0</td>\n",
       "      <td>Core staff</td>\n",
       "      <td>2.0</td>\n",
       "      <td>-25.0</td>\n",
       "      <td>2.0</td>\n",
       "    </tr>\n",
       "    <tr>\n",
       "      <th>26455</th>\n",
       "      <td>M</td>\n",
       "      <td>N</td>\n",
       "      <td>Y</td>\n",
       "      <td>0</td>\n",
       "      <td>171000.0</td>\n",
       "      <td>Working</td>\n",
       "      <td>Incomplete higher</td>\n",
       "      <td>Single / not married</td>\n",
       "      <td>House / apartment</td>\n",
       "      <td>-10145</td>\n",
       "      <td>-107</td>\n",
       "      <td>1</td>\n",
       "      <td>0</td>\n",
       "      <td>0</td>\n",
       "      <td>0</td>\n",
       "      <td>Laborers</td>\n",
       "      <td>1.0</td>\n",
       "      <td>-59.0</td>\n",
       "      <td>2.0</td>\n",
       "    </tr>\n",
       "    <tr>\n",
       "      <th>26456</th>\n",
       "      <td>F</td>\n",
       "      <td>N</td>\n",
       "      <td>N</td>\n",
       "      <td>0</td>\n",
       "      <td>81000.0</td>\n",
       "      <td>Working</td>\n",
       "      <td>Secondary / secondary special</td>\n",
       "      <td>Civil marriage</td>\n",
       "      <td>House / apartment</td>\n",
       "      <td>-19569</td>\n",
       "      <td>-1013</td>\n",
       "      <td>1</td>\n",
       "      <td>0</td>\n",
       "      <td>0</td>\n",
       "      <td>0</td>\n",
       "      <td>Security staff</td>\n",
       "      <td>2.0</td>\n",
       "      <td>-9.0</td>\n",
       "      <td>2.0</td>\n",
       "    </tr>\n",
       "  </tbody>\n",
       "</table>\n",
       "<p>26457 rows × 19 columns</p>\n",
       "</div>"
      ],
      "text/plain": [
       "      gender car reality  child_num  income_total           income_type  \\\n",
       "index                                                                     \n",
       "0          F   N       N          0      202500.0  Commercial associate   \n",
       "1          F   N       Y          1      247500.0  Commercial associate   \n",
       "2          M   Y       Y          0      450000.0               Working   \n",
       "3          F   N       Y          0      202500.0  Commercial associate   \n",
       "4          F   Y       Y          0      157500.0         State servant   \n",
       "...      ...  ..     ...        ...           ...                   ...   \n",
       "26452      F   N       N          2      225000.0         State servant   \n",
       "26453      F   N       Y          1      180000.0               Working   \n",
       "26454      F   Y       N          0      292500.0               Working   \n",
       "26455      M   N       Y          0      171000.0               Working   \n",
       "26456      F   N       N          0       81000.0               Working   \n",
       "\n",
       "                            edu_type           family_type  \\\n",
       "index                                                        \n",
       "0                   Higher education               Married   \n",
       "1      Secondary / secondary special        Civil marriage   \n",
       "2                   Higher education               Married   \n",
       "3      Secondary / secondary special               Married   \n",
       "4                   Higher education               Married   \n",
       "...                              ...                   ...   \n",
       "26452  Secondary / secondary special               Married   \n",
       "26453               Higher education             Separated   \n",
       "26454  Secondary / secondary special        Civil marriage   \n",
       "26455              Incomplete higher  Single / not married   \n",
       "26456  Secondary / secondary special        Civil marriage   \n",
       "\n",
       "                house_type  DAYS_BIRTH  DAYS_EMPLOYED  FLAG_MOBIL  work_phone  \\\n",
       "index                                                                           \n",
       "0      Municipal apartment      -13899          -4709           1           0   \n",
       "1        House / apartment      -11380          -1540           1           0   \n",
       "2        House / apartment      -19087          -4434           1           0   \n",
       "3        House / apartment      -15088          -2092           1           0   \n",
       "4        House / apartment      -15037          -2105           1           0   \n",
       "...                    ...         ...            ...         ...         ...   \n",
       "26452    House / apartment      -12079          -1984           1           0   \n",
       "26453    House / apartment      -15291          -2475           1           0   \n",
       "26454         With parents      -10082          -2015           1           0   \n",
       "26455    House / apartment      -10145           -107           1           0   \n",
       "26456    House / apartment      -19569          -1013           1           0   \n",
       "\n",
       "       phone  email      occyp_type  family_size  begin_month  credit  \n",
       "index                                                                  \n",
       "0          0      0             NaN          2.0         -6.0     1.0  \n",
       "1          0      1        Laborers          3.0         -5.0     1.0  \n",
       "2          1      0        Managers          2.0        -22.0     2.0  \n",
       "3          1      0     Sales staff          2.0        -37.0     0.0  \n",
       "4          0      0        Managers          2.0        -26.0     2.0  \n",
       "...      ...    ...             ...          ...          ...     ...  \n",
       "26452      0      0      Core staff          4.0         -2.0     1.0  \n",
       "26453      0      0             NaN          2.0        -47.0     2.0  \n",
       "26454      0      0      Core staff          2.0        -25.0     2.0  \n",
       "26455      0      0        Laborers          1.0        -59.0     2.0  \n",
       "26456      0      0  Security staff          2.0         -9.0     2.0  \n",
       "\n",
       "[26457 rows x 19 columns]"
      ]
     },
     "execution_count": 9,
     "metadata": {},
     "output_type": "execute_result"
    }
   ],
   "source": [
    "trn"
   ]
  },
  {
   "cell_type": "code",
   "execution_count": 11,
   "metadata": {},
   "outputs": [],
   "source": [
    "# income_occyp_type, income_age_type, edu_occyp_type, edu_income_type, family_income_type\n",
    "\n",
    "import random\n",
    "\n",
    "train_data = list(trn.groupby('index')['income_occyp_type'].unique())\n",
    "test_data = list(tst.groupby('index')['income_occyp_type'].unique())"
   ]
  },
  {
   "cell_type": "code",
   "execution_count": 12,
   "metadata": {},
   "outputs": [
    {
     "data": {
      "text/plain": [
       "[array(['Commercial associate'], dtype=object),\n",
       " array(['Commercial associate'], dtype=object),\n",
       " array(['Working'], dtype=object),\n",
       " array(['Commercial associate'], dtype=object),\n",
       " array(['State servant'], dtype=object),\n",
       " array(['Working'], dtype=object),\n",
       " array(['Working'], dtype=object),\n",
       " array(['Commercial associate'], dtype=object),\n",
       " array(['Commercial associate'], dtype=object),\n",
       " array(['Working'], dtype=object),\n",
       " array(['Working'], dtype=object),\n",
       " array(['Commercial associate'], dtype=object),\n",
       " array(['Commercial associate'], dtype=object),\n",
       " array(['Working'], dtype=object),\n",
       " array(['Pensioner'], dtype=object),\n",
       " array(['Working'], dtype=object),\n",
       " array(['Working'], dtype=object),\n",
       " array(['Commercial associate'], dtype=object),\n",
       " array(['Pensioner'], dtype=object),\n",
       " array(['Working'], dtype=object),\n",
       " array(['Working'], dtype=object),\n",
       " array(['Pensioner'], dtype=object),\n",
       " array(['Commercial associate'], dtype=object),\n",
       " array(['Working'], dtype=object),\n",
       " array(['Pensioner'], dtype=object),\n",
       " array(['Commercial associate'], dtype=object),\n",
       " array(['Working'], dtype=object),\n",
       " array(['State servant'], dtype=object),\n",
       " array(['Commercial associate'], dtype=object),\n",
       " array(['Commercial associate'], dtype=object),\n",
       " array(['Commercial associate'], dtype=object),\n",
       " array(['Commercial associate'], dtype=object),\n",
       " array(['Working'], dtype=object),\n",
       " array(['Working'], dtype=object),\n",
       " array(['Working'], dtype=object),\n",
       " array(['Working'], dtype=object),\n",
       " array(['Working'], dtype=object),\n",
       " array(['Commercial associate'], dtype=object),\n",
       " array(['Working'], dtype=object),\n",
       " array(['Working'], dtype=object),\n",
       " array(['Working'], dtype=object),\n",
       " array(['Commercial associate'], dtype=object),\n",
       " array(['Working'], dtype=object),\n",
       " array(['Working'], dtype=object),\n",
       " array(['Working'], dtype=object),\n",
       " array(['Working'], dtype=object),\n",
       " array(['Pensioner'], dtype=object),\n",
       " array(['Commercial associate'], dtype=object),\n",
       " array(['Pensioner'], dtype=object),\n",
       " array(['Commercial associate'], dtype=object),\n",
       " array(['Working'], dtype=object),\n",
       " array(['Working'], dtype=object),\n",
       " array(['Pensioner'], dtype=object),\n",
       " array(['State servant'], dtype=object),\n",
       " array(['Working'], dtype=object),\n",
       " array(['Working'], dtype=object),\n",
       " array(['Working'], dtype=object),\n",
       " array(['Commercial associate'], dtype=object),\n",
       " array(['Pensioner'], dtype=object),\n",
       " array(['Pensioner'], dtype=object),\n",
       " array(['Pensioner'], dtype=object),\n",
       " array(['Commercial associate'], dtype=object),\n",
       " array(['Working'], dtype=object),\n",
       " array(['Working'], dtype=object),\n",
       " array(['Commercial associate'], dtype=object),\n",
       " array(['Working'], dtype=object),\n",
       " array(['Working'], dtype=object),\n",
       " array(['Commercial associate'], dtype=object),\n",
       " array(['Working'], dtype=object),\n",
       " array(['Working'], dtype=object),\n",
       " array(['Commercial associate'], dtype=object),\n",
       " array(['Working'], dtype=object),\n",
       " array(['Commercial associate'], dtype=object),\n",
       " array(['Pensioner'], dtype=object),\n",
       " array(['Working'], dtype=object),\n",
       " array(['Commercial associate'], dtype=object),\n",
       " array(['Commercial associate'], dtype=object),\n",
       " array(['Working'], dtype=object),\n",
       " array(['Working'], dtype=object),\n",
       " array(['Working'], dtype=object),\n",
       " array(['Commercial associate'], dtype=object),\n",
       " array(['Working'], dtype=object),\n",
       " array(['Working'], dtype=object),\n",
       " array(['Working'], dtype=object),\n",
       " array(['Pensioner'], dtype=object),\n",
       " array(['Working'], dtype=object),\n",
       " array(['Working'], dtype=object),\n",
       " array(['Commercial associate'], dtype=object),\n",
       " array(['Commercial associate'], dtype=object),\n",
       " array(['Commercial associate'], dtype=object),\n",
       " array(['State servant'], dtype=object),\n",
       " array(['Working'], dtype=object),\n",
       " array(['Commercial associate'], dtype=object),\n",
       " array(['Commercial associate'], dtype=object),\n",
       " array(['Pensioner'], dtype=object),\n",
       " array(['Pensioner'], dtype=object),\n",
       " array(['Commercial associate'], dtype=object),\n",
       " array(['Working'], dtype=object),\n",
       " array(['Commercial associate'], dtype=object),\n",
       " array(['State servant'], dtype=object),\n",
       " array(['Working'], dtype=object),\n",
       " array(['Working'], dtype=object),\n",
       " array(['Commercial associate'], dtype=object),\n",
       " array(['Working'], dtype=object),\n",
       " array(['Commercial associate'], dtype=object),\n",
       " array(['Commercial associate'], dtype=object),\n",
       " array(['Working'], dtype=object),\n",
       " array(['Working'], dtype=object),\n",
       " array(['Working'], dtype=object),\n",
       " array(['Working'], dtype=object),\n",
       " array(['Commercial associate'], dtype=object),\n",
       " array(['Working'], dtype=object),\n",
       " array(['Working'], dtype=object),\n",
       " array(['Commercial associate'], dtype=object),\n",
       " array(['Working'], dtype=object),\n",
       " array(['Pensioner'], dtype=object),\n",
       " array(['Working'], dtype=object),\n",
       " array(['Commercial associate'], dtype=object),\n",
       " array(['Working'], dtype=object),\n",
       " array(['Working'], dtype=object),\n",
       " array(['Pensioner'], dtype=object),\n",
       " array(['Working'], dtype=object),\n",
       " array(['State servant'], dtype=object),\n",
       " array(['Working'], dtype=object),\n",
       " array(['Commercial associate'], dtype=object),\n",
       " array(['Commercial associate'], dtype=object),\n",
       " array(['Commercial associate'], dtype=object),\n",
       " array(['Commercial associate'], dtype=object),\n",
       " array(['Working'], dtype=object),\n",
       " array(['Working'], dtype=object),\n",
       " array(['Commercial associate'], dtype=object),\n",
       " array(['Commercial associate'], dtype=object),\n",
       " array(['Commercial associate'], dtype=object),\n",
       " array(['Working'], dtype=object),\n",
       " array(['Pensioner'], dtype=object),\n",
       " array(['Commercial associate'], dtype=object),\n",
       " array(['Commercial associate'], dtype=object),\n",
       " array(['Commercial associate'], dtype=object),\n",
       " array(['Pensioner'], dtype=object),\n",
       " array(['Commercial associate'], dtype=object),\n",
       " array(['Working'], dtype=object),\n",
       " array(['Commercial associate'], dtype=object),\n",
       " array(['Working'], dtype=object),\n",
       " array(['Commercial associate'], dtype=object),\n",
       " array(['Working'], dtype=object),\n",
       " array(['State servant'], dtype=object),\n",
       " array(['Working'], dtype=object),\n",
       " array(['Working'], dtype=object),\n",
       " array(['Working'], dtype=object),\n",
       " array(['Working'], dtype=object),\n",
       " array(['Working'], dtype=object),\n",
       " array(['Commercial associate'], dtype=object),\n",
       " array(['Working'], dtype=object),\n",
       " array(['Commercial associate'], dtype=object),\n",
       " array(['Working'], dtype=object),\n",
       " array(['Pensioner'], dtype=object),\n",
       " array(['Working'], dtype=object),\n",
       " array(['Working'], dtype=object),\n",
       " array(['State servant'], dtype=object),\n",
       " array(['Pensioner'], dtype=object),\n",
       " array(['Working'], dtype=object),\n",
       " array(['Working'], dtype=object),\n",
       " array(['Working'], dtype=object),\n",
       " array(['Pensioner'], dtype=object),\n",
       " array(['Working'], dtype=object),\n",
       " array(['State servant'], dtype=object),\n",
       " array(['Pensioner'], dtype=object),\n",
       " array(['Commercial associate'], dtype=object),\n",
       " array(['Working'], dtype=object),\n",
       " array(['Working'], dtype=object),\n",
       " array(['Commercial associate'], dtype=object),\n",
       " array(['Working'], dtype=object),\n",
       " array(['Working'], dtype=object),\n",
       " array(['Pensioner'], dtype=object),\n",
       " array(['Commercial associate'], dtype=object),\n",
       " array(['Working'], dtype=object),\n",
       " array(['State servant'], dtype=object),\n",
       " array(['Commercial associate'], dtype=object),\n",
       " array(['Pensioner'], dtype=object),\n",
       " array(['Commercial associate'], dtype=object),\n",
       " array(['Commercial associate'], dtype=object),\n",
       " array(['Pensioner'], dtype=object),\n",
       " array(['Working'], dtype=object),\n",
       " array(['Pensioner'], dtype=object),\n",
       " array(['Working'], dtype=object),\n",
       " array(['Working'], dtype=object),\n",
       " array(['Working'], dtype=object),\n",
       " array(['Commercial associate'], dtype=object),\n",
       " array(['Pensioner'], dtype=object),\n",
       " array(['Working'], dtype=object),\n",
       " array(['Pensioner'], dtype=object),\n",
       " array(['Pensioner'], dtype=object),\n",
       " array(['Working'], dtype=object),\n",
       " array(['Commercial associate'], dtype=object),\n",
       " array(['State servant'], dtype=object),\n",
       " array(['Working'], dtype=object),\n",
       " array(['Working'], dtype=object),\n",
       " array(['Working'], dtype=object),\n",
       " array(['State servant'], dtype=object),\n",
       " array(['Working'], dtype=object),\n",
       " array(['Working'], dtype=object),\n",
       " array(['Working'], dtype=object),\n",
       " array(['Working'], dtype=object),\n",
       " array(['Commercial associate'], dtype=object),\n",
       " array(['Working'], dtype=object),\n",
       " array(['Working'], dtype=object),\n",
       " array(['State servant'], dtype=object),\n",
       " array(['Working'], dtype=object),\n",
       " array(['State servant'], dtype=object),\n",
       " array(['Pensioner'], dtype=object),\n",
       " array(['Working'], dtype=object),\n",
       " array(['Commercial associate'], dtype=object),\n",
       " array(['Working'], dtype=object),\n",
       " array(['Working'], dtype=object),\n",
       " array(['Pensioner'], dtype=object),\n",
       " array(['Working'], dtype=object),\n",
       " array(['Working'], dtype=object),\n",
       " array(['Pensioner'], dtype=object),\n",
       " array(['Pensioner'], dtype=object),\n",
       " array(['Working'], dtype=object),\n",
       " array(['Pensioner'], dtype=object),\n",
       " array(['Commercial associate'], dtype=object),\n",
       " array(['Working'], dtype=object),\n",
       " array(['Commercial associate'], dtype=object),\n",
       " array(['Working'], dtype=object),\n",
       " array(['Working'], dtype=object),\n",
       " array(['Commercial associate'], dtype=object),\n",
       " array(['Working'], dtype=object),\n",
       " array(['Commercial associate'], dtype=object),\n",
       " array(['Pensioner'], dtype=object),\n",
       " array(['Working'], dtype=object),\n",
       " array(['Pensioner'], dtype=object),\n",
       " array(['Working'], dtype=object),\n",
       " array(['Working'], dtype=object),\n",
       " array(['Commercial associate'], dtype=object),\n",
       " array(['Commercial associate'], dtype=object),\n",
       " array(['Commercial associate'], dtype=object),\n",
       " array(['State servant'], dtype=object),\n",
       " array(['Working'], dtype=object),\n",
       " array(['Working'], dtype=object),\n",
       " array(['State servant'], dtype=object),\n",
       " array(['Working'], dtype=object),\n",
       " array(['Commercial associate'], dtype=object),\n",
       " array(['Commercial associate'], dtype=object),\n",
       " array(['Working'], dtype=object),\n",
       " array(['State servant'], dtype=object),\n",
       " array(['Working'], dtype=object),\n",
       " array(['Working'], dtype=object),\n",
       " array(['Commercial associate'], dtype=object),\n",
       " array(['Working'], dtype=object),\n",
       " array(['Commercial associate'], dtype=object),\n",
       " array(['Pensioner'], dtype=object),\n",
       " array(['Working'], dtype=object),\n",
       " array(['Commercial associate'], dtype=object),\n",
       " array(['Commercial associate'], dtype=object),\n",
       " array(['State servant'], dtype=object),\n",
       " array(['Commercial associate'], dtype=object),\n",
       " array(['Pensioner'], dtype=object),\n",
       " array(['Working'], dtype=object),\n",
       " array(['Working'], dtype=object),\n",
       " array(['Working'], dtype=object),\n",
       " array(['Working'], dtype=object),\n",
       " array(['Commercial associate'], dtype=object),\n",
       " array(['Working'], dtype=object),\n",
       " array(['Pensioner'], dtype=object),\n",
       " array(['Commercial associate'], dtype=object),\n",
       " array(['Working'], dtype=object),\n",
       " array(['Pensioner'], dtype=object),\n",
       " array(['Working'], dtype=object),\n",
       " array(['Commercial associate'], dtype=object),\n",
       " array(['Working'], dtype=object),\n",
       " array(['Working'], dtype=object),\n",
       " array(['Pensioner'], dtype=object),\n",
       " array(['Working'], dtype=object),\n",
       " array(['State servant'], dtype=object),\n",
       " array(['State servant'], dtype=object),\n",
       " array(['Pensioner'], dtype=object),\n",
       " array(['Commercial associate'], dtype=object),\n",
       " array(['Working'], dtype=object),\n",
       " array(['Pensioner'], dtype=object),\n",
       " array(['Working'], dtype=object),\n",
       " array(['Pensioner'], dtype=object),\n",
       " array(['Pensioner'], dtype=object),\n",
       " array(['Commercial associate'], dtype=object),\n",
       " array(['Pensioner'], dtype=object),\n",
       " array(['Working'], dtype=object),\n",
       " array(['Working'], dtype=object),\n",
       " array(['Commercial associate'], dtype=object),\n",
       " array(['Working'], dtype=object),\n",
       " array(['State servant'], dtype=object),\n",
       " array(['Commercial associate'], dtype=object),\n",
       " array(['State servant'], dtype=object),\n",
       " array(['Commercial associate'], dtype=object),\n",
       " array(['Pensioner'], dtype=object),\n",
       " array(['Working'], dtype=object),\n",
       " array(['State servant'], dtype=object),\n",
       " array(['Working'], dtype=object),\n",
       " array(['Working'], dtype=object),\n",
       " array(['Working'], dtype=object),\n",
       " array(['Commercial associate'], dtype=object),\n",
       " array(['Commercial associate'], dtype=object),\n",
       " array(['Commercial associate'], dtype=object),\n",
       " array(['Commercial associate'], dtype=object),\n",
       " array(['Working'], dtype=object),\n",
       " array(['Pensioner'], dtype=object),\n",
       " array(['State servant'], dtype=object),\n",
       " array(['Working'], dtype=object),\n",
       " array(['Commercial associate'], dtype=object),\n",
       " array(['Working'], dtype=object),\n",
       " array(['Commercial associate'], dtype=object),\n",
       " array(['Commercial associate'], dtype=object),\n",
       " array(['Working'], dtype=object),\n",
       " array(['Working'], dtype=object),\n",
       " array(['State servant'], dtype=object),\n",
       " array(['Working'], dtype=object),\n",
       " array(['Working'], dtype=object),\n",
       " array(['Working'], dtype=object),\n",
       " array(['Pensioner'], dtype=object),\n",
       " array(['State servant'], dtype=object),\n",
       " array(['Commercial associate'], dtype=object),\n",
       " array(['Working'], dtype=object),\n",
       " array(['Commercial associate'], dtype=object),\n",
       " array(['Commercial associate'], dtype=object),\n",
       " array(['Commercial associate'], dtype=object),\n",
       " array(['Working'], dtype=object),\n",
       " array(['Working'], dtype=object),\n",
       " array(['Working'], dtype=object),\n",
       " array(['Commercial associate'], dtype=object),\n",
       " array(['Working'], dtype=object),\n",
       " array(['State servant'], dtype=object),\n",
       " array(['State servant'], dtype=object),\n",
       " array(['Working'], dtype=object),\n",
       " array(['Working'], dtype=object),\n",
       " array(['State servant'], dtype=object),\n",
       " array(['Working'], dtype=object),\n",
       " array(['State servant'], dtype=object),\n",
       " array(['Commercial associate'], dtype=object),\n",
       " array(['Commercial associate'], dtype=object),\n",
       " array(['Pensioner'], dtype=object),\n",
       " array(['Working'], dtype=object),\n",
       " array(['Working'], dtype=object),\n",
       " array(['Working'], dtype=object),\n",
       " array(['Working'], dtype=object),\n",
       " array(['Pensioner'], dtype=object),\n",
       " array(['Working'], dtype=object),\n",
       " array(['Pensioner'], dtype=object),\n",
       " array(['Working'], dtype=object),\n",
       " array(['Working'], dtype=object),\n",
       " array(['Working'], dtype=object),\n",
       " array(['Commercial associate'], dtype=object),\n",
       " array(['State servant'], dtype=object),\n",
       " array(['Working'], dtype=object),\n",
       " array(['Commercial associate'], dtype=object),\n",
       " array(['Working'], dtype=object),\n",
       " array(['Working'], dtype=object),\n",
       " array(['Commercial associate'], dtype=object),\n",
       " array(['Working'], dtype=object),\n",
       " array(['Pensioner'], dtype=object),\n",
       " array(['Pensioner'], dtype=object),\n",
       " array(['Working'], dtype=object),\n",
       " array(['Commercial associate'], dtype=object),\n",
       " array(['Working'], dtype=object),\n",
       " array(['Pensioner'], dtype=object),\n",
       " array(['Working'], dtype=object),\n",
       " array(['Pensioner'], dtype=object),\n",
       " array(['Pensioner'], dtype=object),\n",
       " array(['State servant'], dtype=object),\n",
       " array(['Working'], dtype=object),\n",
       " array(['Working'], dtype=object),\n",
       " array(['Commercial associate'], dtype=object),\n",
       " array(['Working'], dtype=object),\n",
       " array(['Commercial associate'], dtype=object),\n",
       " array(['Commercial associate'], dtype=object),\n",
       " array(['Commercial associate'], dtype=object),\n",
       " array(['Commercial associate'], dtype=object),\n",
       " array(['Pensioner'], dtype=object),\n",
       " array(['Working'], dtype=object),\n",
       " array(['Working'], dtype=object),\n",
       " array(['Commercial associate'], dtype=object),\n",
       " array(['Working'], dtype=object),\n",
       " array(['Commercial associate'], dtype=object),\n",
       " array(['Working'], dtype=object),\n",
       " array(['Commercial associate'], dtype=object),\n",
       " array(['Pensioner'], dtype=object),\n",
       " array(['State servant'], dtype=object),\n",
       " array(['Working'], dtype=object),\n",
       " array(['Commercial associate'], dtype=object),\n",
       " array(['State servant'], dtype=object),\n",
       " array(['Commercial associate'], dtype=object),\n",
       " array(['Working'], dtype=object),\n",
       " array(['Pensioner'], dtype=object),\n",
       " array(['Working'], dtype=object),\n",
       " array(['Working'], dtype=object),\n",
       " array(['Working'], dtype=object),\n",
       " array(['Working'], dtype=object),\n",
       " array(['Working'], dtype=object),\n",
       " array(['Pensioner'], dtype=object),\n",
       " array(['Pensioner'], dtype=object),\n",
       " array(['Commercial associate'], dtype=object),\n",
       " array(['Pensioner'], dtype=object),\n",
       " array(['Commercial associate'], dtype=object),\n",
       " array(['State servant'], dtype=object),\n",
       " array(['Pensioner'], dtype=object),\n",
       " array(['Pensioner'], dtype=object),\n",
       " array(['Commercial associate'], dtype=object),\n",
       " array(['State servant'], dtype=object),\n",
       " array(['Pensioner'], dtype=object),\n",
       " array(['Pensioner'], dtype=object),\n",
       " array(['Working'], dtype=object),\n",
       " array(['Working'], dtype=object),\n",
       " array(['State servant'], dtype=object),\n",
       " array(['Pensioner'], dtype=object),\n",
       " array(['Working'], dtype=object),\n",
       " array(['Pensioner'], dtype=object),\n",
       " array(['Working'], dtype=object),\n",
       " array(['Working'], dtype=object),\n",
       " array(['Commercial associate'], dtype=object),\n",
       " array(['State servant'], dtype=object),\n",
       " array(['Commercial associate'], dtype=object),\n",
       " array(['Working'], dtype=object),\n",
       " array(['Working'], dtype=object),\n",
       " array(['Working'], dtype=object),\n",
       " array(['Working'], dtype=object),\n",
       " array(['Commercial associate'], dtype=object),\n",
       " array(['Commercial associate'], dtype=object),\n",
       " array(['Pensioner'], dtype=object),\n",
       " array(['State servant'], dtype=object),\n",
       " array(['Working'], dtype=object),\n",
       " array(['Working'], dtype=object),\n",
       " array(['Pensioner'], dtype=object),\n",
       " array(['Commercial associate'], dtype=object),\n",
       " array(['Commercial associate'], dtype=object),\n",
       " array(['Working'], dtype=object),\n",
       " array(['State servant'], dtype=object),\n",
       " array(['Commercial associate'], dtype=object),\n",
       " array(['Pensioner'], dtype=object),\n",
       " array(['Working'], dtype=object),\n",
       " array(['Working'], dtype=object),\n",
       " array(['Working'], dtype=object),\n",
       " array(['Pensioner'], dtype=object),\n",
       " array(['Pensioner'], dtype=object),\n",
       " array(['State servant'], dtype=object),\n",
       " array(['Working'], dtype=object),\n",
       " array(['Working'], dtype=object),\n",
       " array(['Working'], dtype=object),\n",
       " array(['State servant'], dtype=object),\n",
       " array(['Pensioner'], dtype=object),\n",
       " array(['Pensioner'], dtype=object),\n",
       " array(['State servant'], dtype=object),\n",
       " array(['Pensioner'], dtype=object),\n",
       " array(['State servant'], dtype=object),\n",
       " array(['Commercial associate'], dtype=object),\n",
       " array(['Working'], dtype=object),\n",
       " array(['Pensioner'], dtype=object),\n",
       " array(['Commercial associate'], dtype=object),\n",
       " array(['Commercial associate'], dtype=object),\n",
       " array(['Working'], dtype=object),\n",
       " array(['Commercial associate'], dtype=object),\n",
       " array(['Working'], dtype=object),\n",
       " array(['Working'], dtype=object),\n",
       " array(['State servant'], dtype=object),\n",
       " array(['Working'], dtype=object),\n",
       " array(['Commercial associate'], dtype=object),\n",
       " array(['Working'], dtype=object),\n",
       " array(['Commercial associate'], dtype=object),\n",
       " array(['Commercial associate'], dtype=object),\n",
       " array(['Working'], dtype=object),\n",
       " array(['Working'], dtype=object),\n",
       " array(['Working'], dtype=object),\n",
       " array(['Commercial associate'], dtype=object),\n",
       " array(['Commercial associate'], dtype=object),\n",
       " array(['Working'], dtype=object),\n",
       " array(['Pensioner'], dtype=object),\n",
       " array(['Commercial associate'], dtype=object),\n",
       " array(['State servant'], dtype=object),\n",
       " array(['Commercial associate'], dtype=object),\n",
       " array(['Working'], dtype=object),\n",
       " array(['Pensioner'], dtype=object),\n",
       " array(['Commercial associate'], dtype=object),\n",
       " array(['State servant'], dtype=object),\n",
       " array(['Working'], dtype=object),\n",
       " array(['Working'], dtype=object),\n",
       " array(['Working'], dtype=object),\n",
       " array(['Commercial associate'], dtype=object),\n",
       " array(['Pensioner'], dtype=object),\n",
       " array(['Working'], dtype=object),\n",
       " array(['Commercial associate'], dtype=object),\n",
       " array(['Working'], dtype=object),\n",
       " array(['Commercial associate'], dtype=object),\n",
       " array(['Working'], dtype=object),\n",
       " array(['Working'], dtype=object),\n",
       " array(['Commercial associate'], dtype=object),\n",
       " array(['Working'], dtype=object),\n",
       " array(['Pensioner'], dtype=object),\n",
       " array(['Working'], dtype=object),\n",
       " array(['Working'], dtype=object),\n",
       " array(['Working'], dtype=object),\n",
       " array(['State servant'], dtype=object),\n",
       " array(['Working'], dtype=object),\n",
       " array(['Pensioner'], dtype=object),\n",
       " array(['Pensioner'], dtype=object),\n",
       " array(['Pensioner'], dtype=object),\n",
       " array(['Pensioner'], dtype=object),\n",
       " array(['Working'], dtype=object),\n",
       " array(['Commercial associate'], dtype=object),\n",
       " array(['Working'], dtype=object),\n",
       " array(['Commercial associate'], dtype=object),\n",
       " array(['Pensioner'], dtype=object),\n",
       " array(['Pensioner'], dtype=object),\n",
       " array(['Pensioner'], dtype=object),\n",
       " array(['Commercial associate'], dtype=object),\n",
       " array(['Working'], dtype=object),\n",
       " array(['Working'], dtype=object),\n",
       " array(['Working'], dtype=object),\n",
       " array(['Working'], dtype=object),\n",
       " array(['Pensioner'], dtype=object),\n",
       " array(['Working'], dtype=object),\n",
       " array(['Pensioner'], dtype=object),\n",
       " array(['Working'], dtype=object),\n",
       " array(['Working'], dtype=object),\n",
       " array(['Pensioner'], dtype=object),\n",
       " array(['Commercial associate'], dtype=object),\n",
       " array(['Working'], dtype=object),\n",
       " array(['Commercial associate'], dtype=object),\n",
       " array(['Pensioner'], dtype=object),\n",
       " array(['Working'], dtype=object),\n",
       " array(['Commercial associate'], dtype=object),\n",
       " array(['Commercial associate'], dtype=object),\n",
       " array(['Commercial associate'], dtype=object),\n",
       " array(['Pensioner'], dtype=object),\n",
       " array(['State servant'], dtype=object),\n",
       " array(['Commercial associate'], dtype=object),\n",
       " array(['Working'], dtype=object),\n",
       " array(['Working'], dtype=object),\n",
       " array(['Commercial associate'], dtype=object),\n",
       " array(['Working'], dtype=object),\n",
       " array(['Working'], dtype=object),\n",
       " array(['Commercial associate'], dtype=object),\n",
       " array(['Working'], dtype=object),\n",
       " array(['State servant'], dtype=object),\n",
       " array(['Working'], dtype=object),\n",
       " array(['Working'], dtype=object),\n",
       " array(['Working'], dtype=object),\n",
       " array(['Working'], dtype=object),\n",
       " array(['Pensioner'], dtype=object),\n",
       " array(['Working'], dtype=object),\n",
       " array(['Pensioner'], dtype=object),\n",
       " array(['Commercial associate'], dtype=object),\n",
       " array(['Working'], dtype=object),\n",
       " array(['Working'], dtype=object),\n",
       " array(['Working'], dtype=object),\n",
       " array(['Commercial associate'], dtype=object),\n",
       " array(['State servant'], dtype=object),\n",
       " array(['Commercial associate'], dtype=object),\n",
       " array(['Working'], dtype=object),\n",
       " array(['Working'], dtype=object),\n",
       " array(['Working'], dtype=object),\n",
       " array(['Pensioner'], dtype=object),\n",
       " array(['Working'], dtype=object),\n",
       " array(['Working'], dtype=object),\n",
       " array(['Working'], dtype=object),\n",
       " array(['Working'], dtype=object),\n",
       " array(['Working'], dtype=object),\n",
       " array(['Working'], dtype=object),\n",
       " array(['Working'], dtype=object),\n",
       " array(['Working'], dtype=object),\n",
       " array(['Working'], dtype=object),\n",
       " array(['Commercial associate'], dtype=object),\n",
       " array(['Pensioner'], dtype=object),\n",
       " array(['State servant'], dtype=object),\n",
       " array(['Pensioner'], dtype=object),\n",
       " array(['Working'], dtype=object),\n",
       " array(['Pensioner'], dtype=object),\n",
       " array(['State servant'], dtype=object),\n",
       " array(['Working'], dtype=object),\n",
       " array(['Pensioner'], dtype=object),\n",
       " array(['Commercial associate'], dtype=object),\n",
       " array(['Working'], dtype=object),\n",
       " array(['Pensioner'], dtype=object),\n",
       " array(['Working'], dtype=object),\n",
       " array(['Commercial associate'], dtype=object),\n",
       " array(['Working'], dtype=object),\n",
       " array(['Commercial associate'], dtype=object),\n",
       " array(['Working'], dtype=object),\n",
       " array(['State servant'], dtype=object),\n",
       " array(['Working'], dtype=object),\n",
       " array(['Working'], dtype=object),\n",
       " array(['Working'], dtype=object),\n",
       " array(['Pensioner'], dtype=object),\n",
       " array(['Working'], dtype=object),\n",
       " array(['Working'], dtype=object),\n",
       " array(['Working'], dtype=object),\n",
       " array(['Pensioner'], dtype=object),\n",
       " array(['Pensioner'], dtype=object),\n",
       " array(['Working'], dtype=object),\n",
       " array(['Working'], dtype=object),\n",
       " array(['Working'], dtype=object),\n",
       " array(['Pensioner'], dtype=object),\n",
       " array(['State servant'], dtype=object),\n",
       " array(['Pensioner'], dtype=object),\n",
       " array(['Working'], dtype=object),\n",
       " array(['Commercial associate'], dtype=object),\n",
       " array(['Pensioner'], dtype=object),\n",
       " array(['Working'], dtype=object),\n",
       " array(['Pensioner'], dtype=object),\n",
       " array(['Commercial associate'], dtype=object),\n",
       " array(['State servant'], dtype=object),\n",
       " array(['Working'], dtype=object),\n",
       " array(['Pensioner'], dtype=object),\n",
       " array(['Working'], dtype=object),\n",
       " array(['Working'], dtype=object),\n",
       " array(['Commercial associate'], dtype=object),\n",
       " array(['Working'], dtype=object),\n",
       " array(['Working'], dtype=object),\n",
       " array(['Working'], dtype=object),\n",
       " array(['Working'], dtype=object),\n",
       " array(['Working'], dtype=object),\n",
       " array(['Working'], dtype=object),\n",
       " array(['Pensioner'], dtype=object),\n",
       " array(['Working'], dtype=object),\n",
       " array(['Working'], dtype=object),\n",
       " array(['Pensioner'], dtype=object),\n",
       " array(['Working'], dtype=object),\n",
       " array(['Pensioner'], dtype=object),\n",
       " array(['Working'], dtype=object),\n",
       " array(['Commercial associate'], dtype=object),\n",
       " array(['Working'], dtype=object),\n",
       " array(['Working'], dtype=object),\n",
       " array(['Working'], dtype=object),\n",
       " array(['Pensioner'], dtype=object),\n",
       " array(['Pensioner'], dtype=object),\n",
       " array(['Pensioner'], dtype=object),\n",
       " array(['Working'], dtype=object),\n",
       " array(['Working'], dtype=object),\n",
       " array(['Commercial associate'], dtype=object),\n",
       " array(['State servant'], dtype=object),\n",
       " array(['Commercial associate'], dtype=object),\n",
       " array(['Working'], dtype=object),\n",
       " array(['Working'], dtype=object),\n",
       " array(['Working'], dtype=object),\n",
       " array(['Working'], dtype=object),\n",
       " array(['Working'], dtype=object),\n",
       " array(['Working'], dtype=object),\n",
       " array(['Working'], dtype=object),\n",
       " array(['Working'], dtype=object),\n",
       " array(['Working'], dtype=object),\n",
       " array(['Working'], dtype=object),\n",
       " array(['Commercial associate'], dtype=object),\n",
       " array(['Working'], dtype=object),\n",
       " array(['Pensioner'], dtype=object),\n",
       " array(['Working'], dtype=object),\n",
       " array(['Pensioner'], dtype=object),\n",
       " array(['Working'], dtype=object),\n",
       " array(['Working'], dtype=object),\n",
       " array(['Commercial associate'], dtype=object),\n",
       " array(['Commercial associate'], dtype=object),\n",
       " array(['Working'], dtype=object),\n",
       " array(['Working'], dtype=object),\n",
       " array(['Working'], dtype=object),\n",
       " array(['Pensioner'], dtype=object),\n",
       " array(['Commercial associate'], dtype=object),\n",
       " array(['Working'], dtype=object),\n",
       " array(['Commercial associate'], dtype=object),\n",
       " array(['Commercial associate'], dtype=object),\n",
       " array(['Pensioner'], dtype=object),\n",
       " array(['Working'], dtype=object),\n",
       " array(['Working'], dtype=object),\n",
       " array(['Working'], dtype=object),\n",
       " array(['State servant'], dtype=object),\n",
       " array(['Working'], dtype=object),\n",
       " array(['Pensioner'], dtype=object),\n",
       " array(['Working'], dtype=object),\n",
       " array(['Working'], dtype=object),\n",
       " array(['Working'], dtype=object),\n",
       " array(['Working'], dtype=object),\n",
       " array(['Pensioner'], dtype=object),\n",
       " array(['Commercial associate'], dtype=object),\n",
       " array(['Commercial associate'], dtype=object),\n",
       " array(['Working'], dtype=object),\n",
       " array(['Commercial associate'], dtype=object),\n",
       " array(['Working'], dtype=object),\n",
       " array(['Working'], dtype=object),\n",
       " array(['Working'], dtype=object),\n",
       " array(['Commercial associate'], dtype=object),\n",
       " array(['Working'], dtype=object),\n",
       " array(['Commercial associate'], dtype=object),\n",
       " array(['Commercial associate'], dtype=object),\n",
       " array(['State servant'], dtype=object),\n",
       " array(['Commercial associate'], dtype=object),\n",
       " array(['Commercial associate'], dtype=object),\n",
       " array(['Commercial associate'], dtype=object),\n",
       " array(['Commercial associate'], dtype=object),\n",
       " array(['Pensioner'], dtype=object),\n",
       " array(['Working'], dtype=object),\n",
       " array(['Working'], dtype=object),\n",
       " array(['Working'], dtype=object),\n",
       " array(['Working'], dtype=object),\n",
       " array(['Commercial associate'], dtype=object),\n",
       " array(['Working'], dtype=object),\n",
       " array(['Commercial associate'], dtype=object),\n",
       " array(['Working'], dtype=object),\n",
       " array(['Working'], dtype=object),\n",
       " array(['Working'], dtype=object),\n",
       " array(['Commercial associate'], dtype=object),\n",
       " array(['State servant'], dtype=object),\n",
       " array(['Commercial associate'], dtype=object),\n",
       " array(['Pensioner'], dtype=object),\n",
       " array(['State servant'], dtype=object),\n",
       " array(['Working'], dtype=object),\n",
       " array(['State servant'], dtype=object),\n",
       " array(['State servant'], dtype=object),\n",
       " array(['Working'], dtype=object),\n",
       " array(['Working'], dtype=object),\n",
       " array(['Working'], dtype=object),\n",
       " array(['Pensioner'], dtype=object),\n",
       " array(['Pensioner'], dtype=object),\n",
       " array(['Pensioner'], dtype=object),\n",
       " array(['Commercial associate'], dtype=object),\n",
       " array(['Pensioner'], dtype=object),\n",
       " array(['Pensioner'], dtype=object),\n",
       " array(['Pensioner'], dtype=object),\n",
       " array(['Working'], dtype=object),\n",
       " array(['Commercial associate'], dtype=object),\n",
       " array(['Pensioner'], dtype=object),\n",
       " array(['Pensioner'], dtype=object),\n",
       " array(['State servant'], dtype=object),\n",
       " array(['Working'], dtype=object),\n",
       " array(['Working'], dtype=object),\n",
       " array(['Working'], dtype=object),\n",
       " array(['Working'], dtype=object),\n",
       " array(['Working'], dtype=object),\n",
       " array(['Working'], dtype=object),\n",
       " array(['Pensioner'], dtype=object),\n",
       " array(['Commercial associate'], dtype=object),\n",
       " array(['Working'], dtype=object),\n",
       " array(['Working'], dtype=object),\n",
       " array(['Working'], dtype=object),\n",
       " array(['Commercial associate'], dtype=object),\n",
       " array(['Pensioner'], dtype=object),\n",
       " array(['Working'], dtype=object),\n",
       " array(['Working'], dtype=object),\n",
       " array(['Commercial associate'], dtype=object),\n",
       " array(['Working'], dtype=object),\n",
       " array(['Working'], dtype=object),\n",
       " array(['Pensioner'], dtype=object),\n",
       " array(['Commercial associate'], dtype=object),\n",
       " array(['Working'], dtype=object),\n",
       " array(['Working'], dtype=object),\n",
       " array(['Working'], dtype=object),\n",
       " array(['Pensioner'], dtype=object),\n",
       " array(['Working'], dtype=object),\n",
       " array(['Pensioner'], dtype=object),\n",
       " array(['State servant'], dtype=object),\n",
       " array(['Pensioner'], dtype=object),\n",
       " array(['Commercial associate'], dtype=object),\n",
       " array(['State servant'], dtype=object),\n",
       " array(['Working'], dtype=object),\n",
       " array(['Working'], dtype=object),\n",
       " array(['Working'], dtype=object),\n",
       " array(['Working'], dtype=object),\n",
       " array(['Working'], dtype=object),\n",
       " array(['Commercial associate'], dtype=object),\n",
       " array(['State servant'], dtype=object),\n",
       " array(['Commercial associate'], dtype=object),\n",
       " array(['Working'], dtype=object),\n",
       " array(['Working'], dtype=object),\n",
       " array(['Commercial associate'], dtype=object),\n",
       " array(['Working'], dtype=object),\n",
       " array(['Pensioner'], dtype=object),\n",
       " array(['Working'], dtype=object),\n",
       " array(['Pensioner'], dtype=object),\n",
       " array(['Commercial associate'], dtype=object),\n",
       " array(['Pensioner'], dtype=object),\n",
       " array(['Pensioner'], dtype=object),\n",
       " array(['Working'], dtype=object),\n",
       " array(['Working'], dtype=object),\n",
       " array(['Commercial associate'], dtype=object),\n",
       " array(['Working'], dtype=object),\n",
       " array(['Pensioner'], dtype=object),\n",
       " array(['Commercial associate'], dtype=object),\n",
       " array(['Working'], dtype=object),\n",
       " array(['Commercial associate'], dtype=object),\n",
       " array(['Working'], dtype=object),\n",
       " array(['Working'], dtype=object),\n",
       " array(['Working'], dtype=object),\n",
       " array(['Working'], dtype=object),\n",
       " array(['Pensioner'], dtype=object),\n",
       " array(['Pensioner'], dtype=object),\n",
       " array(['Commercial associate'], dtype=object),\n",
       " array(['Working'], dtype=object),\n",
       " array(['Working'], dtype=object),\n",
       " array(['Working'], dtype=object),\n",
       " array(['Working'], dtype=object),\n",
       " array(['Commercial associate'], dtype=object),\n",
       " array(['Working'], dtype=object),\n",
       " array(['State servant'], dtype=object),\n",
       " array(['Pensioner'], dtype=object),\n",
       " array(['Working'], dtype=object),\n",
       " array(['Working'], dtype=object),\n",
       " array(['Working'], dtype=object),\n",
       " array(['Working'], dtype=object),\n",
       " array(['Commercial associate'], dtype=object),\n",
       " array(['Working'], dtype=object),\n",
       " array(['Pensioner'], dtype=object),\n",
       " array(['Working'], dtype=object),\n",
       " array(['Pensioner'], dtype=object),\n",
       " array(['Commercial associate'], dtype=object),\n",
       " array(['State servant'], dtype=object),\n",
       " array(['Working'], dtype=object),\n",
       " array(['Pensioner'], dtype=object),\n",
       " array(['Pensioner'], dtype=object),\n",
       " array(['Commercial associate'], dtype=object),\n",
       " array(['Working'], dtype=object),\n",
       " array(['Working'], dtype=object),\n",
       " array(['Working'], dtype=object),\n",
       " array(['Working'], dtype=object),\n",
       " array(['State servant'], dtype=object),\n",
       " array(['Pensioner'], dtype=object),\n",
       " array(['Working'], dtype=object),\n",
       " array(['Working'], dtype=object),\n",
       " array(['Pensioner'], dtype=object),\n",
       " array(['Working'], dtype=object),\n",
       " array(['Working'], dtype=object),\n",
       " array(['Working'], dtype=object),\n",
       " array(['Working'], dtype=object),\n",
       " array(['Working'], dtype=object),\n",
       " array(['State servant'], dtype=object),\n",
       " array(['Working'], dtype=object),\n",
       " array(['State servant'], dtype=object),\n",
       " array(['State servant'], dtype=object),\n",
       " array(['Working'], dtype=object),\n",
       " array(['Pensioner'], dtype=object),\n",
       " array(['Working'], dtype=object),\n",
       " array(['State servant'], dtype=object),\n",
       " array(['Commercial associate'], dtype=object),\n",
       " array(['Commercial associate'], dtype=object),\n",
       " array(['Pensioner'], dtype=object),\n",
       " array(['Working'], dtype=object),\n",
       " array(['Working'], dtype=object),\n",
       " array(['Commercial associate'], dtype=object),\n",
       " array(['Working'], dtype=object),\n",
       " array(['Commercial associate'], dtype=object),\n",
       " array(['State servant'], dtype=object),\n",
       " array(['Working'], dtype=object),\n",
       " array(['Working'], dtype=object),\n",
       " array(['Commercial associate'], dtype=object),\n",
       " array(['Pensioner'], dtype=object),\n",
       " array(['Commercial associate'], dtype=object),\n",
       " array(['Working'], dtype=object),\n",
       " array(['State servant'], dtype=object),\n",
       " array(['State servant'], dtype=object),\n",
       " array(['Pensioner'], dtype=object),\n",
       " array(['Working'], dtype=object),\n",
       " array(['Working'], dtype=object),\n",
       " array(['Commercial associate'], dtype=object),\n",
       " array(['Working'], dtype=object),\n",
       " array(['Pensioner'], dtype=object),\n",
       " array(['Working'], dtype=object),\n",
       " array(['Working'], dtype=object),\n",
       " array(['Pensioner'], dtype=object),\n",
       " array(['Pensioner'], dtype=object),\n",
       " array(['Working'], dtype=object),\n",
       " array(['Pensioner'], dtype=object),\n",
       " array(['Working'], dtype=object),\n",
       " array(['Working'], dtype=object),\n",
       " array(['Working'], dtype=object),\n",
       " array(['Working'], dtype=object),\n",
       " array(['Working'], dtype=object),\n",
       " array(['Commercial associate'], dtype=object),\n",
       " array(['Commercial associate'], dtype=object),\n",
       " array(['Commercial associate'], dtype=object),\n",
       " array(['Working'], dtype=object),\n",
       " array(['Pensioner'], dtype=object),\n",
       " array(['Working'], dtype=object),\n",
       " array(['Working'], dtype=object),\n",
       " array(['Commercial associate'], dtype=object),\n",
       " array(['Working'], dtype=object),\n",
       " array(['State servant'], dtype=object),\n",
       " array(['Working'], dtype=object),\n",
       " array(['Pensioner'], dtype=object),\n",
       " array(['Working'], dtype=object),\n",
       " array(['Working'], dtype=object),\n",
       " array(['State servant'], dtype=object),\n",
       " array(['Commercial associate'], dtype=object),\n",
       " array(['Pensioner'], dtype=object),\n",
       " array(['Working'], dtype=object),\n",
       " array(['Working'], dtype=object),\n",
       " array(['State servant'], dtype=object),\n",
       " array(['Commercial associate'], dtype=object),\n",
       " array(['Working'], dtype=object),\n",
       " array(['Working'], dtype=object),\n",
       " array(['Commercial associate'], dtype=object),\n",
       " array(['Commercial associate'], dtype=object),\n",
       " array(['Working'], dtype=object),\n",
       " array(['Working'], dtype=object),\n",
       " array(['State servant'], dtype=object),\n",
       " array(['Commercial associate'], dtype=object),\n",
       " array(['Commercial associate'], dtype=object),\n",
       " array(['Commercial associate'], dtype=object),\n",
       " array(['Working'], dtype=object),\n",
       " array(['Working'], dtype=object),\n",
       " array(['Working'], dtype=object),\n",
       " array(['Working'], dtype=object),\n",
       " array(['Working'], dtype=object),\n",
       " array(['State servant'], dtype=object),\n",
       " array(['Pensioner'], dtype=object),\n",
       " array(['Commercial associate'], dtype=object),\n",
       " array(['Working'], dtype=object),\n",
       " array(['Working'], dtype=object),\n",
       " array(['Working'], dtype=object),\n",
       " array(['Working'], dtype=object),\n",
       " array(['Working'], dtype=object),\n",
       " array(['Working'], dtype=object),\n",
       " array(['Commercial associate'], dtype=object),\n",
       " array(['Working'], dtype=object),\n",
       " array(['Working'], dtype=object),\n",
       " array(['Working'], dtype=object),\n",
       " array(['Working'], dtype=object),\n",
       " array(['Working'], dtype=object),\n",
       " array(['Commercial associate'], dtype=object),\n",
       " array(['Working'], dtype=object),\n",
       " array(['Commercial associate'], dtype=object),\n",
       " array(['Commercial associate'], dtype=object),\n",
       " array(['Commercial associate'], dtype=object),\n",
       " array(['Commercial associate'], dtype=object),\n",
       " array(['Pensioner'], dtype=object),\n",
       " array(['Commercial associate'], dtype=object),\n",
       " array(['Working'], dtype=object),\n",
       " array(['Working'], dtype=object),\n",
       " array(['Commercial associate'], dtype=object),\n",
       " array(['Working'], dtype=object),\n",
       " array(['Commercial associate'], dtype=object),\n",
       " array(['Pensioner'], dtype=object),\n",
       " array(['Working'], dtype=object),\n",
       " array(['Commercial associate'], dtype=object),\n",
       " array(['Working'], dtype=object),\n",
       " array(['Working'], dtype=object),\n",
       " array(['Working'], dtype=object),\n",
       " array(['Working'], dtype=object),\n",
       " array(['Working'], dtype=object),\n",
       " array(['Working'], dtype=object),\n",
       " array(['State servant'], dtype=object),\n",
       " array(['Working'], dtype=object),\n",
       " array(['State servant'], dtype=object),\n",
       " array(['Pensioner'], dtype=object),\n",
       " array(['Working'], dtype=object),\n",
       " array(['Pensioner'], dtype=object),\n",
       " array(['Commercial associate'], dtype=object),\n",
       " array(['Working'], dtype=object),\n",
       " array(['Commercial associate'], dtype=object),\n",
       " array(['Working'], dtype=object),\n",
       " array(['Working'], dtype=object),\n",
       " array(['Working'], dtype=object),\n",
       " array(['Pensioner'], dtype=object),\n",
       " array(['Working'], dtype=object),\n",
       " array(['Commercial associate'], dtype=object),\n",
       " array(['Pensioner'], dtype=object),\n",
       " array(['Pensioner'], dtype=object),\n",
       " array(['Commercial associate'], dtype=object),\n",
       " array(['State servant'], dtype=object),\n",
       " array(['Working'], dtype=object),\n",
       " array(['State servant'], dtype=object),\n",
       " array(['Working'], dtype=object),\n",
       " array(['Working'], dtype=object),\n",
       " array(['Working'], dtype=object),\n",
       " array(['Commercial associate'], dtype=object),\n",
       " array(['Pensioner'], dtype=object),\n",
       " array(['Working'], dtype=object),\n",
       " array(['Working'], dtype=object),\n",
       " array(['Working'], dtype=object),\n",
       " array(['Working'], dtype=object),\n",
       " array(['Working'], dtype=object),\n",
       " array(['Pensioner'], dtype=object),\n",
       " array(['Commercial associate'], dtype=object),\n",
       " array(['Pensioner'], dtype=object),\n",
       " array(['Working'], dtype=object),\n",
       " array(['Working'], dtype=object),\n",
       " array(['Working'], dtype=object),\n",
       " array(['Pensioner'], dtype=object),\n",
       " array(['Working'], dtype=object),\n",
       " array(['Working'], dtype=object),\n",
       " array(['Pensioner'], dtype=object),\n",
       " array(['State servant'], dtype=object),\n",
       " array(['Working'], dtype=object),\n",
       " array(['Working'], dtype=object),\n",
       " array(['Working'], dtype=object),\n",
       " array(['Working'], dtype=object),\n",
       " array(['Working'], dtype=object),\n",
       " array(['Working'], dtype=object),\n",
       " array(['Pensioner'], dtype=object),\n",
       " array(['Pensioner'], dtype=object),\n",
       " array(['Pensioner'], dtype=object),\n",
       " array(['Working'], dtype=object),\n",
       " array(['Working'], dtype=object),\n",
       " array(['Commercial associate'], dtype=object),\n",
       " array(['Working'], dtype=object),\n",
       " array(['Pensioner'], dtype=object),\n",
       " array(['Commercial associate'], dtype=object),\n",
       " array(['Working'], dtype=object),\n",
       " array(['Working'], dtype=object),\n",
       " ...]"
      ]
     },
     "execution_count": 12,
     "metadata": {},
     "output_type": "execute_result"
    }
   ],
   "source": [
    "train_data"
   ]
  },
  {
   "cell_type": "code",
   "execution_count": 573,
   "metadata": {},
   "outputs": [],
   "source": [
    "def oversample(x, n):\n",
    "    lst = []\n",
    "    for i in x:\n",
    "        tmp = []\n",
    "        for j in range(n):\n",
    "            random.shuffle(i)\n",
    "            tmp += list(i)\n",
    "            lst.append(tmp)\n",
    "    return lst"
   ]
  },
  {
   "cell_type": "code",
   "execution_count": 574,
   "metadata": {},
   "outputs": [],
   "source": [
    "w2v_input = oversample(train_data, 5)"
   ]
  },
  {
   "cell_type": "code",
   "execution_count": 575,
   "metadata": {},
   "outputs": [],
   "source": [
    "from gensim.models import word2vec\n",
    "\n",
    "w2v = word2vec.Word2Vec(sentences = w2v_input, size = 30, window = 3, min_count = 1, sg = 1)"
   ]
  },
  {
   "cell_type": "code",
   "execution_count": 576,
   "metadata": {},
   "outputs": [
    {
     "name": "stderr",
     "output_type": "stream",
     "text": [
      "100%|█████████████████████████████████████████████████████████████████████████| 26457/26457 [00:00<00:00, 65454.17it/s]\n"
     ]
    }
   ],
   "source": [
    "train_mean_vector = []\n",
    "for words in tqdm(train_data):\n",
    "    tmp = np.zeros(30)\n",
    "    cnt = 0\n",
    "    for word in words:\n",
    "        try:\n",
    "            tmp += w2v[word]\n",
    "            cnt += 1\n",
    "        except:\n",
    "            pass\n",
    "    tmp /= cnt\n",
    "    train_mean_vector.append(tmp)\n",
    "train_mean_vector = np.array(train_mean_vector)"
   ]
  },
  {
   "cell_type": "code",
   "execution_count": 577,
   "metadata": {
    "scrolled": true
   },
   "outputs": [
    {
     "name": "stderr",
     "output_type": "stream",
     "text": [
      "100%|█████████████████████████████████████████████████████████████████████████| 10000/10000 [00:00<00:00, 46713.57it/s]\n"
     ]
    }
   ],
   "source": [
    "test_mean_vector = []\n",
    "for words in tqdm(test_data):\n",
    "    tmp = np.zeros(30)\n",
    "    cnt = 0\n",
    "    for word in words:\n",
    "        try:\n",
    "            tmp += w2v[word]\n",
    "            cnt += 1\n",
    "        except:\n",
    "            pass\n",
    "    tmp /= cnt\n",
    "    test_mean_vector.append(tmp)\n",
    "test_mean_vector = np.array(test_mean_vector)"
   ]
  },
  {
   "cell_type": "code",
   "execution_count": 578,
   "metadata": {},
   "outputs": [],
   "source": [
    "trn2 = trn.copy()\n",
    "tst2 = tst.copy()\n",
    "trn2 = trn2.reset_index()\n",
    "tst2 = tst2.reset_index()"
   ]
  },
  {
   "cell_type": "code",
   "execution_count": 579,
   "metadata": {},
   "outputs": [],
   "source": [
    "train_data = list(trn2.groupby('index')['income_age_type'].unique())\n",
    "test_data = list(tst2.groupby('index')['income_age_type'].unique())"
   ]
  },
  {
   "cell_type": "code",
   "execution_count": 580,
   "metadata": {},
   "outputs": [],
   "source": [
    "w2v_input = oversample(train_data, 5)"
   ]
  },
  {
   "cell_type": "code",
   "execution_count": 581,
   "metadata": {},
   "outputs": [],
   "source": [
    "w2v = word2vec.Word2Vec(sentences = w2v_input, size = 30, window = 3, min_count = 1, sg = 1)"
   ]
  },
  {
   "cell_type": "code",
   "execution_count": 582,
   "metadata": {},
   "outputs": [
    {
     "name": "stderr",
     "output_type": "stream",
     "text": [
      "100%|█████████████████████████████████████████████████████████████████████████| 26457/26457 [00:00<00:00, 65972.02it/s]\n"
     ]
    }
   ],
   "source": [
    "train_mean_vector2 = []\n",
    "for words in tqdm(train_data):\n",
    "    tmp = np.zeros(30)\n",
    "    cnt = 0\n",
    "    for word in words:\n",
    "        try:\n",
    "            tmp += w2v[word]\n",
    "            cnt += 1\n",
    "        except:\n",
    "            pass\n",
    "    tmp /= cnt\n",
    "    train_mean_vector2.append(tmp)\n",
    "train_mean_vector2 = np.array(train_mean_vector2)"
   ]
  },
  {
   "cell_type": "code",
   "execution_count": 583,
   "metadata": {},
   "outputs": [
    {
     "name": "stderr",
     "output_type": "stream",
     "text": [
      "100%|█████████████████████████████████████████████████████████████████████████| 10000/10000 [00:00<00:00, 72448.49it/s]\n"
     ]
    }
   ],
   "source": [
    "test_mean_vector2 = []\n",
    "for words in tqdm(test_data):\n",
    "    tmp = np.zeros(30)\n",
    "    cnt = 0\n",
    "    for word in words:\n",
    "        try:\n",
    "            tmp += w2v[word]\n",
    "            cnt += 1\n",
    "        except:\n",
    "            pass\n",
    "    tmp /= cnt\n",
    "    test_mean_vector2.append(tmp)\n",
    "test_mean_vector2 = np.array(test_mean_vector2)"
   ]
  },
  {
   "cell_type": "code",
   "execution_count": 37,
   "metadata": {},
   "outputs": [],
   "source": [
    "trn['car_before>mean'] = trn['car'].astype(str) + \"_\" + trn['before_EMPLOYED>mean'].astype(str)\n",
    "tst['car_before>mean'] = tst['car'].astype(str) + \"_\" + tst['before_EMPLOYED>mean'].astype(str)\n",
    "\n",
    "trn['car_income>mean'] = trn['car'].astype(str) + \"_\" + trn['income>mean'].astype(str)\n",
    "tst['car_income>mean'] = tst['car'].astype(str) + \"_\" + tst['income>mean'].astype(str)\n",
    "\n",
    "trn['car_begin_month>mean'] = trn['car'].astype(str) + \"_\" + trn['begin_month>mean'].astype(str)\n",
    "tst['car_begin_month>mean'] = tst['car'].astype(str) + \"_\" + tst['begin_month>mean'].astype(str)\n",
    "\n",
    "trn['car_income_type'] = trn['car'].astype(str) + \"_\" + trn['income_type'].astype(str)\n",
    "tst['car_income_type'] = tst['car'].astype(str) + \"_\" + tst['income_type'].astype(str)\n",
    "\n",
    "trn['car_begin_month>mean_occyp'] = trn['car'].astype(str) + \"_\" + trn['begin_month>mean'].astype(str) + \"_\" + trn['occyp_type'].astype(str)\n",
    "tst['car_begin_month>mean_occyp'] = tst['car'].astype(str) + \"_\" + tst['begin_month>mean'].astype(str) + \"_\" + tst['occyp_type'].astype(str)"
   ]
  },
  {
   "cell_type": "code",
   "execution_count": 38,
   "metadata": {},
   "outputs": [],
   "source": [
    "trn['child_it']=trn['child_num'].apply(lambda x: 1 if x >0 else 0)\n",
    "tst['child_it']=tst['child_num'].apply(lambda x: 1 if x >0 else 0)\n",
    "trn['marry_child']='no'\n",
    "tst['marry_child']='no'"
   ]
  },
  {
   "cell_type": "code",
   "execution_count": 39,
   "metadata": {},
   "outputs": [],
   "source": [
    "trn.loc[trn[trn.family_type=='Separated'][trn.child_it==1].index,'marry_child']='sep_ch'\n",
    "trn.loc[trn[trn.family_type=='Single / not married'][trn.child_it==1].index,'marry_child']='sin_ch'\n",
    "trn.loc[trn[trn.family_type=='Widow'][trn.child_it==1].index,'marry_child']='wid_ch'\n",
    "\n",
    "tst.loc[tst[tst.family_type=='Separated'][tst.child_it==1].index,'marry_child']='sep_ch'\n",
    "tst.loc[tst[tst.family_type=='Single / not married'][tst.child_it==1].index,'marry_child']='sin_ch'\n",
    "tst.loc[tst[tst.family_type=='Widow'][tst.child_it==1].index,'marry_child']='wid_ch'"
   ]
  },
  {
   "cell_type": "code",
   "execution_count": 40,
   "metadata": {},
   "outputs": [],
   "source": [
    "trn.drop('child_it', axis=1, inplace=True)\n",
    "tst.drop('child_it', axis=1, inplace=True)"
   ]
  },
  {
   "cell_type": "code",
   "execution_count": 41,
   "metadata": {},
   "outputs": [
    {
     "name": "stdout",
     "output_type": "stream",
     "text": [
      "70 23 47\n"
     ]
    }
   ],
   "source": [
    "cat_cols = [x for x in trn.columns if trn[x].dtype == 'object']\n",
    "num_cols = [x for x in trn.columns if x not in cat_cols + [target_col]]\n",
    "\n",
    "feature_cols = num_cols + cat_cols\n",
    "print(len(feature_cols), len(cat_cols), len(num_cols))"
   ]
  },
  {
   "cell_type": "code",
   "execution_count": 42,
   "metadata": {},
   "outputs": [
    {
     "data": {
      "text/plain": [
       "Index([], dtype='object')"
      ]
     },
     "execution_count": 42,
     "metadata": {},
     "output_type": "execute_result"
    }
   ],
   "source": [
    "trn.columns[trn.isnull().sum()>0]\n",
    "tst.columns[tst.isnull().sum()>0]"
   ]
  },
  {
   "cell_type": "markdown",
   "metadata": {},
   "source": [
    "# 추가한 것"
   ]
  },
  {
   "cell_type": "code",
   "execution_count": 43,
   "metadata": {},
   "outputs": [],
   "source": [
    "trn['contect']=trn['work_phone']+trn['phone']+trn['email']+1\n",
    "tst['contect']=tst['work_phone']+tst['phone']+tst['email']+1"
   ]
  },
  {
   "cell_type": "code",
   "execution_count": 591,
   "metadata": {},
   "outputs": [],
   "source": [
    "#trn['begin_birth']=trn.begin_month*trn.DAYS_BIRTH\n",
    "#tst['begin_birth']=tst.begin_month*tst.DAYS_BIRTH"
   ]
  },
  {
   "cell_type": "code",
   "execution_count": 592,
   "metadata": {},
   "outputs": [],
   "source": [
    "#trn['begin_birth_@']=trn.DAYS_BIRTH**trn.begin_month\n",
    "#tst['begin_birth_@']=tst.DAYS_BIRTH**tst.begin_month"
   ]
  },
  {
   "cell_type": "code",
   "execution_count": 593,
   "metadata": {},
   "outputs": [],
   "source": [
    "#trn['begin_EMPLOYED']=trn.begin_month*trn.DAYS_EMPLOYED\n",
    "#tst['begin_EMPLOYED']=tst.begin_month*tst.DAYS_EMPLOYED"
   ]
  },
  {
   "cell_type": "code",
   "execution_count": 594,
   "metadata": {},
   "outputs": [],
   "source": [
    "#trn['begin_EMPLOYED_@']=trn.DAYS_EMPLOYED**trn.begin_month\n",
    "#tst['begin_EMPLOYED_@']=tst.DAYS_EMPLOYED**tst.begin_month"
   ]
  },
  {
   "cell_type": "code",
   "execution_count": 595,
   "metadata": {},
   "outputs": [],
   "source": [
    "#trn['begin_before_EMPLOYED']=trn.begin_month*trn.before_EMPLOYED\n",
    "#tst['begin_before_EMPLOYED']=tst.begin_month*tst.before_EMPLOYED"
   ]
  },
  {
   "cell_type": "code",
   "execution_count": 596,
   "metadata": {},
   "outputs": [],
   "source": [
    "#trn['begin_before_EMPLOYED_@']=trn.before_EMPLOYED**trn.begin_month\n",
    "#tst['begin_before_EMPLOYED_@']=tst.before_EMPLOYED**tst.begin_month"
   ]
  },
  {
   "cell_type": "code",
   "execution_count": 597,
   "metadata": {},
   "outputs": [],
   "source": [
    "#trn['begin_before_EMPLOYED_BIRTH_ratio']=trn.begin_month*trn.before_EMPLOYED_BIRTH_ratio\n",
    "#tst['begin_before_EMPLOYED_BIRTH_ratio']=tst.begin_month*tst.before_EMPLOYED_BIRTH_ratio"
   ]
  },
  {
   "cell_type": "code",
   "execution_count": 598,
   "metadata": {},
   "outputs": [],
   "source": [
    "#trn['begin_before_EMPLOYED_BIRTH_ratio_@']=trn.before_EMPLOYED_BIRTH_ratio**trn.begin_month\n",
    "#tst['begin_before_EMPLOYED_BIRTH_ratio_@']=tst.before_EMPLOYED_BIRTH_ratio**tst.begin_month"
   ]
  },
  {
   "cell_type": "code",
   "execution_count": 599,
   "metadata": {},
   "outputs": [],
   "source": [
    "#trn['begin_before_EMPLOYED_ratio']=trn.begin_month*trn.before_EMPLOYED_ratio\n",
    "#tst['begin_before_EMPLOYED_ratio']=tst.begin_month*tst.before_EMPLOYED_ratio"
   ]
  },
  {
   "cell_type": "code",
   "execution_count": 600,
   "metadata": {},
   "outputs": [],
   "source": [
    "#trn['begin_before_EMPLOYED_ratio_@']=trn.before_EMPLOYED_ratio**trn.begin_month\n",
    "#tst['begin_before_EMPLOYED_ratio_@']=tst.before_EMPLOYED_ratio**tst.begin_month"
   ]
  },
  {
   "cell_type": "code",
   "execution_count": 601,
   "metadata": {
    "scrolled": false
   },
   "outputs": [
    {
     "data": {
      "text/plain": [
       "<AxesSubplot:>"
      ]
     },
     "execution_count": 601,
     "metadata": {},
     "output_type": "execute_result"
    },
    {
     "data": {
      "image/png": "[encoded data removed]",
      "text/plain": [
       "<Figure size 1440x1152 with 2 Axes>"
      ]
     },
     "metadata": {},
     "output_type": "display_data"
    }
   ],
   "source": [
    "fig,ax=plt.subplots(figsize=(20,16))\n",
    "colormap = plt.cm.PuBu \n",
    "sns.heatmap(abs(trn.corr()).iloc[9:10,10:].T, cmap=colormap, annot=True, vmin=-0.5, vmax=1, linewidths=1.5, annot_kws = {\"size\" : 15})"
   ]
  },
  {
   "cell_type": "code",
   "execution_count": 44,
   "metadata": {},
   "outputs": [
    {
     "name": "stdout",
     "output_type": "stream",
     "text": [
      "71 23 48\n"
     ]
    }
   ],
   "source": [
    "cat_cols = [x for x in trn.columns if trn[x].dtype == 'object']\n",
    "num_cols = [x for x in trn.columns if x not in cat_cols + [target_col]]\n",
    "\n",
    "feature_cols = num_cols + cat_cols\n",
    "print(len(feature_cols), len(cat_cols), len(num_cols))"
   ]
  },
  {
   "cell_type": "code",
   "execution_count": 45,
   "metadata": {},
   "outputs": [],
   "source": [
    "trn['income_total']=np.log1p(trn['income_total'])\n",
    "tst['income_total']=np.log1p(tst['income_total'])\n",
    "#############################################################"
   ]
  },
  {
   "cell_type": "code",
   "execution_count": 46,
   "metadata": {},
   "outputs": [],
   "source": [
    "from sklearn.preprocessing import StandardScaler\n",
    "scaler = StandardScaler()\n",
    "trn[num_cols] = scaler.fit_transform(trn[num_cols])\n",
    "tst[num_cols] = scaler.transform(tst[num_cols])"
   ]
  },
  {
   "cell_type": "code",
   "execution_count": 605,
   "metadata": {},
   "outputs": [],
   "source": [
    "#from sklearn.preprocessing import PolynomialFeatures\n",
    "#poly = PolynomialFeatures(2, include_bias=True)"
   ]
  },
  {
   "cell_type": "code",
   "execution_count": 606,
   "metadata": {},
   "outputs": [],
   "source": [
    "#trn_num=trn[num_cols]\n",
    "#tst_num=tst[num_cols]"
   ]
  },
  {
   "cell_type": "code",
   "execution_count": 607,
   "metadata": {},
   "outputs": [],
   "source": [
    "#trn_num = poly.fit_transform(trn_num)\n",
    "#tst_num = poly.transform(tst_num)"
   ]
  },
  {
   "cell_type": "code",
   "execution_count": 608,
   "metadata": {},
   "outputs": [],
   "source": [
    "#trn_num=pd.DataFrame(data=trn_num, columns=poly.get_feature_names())"
   ]
  },
  {
   "cell_type": "code",
   "execution_count": 609,
   "metadata": {},
   "outputs": [],
   "source": [
    "#tst_num=pd.DataFrame(data=tst_num, columns=poly.get_feature_names())"
   ]
  },
  {
   "cell_type": "code",
   "execution_count": 610,
   "metadata": {},
   "outputs": [],
   "source": [
    "#trn.drop(num_cols, axis=1, inplace=True)\n",
    "#tst.drop(num_cols, axis=1, inplace=True)"
   ]
  },
  {
   "cell_type": "code",
   "execution_count": 47,
   "metadata": {},
   "outputs": [],
   "source": [
    "from sklearn.preprocessing import LabelEncoder"
   ]
  },
  {
   "cell_type": "code",
   "execution_count": 48,
   "metadata": {},
   "outputs": [],
   "source": [
    "lbe = LabelEncoder()"
   ]
  },
  {
   "cell_type": "code",
   "execution_count": 49,
   "metadata": {},
   "outputs": [],
   "source": [
    "for i in cat_cols:\n",
    "    trn[i]=lbe.fit_transform(trn[i])"
   ]
  },
  {
   "cell_type": "code",
   "execution_count": 50,
   "metadata": {},
   "outputs": [],
   "source": [
    "for i in cat_cols:\n",
    "    tst[i]=lbe.fit_transform(tst[i])"
   ]
  },
  {
   "cell_type": "code",
   "execution_count": 459,
   "metadata": {},
   "outputs": [],
   "source": [
    "#trn[cat_cols] = lbe.fit_transform(trn[cat_cols])\n",
    "#tst[cat_cols] = lbe.transform(tst[cat_cols])"
   ]
  },
  {
   "cell_type": "code",
   "execution_count": 460,
   "metadata": {},
   "outputs": [],
   "source": [
    "#trn = pd.concat([trn, pd.get_dummies(trn[cat_cols])], axis=1)\n",
    "#trn.drop(cat_cols, axis=1, inplace=True)"
   ]
  },
  {
   "cell_type": "code",
   "execution_count": 461,
   "metadata": {},
   "outputs": [],
   "source": [
    "#tst = pd.concat([tst, pd.get_dummies(tst[cat_cols])], axis=1)\n",
    "#tst.drop(cat_cols, axis=1, inplace=True)"
   ]
  },
  {
   "cell_type": "code",
   "execution_count": 619,
   "metadata": {},
   "outputs": [],
   "source": [
    "train_mean_vector = pd.DataFrame(train_mean_vector)\n",
    "train_mean_vector.index = trn.index\n",
    "trn = pd.concat([trn, train_mean_vector], axis=1)\n",
    "\n",
    "test_mean_vector = pd.DataFrame(test_mean_vector)\n",
    "test_mean_vector.index = tst.index\n",
    "tst = pd.concat([tst, test_mean_vector], axis=1)"
   ]
  },
  {
   "cell_type": "code",
   "execution_count": 622,
   "metadata": {},
   "outputs": [],
   "source": [
    "train_mean_vector2 = pd.DataFrame(train_mean_vector2)\n",
    "train_mean_vector2.index = trn.index\n",
    "trn = pd.concat([trn, train_mean_vector2], axis=1)\n",
    "\n",
    "test_mean_vector2 = pd.DataFrame(test_mean_vector2)\n",
    "test_mean_vector2.index = tst.index\n",
    "tst = pd.concat([tst, test_mean_vector2], axis=1)"
   ]
  },
  {
   "cell_type": "code",
   "execution_count": 533,
   "metadata": {},
   "outputs": [],
   "source": [
    "#tst_num.set_index(tst.index,inplace=True)"
   ]
  },
  {
   "cell_type": "code",
   "execution_count": 534,
   "metadata": {},
   "outputs": [],
   "source": [
    "#trn = pd.concat([trn, trn_num], axis=1)\n",
    "#tst = pd.concat([tst, tst_num], axis=1)"
   ]
  },
  {
   "cell_type": "code",
   "execution_count": 535,
   "metadata": {},
   "outputs": [],
   "source": [
    "#trn[num_cols] = np.log1p(trn[num_cols])\n",
    "#tst[num_cols] = np.log1p(trn[num_cols])"
   ]
  },
  {
   "cell_type": "code",
   "execution_count": 51,
   "metadata": {},
   "outputs": [],
   "source": [
    "y = trn[target_col]\n",
    "n_trn = trn.shape[0]\n",
    "X = trn.drop(target_col, axis=1)\n",
    "X_tst = tst"
   ]
  },
  {
   "cell_type": "code",
   "execution_count": 52,
   "metadata": {},
   "outputs": [],
   "source": [
    "y=y.reset_index()"
   ]
  },
  {
   "cell_type": "code",
   "execution_count": 53,
   "metadata": {},
   "outputs": [],
   "source": [
    "y.drop('index',axis=1,inplace=True)"
   ]
  },
  {
   "cell_type": "code",
   "execution_count": 54,
   "metadata": {},
   "outputs": [],
   "source": [
    "X_tst.fillna(0,inplace=True)"
   ]
  },
  {
   "cell_type": "code",
   "execution_count": 55,
   "metadata": {
    "scrolled": true
   },
   "outputs": [
    {
     "data": {
      "text/plain": [
       "((26457, 71), (10000, 71), (26457, 1))"
      ]
     },
     "execution_count": 55,
     "metadata": {},
     "output_type": "execute_result"
    }
   ],
   "source": [
    "X.shape, X_tst.shape, y.shape"
   ]
  },
  {
   "cell_type": "code",
   "execution_count": 56,
   "metadata": {},
   "outputs": [],
   "source": [
    "target=y"
   ]
  },
  {
   "cell_type": "code",
   "execution_count": 57,
   "metadata": {},
   "outputs": [],
   "source": [
    "from sklearn.linear_model import LogisticRegression\n",
    "from sklearn.model_selection import cross_validate\n",
    "from tqdm import tqdm\n",
    "# Evaluation\n",
    "from sklearn.metrics import roc_auc_score\n",
    "from sklearn.metrics import accuracy_score\n",
    "from sklearn.model_selection import cross_val_score\n",
    "from sklearn.feature_selection import SelectPercentile\n",
    "\n",
    "from sklearn.metrics import accuracy_score, log_loss\n",
    "from sklearn.metrics import f1_score\n",
    "from tensorflow.keras.utils import to_categorical\n",
    "from sklearn.model_selection import KFold, StratifiedKFold\n",
    "from sklearn.ensemble import RandomForestClassifier, ExtraTreesClassifier\n",
    "from lightgbm import LGBMClassifier\n",
    "from xgboost import XGBClassifier"
   ]
  },
  {
   "cell_type": "code",
   "execution_count": 58,
   "metadata": {},
   "outputs": [
    {
     "name": "stderr",
     "output_type": "stream",
     "text": [
      "100%|██████████████████████████████████████████████████████████████████████████████████| 95/95 [08:07<00:00,  5.14s/it]"
     ]
    },
    {
     "name": "stdout",
     "output_type": "stream",
     "text": [
      "(33, -0.7400816454106227)\n"
     ]
    },
    {
     "name": "stderr",
     "output_type": "stream",
     "text": [
      "\n"
     ]
    },
    {
     "data": {
      "image/png": "[encoded data removed]",
      "text/plain": [
       "<Figure size 432x288 with 1 Axes>"
      ]
     },
     "metadata": {},
     "output_type": "display_data"
    }
   ],
   "source": [
    "# 학습용과 제출용 데이터로 분리\n",
    "features = pd.concat([X, X_tst], axis=0)\n",
    "X_train = X\n",
    "X_test = X_tst\n",
    "\n",
    "# 사용할 모델 설정 (속도가 빠른 모델 사용 권장)\n",
    "model = LGBMClassifier(random_state=0)\n",
    "\n",
    "# 각 특성과 타깃(class) 사이에 유의한 통계적 관계가 있는지 계산하여 특성을 선택하는 방법 \n",
    "cv_scores = []\n",
    "for p in tqdm(range(5,100,1)):\n",
    "    #X_new = SelectPercentile(percentile=p).fit_transform(X_train, target)    #SelectPercentile: 지정된 비율만큼 특성을 선택한다.\n",
    "    X_new = RFE(model, n_features_to_select=p, step=10).fit_transform(X_train, target)\n",
    "    cv_score = cross_val_score(model, X_new, target, scoring='neg_log_loss', cv=5).mean()\n",
    "    cv_scores.append((p,cv_score))\n",
    "\n",
    "# Print the best percentile\n",
    "best_score = cv_scores[np.argmax([score for _, score in cv_scores])]\n",
    "print(best_score)\n",
    "\n",
    "# Plot the performance change with p\n",
    "plt.plot([k for k, _ in cv_scores], [score for _, score in cv_scores])\n",
    "plt.xlabel('Percent of features')\n",
    "plt.grid()"
   ]
  },
  {
   "cell_type": "code",
   "execution_count": 59,
   "metadata": {},
   "outputs": [
    {
     "name": "stdout",
     "output_type": "stream",
     "text": [
      "(26457, 33)\n",
      "['income_total', 'DAYS_BIRTH', 'DAYS_EMPLOYED', 'occyp_type', 'begin_month', 'DAYS_BIRTH_year', 'DAYS_BIRTH_Aday', 'DAYS_BIRTH_day', 'DAYS_BIRTH_week', 'DAYS_EMPLOYED_week', 'EMPLOYED_START', 'mean_income_family', 'income_day', 'income_month', 'income_year', 'income_begin_ratio', 'family_age_ratio', 'family_income_ratio', 'before_EMPLOYED', 'before_EMPLOYED_BIRTH_ratio', 'National_age', 'dup', 'income_occyp_type', 'income_age_type', 'edu_occyp_type', 'edu_income_type', 'family_income_type', 'personal_id', 'personal_begin_id', 'g_r_c', 'p_w_e', 'car_income_type', 'car_begin_month>mean_occyp']\n"
     ]
    }
   ],
   "source": [
    "# 과적합을 피하기 위해 최적의 p값 주변의 값을 선택하는게 더 나은 결과를 얻을 수 있다. \n",
    "#fs = SelectPercentile(percentile=best_score[0]).fit(X_train, y)\n",
    "#X_train = fs.transform(X_train)\n",
    "#X_test = fs.transform(X_test)\n",
    "fs = RFE(estimator=LGBMClassifier(random_state=0), n_features_to_select=best_score[0], step=10)\n",
    "X_train = fs.fit_transform(X_train, target)\n",
    "X_test = fs.transform(X_test)\n",
    "\n",
    "print(X_train.shape)\n",
    "print(features.columns[fs.get_support()].tolist())"
   ]
  },
  {
   "cell_type": "markdown",
   "metadata": {},
   "source": [
    "### Model Training"
   ]
  },
  {
   "cell_type": "markdown",
   "metadata": {},
   "source": [
    "#### 5-fold Cross Validation + AutoLGB"
   ]
  },
  {
   "cell_type": "code",
   "execution_count": 637,
   "metadata": {},
   "outputs": [
    {
     "data": {
      "text/plain": [
       "((26457, 96), (10000, 96), (26457, 1))"
      ]
     },
     "execution_count": 637,
     "metadata": {},
     "output_type": "execute_result"
    }
   ],
   "source": [
    "X_train.shape,X_test.shape,target.shape"
   ]
  },
  {
   "cell_type": "code",
   "execution_count": 70,
   "metadata": {
    "scrolled": true
   },
   "outputs": [
    {
     "name": "stdout",
     "output_type": "stream",
     "text": [
      "CV Log Loss: 1.098612\n"
     ]
    }
   ],
   "source": [
    "print(f'CV Log Loss: {log_loss(y, p):.6f}')\n",
    "np.savetxt(predict_val_file, p, fmt='%.6f')\n",
    "np.savetxt(predict_tst_file, p_tst, fmt='%.6f')"
   ]
  },
  {
   "cell_type": "code",
   "execution_count": 170,
   "metadata": {
    "scrolled": true
   },
   "outputs": [
    {
     "data": {
      "text/html": [
       "<div>\n",
       "<style scoped>\n",
       "    .dataframe tbody tr th:only-of-type {\n",
       "        vertical-align: middle;\n",
       "    }\n",
       "\n",
       "    .dataframe tbody tr th {\n",
       "        vertical-align: top;\n",
       "    }\n",
       "\n",
       "    .dataframe thead th {\n",
       "        text-align: right;\n",
       "    }\n",
       "</style>\n",
       "<table border=\"1\" class=\"dataframe\">\n",
       "  <thead>\n",
       "    <tr style=\"text-align: right;\">\n",
       "      <th></th>\n",
       "      <th>0</th>\n",
       "      <th>1</th>\n",
       "      <th>2</th>\n",
       "    </tr>\n",
       "    <tr>\n",
       "      <th>index</th>\n",
       "      <th></th>\n",
       "      <th></th>\n",
       "      <th></th>\n",
       "    </tr>\n",
       "  </thead>\n",
       "  <tbody>\n",
       "    <tr>\n",
       "      <th>26457</th>\n",
       "      <td>0.085760</td>\n",
       "      <td>0.171326</td>\n",
       "      <td>0.742913</td>\n",
       "    </tr>\n",
       "    <tr>\n",
       "      <th>26458</th>\n",
       "      <td>0.140151</td>\n",
       "      <td>0.160011</td>\n",
       "      <td>0.699838</td>\n",
       "    </tr>\n",
       "    <tr>\n",
       "      <th>26459</th>\n",
       "      <td>0.082076</td>\n",
       "      <td>0.118417</td>\n",
       "      <td>0.799507</td>\n",
       "    </tr>\n",
       "    <tr>\n",
       "      <th>26460</th>\n",
       "      <td>0.102079</td>\n",
       "      <td>0.142700</td>\n",
       "      <td>0.755221</td>\n",
       "    </tr>\n",
       "    <tr>\n",
       "      <th>26461</th>\n",
       "      <td>0.108594</td>\n",
       "      <td>0.167827</td>\n",
       "      <td>0.723579</td>\n",
       "    </tr>\n",
       "  </tbody>\n",
       "</table>\n",
       "</div>"
      ],
      "text/plain": [
       "              0         1         2\n",
       "index                              \n",
       "26457  0.085760  0.171326  0.742913\n",
       "26458  0.140151  0.160011  0.699838\n",
       "26459  0.082076  0.118417  0.799507\n",
       "26460  0.102079  0.142700  0.755221\n",
       "26461  0.108594  0.167827  0.723579"
      ]
     },
     "execution_count": 170,
     "metadata": {},
     "output_type": "execute_result"
    }
   ],
   "source": [
    "sub[sub.columns] = p_tst\n",
    "sub.head()"
   ]
  },
  {
   "cell_type": "code",
   "execution_count": 33,
   "metadata": {},
   "outputs": [],
   "source": [
    "sub.to_csv('0514(feature+w2v).csv')"
   ]
  },
  {
   "cell_type": "markdown",
   "metadata": {},
   "source": [
    "#### LGBM 모델"
   ]
  },
  {
   "cell_type": "code",
   "execution_count": 60,
   "metadata": {},
   "outputs": [],
   "source": [
    "ftr=X_train\n",
    "target=y"
   ]
  },
  {
   "cell_type": "code",
   "execution_count": 61,
   "metadata": {},
   "outputs": [
    {
     "data": {
      "text/plain": [
       "((18519, 33), (7938, 33))"
      ]
     },
     "execution_count": 61,
     "metadata": {},
     "output_type": "execute_result"
    }
   ],
   "source": [
    "from sklearn.model_selection import train_test_split\n",
    "\n",
    "train_x, valid_x, train_y, valid_y = train_test_split(ftr, target, test_size=0.3, random_state=0)\n",
    "train_x.shape, valid_x.shape"
   ]
  },
  {
   "cell_type": "code",
   "execution_count": 62,
   "metadata": {},
   "outputs": [],
   "source": [
    "from lightgbm import LGBMClassifier\n",
    "\n",
    "clf = LGBMClassifier(\n",
    "        n_jobs=-1,\n",
    "        n_estimators=1000,\n",
    "        learning_rate=0.02,\n",
    "        num_leaves=32,\n",
    "        subsample=0.8,\n",
    "        max_depth=12,\n",
    "        silent=-1,\n",
    "        verbose=-1\n",
    "        )"
   ]
  },
  {
   "cell_type": "code",
   "execution_count": 63,
   "metadata": {},
   "outputs": [
    {
     "name": "stdout",
     "output_type": "stream",
     "text": [
      "Training until validation scores don't improve for 50 rounds\n",
      "[100]\ttraining's multi_logloss: 0.762208\tvalid_1's multi_logloss: 0.790793\n",
      "[200]\ttraining's multi_logloss: 0.716007\tvalid_1's multi_logloss: 0.76951\n",
      "[300]\ttraining's multi_logloss: 0.68029\tvalid_1's multi_logloss: 0.755661\n",
      "[400]\ttraining's multi_logloss: 0.651267\tvalid_1's multi_logloss: 0.74592\n",
      "[500]\ttraining's multi_logloss: 0.626434\tvalid_1's multi_logloss: 0.738783\n",
      "[600]\ttraining's multi_logloss: 0.603786\tvalid_1's multi_logloss: 0.733891\n",
      "[700]\ttraining's multi_logloss: 0.582287\tvalid_1's multi_logloss: 0.728659\n",
      "[800]\ttraining's multi_logloss: 0.562608\tvalid_1's multi_logloss: 0.725181\n",
      "[900]\ttraining's multi_logloss: 0.543591\tvalid_1's multi_logloss: 0.721956\n",
      "[1000]\ttraining's multi_logloss: 0.525187\tvalid_1's multi_logloss: 0.71903\n",
      "Did not meet early stopping. Best iteration is:\n",
      "[1000]\ttraining's multi_logloss: 0.525187\tvalid_1's multi_logloss: 0.71903\n"
     ]
    },
    {
     "data": {
      "text/plain": [
       "LGBMClassifier(learning_rate=0.02, max_depth=12, n_estimators=1000,\n",
       "               num_leaves=32, silent=-1, subsample=0.8, verbose=-1)"
      ]
     },
     "execution_count": 63,
     "metadata": {},
     "output_type": "execute_result"
    }
   ],
   "source": [
    "clf.fit(train_x, train_y, eval_set=[(train_x, train_y), (valid_x, valid_y)], eval_metric='logloss', \n",
    "        verbose=100, early_stopping_rounds=50)"
   ]
  },
  {
   "cell_type": "code",
   "execution_count": 64,
   "metadata": {
    "collapsed": true
   },
   "outputs": [
    {
     "data": {
      "text/plain": [
       "<AxesSubplot:title={'center':'Feature importance'}, xlabel='Feature importance', ylabel='Features'>"
      ]
     },
     "execution_count": 64,
     "metadata": {},
     "output_type": "execute_result"
    },
    {
     "data": {
      "image/png": "[encoded data removed]",
      "text/plain": [
       "<Figure size 1440x2880 with 1 Axes>"
      ]
     },
     "metadata": {},
     "output_type": "display_data"
    }
   ],
   "source": [
    "from lightgbm import plot_importance\n",
    "\n",
    "plot_importance(clf, figsize=(20, 40), max_num_features=200)"
   ]
  },
  {
   "cell_type": "markdown",
   "metadata": {},
   "source": [
    "#### Feature Selection & Cross Validation"
   ]
  },
  {
   "cell_type": "code",
   "execution_count": 638,
   "metadata": {},
   "outputs": [],
   "source": [
    "ftr=X_train\n",
    "target=y"
   ]
  },
  {
   "cell_type": "code",
   "execution_count": 284,
   "metadata": {},
   "outputs": [
    {
     "name": "stdout",
     "output_type": "stream",
     "text": [
      "time : 196.06027913093567\n"
     ]
    }
   ],
   "source": [
    "import time\n",
    "from sklearn.feature_selection import SelectFromModel\n",
    "\n",
    "start = time.time()\n",
    "\n",
    "smf = SelectFromModel(clf, threshold='median')\n",
    "smf.fit(ftr, target)\n",
    "X_new = smf.transform(ftr)\n",
    "X_te_new = smf.transform(X_tst)\n",
    "feature_idx = smf.get_support()\n",
    "feature_name = ftr.columns[feature_idx]\n",
    "\n",
    "print(\"time :\", time.time() - start)"
   ]
  },
  {
   "cell_type": "code",
   "execution_count": 285,
   "metadata": {},
   "outputs": [
    {
     "data": {
      "text/plain": [
       "Index([                   'reality',                   'edu_type',\n",
       "                       'occyp_type',          'income_occyp_type',\n",
       "                   'edu_occyp_type',            'edu_income_type',\n",
       "               'family_income_type',            'car_income_type',\n",
       "       'car_begin_month>mean_occyp',                            0,\n",
       "       ...\n",
       "                            'x42^2',                    'x42 x44',\n",
       "                          'x42 x45',                      'x44^2',\n",
       "                          'x44 x45',                      'x45^2',\n",
       "                          'x45 x47',                      'x46^2',\n",
       "                          'x46 x47',                      'x47^2'],\n",
       "      dtype='object', length=660)"
      ]
     },
     "execution_count": 285,
     "metadata": {},
     "output_type": "execute_result"
    }
   ],
   "source": [
    "ftr.columns[feature_idx]"
   ]
  },
  {
   "cell_type": "code",
   "execution_count": 286,
   "metadata": {},
   "outputs": [],
   "source": [
    "X_new = pd.DataFrame(X_new)\n",
    "X_te_new = pd.DataFrame(X_te_new)\n",
    "\n",
    "X_new.columns = feature_name\n",
    "X_te_new.columns = feature_name"
   ]
  },
  {
   "cell_type": "code",
   "execution_count": 287,
   "metadata": {},
   "outputs": [
    {
     "name": "stdout",
     "output_type": "stream",
     "text": [
      "교차 검증별 정확도: [-0.7056 -0.7137 -0.7191 -0.7171 -0.714 ]\n",
      "평균 검증 정확도: -0.7139\n"
     ]
    }
   ],
   "source": [
    "from sklearn.model_selection import cross_val_score\n",
    "\n",
    "scores = cross_val_score(clf, X_new, target, scoring='neg_log_loss', cv=5)\n",
    "print('교차 검증별 정확도:', np.round(scores, 4))\n",
    "print('평균 검증 정확도:', np.round(np.mean(scores), 4))"
   ]
  },
  {
   "cell_type": "markdown",
   "metadata": {},
   "source": [
    "#### Bayesian Opt"
   ]
  },
  {
   "cell_type": "code",
   "execution_count": 65,
   "metadata": {},
   "outputs": [],
   "source": [
    "ftr = X_train"
   ]
  },
  {
   "cell_type": "code",
   "execution_count": 66,
   "metadata": {},
   "outputs": [],
   "source": [
    "from bayes_opt import BayesianOptimization"
   ]
  },
  {
   "cell_type": "code",
   "execution_count": 67,
   "metadata": {},
   "outputs": [
    {
     "data": {
      "text/plain": [
       "((18519, 33), (7938, 33))"
      ]
     },
     "execution_count": 67,
     "metadata": {},
     "output_type": "execute_result"
    }
   ],
   "source": [
    "from sklearn.model_selection import train_test_split\n",
    "train_x, valid_x, train_y, valid_y = train_test_split(ftr, target, test_size=0.3, random_state=0)\n",
    "train_x.shape, valid_x.shape"
   ]
  },
  {
   "cell_type": "code",
   "execution_count": 68,
   "metadata": {},
   "outputs": [],
   "source": [
    "bayesian_params = {\n",
    "    'max_depth':(8, 16),\n",
    "    'num_leaves':(24, 64),\n",
    "    'min_child_samples':(10, 200),\n",
    "    'min_child_weight':(1, 50),\n",
    "    'subsample':(0.5, 1),\n",
    "    'colsample_bytree':(0.5, 1),\n",
    "    'max_bin':(10, 500),\n",
    "    'reg_lambda':(0.001, 10),\n",
    "    'reg_alpha':(0.01, 50)\n",
    "}"
   ]
  },
  {
   "cell_type": "code",
   "execution_count": 69,
   "metadata": {},
   "outputs": [],
   "source": [
    "def lgb_log_eval(max_depth, num_leaves, min_child_samples, min_child_weight, subsample, \n",
    "                colsample_bytree, max_bin, reg_lambda, reg_alpha):\n",
    "    \n",
    "    params = {\n",
    "        \"n_estimators\":2000, \n",
    "        \"learning_rate\":0.02,\n",
    "        'max_depth':int(round(max_depth)),\n",
    "        'num_leaves':int(round(num_leaves)),\n",
    "        'min_child_samples': int(round(min_child_samples)),\n",
    "        'min_child_weight': int(round(min_child_weight)),\n",
    "        'subsample':max(min(subsample, 1), 0),\n",
    "        'colsample_bytree':max(min(colsample_bytree, 1), 0),\n",
    "        'reg_lambda': max(reg_lambda,0),\n",
    "        'reg_alpha': max(reg_alpha, 0)\n",
    "    }\n",
    "    \n",
    "    lgb_model = LGBMClassifier(**params)\n",
    "    lgb_model.fit(train_x, train_y, eval_set=[(train_x, train_y), (valid_x, valid_y)], eval_metric='logloss', verbose=100, \n",
    "                early_stopping_rounds=100)\n",
    "    valid_pred = lgb_model.predict_proba(valid_x)\n",
    "    log_score = log_loss(valid_y, valid_pred)\n",
    "    \n",
    "    return log_score"
   ]
  },
  {
   "cell_type": "code",
   "execution_count": 70,
   "metadata": {
    "scrolled": true
   },
   "outputs": [
    {
     "name": "stdout",
     "output_type": "stream",
     "text": [
      "|   iter    |  target   | colsam... |  max_bin  | max_depth | min_ch... | min_ch... | num_le... | reg_alpha | reg_la... | subsample |\n",
      "-------------------------------------------------------------------------------------------------------------------------------------\n",
      "Training until validation scores don't improve for 100 rounds\n",
      "[100]\ttraining's multi_logloss: 0.803787\tvalid_1's multi_logloss: 0.809477\n",
      "[200]\ttraining's multi_logloss: 0.775699\tvalid_1's multi_logloss: 0.794218\n",
      "[300]\ttraining's multi_logloss: 0.756229\tvalid_1's multi_logloss: 0.786432\n",
      "[400]\ttraining's multi_logloss: 0.740576\tvalid_1's multi_logloss: 0.780151\n",
      "[500]\ttraining's multi_logloss: 0.729395\tvalid_1's multi_logloss: 0.776215\n",
      "[600]\ttraining's multi_logloss: 0.721677\tvalid_1's multi_logloss: 0.773782\n",
      "[700]\ttraining's multi_logloss: 0.714707\tvalid_1's multi_logloss: 0.771466\n",
      "[800]\ttraining's multi_logloss: 0.710688\tvalid_1's multi_logloss: 0.770247\n",
      "[900]\ttraining's multi_logloss: 0.708995\tvalid_1's multi_logloss: 0.769601\n",
      "[1000]\ttraining's multi_logloss: 0.707824\tvalid_1's multi_logloss: 0.769237\n",
      "[1100]\ttraining's multi_logloss: 0.707343\tvalid_1's multi_logloss: 0.769107\n",
      "[1200]\ttraining's multi_logloss: 0.707284\tvalid_1's multi_logloss: 0.769115\n",
      "Early stopping, best iteration is:\n",
      "[1100]\ttraining's multi_logloss: 0.707343\tvalid_1's multi_logloss: 0.769107\n",
      "| \u001b[0m 1       \u001b[0m | \u001b[0m 0.7691  \u001b[0m | \u001b[0m 0.7744  \u001b[0m | \u001b[0m 360.4   \u001b[0m | \u001b[0m 12.82   \u001b[0m | \u001b[0m 113.5   \u001b[0m | \u001b[0m 21.76   \u001b[0m | \u001b[0m 49.84   \u001b[0m | \u001b[0m 21.88   \u001b[0m | \u001b[0m 8.918   \u001b[0m | \u001b[0m 0.9818  \u001b[0m |\n",
      "Training until validation scores don't improve for 100 rounds\n",
      "[100]\ttraining's multi_logloss: 0.787273\tvalid_1's multi_logloss: 0.803114\n",
      "[200]\ttraining's multi_logloss: 0.75046\tvalid_1's multi_logloss: 0.78455\n",
      "[300]\ttraining's multi_logloss: 0.724443\tvalid_1's multi_logloss: 0.77409\n",
      "[400]\ttraining's multi_logloss: 0.702428\tvalid_1's multi_logloss: 0.76629\n",
      "[500]\ttraining's multi_logloss: 0.683459\tvalid_1's multi_logloss: 0.760413\n",
      "[600]\ttraining's multi_logloss: 0.666544\tvalid_1's multi_logloss: 0.755249\n",
      "[700]\ttraining's multi_logloss: 0.651281\tvalid_1's multi_logloss: 0.751155\n",
      "[800]\ttraining's multi_logloss: 0.637014\tvalid_1's multi_logloss: 0.747508\n",
      "[900]\ttraining's multi_logloss: 0.623627\tvalid_1's multi_logloss: 0.744269\n",
      "[1000]\ttraining's multi_logloss: 0.611635\tvalid_1's multi_logloss: 0.74159\n",
      "[1100]\ttraining's multi_logloss: 0.60001\tvalid_1's multi_logloss: 0.739155\n",
      "[1200]\ttraining's multi_logloss: 0.589403\tvalid_1's multi_logloss: 0.737392\n",
      "[1300]\ttraining's multi_logloss: 0.579466\tvalid_1's multi_logloss: 0.735718\n",
      "[1400]\ttraining's multi_logloss: 0.570153\tvalid_1's multi_logloss: 0.73446\n",
      "[1500]\ttraining's multi_logloss: 0.561249\tvalid_1's multi_logloss: 0.733571\n",
      "[1600]\ttraining's multi_logloss: 0.553179\tvalid_1's multi_logloss: 0.732702\n",
      "[1700]\ttraining's multi_logloss: 0.545133\tvalid_1's multi_logloss: 0.731904\n",
      "[1800]\ttraining's multi_logloss: 0.537567\tvalid_1's multi_logloss: 0.731523\n",
      "[1900]\ttraining's multi_logloss: 0.530099\tvalid_1's multi_logloss: 0.730734\n",
      "[2000]\ttraining's multi_logloss: 0.523151\tvalid_1's multi_logloss: 0.730038\n",
      "Did not meet early stopping. Best iteration is:\n",
      "[2000]\ttraining's multi_logloss: 0.523151\tvalid_1's multi_logloss: 0.730038\n",
      "| \u001b[0m 2       \u001b[0m | \u001b[0m 0.73    \u001b[0m | \u001b[0m 0.6917  \u001b[0m | \u001b[0m 397.9   \u001b[0m | \u001b[0m 12.23   \u001b[0m | \u001b[0m 117.9   \u001b[0m | \u001b[0m 46.35   \u001b[0m | \u001b[0m 26.84   \u001b[0m | \u001b[0m 4.366   \u001b[0m | \u001b[0m 0.2032  \u001b[0m | \u001b[0m 0.9163  \u001b[0m |\n",
      "Training until validation scores don't improve for 100 rounds\n",
      "[100]\ttraining's multi_logloss: 0.770011\tvalid_1's multi_logloss: 0.795684\n",
      "[200]\ttraining's multi_logloss: 0.71851\tvalid_1's multi_logloss: 0.773253\n",
      "[300]\ttraining's multi_logloss: 0.680548\tvalid_1's multi_logloss: 0.760957\n",
      "[400]\ttraining's multi_logloss: 0.648475\tvalid_1's multi_logloss: 0.751146\n",
      "[500]\ttraining's multi_logloss: 0.62206\tvalid_1's multi_logloss: 0.744455\n",
      "[600]\ttraining's multi_logloss: 0.599613\tvalid_1's multi_logloss: 0.740423\n",
      "[700]\ttraining's multi_logloss: 0.579559\tvalid_1's multi_logloss: 0.737119\n",
      "[800]\ttraining's multi_logloss: 0.562005\tvalid_1's multi_logloss: 0.73471\n",
      "[900]\ttraining's multi_logloss: 0.54625\tvalid_1's multi_logloss: 0.732674\n",
      "[1000]\ttraining's multi_logloss: 0.531936\tvalid_1's multi_logloss: 0.730926\n",
      "[1100]\ttraining's multi_logloss: 0.518808\tvalid_1's multi_logloss: 0.729952\n",
      "[1200]\ttraining's multi_logloss: 0.506711\tvalid_1's multi_logloss: 0.729137\n",
      "[1300]\ttraining's multi_logloss: 0.495643\tvalid_1's multi_logloss: 0.728505\n",
      "[1400]\ttraining's multi_logloss: 0.485198\tvalid_1's multi_logloss: 0.72797\n",
      "[1500]\ttraining's multi_logloss: 0.47578\tvalid_1's multi_logloss: 0.728008\n",
      "Early stopping, best iteration is:\n",
      "[1447]\ttraining's multi_logloss: 0.480752\tvalid_1's multi_logloss: 0.727916\n",
      "| \u001b[0m 3       \u001b[0m | \u001b[0m 0.7279  \u001b[0m | \u001b[0m 0.8891  \u001b[0m | \u001b[0m 436.3   \u001b[0m | \u001b[0m 15.83   \u001b[0m | \u001b[0m 161.8   \u001b[0m | \u001b[0m 23.61   \u001b[0m | \u001b[0m 55.22   \u001b[0m | \u001b[0m 5.923   \u001b[0m | \u001b[0m 6.4     \u001b[0m | \u001b[0m 0.5717  \u001b[0m |\n",
      "Training until validation scores don't improve for 100 rounds\n",
      "[100]\ttraining's multi_logloss: 0.805139\tvalid_1's multi_logloss: 0.809031\n",
      "[200]\ttraining's multi_logloss: 0.783283\tvalid_1's multi_logloss: 0.796259\n",
      "[300]\ttraining's multi_logloss: 0.769304\tvalid_1's multi_logloss: 0.790301\n",
      "[400]\ttraining's multi_logloss: 0.758597\tvalid_1's multi_logloss: 0.785557\n",
      "[500]\ttraining's multi_logloss: 0.752076\tvalid_1's multi_logloss: 0.782783\n",
      "[600]\ttraining's multi_logloss: 0.748704\tvalid_1's multi_logloss: 0.781632\n",
      "[700]\ttraining's multi_logloss: 0.747595\tvalid_1's multi_logloss: 0.781154\n",
      "[800]\ttraining's multi_logloss: 0.747046\tvalid_1's multi_logloss: 0.780955\n",
      "[900]\ttraining's multi_logloss: 0.747\tvalid_1's multi_logloss: 0.78094\n",
      "Early stopping, best iteration is:\n",
      "[898]\ttraining's multi_logloss: 0.747\tvalid_1's multi_logloss: 0.78094\n",
      "| \u001b[95m 4       \u001b[0m | \u001b[95m 0.7809  \u001b[0m | \u001b[95m 0.9723  \u001b[0m | \u001b[95m 265.7   \u001b[0m | \u001b[95m 11.32   \u001b[0m | \u001b[95m 60.27   \u001b[0m | \u001b[95m 38.94   \u001b[0m | \u001b[95m 42.25   \u001b[0m | \u001b[95m 28.43   \u001b[0m | \u001b[95m 0.1889  \u001b[0m | \u001b[95m 0.8088  \u001b[0m |\n",
      "Training until validation scores don't improve for 100 rounds\n",
      "[100]\ttraining's multi_logloss: 0.811782\tvalid_1's multi_logloss: 0.812807\n",
      "[200]\ttraining's multi_logloss: 0.793874\tvalid_1's multi_logloss: 0.800783\n",
      "[300]\ttraining's multi_logloss: 0.783677\tvalid_1's multi_logloss: 0.795704\n",
      "[400]\ttraining's multi_logloss: 0.777829\tvalid_1's multi_logloss: 0.792885\n",
      "[500]\ttraining's multi_logloss: 0.775305\tvalid_1's multi_logloss: 0.791602\n",
      "[600]\ttraining's multi_logloss: 0.774529\tvalid_1's multi_logloss: 0.791151\n",
      "[700]\ttraining's multi_logloss: 0.774212\tvalid_1's multi_logloss: 0.790954\n",
      "[800]\ttraining's multi_logloss: 0.774033\tvalid_1's multi_logloss: 0.790836\n",
      "[900]\ttraining's multi_logloss: 0.773996\tvalid_1's multi_logloss: 0.790816\n",
      "[1000]\ttraining's multi_logloss: 0.773979\tvalid_1's multi_logloss: 0.790805\n",
      "[1100]\ttraining's multi_logloss: 0.77397\tvalid_1's multi_logloss: 0.7908\n",
      "[1200]\ttraining's multi_logloss: 0.773955\tvalid_1's multi_logloss: 0.790788\n",
      "[1300]\ttraining's multi_logloss: 0.773954\tvalid_1's multi_logloss: 0.790788\n",
      "[1400]\ttraining's multi_logloss: 0.773953\tvalid_1's multi_logloss: 0.790788\n",
      "[1500]\ttraining's multi_logloss: 0.773953\tvalid_1's multi_logloss: 0.790788\n",
      "[1600]\ttraining's multi_logloss: 0.773953\tvalid_1's multi_logloss: 0.790788\n",
      "[1700]\ttraining's multi_logloss: 0.773953\tvalid_1's multi_logloss: 0.790788\n",
      "[1800]\ttraining's multi_logloss: 0.773953\tvalid_1's multi_logloss: 0.790788\n",
      "[1900]\ttraining's multi_logloss: 0.773953\tvalid_1's multi_logloss: 0.790788\n",
      "[2000]\ttraining's multi_logloss: 0.773953\tvalid_1's multi_logloss: 0.790788\n",
      "Did not meet early stopping. Best iteration is:\n",
      "[2000]\ttraining's multi_logloss: 0.773953\tvalid_1's multi_logloss: 0.790788\n",
      "| \u001b[95m 5       \u001b[0m | \u001b[95m 0.7908  \u001b[0m | \u001b[95m 0.806   \u001b[0m | \u001b[95m 312.3   \u001b[0m | \u001b[95m 15.55   \u001b[0m | \u001b[95m 139.5   \u001b[0m | \u001b[95m 18.62   \u001b[0m | \u001b[95m 41.48   \u001b[0m | \u001b[95m 34.88   \u001b[0m | \u001b[95m 0.6032  \u001b[0m | \u001b[95m 0.8334  \u001b[0m |\n",
      "Training until validation scores don't improve for 100 rounds\n",
      "[100]\ttraining's multi_logloss: 0.80609\tvalid_1's multi_logloss: 0.810175\n",
      "[200]\ttraining's multi_logloss: 0.782342\tvalid_1's multi_logloss: 0.796457\n"
     ]
    },
    {
     "name": "stdout",
     "output_type": "stream",
     "text": [
      "[300]\ttraining's multi_logloss: 0.766728\tvalid_1's multi_logloss: 0.789944\n",
      "[400]\ttraining's multi_logloss: 0.755031\tvalid_1's multi_logloss: 0.785038\n",
      "[500]\ttraining's multi_logloss: 0.746754\tvalid_1's multi_logloss: 0.782096\n",
      "[600]\ttraining's multi_logloss: 0.741031\tvalid_1's multi_logloss: 0.780046\n",
      "[700]\ttraining's multi_logloss: 0.739675\tvalid_1's multi_logloss: 0.779566\n",
      "[800]\ttraining's multi_logloss: 0.738617\tvalid_1's multi_logloss: 0.779191\n",
      "[900]\ttraining's multi_logloss: 0.738048\tvalid_1's multi_logloss: 0.778962\n",
      "[1000]\ttraining's multi_logloss: 0.737918\tvalid_1's multi_logloss: 0.778924\n",
      "[1100]\ttraining's multi_logloss: 0.737872\tvalid_1's multi_logloss: 0.778924\n",
      "[1200]\ttraining's multi_logloss: 0.737855\tvalid_1's multi_logloss: 0.778919\n",
      "Early stopping, best iteration is:\n",
      "[1117]\ttraining's multi_logloss: 0.737856\tvalid_1's multi_logloss: 0.778918\n",
      "| \u001b[0m 6       \u001b[0m | \u001b[0m 0.7789  \u001b[0m | \u001b[0m 0.8603  \u001b[0m | \u001b[0m 261.4   \u001b[0m | \u001b[0m 10.34   \u001b[0m | \u001b[0m 67.91   \u001b[0m | \u001b[0m 41.57   \u001b[0m | \u001b[0m 42.94   \u001b[0m | \u001b[0m 25.9    \u001b[0m | \u001b[0m 3.527   \u001b[0m | \u001b[0m 0.6767  \u001b[0m |\n",
      "Training until validation scores don't improve for 100 rounds\n",
      "[100]\ttraining's multi_logloss: 0.814675\tvalid_1's multi_logloss: 0.81365\n",
      "[200]\ttraining's multi_logloss: 0.803175\tvalid_1's multi_logloss: 0.804818\n",
      "[300]\ttraining's multi_logloss: 0.799189\tvalid_1's multi_logloss: 0.801824\n",
      "[400]\ttraining's multi_logloss: 0.79812\tvalid_1's multi_logloss: 0.800861\n",
      "[500]\ttraining's multi_logloss: 0.797518\tvalid_1's multi_logloss: 0.800403\n",
      "[600]\ttraining's multi_logloss: 0.79626\tvalid_1's multi_logloss: 0.799715\n",
      "[700]\ttraining's multi_logloss: 0.795864\tvalid_1's multi_logloss: 0.799414\n",
      "[800]\ttraining's multi_logloss: 0.795839\tvalid_1's multi_logloss: 0.799384\n",
      "[900]\ttraining's multi_logloss: 0.795835\tvalid_1's multi_logloss: 0.79938\n",
      "[1000]\ttraining's multi_logloss: 0.795834\tvalid_1's multi_logloss: 0.799379\n",
      "[1100]\ttraining's multi_logloss: 0.795834\tvalid_1's multi_logloss: 0.799379\n",
      "[1200]\ttraining's multi_logloss: 0.795834\tvalid_1's multi_logloss: 0.799379\n",
      "[1300]\ttraining's multi_logloss: 0.795834\tvalid_1's multi_logloss: 0.799379\n",
      "[1400]\ttraining's multi_logloss: 0.795834\tvalid_1's multi_logloss: 0.799379\n",
      "[1500]\ttraining's multi_logloss: 0.795834\tvalid_1's multi_logloss: 0.799379\n",
      "[1600]\ttraining's multi_logloss: 0.795834\tvalid_1's multi_logloss: 0.799379\n",
      "[1700]\ttraining's multi_logloss: 0.795834\tvalid_1's multi_logloss: 0.799379\n",
      "[1800]\ttraining's multi_logloss: 0.795834\tvalid_1's multi_logloss: 0.799379\n",
      "[1900]\ttraining's multi_logloss: 0.795834\tvalid_1's multi_logloss: 0.799379\n",
      "[2000]\ttraining's multi_logloss: 0.795834\tvalid_1's multi_logloss: 0.799379\n",
      "Did not meet early stopping. Best iteration is:\n",
      "[2000]\ttraining's multi_logloss: 0.795834\tvalid_1's multi_logloss: 0.799379\n",
      "| \u001b[95m 7       \u001b[0m | \u001b[95m 0.7994  \u001b[0m | \u001b[95m 1.0     \u001b[0m | \u001b[95m 242.1   \u001b[0m | \u001b[95m 16.0    \u001b[0m | \u001b[95m 200.0   \u001b[0m | \u001b[95m 1.0     \u001b[0m | \u001b[95m 64.0    \u001b[0m | \u001b[95m 50.0    \u001b[0m | \u001b[95m 0.001   \u001b[0m | \u001b[95m 1.0     \u001b[0m |\n",
      "Training until validation scores don't improve for 100 rounds\n",
      "[100]\ttraining's multi_logloss: 0.814675\tvalid_1's multi_logloss: 0.81365\n",
      "[200]\ttraining's multi_logloss: 0.803175\tvalid_1's multi_logloss: 0.804818\n",
      "[300]\ttraining's multi_logloss: 0.799189\tvalid_1's multi_logloss: 0.801824\n",
      "[400]\ttraining's multi_logloss: 0.79812\tvalid_1's multi_logloss: 0.800861\n",
      "[500]\ttraining's multi_logloss: 0.797518\tvalid_1's multi_logloss: 0.800403\n",
      "[600]\ttraining's multi_logloss: 0.79626\tvalid_1's multi_logloss: 0.799715\n",
      "[700]\ttraining's multi_logloss: 0.795864\tvalid_1's multi_logloss: 0.799414\n",
      "[800]\ttraining's multi_logloss: 0.795839\tvalid_1's multi_logloss: 0.799384\n",
      "[900]\ttraining's multi_logloss: 0.795835\tvalid_1's multi_logloss: 0.79938\n",
      "[1000]\ttraining's multi_logloss: 0.795834\tvalid_1's multi_logloss: 0.799379\n",
      "[1100]\ttraining's multi_logloss: 0.795834\tvalid_1's multi_logloss: 0.799379\n",
      "[1200]\ttraining's multi_logloss: 0.795834\tvalid_1's multi_logloss: 0.799379\n",
      "[1300]\ttraining's multi_logloss: 0.795834\tvalid_1's multi_logloss: 0.799379\n",
      "[1400]\ttraining's multi_logloss: 0.795834\tvalid_1's multi_logloss: 0.799379\n",
      "[1500]\ttraining's multi_logloss: 0.795834\tvalid_1's multi_logloss: 0.799379\n",
      "[1600]\ttraining's multi_logloss: 0.795834\tvalid_1's multi_logloss: 0.799379\n",
      "[1700]\ttraining's multi_logloss: 0.795834\tvalid_1's multi_logloss: 0.799379\n",
      "[1800]\ttraining's multi_logloss: 0.795834\tvalid_1's multi_logloss: 0.799379\n",
      "[1900]\ttraining's multi_logloss: 0.795834\tvalid_1's multi_logloss: 0.799379\n",
      "[2000]\ttraining's multi_logloss: 0.795834\tvalid_1's multi_logloss: 0.799379\n",
      "Did not meet early stopping. Best iteration is:\n",
      "[2000]\ttraining's multi_logloss: 0.795834\tvalid_1's multi_logloss: 0.799379\n",
      "| \u001b[0m 8       \u001b[0m | \u001b[0m 0.7994  \u001b[0m | \u001b[0m 1.0     \u001b[0m | \u001b[0m 114.2   \u001b[0m | \u001b[0m 16.0    \u001b[0m | \u001b[0m 200.0   \u001b[0m | \u001b[0m 1.0     \u001b[0m | \u001b[0m 50.98   \u001b[0m | \u001b[0m 50.0    \u001b[0m | \u001b[0m 0.001   \u001b[0m | \u001b[0m 1.0     \u001b[0m |\n",
      "Training until validation scores don't improve for 100 rounds\n",
      "[100]\ttraining's multi_logloss: 0.813855\tvalid_1's multi_logloss: 0.813346\n",
      "[200]\ttraining's multi_logloss: 0.801567\tvalid_1's multi_logloss: 0.80414\n",
      "[300]\ttraining's multi_logloss: 0.797839\tvalid_1's multi_logloss: 0.801181\n",
      "[400]\ttraining's multi_logloss: 0.796561\tvalid_1's multi_logloss: 0.800184\n",
      "[500]\ttraining's multi_logloss: 0.795567\tvalid_1's multi_logloss: 0.799584\n",
      "[600]\ttraining's multi_logloss: 0.794761\tvalid_1's multi_logloss: 0.799065\n",
      "[700]\ttraining's multi_logloss: 0.794587\tvalid_1's multi_logloss: 0.79892\n",
      "[800]\ttraining's multi_logloss: 0.794571\tvalid_1's multi_logloss: 0.798902\n",
      "[900]\ttraining's multi_logloss: 0.794568\tvalid_1's multi_logloss: 0.798899\n",
      "[1000]\ttraining's multi_logloss: 0.794567\tvalid_1's multi_logloss: 0.798897\n",
      "[1100]\ttraining's multi_logloss: 0.794567\tvalid_1's multi_logloss: 0.798897\n",
      "[1200]\ttraining's multi_logloss: 0.794567\tvalid_1's multi_logloss: 0.798897\n",
      "[1300]\ttraining's multi_logloss: 0.794567\tvalid_1's multi_logloss: 0.798897\n",
      "[1400]\ttraining's multi_logloss: 0.794567\tvalid_1's multi_logloss: 0.798897\n",
      "[1500]\ttraining's multi_logloss: 0.794567\tvalid_1's multi_logloss: 0.798897\n",
      "[1600]\ttraining's multi_logloss: 0.794567\tvalid_1's multi_logloss: 0.798897\n",
      "[1700]\ttraining's multi_logloss: 0.794567\tvalid_1's multi_logloss: 0.798897\n",
      "[1800]\ttraining's multi_logloss: 0.794567\tvalid_1's multi_logloss: 0.798897\n",
      "[1900]\ttraining's multi_logloss: 0.794567\tvalid_1's multi_logloss: 0.798897\n",
      "[2000]\ttraining's multi_logloss: 0.794567\tvalid_1's multi_logloss: 0.798897\n",
      "Did not meet early stopping. Best iteration is:\n",
      "[2000]\ttraining's multi_logloss: 0.794567\tvalid_1's multi_logloss: 0.798897\n",
      "| \u001b[0m 9       \u001b[0m | \u001b[0m 0.7989  \u001b[0m | \u001b[0m 1.0     \u001b[0m | \u001b[0m 22.86   \u001b[0m | \u001b[0m 16.0    \u001b[0m | \u001b[0m 90.86   \u001b[0m | \u001b[0m 1.0     \u001b[0m | \u001b[0m 57.0    \u001b[0m | \u001b[0m 50.0    \u001b[0m | \u001b[0m 0.001   \u001b[0m | \u001b[0m 1.0     \u001b[0m |\n",
      "Training until validation scores don't improve for 100 rounds\n",
      "[100]\ttraining's multi_logloss: 0.806549\tvalid_1's multi_logloss: 0.810749\n",
      "[200]\ttraining's multi_logloss: 0.781237\tvalid_1's multi_logloss: 0.795954\n",
      "[300]\ttraining's multi_logloss: 0.763944\tvalid_1's multi_logloss: 0.788411\n",
      "[400]\ttraining's multi_logloss: 0.74968\tvalid_1's multi_logloss: 0.783045\n",
      "[500]\ttraining's multi_logloss: 0.738148\tvalid_1's multi_logloss: 0.779209\n",
      "[600]\ttraining's multi_logloss: 0.728711\tvalid_1's multi_logloss: 0.776019\n",
      "[700]\ttraining's multi_logloss: 0.72019\tvalid_1's multi_logloss: 0.773033\n",
      "[800]\ttraining's multi_logloss: 0.714799\tvalid_1's multi_logloss: 0.771181\n",
      "[900]\ttraining's multi_logloss: 0.709987\tvalid_1's multi_logloss: 0.769609\n",
      "[1000]\ttraining's multi_logloss: 0.707808\tvalid_1's multi_logloss: 0.76894\n",
      "[1100]\ttraining's multi_logloss: 0.70664\tvalid_1's multi_logloss: 0.76866\n",
      "[1200]\ttraining's multi_logloss: 0.706182\tvalid_1's multi_logloss: 0.768579\n",
      "[1300]\ttraining's multi_logloss: 0.705704\tvalid_1's multi_logloss: 0.768489\n",
      "[1400]\ttraining's multi_logloss: 0.705683\tvalid_1's multi_logloss: 0.768483\n",
      "Early stopping, best iteration is:\n",
      "[1302]\ttraining's multi_logloss: 0.705683\tvalid_1's multi_logloss: 0.768483\n",
      "| \u001b[0m 10      \u001b[0m | \u001b[0m 0.7685  \u001b[0m | \u001b[0m 0.7412  \u001b[0m | \u001b[0m 10.92   \u001b[0m | \u001b[0m 15.67   \u001b[0m | \u001b[0m 194.7   \u001b[0m | \u001b[0m 49.45   \u001b[0m | \u001b[0m 27.93   \u001b[0m | \u001b[0m 19.6    \u001b[0m | \u001b[0m 3.771   \u001b[0m | \u001b[0m 0.6652  \u001b[0m |\n",
      "Training until validation scores don't improve for 100 rounds\n"
     ]
    },
    {
     "name": "stdout",
     "output_type": "stream",
     "text": [
      "[100]\ttraining's multi_logloss: 0.805687\tvalid_1's multi_logloss: 0.811946\n",
      "[200]\ttraining's multi_logloss: 0.775661\tvalid_1's multi_logloss: 0.795186\n",
      "[300]\ttraining's multi_logloss: 0.754007\tvalid_1's multi_logloss: 0.785644\n",
      "[400]\ttraining's multi_logloss: 0.736834\tvalid_1's multi_logloss: 0.779133\n",
      "[500]\ttraining's multi_logloss: 0.72303\tvalid_1's multi_logloss: 0.774415\n",
      "[600]\ttraining's multi_logloss: 0.711797\tvalid_1's multi_logloss: 0.77053\n",
      "[700]\ttraining's multi_logloss: 0.703947\tvalid_1's multi_logloss: 0.767863\n",
      "[800]\ttraining's multi_logloss: 0.698389\tvalid_1's multi_logloss: 0.766143\n",
      "[900]\ttraining's multi_logloss: 0.69611\tvalid_1's multi_logloss: 0.765399\n",
      "[1000]\ttraining's multi_logloss: 0.694697\tvalid_1's multi_logloss: 0.764979\n",
      "[1100]\ttraining's multi_logloss: 0.694204\tvalid_1's multi_logloss: 0.764869\n",
      "[1200]\ttraining's multi_logloss: 0.693934\tvalid_1's multi_logloss: 0.764798\n",
      "[1300]\ttraining's multi_logloss: 0.693715\tvalid_1's multi_logloss: 0.764768\n",
      "[1400]\ttraining's multi_logloss: 0.693114\tvalid_1's multi_logloss: 0.764619\n",
      "[1500]\ttraining's multi_logloss: 0.693065\tvalid_1's multi_logloss: 0.764615\n",
      "Early stopping, best iteration is:\n",
      "[1494]\ttraining's multi_logloss: 0.693067\tvalid_1's multi_logloss: 0.764614\n",
      "| \u001b[0m 11      \u001b[0m | \u001b[0m 0.7646  \u001b[0m | \u001b[0m 0.5925  \u001b[0m | \u001b[0m 265.0   \u001b[0m | \u001b[0m 14.29   \u001b[0m | \u001b[0m 64.35   \u001b[0m | \u001b[0m 39.22   \u001b[0m | \u001b[0m 45.55   \u001b[0m | \u001b[0m 19.14   \u001b[0m | \u001b[0m 3.45    \u001b[0m | \u001b[0m 0.7425  \u001b[0m |\n",
      "Training until validation scores don't improve for 100 rounds\n",
      "[100]\ttraining's multi_logloss: 0.802913\tvalid_1's multi_logloss: 0.808266\n",
      "[200]\ttraining's multi_logloss: 0.777226\tvalid_1's multi_logloss: 0.793559\n",
      "[300]\ttraining's multi_logloss: 0.759312\tvalid_1's multi_logloss: 0.78646\n",
      "[400]\ttraining's multi_logloss: 0.745201\tvalid_1's multi_logloss: 0.780867\n",
      "[500]\ttraining's multi_logloss: 0.735729\tvalid_1's multi_logloss: 0.77766\n",
      "[600]\ttraining's multi_logloss: 0.72948\tvalid_1's multi_logloss: 0.775966\n",
      "[700]\ttraining's multi_logloss: 0.724721\tvalid_1's multi_logloss: 0.774551\n",
      "[800]\ttraining's multi_logloss: 0.722802\tvalid_1's multi_logloss: 0.773937\n",
      "[900]\ttraining's multi_logloss: 0.721799\tvalid_1's multi_logloss: 0.773632\n",
      "[1000]\ttraining's multi_logloss: 0.721239\tvalid_1's multi_logloss: 0.773548\n",
      "[1100]\ttraining's multi_logloss: 0.721187\tvalid_1's multi_logloss: 0.773528\n",
      "Early stopping, best iteration is:\n",
      "[1047]\ttraining's multi_logloss: 0.721187\tvalid_1's multi_logloss: 0.773528\n",
      "| \u001b[0m 12      \u001b[0m | \u001b[0m 0.7735  \u001b[0m | \u001b[0m 0.9302  \u001b[0m | \u001b[0m 239.3   \u001b[0m | \u001b[0m 10.73   \u001b[0m | \u001b[0m 141.8   \u001b[0m | \u001b[0m 4.039   \u001b[0m | \u001b[0m 56.17   \u001b[0m | \u001b[0m 23.41   \u001b[0m | \u001b[0m 8.839   \u001b[0m | \u001b[0m 0.9091  \u001b[0m |\n",
      "Training until validation scores don't improve for 100 rounds\n",
      "[100]\ttraining's multi_logloss: 0.789815\tvalid_1's multi_logloss: 0.803201\n",
      "[200]\ttraining's multi_logloss: 0.751449\tvalid_1's multi_logloss: 0.784506\n",
      "[300]\ttraining's multi_logloss: 0.723317\tvalid_1's multi_logloss: 0.774281\n",
      "[400]\ttraining's multi_logloss: 0.699424\tvalid_1's multi_logloss: 0.766018\n",
      "[500]\ttraining's multi_logloss: 0.681278\tvalid_1's multi_logloss: 0.761071\n",
      "[600]\ttraining's multi_logloss: 0.666756\tvalid_1's multi_logloss: 0.757006\n",
      "[700]\ttraining's multi_logloss: 0.657132\tvalid_1's multi_logloss: 0.754872\n",
      "[800]\ttraining's multi_logloss: 0.648692\tvalid_1's multi_logloss: 0.752482\n",
      "[900]\ttraining's multi_logloss: 0.642286\tvalid_1's multi_logloss: 0.751207\n",
      "[1000]\ttraining's multi_logloss: 0.640299\tvalid_1's multi_logloss: 0.750819\n",
      "[1100]\ttraining's multi_logloss: 0.639232\tvalid_1's multi_logloss: 0.750681\n",
      "[1200]\ttraining's multi_logloss: 0.637577\tvalid_1's multi_logloss: 0.750386\n",
      "[1300]\ttraining's multi_logloss: 0.637182\tvalid_1's multi_logloss: 0.750332\n",
      "Early stopping, best iteration is:\n",
      "[1263]\ttraining's multi_logloss: 0.637185\tvalid_1's multi_logloss: 0.750332\n",
      "| \u001b[0m 13      \u001b[0m | \u001b[0m 0.7503  \u001b[0m | \u001b[0m 0.8227  \u001b[0m | \u001b[0m 418.8   \u001b[0m | \u001b[0m 9.865   \u001b[0m | \u001b[0m 51.9    \u001b[0m | \u001b[0m 10.05   \u001b[0m | \u001b[0m 55.87   \u001b[0m | \u001b[0m 15.55   \u001b[0m | \u001b[0m 8.403   \u001b[0m | \u001b[0m 0.9562  \u001b[0m |\n",
      "Training until validation scores don't improve for 100 rounds\n",
      "[100]\ttraining's multi_logloss: 0.814651\tvalid_1's multi_logloss: 0.813612\n",
      "[200]\ttraining's multi_logloss: 0.80308\tvalid_1's multi_logloss: 0.804689\n",
      "[300]\ttraining's multi_logloss: 0.799274\tvalid_1's multi_logloss: 0.801791\n",
      "[400]\ttraining's multi_logloss: 0.798147\tvalid_1's multi_logloss: 0.800787\n",
      "[500]\ttraining's multi_logloss: 0.797533\tvalid_1's multi_logloss: 0.80033\n",
      "[600]\ttraining's multi_logloss: 0.796379\tvalid_1's multi_logloss: 0.799664\n",
      "[700]\ttraining's multi_logloss: 0.795986\tvalid_1's multi_logloss: 0.799375\n",
      "[800]\ttraining's multi_logloss: 0.795957\tvalid_1's multi_logloss: 0.799342\n",
      "[900]\ttraining's multi_logloss: 0.795953\tvalid_1's multi_logloss: 0.799337\n",
      "[1000]\ttraining's multi_logloss: 0.795953\tvalid_1's multi_logloss: 0.799336\n",
      "[1100]\ttraining's multi_logloss: 0.795952\tvalid_1's multi_logloss: 0.799336\n",
      "[1200]\ttraining's multi_logloss: 0.795952\tvalid_1's multi_logloss: 0.799336\n",
      "[1300]\ttraining's multi_logloss: 0.795952\tvalid_1's multi_logloss: 0.799336\n",
      "[1400]\ttraining's multi_logloss: 0.795952\tvalid_1's multi_logloss: 0.799336\n",
      "[1500]\ttraining's multi_logloss: 0.795952\tvalid_1's multi_logloss: 0.799336\n",
      "[1600]\ttraining's multi_logloss: 0.795952\tvalid_1's multi_logloss: 0.799336\n",
      "[1700]\ttraining's multi_logloss: 0.795952\tvalid_1's multi_logloss: 0.799336\n",
      "[1800]\ttraining's multi_logloss: 0.795952\tvalid_1's multi_logloss: 0.799336\n",
      "[1900]\ttraining's multi_logloss: 0.795952\tvalid_1's multi_logloss: 0.799336\n",
      "[2000]\ttraining's multi_logloss: 0.795952\tvalid_1's multi_logloss: 0.799336\n",
      "Did not meet early stopping. Best iteration is:\n",
      "[2000]\ttraining's multi_logloss: 0.795952\tvalid_1's multi_logloss: 0.799336\n",
      "| \u001b[0m 14      \u001b[0m | \u001b[0m 0.7993  \u001b[0m | \u001b[0m 1.0     \u001b[0m | \u001b[0m 282.6   \u001b[0m | \u001b[0m 16.0    \u001b[0m | \u001b[0m 187.8   \u001b[0m | \u001b[0m 11.73   \u001b[0m | \u001b[0m 53.16   \u001b[0m | \u001b[0m 50.0    \u001b[0m | \u001b[0m 0.001   \u001b[0m | \u001b[0m 1.0     \u001b[0m |\n",
      "Training until validation scores don't improve for 100 rounds\n",
      "[100]\ttraining's multi_logloss: 0.804651\tvalid_1's multi_logloss: 0.808797\n",
      "[200]\ttraining's multi_logloss: 0.782359\tvalid_1's multi_logloss: 0.795628\n",
      "[300]\ttraining's multi_logloss: 0.767399\tvalid_1's multi_logloss: 0.789272\n",
      "[400]\ttraining's multi_logloss: 0.756146\tvalid_1's multi_logloss: 0.784872\n",
      "[500]\ttraining's multi_logloss: 0.748198\tvalid_1's multi_logloss: 0.781682\n",
      "[600]\ttraining's multi_logloss: 0.742927\tvalid_1's multi_logloss: 0.779795\n",
      "[700]\ttraining's multi_logloss: 0.737785\tvalid_1's multi_logloss: 0.777884\n",
      "[800]\ttraining's multi_logloss: 0.735656\tvalid_1's multi_logloss: 0.777245\n",
      "[900]\ttraining's multi_logloss: 0.735026\tvalid_1's multi_logloss: 0.776998\n",
      "[1000]\ttraining's multi_logloss: 0.73493\tvalid_1's multi_logloss: 0.77697\n",
      "Early stopping, best iteration is:\n",
      "[948]\ttraining's multi_logloss: 0.73493\tvalid_1's multi_logloss: 0.77697\n",
      "| \u001b[0m 15      \u001b[0m | \u001b[0m 0.777   \u001b[0m | \u001b[0m 0.9303  \u001b[0m | \u001b[0m 325.1   \u001b[0m | \u001b[0m 15.93   \u001b[0m | \u001b[0m 120.2   \u001b[0m | \u001b[0m 1.1     \u001b[0m | \u001b[0m 29.0    \u001b[0m | \u001b[0m 25.81   \u001b[0m | \u001b[0m 5.161   \u001b[0m | \u001b[0m 0.5704  \u001b[0m |\n",
      "Training until validation scores don't improve for 100 rounds\n",
      "[100]\ttraining's multi_logloss: 0.786576\tvalid_1's multi_logloss: 0.802781\n",
      "[200]\ttraining's multi_logloss: 0.745416\tvalid_1's multi_logloss: 0.783656\n",
      "[300]\ttraining's multi_logloss: 0.714543\tvalid_1's multi_logloss: 0.771606\n",
      "[400]\ttraining's multi_logloss: 0.688432\tvalid_1's multi_logloss: 0.762839\n",
      "[500]\ttraining's multi_logloss: 0.666784\tvalid_1's multi_logloss: 0.756641\n",
      "[600]\ttraining's multi_logloss: 0.648524\tvalid_1's multi_logloss: 0.752008\n",
      "[700]\ttraining's multi_logloss: 0.632739\tvalid_1's multi_logloss: 0.748237\n",
      "[800]\ttraining's multi_logloss: 0.618743\tvalid_1's multi_logloss: 0.745017\n",
      "[900]\ttraining's multi_logloss: 0.606801\tvalid_1's multi_logloss: 0.742664\n",
      "[1000]\ttraining's multi_logloss: 0.596573\tvalid_1's multi_logloss: 0.74124\n",
      "[1100]\ttraining's multi_logloss: 0.588907\tvalid_1's multi_logloss: 0.740565\n",
      "[1200]\ttraining's multi_logloss: 0.584504\tvalid_1's multi_logloss: 0.740057\n",
      "[1300]\ttraining's multi_logloss: 0.58176\tvalid_1's multi_logloss: 0.739811\n",
      "[1400]\ttraining's multi_logloss: 0.580751\tvalid_1's multi_logloss: 0.739825\n",
      "Early stopping, best iteration is:\n",
      "[1315]\ttraining's multi_logloss: 0.581486\tvalid_1's multi_logloss: 0.739759\n"
     ]
    },
    {
     "name": "stdout",
     "output_type": "stream",
     "text": [
      "| \u001b[0m 16      \u001b[0m | \u001b[0m 0.7398  \u001b[0m | \u001b[0m 0.7405  \u001b[0m | \u001b[0m 120.1   \u001b[0m | \u001b[0m 12.94   \u001b[0m | \u001b[0m 53.76   \u001b[0m | \u001b[0m 42.68   \u001b[0m | \u001b[0m 47.66   \u001b[0m | \u001b[0m 10.66   \u001b[0m | \u001b[0m 1.986   \u001b[0m | \u001b[0m 0.8184  \u001b[0m |\n",
      "Training until validation scores don't improve for 100 rounds\n",
      "[100]\ttraining's multi_logloss: 0.817252\tvalid_1's multi_logloss: 0.818288\n",
      "[200]\ttraining's multi_logloss: 0.796516\tvalid_1's multi_logloss: 0.803988\n",
      "[300]\ttraining's multi_logloss: 0.783491\tvalid_1's multi_logloss: 0.796708\n",
      "[400]\ttraining's multi_logloss: 0.774368\tvalid_1's multi_logloss: 0.792241\n",
      "[500]\ttraining's multi_logloss: 0.768706\tvalid_1's multi_logloss: 0.789553\n",
      "[600]\ttraining's multi_logloss: 0.765852\tvalid_1's multi_logloss: 0.788151\n",
      "[700]\ttraining's multi_logloss: 0.763896\tvalid_1's multi_logloss: 0.787204\n",
      "[800]\ttraining's multi_logloss: 0.762966\tvalid_1's multi_logloss: 0.786731\n",
      "[900]\ttraining's multi_logloss: 0.762688\tvalid_1's multi_logloss: 0.786532\n",
      "[1000]\ttraining's multi_logloss: 0.762588\tvalid_1's multi_logloss: 0.786448\n",
      "[1100]\ttraining's multi_logloss: 0.762542\tvalid_1's multi_logloss: 0.786411\n",
      "[1200]\ttraining's multi_logloss: 0.762509\tvalid_1's multi_logloss: 0.786386\n",
      "[1300]\ttraining's multi_logloss: 0.762489\tvalid_1's multi_logloss: 0.786371\n",
      "[1400]\ttraining's multi_logloss: 0.762478\tvalid_1's multi_logloss: 0.786361\n",
      "[1500]\ttraining's multi_logloss: 0.762472\tvalid_1's multi_logloss: 0.786355\n",
      "[1600]\ttraining's multi_logloss: 0.762468\tvalid_1's multi_logloss: 0.786352\n",
      "[1700]\ttraining's multi_logloss: 0.762465\tvalid_1's multi_logloss: 0.786349\n",
      "[1800]\ttraining's multi_logloss: 0.762463\tvalid_1's multi_logloss: 0.786347\n",
      "[1900]\ttraining's multi_logloss: 0.762461\tvalid_1's multi_logloss: 0.786345\n",
      "[2000]\ttraining's multi_logloss: 0.762461\tvalid_1's multi_logloss: 0.786345\n",
      "Did not meet early stopping. Best iteration is:\n",
      "[2000]\ttraining's multi_logloss: 0.762461\tvalid_1's multi_logloss: 0.786345\n",
      "| \u001b[0m 17      \u001b[0m | \u001b[0m 0.7863  \u001b[0m | \u001b[0m 0.5286  \u001b[0m | \u001b[0m 456.4   \u001b[0m | \u001b[0m 13.97   \u001b[0m | \u001b[0m 96.72   \u001b[0m | \u001b[0m 41.56   \u001b[0m | \u001b[0m 61.51   \u001b[0m | \u001b[0m 29.92   \u001b[0m | \u001b[0m 3.57    \u001b[0m | \u001b[0m 0.8466  \u001b[0m |\n",
      "Training until validation scores don't improve for 100 rounds\n",
      "[100]\ttraining's multi_logloss: 0.815069\tvalid_1's multi_logloss: 0.813893\n",
      "[200]\ttraining's multi_logloss: 0.803613\tvalid_1's multi_logloss: 0.805059\n",
      "[300]\ttraining's multi_logloss: 0.799652\tvalid_1's multi_logloss: 0.802088\n",
      "[400]\ttraining's multi_logloss: 0.798547\tvalid_1's multi_logloss: 0.801087\n",
      "[500]\ttraining's multi_logloss: 0.797904\tvalid_1's multi_logloss: 0.800589\n",
      "[600]\ttraining's multi_logloss: 0.796821\tvalid_1's multi_logloss: 0.79992\n",
      "[700]\ttraining's multi_logloss: 0.796418\tvalid_1's multi_logloss: 0.799645\n",
      "[800]\ttraining's multi_logloss: 0.796381\tvalid_1's multi_logloss: 0.799597\n",
      "[900]\ttraining's multi_logloss: 0.796378\tvalid_1's multi_logloss: 0.799595\n",
      "[1000]\ttraining's multi_logloss: 0.796377\tvalid_1's multi_logloss: 0.799593\n",
      "[1100]\ttraining's multi_logloss: 0.796377\tvalid_1's multi_logloss: 0.799593\n",
      "[1200]\ttraining's multi_logloss: 0.796376\tvalid_1's multi_logloss: 0.799592\n",
      "[1300]\ttraining's multi_logloss: 0.796376\tvalid_1's multi_logloss: 0.799592\n",
      "[1400]\ttraining's multi_logloss: 0.796376\tvalid_1's multi_logloss: 0.799592\n",
      "[1500]\ttraining's multi_logloss: 0.796376\tvalid_1's multi_logloss: 0.799592\n",
      "[1600]\ttraining's multi_logloss: 0.796376\tvalid_1's multi_logloss: 0.799592\n",
      "[1700]\ttraining's multi_logloss: 0.796376\tvalid_1's multi_logloss: 0.799592\n",
      "[1800]\ttraining's multi_logloss: 0.796376\tvalid_1's multi_logloss: 0.799592\n",
      "[1900]\ttraining's multi_logloss: 0.796376\tvalid_1's multi_logloss: 0.799592\n",
      "[2000]\ttraining's multi_logloss: 0.796376\tvalid_1's multi_logloss: 0.799592\n",
      "Did not meet early stopping. Best iteration is:\n",
      "[2000]\ttraining's multi_logloss: 0.796376\tvalid_1's multi_logloss: 0.799592\n",
      "| \u001b[95m 18      \u001b[0m | \u001b[95m 0.7996  \u001b[0m | \u001b[95m 0.9746  \u001b[0m | \u001b[95m 255.8   \u001b[0m | \u001b[95m 8.493   \u001b[0m | \u001b[95m 198.5   \u001b[0m | \u001b[95m 1.188   \u001b[0m | \u001b[95m 24.94   \u001b[0m | \u001b[95m 50.0    \u001b[0m | \u001b[95m 0.001   \u001b[0m | \u001b[95m 0.5     \u001b[0m |\n",
      "Training until validation scores don't improve for 100 rounds\n",
      "[100]\ttraining's multi_logloss: 0.811264\tvalid_1's multi_logloss: 0.81203\n",
      "[200]\ttraining's multi_logloss: 0.796341\tvalid_1's multi_logloss: 0.801696\n",
      "[300]\ttraining's multi_logloss: 0.788987\tvalid_1's multi_logloss: 0.797464\n",
      "[400]\ttraining's multi_logloss: 0.78724\tvalid_1's multi_logloss: 0.796206\n",
      "[500]\ttraining's multi_logloss: 0.786398\tvalid_1's multi_logloss: 0.795715\n",
      "[600]\ttraining's multi_logloss: 0.78572\tvalid_1's multi_logloss: 0.795382\n",
      "[700]\ttraining's multi_logloss: 0.785011\tvalid_1's multi_logloss: 0.795003\n",
      "[800]\ttraining's multi_logloss: 0.784921\tvalid_1's multi_logloss: 0.794911\n",
      "[900]\ttraining's multi_logloss: 0.78489\tvalid_1's multi_logloss: 0.7949\n",
      "[1000]\ttraining's multi_logloss: 0.784885\tvalid_1's multi_logloss: 0.794896\n",
      "[1100]\ttraining's multi_logloss: 0.784883\tvalid_1's multi_logloss: 0.794894\n",
      "[1200]\ttraining's multi_logloss: 0.784882\tvalid_1's multi_logloss: 0.794892\n",
      "[1300]\ttraining's multi_logloss: 0.784881\tvalid_1's multi_logloss: 0.794891\n",
      "[1400]\ttraining's multi_logloss: 0.78488\tvalid_1's multi_logloss: 0.794891\n",
      "[1500]\ttraining's multi_logloss: 0.78488\tvalid_1's multi_logloss: 0.79489\n",
      "[1600]\ttraining's multi_logloss: 0.78488\tvalid_1's multi_logloss: 0.79489\n",
      "[1700]\ttraining's multi_logloss: 0.78488\tvalid_1's multi_logloss: 0.79489\n",
      "[1800]\ttraining's multi_logloss: 0.78488\tvalid_1's multi_logloss: 0.79489\n",
      "[1900]\ttraining's multi_logloss: 0.78488\tvalid_1's multi_logloss: 0.79489\n",
      "[2000]\ttraining's multi_logloss: 0.784879\tvalid_1's multi_logloss: 0.79489\n",
      "Did not meet early stopping. Best iteration is:\n",
      "[2000]\ttraining's multi_logloss: 0.784879\tvalid_1's multi_logloss: 0.79489\n",
      "| \u001b[0m 19      \u001b[0m | \u001b[0m 0.7949  \u001b[0m | \u001b[0m 0.9644  \u001b[0m | \u001b[0m 330.1   \u001b[0m | \u001b[0m 11.74   \u001b[0m | \u001b[0m 22.2    \u001b[0m | \u001b[0m 30.45   \u001b[0m | \u001b[0m 42.41   \u001b[0m | \u001b[0m 41.12   \u001b[0m | \u001b[0m 7.102   \u001b[0m | \u001b[0m 0.755   \u001b[0m |\n",
      "Training until validation scores don't improve for 100 rounds\n",
      "[100]\ttraining's multi_logloss: 0.814725\tvalid_1's multi_logloss: 0.813686\n",
      "[200]\ttraining's multi_logloss: 0.803216\tvalid_1's multi_logloss: 0.804833\n",
      "[300]\ttraining's multi_logloss: 0.799314\tvalid_1's multi_logloss: 0.801923\n",
      "[400]\ttraining's multi_logloss: 0.798249\tvalid_1's multi_logloss: 0.800955\n",
      "[500]\ttraining's multi_logloss: 0.797634\tvalid_1's multi_logloss: 0.800488\n",
      "[600]\ttraining's multi_logloss: 0.796417\tvalid_1's multi_logloss: 0.799803\n",
      "[700]\ttraining's multi_logloss: 0.796047\tvalid_1's multi_logloss: 0.79953\n",
      "[800]\ttraining's multi_logloss: 0.79602\tvalid_1's multi_logloss: 0.799498\n",
      "[900]\ttraining's multi_logloss: 0.796015\tvalid_1's multi_logloss: 0.799493\n",
      "[1000]\ttraining's multi_logloss: 0.796015\tvalid_1's multi_logloss: 0.799492\n",
      "[1100]\ttraining's multi_logloss: 0.796015\tvalid_1's multi_logloss: 0.799492\n",
      "[1200]\ttraining's multi_logloss: 0.796015\tvalid_1's multi_logloss: 0.799492\n",
      "[1300]\ttraining's multi_logloss: 0.796015\tvalid_1's multi_logloss: 0.799492\n",
      "[1400]\ttraining's multi_logloss: 0.796015\tvalid_1's multi_logloss: 0.799492\n",
      "[1500]\ttraining's multi_logloss: 0.796015\tvalid_1's multi_logloss: 0.799492\n",
      "[1600]\ttraining's multi_logloss: 0.796015\tvalid_1's multi_logloss: 0.799492\n",
      "[1700]\ttraining's multi_logloss: 0.796015\tvalid_1's multi_logloss: 0.799492\n",
      "[1800]\ttraining's multi_logloss: 0.796015\tvalid_1's multi_logloss: 0.799492\n",
      "[1900]\ttraining's multi_logloss: 0.796015\tvalid_1's multi_logloss: 0.799492\n",
      "[2000]\ttraining's multi_logloss: 0.796015\tvalid_1's multi_logloss: 0.799492\n",
      "Did not meet early stopping. Best iteration is:\n",
      "[2000]\ttraining's multi_logloss: 0.796015\tvalid_1's multi_logloss: 0.799492\n",
      "| \u001b[0m 20      \u001b[0m | \u001b[0m 0.7995  \u001b[0m | \u001b[0m 1.0     \u001b[0m | \u001b[0m 250.8   \u001b[0m | \u001b[0m 12.14   \u001b[0m | \u001b[0m 200.0   \u001b[0m | \u001b[0m 43.53   \u001b[0m | \u001b[0m 43.88   \u001b[0m | \u001b[0m 50.0    \u001b[0m | \u001b[0m 0.001   \u001b[0m | \u001b[0m 0.5     \u001b[0m |\n",
      "Training until validation scores don't improve for 100 rounds\n",
      "[100]\ttraining's multi_logloss: 0.818107\tvalid_1's multi_logloss: 0.817334\n",
      "[200]\ttraining's multi_logloss: 0.802192\tvalid_1's multi_logloss: 0.805522\n",
      "[300]\ttraining's multi_logloss: 0.794293\tvalid_1's multi_logloss: 0.800377\n",
      "[400]\ttraining's multi_logloss: 0.79088\tvalid_1's multi_logloss: 0.798177\n"
     ]
    },
    {
     "name": "stdout",
     "output_type": "stream",
     "text": [
      "[500]\ttraining's multi_logloss: 0.789474\tvalid_1's multi_logloss: 0.797181\n",
      "[600]\ttraining's multi_logloss: 0.788726\tvalid_1's multi_logloss: 0.796639\n",
      "[700]\ttraining's multi_logloss: 0.788426\tvalid_1's multi_logloss: 0.796369\n",
      "[800]\ttraining's multi_logloss: 0.788247\tvalid_1's multi_logloss: 0.796239\n",
      "[900]\ttraining's multi_logloss: 0.788131\tvalid_1's multi_logloss: 0.796158\n",
      "[1000]\ttraining's multi_logloss: 0.788062\tvalid_1's multi_logloss: 0.7961\n",
      "[1100]\ttraining's multi_logloss: 0.788024\tvalid_1's multi_logloss: 0.796067\n",
      "[1200]\ttraining's multi_logloss: 0.787997\tvalid_1's multi_logloss: 0.796051\n",
      "[1300]\ttraining's multi_logloss: 0.787986\tvalid_1's multi_logloss: 0.796047\n",
      "[1400]\ttraining's multi_logloss: 0.78798\tvalid_1's multi_logloss: 0.796045\n",
      "[1500]\ttraining's multi_logloss: 0.787977\tvalid_1's multi_logloss: 0.796044\n",
      "[1600]\ttraining's multi_logloss: 0.787975\tvalid_1's multi_logloss: 0.796043\n",
      "[1700]\ttraining's multi_logloss: 0.787974\tvalid_1's multi_logloss: 0.796042\n",
      "[1800]\ttraining's multi_logloss: 0.787974\tvalid_1's multi_logloss: 0.796042\n",
      "[1900]\ttraining's multi_logloss: 0.787973\tvalid_1's multi_logloss: 0.796042\n",
      "[2000]\ttraining's multi_logloss: 0.787973\tvalid_1's multi_logloss: 0.796042\n",
      "Did not meet early stopping. Best iteration is:\n",
      "[2000]\ttraining's multi_logloss: 0.787973\tvalid_1's multi_logloss: 0.796042\n",
      "| \u001b[0m 21      \u001b[0m | \u001b[0m 0.796   \u001b[0m | \u001b[0m 0.6587  \u001b[0m | \u001b[0m 250.5   \u001b[0m | \u001b[0m 11.19   \u001b[0m | \u001b[0m 100.8   \u001b[0m | \u001b[0m 48.75   \u001b[0m | \u001b[0m 36.58   \u001b[0m | \u001b[0m 41.15   \u001b[0m | \u001b[0m 9.618   \u001b[0m | \u001b[0m 0.6229  \u001b[0m |\n",
      "Training until validation scores don't improve for 100 rounds\n",
      "[100]\ttraining's multi_logloss: 0.809689\tvalid_1's multi_logloss: 0.811126\n",
      "[200]\ttraining's multi_logloss: 0.792512\tvalid_1's multi_logloss: 0.80042\n",
      "[300]\ttraining's multi_logloss: 0.782114\tvalid_1's multi_logloss: 0.795567\n",
      "[400]\ttraining's multi_logloss: 0.775165\tvalid_1's multi_logloss: 0.792295\n",
      "[500]\ttraining's multi_logloss: 0.772422\tvalid_1's multi_logloss: 0.790901\n",
      "[600]\ttraining's multi_logloss: 0.771596\tvalid_1's multi_logloss: 0.790483\n",
      "[700]\ttraining's multi_logloss: 0.771223\tvalid_1's multi_logloss: 0.790252\n",
      "[800]\ttraining's multi_logloss: 0.77113\tvalid_1's multi_logloss: 0.790183\n",
      "[900]\ttraining's multi_logloss: 0.771122\tvalid_1's multi_logloss: 0.790182\n",
      "[1000]\ttraining's multi_logloss: 0.771118\tvalid_1's multi_logloss: 0.790181\n",
      "[1100]\ttraining's multi_logloss: 0.771115\tvalid_1's multi_logloss: 0.790181\n",
      "Early stopping, best iteration is:\n",
      "[1024]\ttraining's multi_logloss: 0.771118\tvalid_1's multi_logloss: 0.790181\n",
      "| \u001b[0m 22      \u001b[0m | \u001b[0m 0.7902  \u001b[0m | \u001b[0m 0.9983  \u001b[0m | \u001b[0m 254.0   \u001b[0m | \u001b[0m 15.72   \u001b[0m | \u001b[0m 172.3   \u001b[0m | \u001b[0m 4.75    \u001b[0m | \u001b[0m 36.0    \u001b[0m | \u001b[0m 34.22   \u001b[0m | \u001b[0m 8.13    \u001b[0m | \u001b[0m 0.8197  \u001b[0m |\n",
      "Training until validation scores don't improve for 100 rounds\n",
      "[100]\ttraining's multi_logloss: 0.814007\tvalid_1's multi_logloss: 0.813366\n",
      "[200]\ttraining's multi_logloss: 0.801259\tvalid_1's multi_logloss: 0.803632\n",
      "[300]\ttraining's multi_logloss: 0.796701\tvalid_1's multi_logloss: 0.800472\n",
      "[400]\ttraining's multi_logloss: 0.795299\tvalid_1's multi_logloss: 0.799372\n",
      "[500]\ttraining's multi_logloss: 0.794343\tvalid_1's multi_logloss: 0.798776\n",
      "[600]\ttraining's multi_logloss: 0.79316\tvalid_1's multi_logloss: 0.79815\n",
      "[700]\ttraining's multi_logloss: 0.79278\tvalid_1's multi_logloss: 0.797893\n",
      "[800]\ttraining's multi_logloss: 0.79268\tvalid_1's multi_logloss: 0.797846\n",
      "[900]\ttraining's multi_logloss: 0.792662\tvalid_1's multi_logloss: 0.797834\n",
      "[1000]\ttraining's multi_logloss: 0.792657\tvalid_1's multi_logloss: 0.797828\n",
      "[1100]\ttraining's multi_logloss: 0.792655\tvalid_1's multi_logloss: 0.797825\n",
      "[1200]\ttraining's multi_logloss: 0.792653\tvalid_1's multi_logloss: 0.797823\n",
      "[1300]\ttraining's multi_logloss: 0.792652\tvalid_1's multi_logloss: 0.797823\n",
      "[1400]\ttraining's multi_logloss: 0.792652\tvalid_1's multi_logloss: 0.797822\n",
      "[1500]\ttraining's multi_logloss: 0.792651\tvalid_1's multi_logloss: 0.797822\n",
      "[1600]\ttraining's multi_logloss: 0.792651\tvalid_1's multi_logloss: 0.797821\n",
      "[1700]\ttraining's multi_logloss: 0.792651\tvalid_1's multi_logloss: 0.797821\n",
      "[1800]\ttraining's multi_logloss: 0.792651\tvalid_1's multi_logloss: 0.797821\n",
      "[1900]\ttraining's multi_logloss: 0.792651\tvalid_1's multi_logloss: 0.797821\n",
      "[2000]\ttraining's multi_logloss: 0.792651\tvalid_1's multi_logloss: 0.797821\n",
      "Did not meet early stopping. Best iteration is:\n",
      "[2000]\ttraining's multi_logloss: 0.792651\tvalid_1's multi_logloss: 0.797821\n",
      "| \u001b[0m 23      \u001b[0m | \u001b[0m 0.7978  \u001b[0m | \u001b[0m 0.9707  \u001b[0m | \u001b[0m 151.7   \u001b[0m | \u001b[0m 13.9    \u001b[0m | \u001b[0m 46.18   \u001b[0m | \u001b[0m 37.89   \u001b[0m | \u001b[0m 38.31   \u001b[0m | \u001b[0m 47.9    \u001b[0m | \u001b[0m 5.181   \u001b[0m | \u001b[0m 0.5227  \u001b[0m |\n",
      "Training until validation scores don't improve for 100 rounds\n",
      "[100]\ttraining's multi_logloss: 0.805409\tvalid_1's multi_logloss: 0.809981\n",
      "[200]\ttraining's multi_logloss: 0.780105\tvalid_1's multi_logloss: 0.795737\n",
      "[300]\ttraining's multi_logloss: 0.763094\tvalid_1's multi_logloss: 0.789024\n",
      "[400]\ttraining's multi_logloss: 0.750428\tvalid_1's multi_logloss: 0.783906\n",
      "[500]\ttraining's multi_logloss: 0.741837\tvalid_1's multi_logloss: 0.780719\n",
      "[600]\ttraining's multi_logloss: 0.735756\tvalid_1's multi_logloss: 0.778631\n",
      "[700]\ttraining's multi_logloss: 0.733486\tvalid_1's multi_logloss: 0.777849\n",
      "[800]\ttraining's multi_logloss: 0.732514\tvalid_1's multi_logloss: 0.777508\n",
      "[900]\ttraining's multi_logloss: 0.732043\tvalid_1's multi_logloss: 0.777308\n",
      "[1000]\ttraining's multi_logloss: 0.731812\tvalid_1's multi_logloss: 0.777226\n",
      "[1100]\ttraining's multi_logloss: 0.73176\tvalid_1's multi_logloss: 0.777224\n",
      "Early stopping, best iteration is:\n",
      "[1095]\ttraining's multi_logloss: 0.731761\tvalid_1's multi_logloss: 0.777223\n",
      "| \u001b[0m 24      \u001b[0m | \u001b[0m 0.7772  \u001b[0m | \u001b[0m 0.8324  \u001b[0m | \u001b[0m 52.63   \u001b[0m | \u001b[0m 14.83   \u001b[0m | \u001b[0m 100.8   \u001b[0m | \u001b[0m 22.84   \u001b[0m | \u001b[0m 59.28   \u001b[0m | \u001b[0m 25.3    \u001b[0m | \u001b[0m 7.74    \u001b[0m | \u001b[0m 0.9656  \u001b[0m |\n",
      "Training until validation scores don't improve for 100 rounds\n",
      "[100]\ttraining's multi_logloss: 0.812726\tvalid_1's multi_logloss: 0.813835\n",
      "[200]\ttraining's multi_logloss: 0.79474\tvalid_1's multi_logloss: 0.801782\n",
      "[300]\ttraining's multi_logloss: 0.785065\tvalid_1's multi_logloss: 0.796422\n",
      "[400]\ttraining's multi_logloss: 0.780447\tvalid_1's multi_logloss: 0.793859\n",
      "[500]\ttraining's multi_logloss: 0.779021\tvalid_1's multi_logloss: 0.793012\n",
      "[600]\ttraining's multi_logloss: 0.778331\tvalid_1's multi_logloss: 0.792587\n",
      "[700]\ttraining's multi_logloss: 0.777972\tvalid_1's multi_logloss: 0.792358\n",
      "[800]\ttraining's multi_logloss: 0.777855\tvalid_1's multi_logloss: 0.792273\n",
      "[900]\ttraining's multi_logloss: 0.777818\tvalid_1's multi_logloss: 0.792244\n",
      "[1000]\ttraining's multi_logloss: 0.777796\tvalid_1's multi_logloss: 0.792225\n",
      "[1100]\ttraining's multi_logloss: 0.777785\tvalid_1's multi_logloss: 0.792215\n",
      "[1200]\ttraining's multi_logloss: 0.777778\tvalid_1's multi_logloss: 0.79221\n",
      "[1300]\ttraining's multi_logloss: 0.777776\tvalid_1's multi_logloss: 0.792207\n",
      "[1400]\ttraining's multi_logloss: 0.777775\tvalid_1's multi_logloss: 0.792206\n",
      "[1500]\ttraining's multi_logloss: 0.777774\tvalid_1's multi_logloss: 0.792205\n",
      "[1600]\ttraining's multi_logloss: 0.777773\tvalid_1's multi_logloss: 0.792205\n",
      "[1700]\ttraining's multi_logloss: 0.777773\tvalid_1's multi_logloss: 0.792204\n",
      "[1800]\ttraining's multi_logloss: 0.777773\tvalid_1's multi_logloss: 0.792204\n",
      "[1900]\ttraining's multi_logloss: 0.777773\tvalid_1's multi_logloss: 0.792204\n",
      "[2000]\ttraining's multi_logloss: 0.777773\tvalid_1's multi_logloss: 0.792204\n",
      "Did not meet early stopping. Best iteration is:\n",
      "[2000]\ttraining's multi_logloss: 0.777773\tvalid_1's multi_logloss: 0.792204\n",
      "| \u001b[0m 25      \u001b[0m | \u001b[0m 0.7922  \u001b[0m | \u001b[0m 0.7945  \u001b[0m | \u001b[0m 227.7   \u001b[0m | \u001b[0m 11.99   \u001b[0m | \u001b[0m 10.97   \u001b[0m | \u001b[0m 29.73   \u001b[0m | \u001b[0m 58.59   \u001b[0m | \u001b[0m 36.54   \u001b[0m | \u001b[0m 5.997   \u001b[0m | \u001b[0m 0.619   \u001b[0m |\n",
      "Training until validation scores don't improve for 100 rounds\n",
      "[100]\ttraining's multi_logloss: 0.814545\tvalid_1's multi_logloss: 0.813615\n",
      "[200]\ttraining's multi_logloss: 0.802693\tvalid_1's multi_logloss: 0.804544\n",
      "[300]\ttraining's multi_logloss: 0.798679\tvalid_1's multi_logloss: 0.801506\n",
      "[400]\ttraining's multi_logloss: 0.797416\tvalid_1's multi_logloss: 0.800493\n",
      "[500]\ttraining's multi_logloss: 0.796257\tvalid_1's multi_logloss: 0.799782\n"
     ]
    },
    {
     "name": "stdout",
     "output_type": "stream",
     "text": [
      "[600]\ttraining's multi_logloss: 0.795384\tvalid_1's multi_logloss: 0.799296\n",
      "[700]\ttraining's multi_logloss: 0.795119\tvalid_1's multi_logloss: 0.799116\n",
      "[800]\ttraining's multi_logloss: 0.795084\tvalid_1's multi_logloss: 0.799073\n",
      "[900]\ttraining's multi_logloss: 0.79507\tvalid_1's multi_logloss: 0.799057\n",
      "[1000]\ttraining's multi_logloss: 0.795067\tvalid_1's multi_logloss: 0.799054\n",
      "[1100]\ttraining's multi_logloss: 0.795067\tvalid_1's multi_logloss: 0.799054\n",
      "[1200]\ttraining's multi_logloss: 0.795067\tvalid_1's multi_logloss: 0.799054\n",
      "[1300]\ttraining's multi_logloss: 0.795067\tvalid_1's multi_logloss: 0.799054\n",
      "[1400]\ttraining's multi_logloss: 0.795067\tvalid_1's multi_logloss: 0.799054\n",
      "[1500]\ttraining's multi_logloss: 0.795067\tvalid_1's multi_logloss: 0.799054\n",
      "[1600]\ttraining's multi_logloss: 0.795067\tvalid_1's multi_logloss: 0.799054\n",
      "[1700]\ttraining's multi_logloss: 0.795067\tvalid_1's multi_logloss: 0.799054\n",
      "[1800]\ttraining's multi_logloss: 0.795067\tvalid_1's multi_logloss: 0.799054\n",
      "[1900]\ttraining's multi_logloss: 0.795067\tvalid_1's multi_logloss: 0.799054\n",
      "[2000]\ttraining's multi_logloss: 0.795067\tvalid_1's multi_logloss: 0.799054\n",
      "Did not meet early stopping. Best iteration is:\n",
      "[2000]\ttraining's multi_logloss: 0.795067\tvalid_1's multi_logloss: 0.799054\n",
      "| \u001b[0m 26      \u001b[0m | \u001b[0m 0.7991  \u001b[0m | \u001b[0m 1.0     \u001b[0m | \u001b[0m 210.3   \u001b[0m | \u001b[0m 8.0     \u001b[0m | \u001b[0m 56.12   \u001b[0m | \u001b[0m 46.23   \u001b[0m | \u001b[0m 24.0    \u001b[0m | \u001b[0m 50.0    \u001b[0m | \u001b[0m 0.001   \u001b[0m | \u001b[0m 0.5     \u001b[0m |\n",
      "Training until validation scores don't improve for 100 rounds\n",
      "[100]\ttraining's multi_logloss: 0.8141\tvalid_1's multi_logloss: 0.813628\n",
      "[200]\ttraining's multi_logloss: 0.802144\tvalid_1's multi_logloss: 0.804261\n",
      "[300]\ttraining's multi_logloss: 0.797778\tvalid_1's multi_logloss: 0.801185\n",
      "[400]\ttraining's multi_logloss: 0.795576\tvalid_1's multi_logloss: 0.799819\n",
      "[500]\ttraining's multi_logloss: 0.794362\tvalid_1's multi_logloss: 0.799014\n",
      "[600]\ttraining's multi_logloss: 0.79359\tvalid_1's multi_logloss: 0.798577\n",
      "[700]\ttraining's multi_logloss: 0.793389\tvalid_1's multi_logloss: 0.798459\n",
      "[800]\ttraining's multi_logloss: 0.793375\tvalid_1's multi_logloss: 0.798444\n",
      "[900]\ttraining's multi_logloss: 0.793368\tvalid_1's multi_logloss: 0.798436\n",
      "[1000]\ttraining's multi_logloss: 0.793367\tvalid_1's multi_logloss: 0.798435\n",
      "[1100]\ttraining's multi_logloss: 0.793367\tvalid_1's multi_logloss: 0.798435\n",
      "[1200]\ttraining's multi_logloss: 0.793367\tvalid_1's multi_logloss: 0.798435\n",
      "[1300]\ttraining's multi_logloss: 0.793367\tvalid_1's multi_logloss: 0.798435\n",
      "[1400]\ttraining's multi_logloss: 0.793367\tvalid_1's multi_logloss: 0.798435\n",
      "[1500]\ttraining's multi_logloss: 0.793367\tvalid_1's multi_logloss: 0.798435\n",
      "[1600]\ttraining's multi_logloss: 0.793367\tvalid_1's multi_logloss: 0.798435\n",
      "[1700]\ttraining's multi_logloss: 0.793367\tvalid_1's multi_logloss: 0.798435\n",
      "[1800]\ttraining's multi_logloss: 0.793367\tvalid_1's multi_logloss: 0.798435\n",
      "[1900]\ttraining's multi_logloss: 0.793367\tvalid_1's multi_logloss: 0.798435\n",
      "[2000]\ttraining's multi_logloss: 0.793367\tvalid_1's multi_logloss: 0.798435\n",
      "Did not meet early stopping. Best iteration is:\n",
      "[2000]\ttraining's multi_logloss: 0.793367\tvalid_1's multi_logloss: 0.798435\n",
      "| \u001b[0m 27      \u001b[0m | \u001b[0m 0.7984  \u001b[0m | \u001b[0m 1.0     \u001b[0m | \u001b[0m 182.9   \u001b[0m | \u001b[0m 8.0     \u001b[0m | \u001b[0m 22.91   \u001b[0m | \u001b[0m 8.002   \u001b[0m | \u001b[0m 24.0    \u001b[0m | \u001b[0m 50.0    \u001b[0m | \u001b[0m 10.0    \u001b[0m | \u001b[0m 0.5     \u001b[0m |\n",
      "Training until validation scores don't improve for 100 rounds\n",
      "[100]\ttraining's multi_logloss: 0.814675\tvalid_1's multi_logloss: 0.81365\n",
      "[200]\ttraining's multi_logloss: 0.803175\tvalid_1's multi_logloss: 0.804818\n",
      "[300]\ttraining's multi_logloss: 0.799189\tvalid_1's multi_logloss: 0.801824\n",
      "[400]\ttraining's multi_logloss: 0.79812\tvalid_1's multi_logloss: 0.800861\n",
      "[500]\ttraining's multi_logloss: 0.797518\tvalid_1's multi_logloss: 0.800403\n",
      "[600]\ttraining's multi_logloss: 0.79626\tvalid_1's multi_logloss: 0.799715\n",
      "[700]\ttraining's multi_logloss: 0.795864\tvalid_1's multi_logloss: 0.799414\n",
      "[800]\ttraining's multi_logloss: 0.795839\tvalid_1's multi_logloss: 0.799384\n",
      "[900]\ttraining's multi_logloss: 0.795835\tvalid_1's multi_logloss: 0.79938\n",
      "[1000]\ttraining's multi_logloss: 0.795834\tvalid_1's multi_logloss: 0.799379\n",
      "[1100]\ttraining's multi_logloss: 0.795834\tvalid_1's multi_logloss: 0.799379\n",
      "[1200]\ttraining's multi_logloss: 0.795834\tvalid_1's multi_logloss: 0.799379\n",
      "[1300]\ttraining's multi_logloss: 0.795834\tvalid_1's multi_logloss: 0.799379\n",
      "[1400]\ttraining's multi_logloss: 0.795834\tvalid_1's multi_logloss: 0.799379\n",
      "[1500]\ttraining's multi_logloss: 0.795834\tvalid_1's multi_logloss: 0.799379\n",
      "[1600]\ttraining's multi_logloss: 0.795834\tvalid_1's multi_logloss: 0.799379\n",
      "[1700]\ttraining's multi_logloss: 0.795834\tvalid_1's multi_logloss: 0.799379\n",
      "[1800]\ttraining's multi_logloss: 0.795834\tvalid_1's multi_logloss: 0.799379\n",
      "[1900]\ttraining's multi_logloss: 0.795834\tvalid_1's multi_logloss: 0.799379\n",
      "[2000]\ttraining's multi_logloss: 0.795834\tvalid_1's multi_logloss: 0.799379\n",
      "Did not meet early stopping. Best iteration is:\n",
      "[2000]\ttraining's multi_logloss: 0.795834\tvalid_1's multi_logloss: 0.799379\n",
      "| \u001b[0m 28      \u001b[0m | \u001b[0m 0.7994  \u001b[0m | \u001b[0m 1.0     \u001b[0m | \u001b[0m 176.8   \u001b[0m | \u001b[0m 13.75   \u001b[0m | \u001b[0m 200.0   \u001b[0m | \u001b[0m 16.45   \u001b[0m | \u001b[0m 36.47   \u001b[0m | \u001b[0m 50.0    \u001b[0m | \u001b[0m 0.001   \u001b[0m | \u001b[0m 0.6481  \u001b[0m |\n",
      "Training until validation scores don't improve for 100 rounds\n",
      "[100]\ttraining's multi_logloss: 0.814417\tvalid_1's multi_logloss: 0.813716\n",
      "[200]\ttraining's multi_logloss: 0.802407\tvalid_1's multi_logloss: 0.804506\n",
      "[300]\ttraining's multi_logloss: 0.798611\tvalid_1's multi_logloss: 0.801604\n",
      "[400]\ttraining's multi_logloss: 0.797009\tvalid_1's multi_logloss: 0.800517\n",
      "[500]\ttraining's multi_logloss: 0.795495\tvalid_1's multi_logloss: 0.799604\n",
      "[600]\ttraining's multi_logloss: 0.794703\tvalid_1's multi_logloss: 0.799118\n",
      "[700]\ttraining's multi_logloss: 0.794522\tvalid_1's multi_logloss: 0.798992\n",
      "[800]\ttraining's multi_logloss: 0.794499\tvalid_1's multi_logloss: 0.798966\n",
      "[900]\ttraining's multi_logloss: 0.794494\tvalid_1's multi_logloss: 0.79896\n",
      "[1000]\ttraining's multi_logloss: 0.794491\tvalid_1's multi_logloss: 0.798957\n",
      "Early stopping, best iteration is:\n",
      "[943]\ttraining's multi_logloss: 0.794491\tvalid_1's multi_logloss: 0.798957\n",
      "| \u001b[0m 29      \u001b[0m | \u001b[0m 0.799   \u001b[0m | \u001b[0m 1.0     \u001b[0m | \u001b[0m 189.0   \u001b[0m | \u001b[0m 8.0     \u001b[0m | \u001b[0m 59.64   \u001b[0m | \u001b[0m 10.18   \u001b[0m | \u001b[0m 64.0    \u001b[0m | \u001b[0m 50.0    \u001b[0m | \u001b[0m 10.0    \u001b[0m | \u001b[0m 0.5     \u001b[0m |\n",
      "Training until validation scores don't improve for 100 rounds\n",
      "[100]\ttraining's multi_logloss: 0.758761\tvalid_1's multi_logloss: 0.792072\n",
      "[200]\ttraining's multi_logloss: 0.711466\tvalid_1's multi_logloss: 0.772851\n",
      "[300]\ttraining's multi_logloss: 0.676737\tvalid_1's multi_logloss: 0.760341\n",
      "[400]\ttraining's multi_logloss: 0.650527\tvalid_1's multi_logloss: 0.753278\n",
      "[500]\ttraining's multi_logloss: 0.626788\tvalid_1's multi_logloss: 0.747671\n",
      "[600]\ttraining's multi_logloss: 0.606009\tvalid_1's multi_logloss: 0.743354\n",
      "[700]\ttraining's multi_logloss: 0.587998\tvalid_1's multi_logloss: 0.73983\n",
      "[800]\ttraining's multi_logloss: 0.569009\tvalid_1's multi_logloss: 0.736757\n",
      "[900]\ttraining's multi_logloss: 0.554437\tvalid_1's multi_logloss: 0.734442\n",
      "[1000]\ttraining's multi_logloss: 0.540185\tvalid_1's multi_logloss: 0.732867\n",
      "[1100]\ttraining's multi_logloss: 0.526513\tvalid_1's multi_logloss: 0.731542\n",
      "[1200]\ttraining's multi_logloss: 0.512889\tvalid_1's multi_logloss: 0.730453\n",
      "[1300]\ttraining's multi_logloss: 0.501711\tvalid_1's multi_logloss: 0.729838\n",
      "[1400]\ttraining's multi_logloss: 0.490002\tvalid_1's multi_logloss: 0.729026\n",
      "[1500]\ttraining's multi_logloss: 0.480185\tvalid_1's multi_logloss: 0.7288\n",
      "Early stopping, best iteration is:\n",
      "[1484]\ttraining's multi_logloss: 0.481859\tvalid_1's multi_logloss: 0.72868\n",
      "| \u001b[0m 30      \u001b[0m | \u001b[0m 0.7287  \u001b[0m | \u001b[0m 1.0     \u001b[0m | \u001b[0m 150.5   \u001b[0m | \u001b[0m 12.04   \u001b[0m | \u001b[0m 200.0   \u001b[0m | \u001b[0m 1.0     \u001b[0m | \u001b[0m 63.81   \u001b[0m | \u001b[0m 0.01    \u001b[0m | \u001b[0m 0.001   \u001b[0m | \u001b[0m 0.5     \u001b[0m |\n",
      "=====================================================================================================================================\n"
     ]
    }
   ],
   "source": [
    "lgbBO = BayesianOptimization(f=lgb_log_eval, pbounds=bayesian_params, random_state=0)\n",
    "lgbBO.maximize(init_points=5, n_iter=25)"
   ]
  },
  {
   "cell_type": "code",
   "execution_count": 71,
   "metadata": {},
   "outputs": [
    {
     "data": {
      "text/plain": [
       "[{'target': 0.7691085159917602,\n",
       "  'params': {'colsample_bytree': 0.7744067519636624,\n",
       "   'max_bin': 360.44278952248555,\n",
       "   'max_depth': 12.822107008573152,\n",
       "   'min_child_samples': 113.52780476941041,\n",
       "   'min_child_weight': 21.75908516760633,\n",
       "   'num_leaves': 49.835764522666246,\n",
       "   'reg_alpha': 21.884984691022,\n",
       "   'reg_lambda': 8.917838234820016,\n",
       "   'subsample': 0.9818313802505146}},\n",
       " {'target': 0.7300382577896942,\n",
       "  'params': {'colsample_bytree': 0.6917207594128889,\n",
       "   'max_bin': 397.94526866050563,\n",
       "   'max_depth': 12.231159358023236,\n",
       "   'min_child_samples': 117.92846660784714,\n",
       "   'min_child_weight': 46.35423527634039,\n",
       "   'num_leaves': 26.841442327915477,\n",
       "   'reg_alpha': 4.36559369208002,\n",
       "   'reg_lambda': 0.20316375600581688,\n",
       "   'subsample': 0.916309922773969}},\n",
       " {'target': 0.7279155418271027,\n",
       "  'params': {'colsample_bytree': 0.8890783754749252,\n",
       "   'max_bin': 436.30595264094137,\n",
       "   'max_depth': 15.828946737862111,\n",
       "   'min_child_samples': 161.8401272011775,\n",
       "   'min_child_weight': 23.61248875039366,\n",
       "   'num_leaves': 55.22116705145822,\n",
       "   'reg_alpha': 5.922538549187972,\n",
       "   'reg_lambda': 6.3995702922539115,\n",
       "   'subsample': 0.5716766437045232}},\n",
       " {'target': 0.7809401451012024,\n",
       "  'params': {'colsample_bytree': 0.972334458524792,\n",
       "   'max_bin': 265.70567765753515,\n",
       "   'max_depth': 11.317295519924189,\n",
       "   'min_child_samples': 60.265566299879126,\n",
       "   'min_child_weight': 38.93745078227661,\n",
       "   'num_leaves': 42.24601328866194,\n",
       "   'reg_alpha': 28.426013103943742,\n",
       "   'reg_lambda': 0.18887921456311507,\n",
       "   'subsample': 0.8088177485379385}},\n",
       " {'target': 0.7907880180551838,\n",
       "  'params': {'colsample_bytree': 0.8060478613612108,\n",
       "   'max_bin': 312.2976584686309,\n",
       "   'max_depth': 15.549984628116993,\n",
       "   'min_child_samples': 139.54585682966186,\n",
       "   'min_child_weight': 18.615887128115514,\n",
       "   'num_leaves': 41.481278151973655,\n",
       "   'reg_alpha': 34.88458348440397,\n",
       "   'reg_lambda': 0.6031944908210691,\n",
       "   'subsample': 0.8333833577228338}},\n",
       " {'target': 0.7789185358029416,\n",
       "  'params': {'colsample_bytree': 0.8602649696587278,\n",
       "   'max_bin': 261.4188968687087,\n",
       "   'max_depth': 10.34374936684426,\n",
       "   'min_child_samples': 67.91428425433199,\n",
       "   'min_child_weight': 41.56862037896812,\n",
       "   'num_leaves': 42.9409753881615,\n",
       "   'reg_alpha': 25.896708299767546,\n",
       "   'reg_lambda': 3.5273220426996605,\n",
       "   'subsample': 0.6767029504830764}},\n",
       " {'target': 0.7993785764288135,\n",
       "  'params': {'colsample_bytree': 1.0,\n",
       "   'max_bin': 242.11792398048013,\n",
       "   'max_depth': 16.0,\n",
       "   'min_child_samples': 200.0,\n",
       "   'min_child_weight': 1.0,\n",
       "   'num_leaves': 64.0,\n",
       "   'reg_alpha': 50.0,\n",
       "   'reg_lambda': 0.001,\n",
       "   'subsample': 1.0}},\n",
       " {'target': 0.7993785764288135,\n",
       "  'params': {'colsample_bytree': 1.0,\n",
       "   'max_bin': 114.20568930540543,\n",
       "   'max_depth': 16.0,\n",
       "   'min_child_samples': 200.0,\n",
       "   'min_child_weight': 1.0,\n",
       "   'num_leaves': 50.9826005249514,\n",
       "   'reg_alpha': 50.0,\n",
       "   'reg_lambda': 0.001,\n",
       "   'subsample': 1.0}},\n",
       " {'target': 0.7988973052578966,\n",
       "  'params': {'colsample_bytree': 1.0,\n",
       "   'max_bin': 22.860231163042442,\n",
       "   'max_depth': 16.0,\n",
       "   'min_child_samples': 90.86248409619705,\n",
       "   'min_child_weight': 1.0,\n",
       "   'num_leaves': 56.99772843342554,\n",
       "   'reg_alpha': 50.0,\n",
       "   'reg_lambda': 0.001,\n",
       "   'subsample': 1.0}},\n",
       " {'target': 0.7684825731095013,\n",
       "  'params': {'colsample_bytree': 0.7411817573986047,\n",
       "   'max_bin': 10.918763133303317,\n",
       "   'max_depth': 15.667560542896767,\n",
       "   'min_child_samples': 194.68061761485257,\n",
       "   'min_child_weight': 49.452416269595766,\n",
       "   'num_leaves': 27.925003898689425,\n",
       "   'reg_alpha': 19.601883589123403,\n",
       "   'reg_lambda': 3.771141383185577,\n",
       "   'subsample': 0.6652199849218459}},\n",
       " {'target': 0.7646163836555849,\n",
       "  'params': {'colsample_bytree': 0.5925209137066674,\n",
       "   'max_bin': 264.9694919138617,\n",
       "   'max_depth': 14.288080416925759,\n",
       "   'min_child_samples': 64.35453598964475,\n",
       "   'min_child_weight': 39.21862410208353,\n",
       "   'num_leaves': 45.550114189442766,\n",
       "   'reg_alpha': 19.14062300483427,\n",
       "   'reg_lambda': 3.4496173592690638,\n",
       "   'subsample': 0.742492131973743}},\n",
       " {'target': 0.7735283607266036,\n",
       "  'params': {'colsample_bytree': 0.9302162160759317,\n",
       "   'max_bin': 239.29488081044582,\n",
       "   'max_depth': 10.730342582905898,\n",
       "   'min_child_samples': 141.7998665207718,\n",
       "   'min_child_weight': 4.039322121950509,\n",
       "   'num_leaves': 56.16605816202684,\n",
       "   'reg_alpha': 23.405828602465323,\n",
       "   'reg_lambda': 8.838878538427577,\n",
       "   'subsample': 0.9090863877714945}},\n",
       " {'target': 0.750332114189867,\n",
       "  'params': {'colsample_bytree': 0.8226559961213534,\n",
       "   'max_bin': 418.8178956430658,\n",
       "   'max_depth': 9.865169179254032,\n",
       "   'min_child_samples': 51.89988947054562,\n",
       "   'min_child_weight': 10.053642747626913,\n",
       "   'num_leaves': 55.874070044144354,\n",
       "   'reg_alpha': 15.548395899893334,\n",
       "   'reg_lambda': 8.402663194291186,\n",
       "   'subsample': 0.9561864958093883}},\n",
       " {'target': 0.7993356427344155,\n",
       "  'params': {'colsample_bytree': 1.0,\n",
       "   'max_bin': 282.6320227049449,\n",
       "   'max_depth': 16.0,\n",
       "   'min_child_samples': 187.79796165901334,\n",
       "   'min_child_weight': 11.73357513784401,\n",
       "   'num_leaves': 53.1629169367029,\n",
       "   'reg_alpha': 50.0,\n",
       "   'reg_lambda': 0.001,\n",
       "   'subsample': 1.0}},\n",
       " {'target': 0.7769696998838638,\n",
       "  'params': {'colsample_bytree': 0.9303434996072725,\n",
       "   'max_bin': 325.13104736053697,\n",
       "   'max_depth': 15.93151047882213,\n",
       "   'min_child_samples': 120.17905412333756,\n",
       "   'min_child_weight': 1.1001671428372037,\n",
       "   'num_leaves': 29.00095276907647,\n",
       "   'reg_alpha': 25.80923156197473,\n",
       "   'reg_lambda': 5.160869697422219,\n",
       "   'subsample': 0.5703560414423314}},\n",
       " {'target': 0.7397586129661493,\n",
       "  'params': {'colsample_bytree': 0.7405498719224073,\n",
       "   'max_bin': 120.09126734365545,\n",
       "   'max_depth': 12.941725031356032,\n",
       "   'min_child_samples': 53.75607426089902,\n",
       "   'min_child_weight': 42.67674438905004,\n",
       "   'num_leaves': 47.65645884299404,\n",
       "   'reg_alpha': 10.657030784872696,\n",
       "   'reg_lambda': 1.9862443324975898,\n",
       "   'subsample': 0.8183674135844643}},\n",
       " {'target': 0.7863445531506507,\n",
       "  'params': {'colsample_bytree': 0.5285839690801153,\n",
       "   'max_bin': 456.3688492632358,\n",
       "   'max_depth': 13.973563539578148,\n",
       "   'min_child_samples': 96.71934046157652,\n",
       "   'min_child_weight': 41.56458449914903,\n",
       "   'num_leaves': 61.51356737319794,\n",
       "   'reg_alpha': 29.916479237807728,\n",
       "   'reg_lambda': 3.569830892060643,\n",
       "   'subsample': 0.8466234848633365}},\n",
       " {'target': 0.7995918430083316,\n",
       "  'params': {'colsample_bytree': 0.9745563437208611,\n",
       "   'max_bin': 255.84517408196237,\n",
       "   'max_depth': 8.493316106528,\n",
       "   'min_child_samples': 198.5150583467246,\n",
       "   'min_child_weight': 1.188000390262833,\n",
       "   'num_leaves': 24.944530893335514,\n",
       "   'reg_alpha': 50.0,\n",
       "   'reg_lambda': 0.001,\n",
       "   'subsample': 0.5}},\n",
       " {'target': 0.7948897874357864,\n",
       "  'params': {'colsample_bytree': 0.9644030062523238,\n",
       "   'max_bin': 330.0928781095815,\n",
       "   'max_depth': 11.73763609663307,\n",
       "   'min_child_samples': 22.200684457930734,\n",
       "   'min_child_weight': 30.449321845606374,\n",
       "   'num_leaves': 42.41391927150943,\n",
       "   'reg_alpha': 41.1241425119106,\n",
       "   'reg_lambda': 7.101780863951866,\n",
       "   'subsample': 0.7549971229139905}},\n",
       " {'target': 0.7994922349434591,\n",
       "  'params': {'colsample_bytree': 1.0,\n",
       "   'max_bin': 250.80978401112375,\n",
       "   'max_depth': 12.143377974226711,\n",
       "   'min_child_samples': 200.0,\n",
       "   'min_child_weight': 43.53186329839743,\n",
       "   'num_leaves': 43.877805660336016,\n",
       "   'reg_alpha': 50.0,\n",
       "   'reg_lambda': 0.001,\n",
       "   'subsample': 0.5}},\n",
       " {'target': 0.7960416861840361,\n",
       "  'params': {'colsample_bytree': 0.6587283396471605,\n",
       "   'max_bin': 250.5286386374607,\n",
       "   'max_depth': 11.189562282462193,\n",
       "   'min_child_samples': 100.81813684545703,\n",
       "   'min_child_weight': 48.75445679344283,\n",
       "   'num_leaves': 36.577758318770336,\n",
       "   'reg_alpha': 41.14778812699356,\n",
       "   'reg_lambda': 9.618286668999609,\n",
       "   'subsample': 0.6229366817412965}},\n",
       " {'target': 0.7901808398285217,\n",
       "  'params': {'colsample_bytree': 0.9982660890256111,\n",
       "   'max_bin': 254.03913543906165,\n",
       "   'max_depth': 15.72064662080102,\n",
       "   'min_child_samples': 172.25633471197003,\n",
       "   'min_child_weight': 4.749826121182029,\n",
       "   'num_leaves': 35.99850836024811,\n",
       "   'reg_alpha': 34.224816343148206,\n",
       "   'reg_lambda': 8.12950340865832,\n",
       "   'subsample': 0.8197334217464274}},\n",
       " {'target': 0.7978211114716413,\n",
       "  'params': {'colsample_bytree': 0.9707101482347569,\n",
       "   'max_bin': 151.73780030563316,\n",
       "   'max_depth': 13.90288866933377,\n",
       "   'min_child_samples': 46.182587729009526,\n",
       "   'min_child_weight': 37.888812663146865,\n",
       "   'num_leaves': 38.30708609406997,\n",
       "   'reg_alpha': 47.89761393961768,\n",
       "   'reg_lambda': 5.180723493699807,\n",
       "   'subsample': 0.5226788318286884}},\n",
       " {'target': 0.7772244301277065,\n",
       "  'params': {'colsample_bytree': 0.8323626633911705,\n",
       "   'max_bin': 52.630796011433475,\n",
       "   'max_depth': 14.834088173954108,\n",
       "   'min_child_samples': 100.82697953897299,\n",
       "   'min_child_weight': 22.84390430193939,\n",
       "   'num_leaves': 59.277532034313865,\n",
       "   'reg_alpha': 25.29624148656783,\n",
       "   'reg_lambda': 7.740368689783408,\n",
       "   'subsample': 0.9655823792101785}},\n",
       " {'target': 0.7922039932078145,\n",
       "  'params': {'colsample_bytree': 0.7944926166116978,\n",
       "   'max_bin': 227.69929252784215,\n",
       "   'max_depth': 11.987117401638862,\n",
       "   'min_child_samples': 10.967357099553864,\n",
       "   'min_child_weight': 29.732788400470994,\n",
       "   'num_leaves': 58.59338148377599,\n",
       "   'reg_alpha': 36.537587754798636,\n",
       "   'reg_lambda': 5.997013317901609,\n",
       "   'subsample': 0.6190174283535954}},\n",
       " {'target': 0.7990538757283318,\n",
       "  'params': {'colsample_bytree': 1.0,\n",
       "   'max_bin': 210.27375003107167,\n",
       "   'max_depth': 8.0,\n",
       "   'min_child_samples': 56.120516738599825,\n",
       "   'min_child_weight': 46.23193670708197,\n",
       "   'num_leaves': 24.0,\n",
       "   'reg_alpha': 50.0,\n",
       "   'reg_lambda': 0.001,\n",
       "   'subsample': 0.5}},\n",
       " {'target': 0.7984347553728851,\n",
       "  'params': {'colsample_bytree': 1.0,\n",
       "   'max_bin': 182.87698511496254,\n",
       "   'max_depth': 8.0,\n",
       "   'min_child_samples': 22.910818419863304,\n",
       "   'min_child_weight': 8.00215526814144,\n",
       "   'num_leaves': 24.0,\n",
       "   'reg_alpha': 50.0,\n",
       "   'reg_lambda': 10.0,\n",
       "   'subsample': 0.5}},\n",
       " {'target': 0.7993785764288135,\n",
       "  'params': {'colsample_bytree': 1.0,\n",
       "   'max_bin': 176.81492499045945,\n",
       "   'max_depth': 13.752846994649943,\n",
       "   'min_child_samples': 200.0,\n",
       "   'min_child_weight': 16.453750903719094,\n",
       "   'num_leaves': 36.46705579012559,\n",
       "   'reg_alpha': 50.0,\n",
       "   'reg_lambda': 0.001,\n",
       "   'subsample': 0.6480826943382813}},\n",
       " {'target': 0.7989567678170864,\n",
       "  'params': {'colsample_bytree': 1.0,\n",
       "   'max_bin': 189.00209724133302,\n",
       "   'max_depth': 8.0,\n",
       "   'min_child_samples': 59.64358179911077,\n",
       "   'min_child_weight': 10.182037318346381,\n",
       "   'num_leaves': 64.0,\n",
       "   'reg_alpha': 50.0,\n",
       "   'reg_lambda': 10.0,\n",
       "   'subsample': 0.5}},\n",
       " {'target': 0.7286795430877697,\n",
       "  'params': {'colsample_bytree': 1.0,\n",
       "   'max_bin': 150.5159944004241,\n",
       "   'max_depth': 12.042207825006946,\n",
       "   'min_child_samples': 200.0,\n",
       "   'min_child_weight': 1.0,\n",
       "   'num_leaves': 63.809299224351356,\n",
       "   'reg_alpha': 0.01,\n",
       "   'reg_lambda': 0.001,\n",
       "   'subsample': 0.5}}]"
      ]
     },
     "execution_count": 71,
     "metadata": {},
     "output_type": "execute_result"
    }
   ],
   "source": [
    "lgbBO.res"
   ]
  },
  {
   "cell_type": "code",
   "execution_count": 72,
   "metadata": {},
   "outputs": [
    {
     "name": "stdout",
     "output_type": "stream",
     "text": [
      "[0.7691085159917602, 0.7300382577896942, 0.7279155418271027, 0.7809401451012024, 0.7907880180551838, 0.7789185358029416, 0.7993785764288135, 0.7993785764288135, 0.7988973052578966, 0.7684825731095013, 0.7646163836555849, 0.7735283607266036, 0.750332114189867, 0.7993356427344155, 0.7769696998838638, 0.7397586129661493, 0.7863445531506507, 0.7995918430083316, 0.7948897874357864, 0.7994922349434591, 0.7960416861840361, 0.7901808398285217, 0.7978211114716413, 0.7772244301277065, 0.7922039932078145, 0.7990538757283318, 0.7984347553728851, 0.7993785764288135, 0.7989567678170864, 0.7286795430877697]\n",
      "minimum target index: 2\n"
     ]
    }
   ],
   "source": [
    "# dictionary에 있는 target값을 모두 추출\n",
    "target_list = []\n",
    "for result in lgbBO.res:\n",
    "    target = result['target']\n",
    "    target_list.append(target)\n",
    "print(target_list)\n",
    "# 가장 큰 target 값을 가지는 순번(index)를 추출\n",
    "print('minimum target index:', np.argmin(np.array(target_list)))"
   ]
  },
  {
   "cell_type": "code",
   "execution_count": 73,
   "metadata": {},
   "outputs": [
    {
     "name": "stdout",
     "output_type": "stream",
     "text": [
      "{'target': 0.7279155418271027, 'params': {'colsample_bytree': 0.8890783754749252, 'max_bin': 436.30595264094137, 'max_depth': 15.828946737862111, 'min_child_samples': 161.8401272011775, 'min_child_weight': 23.61248875039366, 'num_leaves': 55.22116705145822, 'reg_alpha': 5.922538549187972, 'reg_lambda': 6.3995702922539115, 'subsample': 0.5716766437045232}}\n"
     ]
    }
   ],
   "source": [
    "# 가장 큰 target값을 가지는 index값을 기준으로 res에서 해당 parameter 추출. \n",
    "min_dict = lgbBO.res[np.argmin(np.array(target_list))]\n",
    "print(min_dict)"
   ]
  },
  {
   "cell_type": "code",
   "execution_count": 74,
   "metadata": {},
   "outputs": [],
   "source": [
    "X_train = pd.DataFrame(X_train)\n",
    "X_train.columns = features.columns[fs.get_support()].tolist()"
   ]
  },
  {
   "cell_type": "code",
   "execution_count": 75,
   "metadata": {},
   "outputs": [],
   "source": [
    "ftr = X_train\n",
    "target=y"
   ]
  },
  {
   "cell_type": "code",
   "execution_count": 76,
   "metadata": {},
   "outputs": [],
   "source": [
    "from sklearn.model_selection import KFold\n",
    "\n",
    "def train_apps_all_with_oof(ftr, target, nfolds=5):\n",
    "\n",
    "    # nfolds 개의 cross validatin fold set을 가지는 KFold 생성 \n",
    "    folds = KFold(n_splits=nfolds, shuffle=True, random_state=0)\n",
    "    \n",
    "    # Out of Folds로 학습된 모델의 validation set을 예측하여 결과 확률을 담을 array 생성.\n",
    "    # validation set가 n_split갯수만큼 있으므로 크기는 ftr_app의 크기가 되어야 함. \n",
    "    oof_preds = np.zeros(ftr.shape[0])\n",
    "    \n",
    "    # Ouf of Folds로 학습된 모델의 test dataset을 예측하여 결과 확률을 담을 array 생성. \n",
    "    test_preds = np.zeros((X_tst.shape[0], 3))\n",
    "    \n",
    "    # n_estimators를 4000까지 확대. \n",
    "    clf = LGBMClassifier(\n",
    "                n_jobs=4,\n",
    "                n_estimators=4000,\n",
    "                learning_rate=0.01,\n",
    "                max_depth=16,\n",
    "                num_leaves=55,\n",
    "                colsample_bytree=0.8891,\n",
    "                subsample=0.5716,\n",
    "                max_bin=436,\n",
    "                reg_alpha=5.92,\n",
    "                reg_lambda=6.399,\n",
    "                min_child_weight=23.612,\n",
    "                min_child_samples=162,\n",
    "                silent=-1,\n",
    "                verbose=-1,\n",
    "                )\n",
    "    \n",
    "    # nfolds 번 cross validation Iteration 반복하면서 OOF 방식으로 학습 및 테스트 데이터 예측\n",
    "    for fold_idx, (train_idx, valid_idx) in enumerate(folds.split(ftr)):\n",
    "        print('##### iteration', fold_idx, '시작')\n",
    "        # 학습용 데이터 세트의 인덱스와 검증용 데이터 세트의 인덱스 추출하여 이를 기반으로 학습/검증 데이터 추출\n",
    "        train_x = ftr.iloc[train_idx,:]\n",
    "        train_y = target.iloc[train_idx]\n",
    "        valid_x = ftr.iloc[valid_idx,:]\n",
    "        valid_y = target.iloc[valid_idx]\n",
    "        \n",
    "        # 추출된 학습/검증 데이터 세트로 모델 학습. early_stopping은 200으로 증가. \n",
    "        clf.fit(train_x, train_y, eval_set=[(train_x, train_y), (valid_x, valid_y)], eval_metric= 'logloss', verbose= 200, \n",
    "                early_stopping_rounds= 200)\n",
    "        \n",
    "        # 검증 데이터 세트로 예측된 확률 저장. 사용되지는 않음. \n",
    "        #oof_preds[valid_idx] = clf.predict_proba(valid_x, num_iteration=clf.best_iteration_)[:, 1]    \n",
    "        \n",
    "        # 학습된 모델로 테스트 데이터 세트에 예측 확률 계산.\n",
    "        # nfolds 번 반복 실행하므로 평균 확률을 구하기 위해 개별 수행시 마다 수행 횟수로 나눈 확률을 추후에 더해서 최종 평균 확률 계산. \n",
    "        test_preds += clf.predict_proba(X_test, num_iteration=clf.best_iteration_)/folds.n_splits\n",
    "             \n",
    "    return clf, test_preds"
   ]
  },
  {
   "cell_type": "code",
   "execution_count": 77,
   "metadata": {
    "scrolled": true
   },
   "outputs": [
    {
     "name": "stdout",
     "output_type": "stream",
     "text": [
      "##### iteration 0 시작\n",
      "Training until validation scores don't improve for 200 rounds\n",
      "[200]\ttraining's multi_logloss: 0.767674\tvalid_1's multi_logloss: 0.796599\n",
      "[400]\ttraining's multi_logloss: 0.716363\tvalid_1's multi_logloss: 0.773006\n",
      "[600]\ttraining's multi_logloss: 0.679353\tvalid_1's multi_logloss: 0.760104\n",
      "[800]\ttraining's multi_logloss: 0.648601\tvalid_1's multi_logloss: 0.749656\n",
      "[1000]\ttraining's multi_logloss: 0.623216\tvalid_1's multi_logloss: 0.741938\n",
      "[1200]\ttraining's multi_logloss: 0.602246\tvalid_1's multi_logloss: 0.737147\n",
      "[1400]\ttraining's multi_logloss: 0.583514\tvalid_1's multi_logloss: 0.73363\n",
      "[1600]\ttraining's multi_logloss: 0.566765\tvalid_1's multi_logloss: 0.730215\n",
      "[1800]\ttraining's multi_logloss: 0.551699\tvalid_1's multi_logloss: 0.727802\n",
      "[2000]\ttraining's multi_logloss: 0.537857\tvalid_1's multi_logloss: 0.725072\n",
      "[2200]\ttraining's multi_logloss: 0.525207\tvalid_1's multi_logloss: 0.723597\n",
      "[2400]\ttraining's multi_logloss: 0.513297\tvalid_1's multi_logloss: 0.722736\n",
      "[2600]\ttraining's multi_logloss: 0.502607\tvalid_1's multi_logloss: 0.721458\n",
      "[2800]\ttraining's multi_logloss: 0.492554\tvalid_1's multi_logloss: 0.721104\n",
      "[3000]\ttraining's multi_logloss: 0.483266\tvalid_1's multi_logloss: 0.721071\n",
      "[3200]\ttraining's multi_logloss: 0.474533\tvalid_1's multi_logloss: 0.721204\n",
      "Early stopping, best iteration is:\n",
      "[3019]\ttraining's multi_logloss: 0.482403\tvalid_1's multi_logloss: 0.721007\n",
      "##### iteration 1 시작\n",
      "Training until validation scores don't improve for 200 rounds\n",
      "[200]\ttraining's multi_logloss: 0.767563\tvalid_1's multi_logloss: 0.793197\n",
      "[400]\ttraining's multi_logloss: 0.716834\tvalid_1's multi_logloss: 0.771531\n",
      "[600]\ttraining's multi_logloss: 0.679248\tvalid_1's multi_logloss: 0.758827\n",
      "[800]\ttraining's multi_logloss: 0.648072\tvalid_1's multi_logloss: 0.749207\n",
      "[1000]\ttraining's multi_logloss: 0.622344\tvalid_1's multi_logloss: 0.742797\n",
      "[1200]\ttraining's multi_logloss: 0.600926\tvalid_1's multi_logloss: 0.738254\n",
      "[1400]\ttraining's multi_logloss: 0.582155\tvalid_1's multi_logloss: 0.734548\n",
      "[1600]\ttraining's multi_logloss: 0.56522\tvalid_1's multi_logloss: 0.731469\n",
      "[1800]\ttraining's multi_logloss: 0.549885\tvalid_1's multi_logloss: 0.729145\n",
      "[2000]\ttraining's multi_logloss: 0.536059\tvalid_1's multi_logloss: 0.727433\n",
      "[2200]\ttraining's multi_logloss: 0.523462\tvalid_1's multi_logloss: 0.726108\n",
      "[2400]\ttraining's multi_logloss: 0.511842\tvalid_1's multi_logloss: 0.724807\n",
      "[2600]\ttraining's multi_logloss: 0.501017\tvalid_1's multi_logloss: 0.724138\n",
      "[2800]\ttraining's multi_logloss: 0.490988\tvalid_1's multi_logloss: 0.723827\n",
      "[3000]\ttraining's multi_logloss: 0.481592\tvalid_1's multi_logloss: 0.723769\n",
      "[3200]\ttraining's multi_logloss: 0.472744\tvalid_1's multi_logloss: 0.723592\n",
      "[3400]\ttraining's multi_logloss: 0.464538\tvalid_1's multi_logloss: 0.723924\n",
      "Early stopping, best iteration is:\n",
      "[3218]\ttraining's multi_logloss: 0.471976\tvalid_1's multi_logloss: 0.723563\n",
      "##### iteration 2 시작\n",
      "Training until validation scores don't improve for 200 rounds\n",
      "[200]\ttraining's multi_logloss: 0.764888\tvalid_1's multi_logloss: 0.805283\n",
      "[400]\ttraining's multi_logloss: 0.714125\tvalid_1's multi_logloss: 0.782312\n",
      "[600]\ttraining's multi_logloss: 0.677468\tvalid_1's multi_logloss: 0.768722\n",
      "[800]\ttraining's multi_logloss: 0.647717\tvalid_1's multi_logloss: 0.759016\n",
      "[1000]\ttraining's multi_logloss: 0.622631\tvalid_1's multi_logloss: 0.751026\n",
      "[1200]\ttraining's multi_logloss: 0.601661\tvalid_1's multi_logloss: 0.745169\n",
      "[1400]\ttraining's multi_logloss: 0.583401\tvalid_1's multi_logloss: 0.740975\n",
      "[1600]\ttraining's multi_logloss: 0.566562\tvalid_1's multi_logloss: 0.737455\n",
      "[1800]\ttraining's multi_logloss: 0.551297\tvalid_1's multi_logloss: 0.734133\n",
      "[2000]\ttraining's multi_logloss: 0.537479\tvalid_1's multi_logloss: 0.731593\n",
      "[2200]\ttraining's multi_logloss: 0.525023\tvalid_1's multi_logloss: 0.729669\n",
      "[2400]\ttraining's multi_logloss: 0.513331\tvalid_1's multi_logloss: 0.728107\n",
      "[2600]\ttraining's multi_logloss: 0.502279\tvalid_1's multi_logloss: 0.726792\n",
      "[2800]\ttraining's multi_logloss: 0.49221\tvalid_1's multi_logloss: 0.725766\n",
      "[3000]\ttraining's multi_logloss: 0.482732\tvalid_1's multi_logloss: 0.725357\n",
      "[3200]\ttraining's multi_logloss: 0.474139\tvalid_1's multi_logloss: 0.724571\n",
      "[3400]\ttraining's multi_logloss: 0.466179\tvalid_1's multi_logloss: 0.724002\n",
      "[3600]\ttraining's multi_logloss: 0.458449\tvalid_1's multi_logloss: 0.723326\n",
      "[3800]\ttraining's multi_logloss: 0.451218\tvalid_1's multi_logloss: 0.723033\n",
      "[4000]\ttraining's multi_logloss: 0.444546\tvalid_1's multi_logloss: 0.722845\n",
      "Did not meet early stopping. Best iteration is:\n",
      "[4000]\ttraining's multi_logloss: 0.444546\tvalid_1's multi_logloss: 0.722845\n",
      "##### iteration 3 시작\n",
      "Training until validation scores don't improve for 200 rounds\n",
      "[200]\ttraining's multi_logloss: 0.768433\tvalid_1's multi_logloss: 0.797406\n",
      "[400]\ttraining's multi_logloss: 0.719139\tvalid_1's multi_logloss: 0.775013\n",
      "[600]\ttraining's multi_logloss: 0.682533\tvalid_1's multi_logloss: 0.761229\n",
      "[800]\ttraining's multi_logloss: 0.651893\tvalid_1's multi_logloss: 0.749467\n",
      "[1000]\ttraining's multi_logloss: 0.626596\tvalid_1's multi_logloss: 0.740847\n",
      "[1200]\ttraining's multi_logloss: 0.605108\tvalid_1's multi_logloss: 0.734447\n",
      "[1400]\ttraining's multi_logloss: 0.586518\tvalid_1's multi_logloss: 0.73001\n",
      "[1600]\ttraining's multi_logloss: 0.569596\tvalid_1's multi_logloss: 0.726219\n",
      "[1800]\ttraining's multi_logloss: 0.554231\tvalid_1's multi_logloss: 0.722648\n",
      "[2000]\ttraining's multi_logloss: 0.54029\tvalid_1's multi_logloss: 0.720035\n",
      "[2200]\ttraining's multi_logloss: 0.527818\tvalid_1's multi_logloss: 0.718103\n",
      "[2400]\ttraining's multi_logloss: 0.516254\tvalid_1's multi_logloss: 0.716518\n",
      "[2600]\ttraining's multi_logloss: 0.505548\tvalid_1's multi_logloss: 0.715311\n",
      "[2800]\ttraining's multi_logloss: 0.49568\tvalid_1's multi_logloss: 0.714526\n",
      "[3000]\ttraining's multi_logloss: 0.486245\tvalid_1's multi_logloss: 0.713807\n",
      "[3200]\ttraining's multi_logloss: 0.477743\tvalid_1's multi_logloss: 0.713445\n",
      "[3400]\ttraining's multi_logloss: 0.469462\tvalid_1's multi_logloss: 0.713129\n",
      "[3600]\ttraining's multi_logloss: 0.461634\tvalid_1's multi_logloss: 0.712922\n",
      "[3800]\ttraining's multi_logloss: 0.454414\tvalid_1's multi_logloss: 0.712851\n",
      "[4000]\ttraining's multi_logloss: 0.447361\tvalid_1's multi_logloss: 0.71284\n",
      "Did not meet early stopping. Best iteration is:\n",
      "[4000]\ttraining's multi_logloss: 0.447361\tvalid_1's multi_logloss: 0.71284\n",
      "##### iteration 4 시작\n",
      "Training until validation scores don't improve for 200 rounds\n",
      "[200]\ttraining's multi_logloss: 0.766287\tvalid_1's multi_logloss: 0.801982\n",
      "[400]\ttraining's multi_logloss: 0.716343\tvalid_1's multi_logloss: 0.77681\n",
      "[600]\ttraining's multi_logloss: 0.678905\tvalid_1's multi_logloss: 0.762661\n",
      "[800]\ttraining's multi_logloss: 0.648563\tvalid_1's multi_logloss: 0.752533\n",
      "[1000]\ttraining's multi_logloss: 0.623442\tvalid_1's multi_logloss: 0.745144\n",
      "[1200]\ttraining's multi_logloss: 0.601806\tvalid_1's multi_logloss: 0.739599\n",
      "[1400]\ttraining's multi_logloss: 0.58311\tvalid_1's multi_logloss: 0.736524\n",
      "[1600]\ttraining's multi_logloss: 0.566314\tvalid_1's multi_logloss: 0.73423\n",
      "[1800]\ttraining's multi_logloss: 0.550871\tvalid_1's multi_logloss: 0.731452\n",
      "[2000]\ttraining's multi_logloss: 0.537038\tvalid_1's multi_logloss: 0.729825\n",
      "[2200]\ttraining's multi_logloss: 0.524221\tvalid_1's multi_logloss: 0.728328\n",
      "[2400]\ttraining's multi_logloss: 0.512541\tvalid_1's multi_logloss: 0.7272\n",
      "[2600]\ttraining's multi_logloss: 0.501794\tvalid_1's multi_logloss: 0.726182\n",
      "[2800]\ttraining's multi_logloss: 0.491966\tvalid_1's multi_logloss: 0.72541\n",
      "[3000]\ttraining's multi_logloss: 0.482582\tvalid_1's multi_logloss: 0.72555\n",
      "Early stopping, best iteration is:\n",
      "[2857]\ttraining's multi_logloss: 0.489215\tvalid_1's multi_logloss: 0.72535\n"
     ]
    }
   ],
   "source": [
    "clf, test_preds = train_apps_all_with_oof(ftr, target, nfolds=5)"
   ]
  },
  {
   "cell_type": "code",
   "execution_count": 185,
   "metadata": {
    "scrolled": true
   },
   "outputs": [
    {
     "data": {
      "text/html": [
       "<div>\n",
       "<style scoped>\n",
       "    .dataframe tbody tr th:only-of-type {\n",
       "        vertical-align: middle;\n",
       "    }\n",
       "\n",
       "    .dataframe tbody tr th {\n",
       "        vertical-align: top;\n",
       "    }\n",
       "\n",
       "    .dataframe thead th {\n",
       "        text-align: right;\n",
       "    }\n",
       "</style>\n",
       "<table border=\"1\" class=\"dataframe\">\n",
       "  <thead>\n",
       "    <tr style=\"text-align: right;\">\n",
       "      <th></th>\n",
       "      <th>0</th>\n",
       "      <th>1</th>\n",
       "      <th>2</th>\n",
       "    </tr>\n",
       "    <tr>\n",
       "      <th>index</th>\n",
       "      <th></th>\n",
       "      <th></th>\n",
       "      <th></th>\n",
       "    </tr>\n",
       "  </thead>\n",
       "  <tbody>\n",
       "    <tr>\n",
       "      <th>26457</th>\n",
       "      <td>0.131130</td>\n",
       "      <td>0.193161</td>\n",
       "      <td>0.675710</td>\n",
       "    </tr>\n",
       "    <tr>\n",
       "      <th>26458</th>\n",
       "      <td>0.112663</td>\n",
       "      <td>0.139175</td>\n",
       "      <td>0.748162</td>\n",
       "    </tr>\n",
       "    <tr>\n",
       "      <th>26459</th>\n",
       "      <td>0.102797</td>\n",
       "      <td>0.115718</td>\n",
       "      <td>0.781485</td>\n",
       "    </tr>\n",
       "    <tr>\n",
       "      <th>26460</th>\n",
       "      <td>0.085845</td>\n",
       "      <td>0.153520</td>\n",
       "      <td>0.760636</td>\n",
       "    </tr>\n",
       "    <tr>\n",
       "      <th>26461</th>\n",
       "      <td>0.128029</td>\n",
       "      <td>0.196145</td>\n",
       "      <td>0.675826</td>\n",
       "    </tr>\n",
       "  </tbody>\n",
       "</table>\n",
       "</div>"
      ],
      "text/plain": [
       "              0         1         2\n",
       "index                              \n",
       "26457  0.131130  0.193161  0.675710\n",
       "26458  0.112663  0.139175  0.748162\n",
       "26459  0.102797  0.115718  0.781485\n",
       "26460  0.085845  0.153520  0.760636\n",
       "26461  0.128029  0.196145  0.675826"
      ]
     },
     "execution_count": 185,
     "metadata": {},
     "output_type": "execute_result"
    }
   ],
   "source": [
    "sub[sub.columns] = test_preds\n",
    "sub.head()"
   ]
  },
  {
   "cell_type": "code",
   "execution_count": 186,
   "metadata": {},
   "outputs": [],
   "source": [
    "sub.to_csv('0520_0.csv')"
   ]
  },
  {
   "cell_type": "markdown",
   "metadata": {},
   "source": [
    "### TabNet"
   ]
  },
  {
   "cell_type": "code",
   "execution_count": 41,
   "metadata": {},
   "outputs": [],
   "source": [
    "#!pip uninstall -y typing\n",
    "#!pip install \"git+https://github.com/dreamquark-ai/tabnet.git@develop#egg=pytorch_tabnet\" --upgrade"
   ]
  },
  {
   "cell_type": "code",
   "execution_count": 29,
   "metadata": {},
   "outputs": [],
   "source": [
    "from pytorch_tabnet.multitask import TabNetMultiTaskClassifier\n",
    "\n",
    "import torch\n",
    "from sklearn.preprocessing import LabelEncoder\n",
    "from sklearn.metrics import roc_auc_score, log_loss\n",
    "\n",
    "import pandas as pd\n",
    "import numpy as np\n",
    "np.random.seed(0)\n",
    "\n",
    "from tqdm.notebook import tqdm\n",
    "\n",
    "import os\n",
    "\n",
    "from matplotlib import pyplot as plt\n",
    "%matplotlib inline"
   ]
  },
  {
   "cell_type": "code",
   "execution_count": 43,
   "metadata": {},
   "outputs": [
    {
     "data": {
      "text/plain": [
       "((18519, 42), (7938, 42))"
      ]
     },
     "execution_count": 43,
     "metadata": {},
     "output_type": "execute_result"
    }
   ],
   "source": [
    "ftr = X\n",
    "target = y\n",
    "train_x, valid_x, train_y, valid_y = train_test_split(ftr, target, test_size=0.3, random_state=0)\n",
    "train_x.shape, valid_x.shape"
   ]
  },
  {
   "cell_type": "code",
   "execution_count": 44,
   "metadata": {},
   "outputs": [
    {
     "name": "stdout",
     "output_type": "stream",
     "text": [
      "Device used : cuda\n"
     ]
    }
   ],
   "source": [
    "clf = TabNetMultiTaskClassifier(n_steps=12,\n",
    "                                #cat_idxs=cat_idxs,\n",
    "                                #cat_dims=cat_dims,\n",
    "                                #cat_emb_dim=1,\n",
    "                                optimizer_fn=torch.optim.Adam,\n",
    "                                optimizer_params=dict(lr=2e-2),\n",
    "                                scheduler_params={\"step_size\":50,\n",
    "                                                  \"gamma\":0.9},\n",
    "                                scheduler_fn=torch.optim.lr_scheduler.StepLR,\n",
    "                                mask_type='entmax',\n",
    "                                lambda_sparse=0\n",
    "                               )"
   ]
  },
  {
   "cell_type": "code",
   "execution_count": 45,
   "metadata": {},
   "outputs": [],
   "source": [
    "train_y = train_y.values.reshape(-1, 1)\n",
    "valid_y = valid_y.values.reshape(-1, 1)"
   ]
  },
  {
   "cell_type": "code",
   "execution_count": 46,
   "metadata": {},
   "outputs": [
    {
     "data": {
      "text/plain": [
       "((18519, 1), (7938, 1))"
      ]
     },
     "execution_count": 46,
     "metadata": {},
     "output_type": "execute_result"
    }
   ],
   "source": [
    "train_y.shape, valid_y.shape"
   ]
  },
  {
   "cell_type": "code",
   "execution_count": 47,
   "metadata": {},
   "outputs": [
    {
     "name": "stdout",
     "output_type": "stream",
     "text": [
      "epoch 0  | loss: 1.54238 | val_0_logloss: 1.16283 | val_1_logloss: 1.1599  |  0:00:14s\n",
      "epoch 1  | loss: 1.00132 | val_0_logloss: 0.93277 | val_1_logloss: 0.93229 |  0:00:26s\n",
      "epoch 2  | loss: 0.90455 | val_0_logloss: 0.90316 | val_1_logloss: 0.8952  |  0:00:38s\n",
      "epoch 3  | loss: 0.8907  | val_0_logloss: 0.92451 | val_1_logloss: 0.92367 |  0:00:50s\n",
      "epoch 4  | loss: 0.97504 | val_0_logloss: 0.92867 | val_1_logloss: 0.91954 |  0:01:02s\n",
      "epoch 5  | loss: 0.90255 | val_0_logloss: 0.88677 | val_1_logloss: 0.87857 |  0:01:15s\n",
      "epoch 6  | loss: 0.8854  | val_0_logloss: 0.90019 | val_1_logloss: 0.89381 |  0:01:27s\n",
      "epoch 7  | loss: 0.89418 | val_0_logloss: 0.9742  | val_1_logloss: 0.97149 |  0:01:40s\n",
      "epoch 8  | loss: 0.88304 | val_0_logloss: 0.871   | val_1_logloss: 0.86744 |  0:01:52s\n",
      "epoch 9  | loss: 0.85851 | val_0_logloss: 0.85526 | val_1_logloss: 0.84756 |  0:02:04s\n",
      "epoch 10 | loss: 0.8565  | val_0_logloss: 0.86605 | val_1_logloss: 0.86262 |  0:02:17s\n",
      "epoch 11 | loss: 0.85841 | val_0_logloss: 0.87215 | val_1_logloss: 0.86536 |  0:02:30s\n",
      "epoch 12 | loss: 0.86173 | val_0_logloss: 0.85322 | val_1_logloss: 0.84697 |  0:02:45s\n",
      "epoch 13 | loss: 0.85196 | val_0_logloss: 0.85209 | val_1_logloss: 0.84615 |  0:02:59s\n",
      "epoch 14 | loss: 0.85385 | val_0_logloss: 0.85298 | val_1_logloss: 0.84392 |  0:03:13s\n",
      "epoch 15 | loss: 0.84996 | val_0_logloss: 0.84885 | val_1_logloss: 0.84379 |  0:03:31s\n"
     ]
    },
    {
     "ename": "KeyboardInterrupt",
     "evalue": "",
     "output_type": "error",
     "traceback": [
      "\u001b[1;31m---------------------------------------------------------------------------\u001b[0m",
      "\u001b[1;31mKeyboardInterrupt\u001b[0m                         Traceback (most recent call last)",
      "\u001b[1;32m<ipython-input-47-91170a2c0d63>\u001b[0m in \u001b[0;36m<module>\u001b[1;34m\u001b[0m\n\u001b[0;32m      1\u001b[0m \u001b[0mmax_epochs\u001b[0m \u001b[1;33m=\u001b[0m \u001b[1;36m300\u001b[0m\u001b[1;33m\u001b[0m\u001b[1;33m\u001b[0m\u001b[0m\n\u001b[1;32m----> 2\u001b[1;33m clf.fit(\n\u001b[0m\u001b[0;32m      3\u001b[0m     \u001b[0mX_train\u001b[0m\u001b[1;33m=\u001b[0m\u001b[0mtrain_x\u001b[0m\u001b[1;33m.\u001b[0m\u001b[0mvalues\u001b[0m\u001b[1;33m,\u001b[0m \u001b[0my_train\u001b[0m\u001b[1;33m=\u001b[0m\u001b[0mtrain_y\u001b[0m\u001b[1;33m,\u001b[0m\u001b[1;33m\u001b[0m\u001b[1;33m\u001b[0m\u001b[0m\n\u001b[0;32m      4\u001b[0m     \u001b[0meval_set\u001b[0m\u001b[1;33m=\u001b[0m\u001b[1;33m[\u001b[0m\u001b[1;33m(\u001b[0m\u001b[0mtrain_x\u001b[0m\u001b[1;33m.\u001b[0m\u001b[0mvalues\u001b[0m\u001b[1;33m,\u001b[0m \u001b[0mtrain_y\u001b[0m\u001b[1;33m)\u001b[0m\u001b[1;33m,\u001b[0m\u001b[1;33m(\u001b[0m\u001b[0mvalid_x\u001b[0m\u001b[1;33m.\u001b[0m\u001b[0mvalues\u001b[0m\u001b[1;33m,\u001b[0m \u001b[0mvalid_y\u001b[0m\u001b[1;33m)\u001b[0m\u001b[1;33m]\u001b[0m\u001b[1;33m,\u001b[0m\u001b[1;33m\u001b[0m\u001b[1;33m\u001b[0m\u001b[0m\n\u001b[0;32m      5\u001b[0m     \u001b[0mmax_epochs\u001b[0m\u001b[1;33m=\u001b[0m\u001b[0mmax_epochs\u001b[0m\u001b[1;33m,\u001b[0m\u001b[1;33m\u001b[0m\u001b[1;33m\u001b[0m\u001b[0m\n",
      "\u001b[1;32m~\\anaconda3\\lib\\site-packages\\pytorch_tabnet\\abstract_model.py\u001b[0m in \u001b[0;36mfit\u001b[1;34m(self, X_train, y_train, eval_set, eval_name, eval_metric, loss_fn, weights, max_epochs, patience, batch_size, virtual_batch_size, num_workers, drop_last, callbacks, pin_memory, from_unsupervised)\u001b[0m\n\u001b[0;32m    221\u001b[0m             \u001b[0mself\u001b[0m\u001b[1;33m.\u001b[0m\u001b[0m_callback_container\u001b[0m\u001b[1;33m.\u001b[0m\u001b[0mon_epoch_begin\u001b[0m\u001b[1;33m(\u001b[0m\u001b[0mepoch_idx\u001b[0m\u001b[1;33m)\u001b[0m\u001b[1;33m\u001b[0m\u001b[1;33m\u001b[0m\u001b[0m\n\u001b[0;32m    222\u001b[0m \u001b[1;33m\u001b[0m\u001b[0m\n\u001b[1;32m--> 223\u001b[1;33m             \u001b[0mself\u001b[0m\u001b[1;33m.\u001b[0m\u001b[0m_train_epoch\u001b[0m\u001b[1;33m(\u001b[0m\u001b[0mtrain_dataloader\u001b[0m\u001b[1;33m)\u001b[0m\u001b[1;33m\u001b[0m\u001b[1;33m\u001b[0m\u001b[0m\n\u001b[0m\u001b[0;32m    224\u001b[0m \u001b[1;33m\u001b[0m\u001b[0m\n\u001b[0;32m    225\u001b[0m             \u001b[1;31m# Apply predict epoch to all eval sets\u001b[0m\u001b[1;33m\u001b[0m\u001b[1;33m\u001b[0m\u001b[1;33m\u001b[0m\u001b[0m\n",
      "\u001b[1;32m~\\anaconda3\\lib\\site-packages\\pytorch_tabnet\\abstract_model.py\u001b[0m in \u001b[0;36m_train_epoch\u001b[1;34m(self, train_loader)\u001b[0m\n\u001b[0;32m    432\u001b[0m             \u001b[0mself\u001b[0m\u001b[1;33m.\u001b[0m\u001b[0m_callback_container\u001b[0m\u001b[1;33m.\u001b[0m\u001b[0mon_batch_begin\u001b[0m\u001b[1;33m(\u001b[0m\u001b[0mbatch_idx\u001b[0m\u001b[1;33m)\u001b[0m\u001b[1;33m\u001b[0m\u001b[1;33m\u001b[0m\u001b[0m\n\u001b[0;32m    433\u001b[0m \u001b[1;33m\u001b[0m\u001b[0m\n\u001b[1;32m--> 434\u001b[1;33m             \u001b[0mbatch_logs\u001b[0m \u001b[1;33m=\u001b[0m \u001b[0mself\u001b[0m\u001b[1;33m.\u001b[0m\u001b[0m_train_batch\u001b[0m\u001b[1;33m(\u001b[0m\u001b[0mX\u001b[0m\u001b[1;33m,\u001b[0m \u001b[0my\u001b[0m\u001b[1;33m)\u001b[0m\u001b[1;33m\u001b[0m\u001b[1;33m\u001b[0m\u001b[0m\n\u001b[0m\u001b[0;32m    435\u001b[0m \u001b[1;33m\u001b[0m\u001b[0m\n\u001b[0;32m    436\u001b[0m             \u001b[0mself\u001b[0m\u001b[1;33m.\u001b[0m\u001b[0m_callback_container\u001b[0m\u001b[1;33m.\u001b[0m\u001b[0mon_batch_end\u001b[0m\u001b[1;33m(\u001b[0m\u001b[0mbatch_idx\u001b[0m\u001b[1;33m,\u001b[0m \u001b[0mbatch_logs\u001b[0m\u001b[1;33m)\u001b[0m\u001b[1;33m\u001b[0m\u001b[1;33m\u001b[0m\u001b[0m\n",
      "\u001b[1;32m~\\anaconda3\\lib\\site-packages\\pytorch_tabnet\\abstract_model.py\u001b[0m in \u001b[0;36m_train_batch\u001b[1;34m(self, X, y)\u001b[0m\n\u001b[0;32m    476\u001b[0m         \u001b[0mloss\u001b[0m\u001b[1;33m.\u001b[0m\u001b[0mbackward\u001b[0m\u001b[1;33m(\u001b[0m\u001b[1;33m)\u001b[0m\u001b[1;33m\u001b[0m\u001b[1;33m\u001b[0m\u001b[0m\n\u001b[0;32m    477\u001b[0m         \u001b[1;32mif\u001b[0m \u001b[0mself\u001b[0m\u001b[1;33m.\u001b[0m\u001b[0mclip_value\u001b[0m\u001b[1;33m:\u001b[0m\u001b[1;33m\u001b[0m\u001b[1;33m\u001b[0m\u001b[0m\n\u001b[1;32m--> 478\u001b[1;33m             \u001b[0mclip_grad_norm_\u001b[0m\u001b[1;33m(\u001b[0m\u001b[0mself\u001b[0m\u001b[1;33m.\u001b[0m\u001b[0mnetwork\u001b[0m\u001b[1;33m.\u001b[0m\u001b[0mparameters\u001b[0m\u001b[1;33m(\u001b[0m\u001b[1;33m)\u001b[0m\u001b[1;33m,\u001b[0m \u001b[0mself\u001b[0m\u001b[1;33m.\u001b[0m\u001b[0mclip_value\u001b[0m\u001b[1;33m)\u001b[0m\u001b[1;33m\u001b[0m\u001b[1;33m\u001b[0m\u001b[0m\n\u001b[0m\u001b[0;32m    479\u001b[0m         \u001b[0mself\u001b[0m\u001b[1;33m.\u001b[0m\u001b[0m_optimizer\u001b[0m\u001b[1;33m.\u001b[0m\u001b[0mstep\u001b[0m\u001b[1;33m(\u001b[0m\u001b[1;33m)\u001b[0m\u001b[1;33m\u001b[0m\u001b[1;33m\u001b[0m\u001b[0m\n\u001b[0;32m    480\u001b[0m \u001b[1;33m\u001b[0m\u001b[0m\n",
      "\u001b[1;32m~\\anaconda3\\lib\\site-packages\\torch\\nn\\utils\\clip_grad.py\u001b[0m in \u001b[0;36mclip_grad_norm_\u001b[1;34m(parameters, max_norm, norm_type)\u001b[0m\n\u001b[0;32m     34\u001b[0m         \u001b[0mtotal_norm\u001b[0m \u001b[1;33m=\u001b[0m \u001b[0mmax\u001b[0m\u001b[1;33m(\u001b[0m\u001b[0mp\u001b[0m\u001b[1;33m.\u001b[0m\u001b[0mgrad\u001b[0m\u001b[1;33m.\u001b[0m\u001b[0mdetach\u001b[0m\u001b[1;33m(\u001b[0m\u001b[1;33m)\u001b[0m\u001b[1;33m.\u001b[0m\u001b[0mabs\u001b[0m\u001b[1;33m(\u001b[0m\u001b[1;33m)\u001b[0m\u001b[1;33m.\u001b[0m\u001b[0mmax\u001b[0m\u001b[1;33m(\u001b[0m\u001b[1;33m)\u001b[0m\u001b[1;33m.\u001b[0m\u001b[0mto\u001b[0m\u001b[1;33m(\u001b[0m\u001b[0mdevice\u001b[0m\u001b[1;33m)\u001b[0m \u001b[1;32mfor\u001b[0m \u001b[0mp\u001b[0m \u001b[1;32min\u001b[0m \u001b[0mparameters\u001b[0m\u001b[1;33m)\u001b[0m\u001b[1;33m\u001b[0m\u001b[1;33m\u001b[0m\u001b[0m\n\u001b[0;32m     35\u001b[0m     \u001b[1;32melse\u001b[0m\u001b[1;33m:\u001b[0m\u001b[1;33m\u001b[0m\u001b[1;33m\u001b[0m\u001b[0m\n\u001b[1;32m---> 36\u001b[1;33m         \u001b[0mtotal_norm\u001b[0m \u001b[1;33m=\u001b[0m \u001b[0mtorch\u001b[0m\u001b[1;33m.\u001b[0m\u001b[0mnorm\u001b[0m\u001b[1;33m(\u001b[0m\u001b[0mtorch\u001b[0m\u001b[1;33m.\u001b[0m\u001b[0mstack\u001b[0m\u001b[1;33m(\u001b[0m\u001b[1;33m[\u001b[0m\u001b[0mtorch\u001b[0m\u001b[1;33m.\u001b[0m\u001b[0mnorm\u001b[0m\u001b[1;33m(\u001b[0m\u001b[0mp\u001b[0m\u001b[1;33m.\u001b[0m\u001b[0mgrad\u001b[0m\u001b[1;33m.\u001b[0m\u001b[0mdetach\u001b[0m\u001b[1;33m(\u001b[0m\u001b[1;33m)\u001b[0m\u001b[1;33m,\u001b[0m \u001b[0mnorm_type\u001b[0m\u001b[1;33m)\u001b[0m\u001b[1;33m.\u001b[0m\u001b[0mto\u001b[0m\u001b[1;33m(\u001b[0m\u001b[0mdevice\u001b[0m\u001b[1;33m)\u001b[0m \u001b[1;32mfor\u001b[0m \u001b[0mp\u001b[0m \u001b[1;32min\u001b[0m \u001b[0mparameters\u001b[0m\u001b[1;33m]\u001b[0m\u001b[1;33m)\u001b[0m\u001b[1;33m,\u001b[0m \u001b[0mnorm_type\u001b[0m\u001b[1;33m)\u001b[0m\u001b[1;33m\u001b[0m\u001b[1;33m\u001b[0m\u001b[0m\n\u001b[0m\u001b[0;32m     37\u001b[0m     \u001b[0mclip_coef\u001b[0m \u001b[1;33m=\u001b[0m \u001b[0mmax_norm\u001b[0m \u001b[1;33m/\u001b[0m \u001b[1;33m(\u001b[0m\u001b[0mtotal_norm\u001b[0m \u001b[1;33m+\u001b[0m \u001b[1;36m1e-6\u001b[0m\u001b[1;33m)\u001b[0m\u001b[1;33m\u001b[0m\u001b[1;33m\u001b[0m\u001b[0m\n\u001b[0;32m     38\u001b[0m     \u001b[1;32mif\u001b[0m \u001b[0mclip_coef\u001b[0m \u001b[1;33m<\u001b[0m \u001b[1;36m1\u001b[0m\u001b[1;33m:\u001b[0m\u001b[1;33m\u001b[0m\u001b[1;33m\u001b[0m\u001b[0m\n",
      "\u001b[1;32m~\\anaconda3\\lib\\site-packages\\torch\\nn\\utils\\clip_grad.py\u001b[0m in \u001b[0;36m<listcomp>\u001b[1;34m(.0)\u001b[0m\n\u001b[0;32m     34\u001b[0m         \u001b[0mtotal_norm\u001b[0m \u001b[1;33m=\u001b[0m \u001b[0mmax\u001b[0m\u001b[1;33m(\u001b[0m\u001b[0mp\u001b[0m\u001b[1;33m.\u001b[0m\u001b[0mgrad\u001b[0m\u001b[1;33m.\u001b[0m\u001b[0mdetach\u001b[0m\u001b[1;33m(\u001b[0m\u001b[1;33m)\u001b[0m\u001b[1;33m.\u001b[0m\u001b[0mabs\u001b[0m\u001b[1;33m(\u001b[0m\u001b[1;33m)\u001b[0m\u001b[1;33m.\u001b[0m\u001b[0mmax\u001b[0m\u001b[1;33m(\u001b[0m\u001b[1;33m)\u001b[0m\u001b[1;33m.\u001b[0m\u001b[0mto\u001b[0m\u001b[1;33m(\u001b[0m\u001b[0mdevice\u001b[0m\u001b[1;33m)\u001b[0m \u001b[1;32mfor\u001b[0m \u001b[0mp\u001b[0m \u001b[1;32min\u001b[0m \u001b[0mparameters\u001b[0m\u001b[1;33m)\u001b[0m\u001b[1;33m\u001b[0m\u001b[1;33m\u001b[0m\u001b[0m\n\u001b[0;32m     35\u001b[0m     \u001b[1;32melse\u001b[0m\u001b[1;33m:\u001b[0m\u001b[1;33m\u001b[0m\u001b[1;33m\u001b[0m\u001b[0m\n\u001b[1;32m---> 36\u001b[1;33m         \u001b[0mtotal_norm\u001b[0m \u001b[1;33m=\u001b[0m \u001b[0mtorch\u001b[0m\u001b[1;33m.\u001b[0m\u001b[0mnorm\u001b[0m\u001b[1;33m(\u001b[0m\u001b[0mtorch\u001b[0m\u001b[1;33m.\u001b[0m\u001b[0mstack\u001b[0m\u001b[1;33m(\u001b[0m\u001b[1;33m[\u001b[0m\u001b[0mtorch\u001b[0m\u001b[1;33m.\u001b[0m\u001b[0mnorm\u001b[0m\u001b[1;33m(\u001b[0m\u001b[0mp\u001b[0m\u001b[1;33m.\u001b[0m\u001b[0mgrad\u001b[0m\u001b[1;33m.\u001b[0m\u001b[0mdetach\u001b[0m\u001b[1;33m(\u001b[0m\u001b[1;33m)\u001b[0m\u001b[1;33m,\u001b[0m \u001b[0mnorm_type\u001b[0m\u001b[1;33m)\u001b[0m\u001b[1;33m.\u001b[0m\u001b[0mto\u001b[0m\u001b[1;33m(\u001b[0m\u001b[0mdevice\u001b[0m\u001b[1;33m)\u001b[0m \u001b[1;32mfor\u001b[0m \u001b[0mp\u001b[0m \u001b[1;32min\u001b[0m \u001b[0mparameters\u001b[0m\u001b[1;33m]\u001b[0m\u001b[1;33m)\u001b[0m\u001b[1;33m,\u001b[0m \u001b[0mnorm_type\u001b[0m\u001b[1;33m)\u001b[0m\u001b[1;33m\u001b[0m\u001b[1;33m\u001b[0m\u001b[0m\n\u001b[0m\u001b[0;32m     37\u001b[0m     \u001b[0mclip_coef\u001b[0m \u001b[1;33m=\u001b[0m \u001b[0mmax_norm\u001b[0m \u001b[1;33m/\u001b[0m \u001b[1;33m(\u001b[0m\u001b[0mtotal_norm\u001b[0m \u001b[1;33m+\u001b[0m \u001b[1;36m1e-6\u001b[0m\u001b[1;33m)\u001b[0m\u001b[1;33m\u001b[0m\u001b[1;33m\u001b[0m\u001b[0m\n\u001b[0;32m     38\u001b[0m     \u001b[1;32mif\u001b[0m \u001b[0mclip_coef\u001b[0m \u001b[1;33m<\u001b[0m \u001b[1;36m1\u001b[0m\u001b[1;33m:\u001b[0m\u001b[1;33m\u001b[0m\u001b[1;33m\u001b[0m\u001b[0m\n",
      "\u001b[1;31mKeyboardInterrupt\u001b[0m: "
     ]
    }
   ],
   "source": [
    "max_epochs = 300\n",
    "clf.fit(\n",
    "    X_train=train_x.values, y_train=train_y,\n",
    "    eval_set=[(train_x.values, train_y),(valid_x.values, valid_y)],\n",
    "    max_epochs=max_epochs,\n",
    "    patience=50, # please be patient ^^\n",
    "    batch_size=1024,\n",
    "    virtual_batch_size=128,\n",
    "    num_workers=1,\n",
    "    drop_last=False,\n",
    "    eval_metric=['logloss'],\n",
    ")"
   ]
  },
  {
   "cell_type": "code",
   "execution_count": 101,
   "metadata": {
    "collapsed": true
   },
   "outputs": [
    {
     "ename": "KeyError",
     "evalue": "0",
     "output_type": "error",
     "traceback": [
      "\u001b[1;31m---------------------------------------------------------------------------\u001b[0m",
      "\u001b[1;31mKeyError\u001b[0m                                  Traceback (most recent call last)",
      "\u001b[1;32m~\\anaconda3\\lib\\site-packages\\pandas\\core\\indexes\\base.py\u001b[0m in \u001b[0;36mget_loc\u001b[1;34m(self, key, method, tolerance)\u001b[0m\n\u001b[0;32m   3079\u001b[0m             \u001b[1;32mtry\u001b[0m\u001b[1;33m:\u001b[0m\u001b[1;33m\u001b[0m\u001b[1;33m\u001b[0m\u001b[0m\n\u001b[1;32m-> 3080\u001b[1;33m                 \u001b[1;32mreturn\u001b[0m \u001b[0mself\u001b[0m\u001b[1;33m.\u001b[0m\u001b[0m_engine\u001b[0m\u001b[1;33m.\u001b[0m\u001b[0mget_loc\u001b[0m\u001b[1;33m(\u001b[0m\u001b[0mcasted_key\u001b[0m\u001b[1;33m)\u001b[0m\u001b[1;33m\u001b[0m\u001b[1;33m\u001b[0m\u001b[0m\n\u001b[0m\u001b[0;32m   3081\u001b[0m             \u001b[1;32mexcept\u001b[0m \u001b[0mKeyError\u001b[0m \u001b[1;32mas\u001b[0m \u001b[0merr\u001b[0m\u001b[1;33m:\u001b[0m\u001b[1;33m\u001b[0m\u001b[1;33m\u001b[0m\u001b[0m\n",
      "\u001b[1;32mpandas\\_libs\\index.pyx\u001b[0m in \u001b[0;36mpandas._libs.index.IndexEngine.get_loc\u001b[1;34m()\u001b[0m\n",
      "\u001b[1;32mpandas\\_libs\\index.pyx\u001b[0m in \u001b[0;36mpandas._libs.index.IndexEngine.get_loc\u001b[1;34m()\u001b[0m\n",
      "\u001b[1;32mpandas\\_libs\\hashtable_class_helper.pxi\u001b[0m in \u001b[0;36mpandas._libs.hashtable.PyObjectHashTable.get_item\u001b[1;34m()\u001b[0m\n",
      "\u001b[1;32mpandas\\_libs\\hashtable_class_helper.pxi\u001b[0m in \u001b[0;36mpandas._libs.hashtable.PyObjectHashTable.get_item\u001b[1;34m()\u001b[0m\n",
      "\u001b[1;31mKeyError\u001b[0m: 0",
      "\nThe above exception was the direct cause of the following exception:\n",
      "\u001b[1;31mKeyError\u001b[0m                                  Traceback (most recent call last)",
      "\u001b[1;32m<ipython-input-101-6ea35f8049be>\u001b[0m in \u001b[0;36m<module>\u001b[1;34m\u001b[0m\n\u001b[1;32m----> 1\u001b[1;33m \u001b[0mpreds_valid\u001b[0m \u001b[1;33m=\u001b[0m \u001b[0mclf\u001b[0m\u001b[1;33m.\u001b[0m\u001b[0mpredict_proba\u001b[0m\u001b[1;33m(\u001b[0m\u001b[0mvalid_x\u001b[0m\u001b[1;33m)\u001b[0m\u001b[1;33m\u001b[0m\u001b[1;33m\u001b[0m\u001b[0m\n\u001b[0m",
      "\u001b[1;32m~\\anaconda3\\lib\\site-packages\\pytorch_tabnet\\multitask.py\u001b[0m in \u001b[0;36mpredict_proba\u001b[1;34m(self, X)\u001b[0m\n\u001b[0;32m    150\u001b[0m \u001b[1;33m\u001b[0m\u001b[0m\n\u001b[0;32m    151\u001b[0m         \u001b[0mresults\u001b[0m \u001b[1;33m=\u001b[0m \u001b[1;33m{\u001b[0m\u001b[1;33m}\u001b[0m\u001b[1;33m\u001b[0m\u001b[1;33m\u001b[0m\u001b[0m\n\u001b[1;32m--> 152\u001b[1;33m         \u001b[1;32mfor\u001b[0m \u001b[0mdata\u001b[0m \u001b[1;32min\u001b[0m \u001b[0mdataloader\u001b[0m\u001b[1;33m:\u001b[0m\u001b[1;33m\u001b[0m\u001b[1;33m\u001b[0m\u001b[0m\n\u001b[0m\u001b[0;32m    153\u001b[0m             \u001b[0mdata\u001b[0m \u001b[1;33m=\u001b[0m \u001b[0mdata\u001b[0m\u001b[1;33m.\u001b[0m\u001b[0mto\u001b[0m\u001b[1;33m(\u001b[0m\u001b[0mself\u001b[0m\u001b[1;33m.\u001b[0m\u001b[0mdevice\u001b[0m\u001b[1;33m)\u001b[0m\u001b[1;33m.\u001b[0m\u001b[0mfloat\u001b[0m\u001b[1;33m(\u001b[0m\u001b[1;33m)\u001b[0m\u001b[1;33m\u001b[0m\u001b[1;33m\u001b[0m\u001b[0m\n\u001b[0;32m    154\u001b[0m             \u001b[0moutput\u001b[0m\u001b[1;33m,\u001b[0m \u001b[0m_\u001b[0m \u001b[1;33m=\u001b[0m \u001b[0mself\u001b[0m\u001b[1;33m.\u001b[0m\u001b[0mnetwork\u001b[0m\u001b[1;33m(\u001b[0m\u001b[0mdata\u001b[0m\u001b[1;33m)\u001b[0m\u001b[1;33m\u001b[0m\u001b[1;33m\u001b[0m\u001b[0m\n",
      "\u001b[1;32m~\\anaconda3\\lib\\site-packages\\torch\\utils\\data\\dataloader.py\u001b[0m in \u001b[0;36m__next__\u001b[1;34m(self)\u001b[0m\n\u001b[0;32m    515\u001b[0m             \u001b[1;32mif\u001b[0m \u001b[0mself\u001b[0m\u001b[1;33m.\u001b[0m\u001b[0m_sampler_iter\u001b[0m \u001b[1;32mis\u001b[0m \u001b[1;32mNone\u001b[0m\u001b[1;33m:\u001b[0m\u001b[1;33m\u001b[0m\u001b[1;33m\u001b[0m\u001b[0m\n\u001b[0;32m    516\u001b[0m                 \u001b[0mself\u001b[0m\u001b[1;33m.\u001b[0m\u001b[0m_reset\u001b[0m\u001b[1;33m(\u001b[0m\u001b[1;33m)\u001b[0m\u001b[1;33m\u001b[0m\u001b[1;33m\u001b[0m\u001b[0m\n\u001b[1;32m--> 517\u001b[1;33m             \u001b[0mdata\u001b[0m \u001b[1;33m=\u001b[0m \u001b[0mself\u001b[0m\u001b[1;33m.\u001b[0m\u001b[0m_next_data\u001b[0m\u001b[1;33m(\u001b[0m\u001b[1;33m)\u001b[0m\u001b[1;33m\u001b[0m\u001b[1;33m\u001b[0m\u001b[0m\n\u001b[0m\u001b[0;32m    518\u001b[0m             \u001b[0mself\u001b[0m\u001b[1;33m.\u001b[0m\u001b[0m_num_yielded\u001b[0m \u001b[1;33m+=\u001b[0m \u001b[1;36m1\u001b[0m\u001b[1;33m\u001b[0m\u001b[1;33m\u001b[0m\u001b[0m\n\u001b[0;32m    519\u001b[0m             \u001b[1;32mif\u001b[0m \u001b[0mself\u001b[0m\u001b[1;33m.\u001b[0m\u001b[0m_dataset_kind\u001b[0m \u001b[1;33m==\u001b[0m \u001b[0m_DatasetKind\u001b[0m\u001b[1;33m.\u001b[0m\u001b[0mIterable\u001b[0m \u001b[1;32mand\u001b[0m\u001b[0;31m \u001b[0m\u001b[0;31m\\\u001b[0m\u001b[1;33m\u001b[0m\u001b[1;33m\u001b[0m\u001b[0m\n",
      "\u001b[1;32m~\\anaconda3\\lib\\site-packages\\torch\\utils\\data\\dataloader.py\u001b[0m in \u001b[0;36m_next_data\u001b[1;34m(self)\u001b[0m\n\u001b[0;32m    555\u001b[0m     \u001b[1;32mdef\u001b[0m \u001b[0m_next_data\u001b[0m\u001b[1;33m(\u001b[0m\u001b[0mself\u001b[0m\u001b[1;33m)\u001b[0m\u001b[1;33m:\u001b[0m\u001b[1;33m\u001b[0m\u001b[1;33m\u001b[0m\u001b[0m\n\u001b[0;32m    556\u001b[0m         \u001b[0mindex\u001b[0m \u001b[1;33m=\u001b[0m \u001b[0mself\u001b[0m\u001b[1;33m.\u001b[0m\u001b[0m_next_index\u001b[0m\u001b[1;33m(\u001b[0m\u001b[1;33m)\u001b[0m  \u001b[1;31m# may raise StopIteration\u001b[0m\u001b[1;33m\u001b[0m\u001b[1;33m\u001b[0m\u001b[0m\n\u001b[1;32m--> 557\u001b[1;33m         \u001b[0mdata\u001b[0m \u001b[1;33m=\u001b[0m \u001b[0mself\u001b[0m\u001b[1;33m.\u001b[0m\u001b[0m_dataset_fetcher\u001b[0m\u001b[1;33m.\u001b[0m\u001b[0mfetch\u001b[0m\u001b[1;33m(\u001b[0m\u001b[0mindex\u001b[0m\u001b[1;33m)\u001b[0m  \u001b[1;31m# may raise StopIteration\u001b[0m\u001b[1;33m\u001b[0m\u001b[1;33m\u001b[0m\u001b[0m\n\u001b[0m\u001b[0;32m    558\u001b[0m         \u001b[1;32mif\u001b[0m \u001b[0mself\u001b[0m\u001b[1;33m.\u001b[0m\u001b[0m_pin_memory\u001b[0m\u001b[1;33m:\u001b[0m\u001b[1;33m\u001b[0m\u001b[1;33m\u001b[0m\u001b[0m\n\u001b[0;32m    559\u001b[0m             \u001b[0mdata\u001b[0m \u001b[1;33m=\u001b[0m \u001b[0m_utils\u001b[0m\u001b[1;33m.\u001b[0m\u001b[0mpin_memory\u001b[0m\u001b[1;33m.\u001b[0m\u001b[0mpin_memory\u001b[0m\u001b[1;33m(\u001b[0m\u001b[0mdata\u001b[0m\u001b[1;33m)\u001b[0m\u001b[1;33m\u001b[0m\u001b[1;33m\u001b[0m\u001b[0m\n",
      "\u001b[1;32m~\\anaconda3\\lib\\site-packages\\torch\\utils\\data\\_utils\\fetch.py\u001b[0m in \u001b[0;36mfetch\u001b[1;34m(self, possibly_batched_index)\u001b[0m\n\u001b[0;32m     42\u001b[0m     \u001b[1;32mdef\u001b[0m \u001b[0mfetch\u001b[0m\u001b[1;33m(\u001b[0m\u001b[0mself\u001b[0m\u001b[1;33m,\u001b[0m \u001b[0mpossibly_batched_index\u001b[0m\u001b[1;33m)\u001b[0m\u001b[1;33m:\u001b[0m\u001b[1;33m\u001b[0m\u001b[1;33m\u001b[0m\u001b[0m\n\u001b[0;32m     43\u001b[0m         \u001b[1;32mif\u001b[0m \u001b[0mself\u001b[0m\u001b[1;33m.\u001b[0m\u001b[0mauto_collation\u001b[0m\u001b[1;33m:\u001b[0m\u001b[1;33m\u001b[0m\u001b[1;33m\u001b[0m\u001b[0m\n\u001b[1;32m---> 44\u001b[1;33m             \u001b[0mdata\u001b[0m \u001b[1;33m=\u001b[0m \u001b[1;33m[\u001b[0m\u001b[0mself\u001b[0m\u001b[1;33m.\u001b[0m\u001b[0mdataset\u001b[0m\u001b[1;33m[\u001b[0m\u001b[0midx\u001b[0m\u001b[1;33m]\u001b[0m \u001b[1;32mfor\u001b[0m \u001b[0midx\u001b[0m \u001b[1;32min\u001b[0m \u001b[0mpossibly_batched_index\u001b[0m\u001b[1;33m]\u001b[0m\u001b[1;33m\u001b[0m\u001b[1;33m\u001b[0m\u001b[0m\n\u001b[0m\u001b[0;32m     45\u001b[0m         \u001b[1;32melse\u001b[0m\u001b[1;33m:\u001b[0m\u001b[1;33m\u001b[0m\u001b[1;33m\u001b[0m\u001b[0m\n\u001b[0;32m     46\u001b[0m             \u001b[0mdata\u001b[0m \u001b[1;33m=\u001b[0m \u001b[0mself\u001b[0m\u001b[1;33m.\u001b[0m\u001b[0mdataset\u001b[0m\u001b[1;33m[\u001b[0m\u001b[0mpossibly_batched_index\u001b[0m\u001b[1;33m]\u001b[0m\u001b[1;33m\u001b[0m\u001b[1;33m\u001b[0m\u001b[0m\n",
      "\u001b[1;32m~\\anaconda3\\lib\\site-packages\\torch\\utils\\data\\_utils\\fetch.py\u001b[0m in \u001b[0;36m<listcomp>\u001b[1;34m(.0)\u001b[0m\n\u001b[0;32m     42\u001b[0m     \u001b[1;32mdef\u001b[0m \u001b[0mfetch\u001b[0m\u001b[1;33m(\u001b[0m\u001b[0mself\u001b[0m\u001b[1;33m,\u001b[0m \u001b[0mpossibly_batched_index\u001b[0m\u001b[1;33m)\u001b[0m\u001b[1;33m:\u001b[0m\u001b[1;33m\u001b[0m\u001b[1;33m\u001b[0m\u001b[0m\n\u001b[0;32m     43\u001b[0m         \u001b[1;32mif\u001b[0m \u001b[0mself\u001b[0m\u001b[1;33m.\u001b[0m\u001b[0mauto_collation\u001b[0m\u001b[1;33m:\u001b[0m\u001b[1;33m\u001b[0m\u001b[1;33m\u001b[0m\u001b[0m\n\u001b[1;32m---> 44\u001b[1;33m             \u001b[0mdata\u001b[0m \u001b[1;33m=\u001b[0m \u001b[1;33m[\u001b[0m\u001b[0mself\u001b[0m\u001b[1;33m.\u001b[0m\u001b[0mdataset\u001b[0m\u001b[1;33m[\u001b[0m\u001b[0midx\u001b[0m\u001b[1;33m]\u001b[0m \u001b[1;32mfor\u001b[0m \u001b[0midx\u001b[0m \u001b[1;32min\u001b[0m \u001b[0mpossibly_batched_index\u001b[0m\u001b[1;33m]\u001b[0m\u001b[1;33m\u001b[0m\u001b[1;33m\u001b[0m\u001b[0m\n\u001b[0m\u001b[0;32m     45\u001b[0m         \u001b[1;32melse\u001b[0m\u001b[1;33m:\u001b[0m\u001b[1;33m\u001b[0m\u001b[1;33m\u001b[0m\u001b[0m\n\u001b[0;32m     46\u001b[0m             \u001b[0mdata\u001b[0m \u001b[1;33m=\u001b[0m \u001b[0mself\u001b[0m\u001b[1;33m.\u001b[0m\u001b[0mdataset\u001b[0m\u001b[1;33m[\u001b[0m\u001b[0mpossibly_batched_index\u001b[0m\u001b[1;33m]\u001b[0m\u001b[1;33m\u001b[0m\u001b[1;33m\u001b[0m\u001b[0m\n",
      "\u001b[1;32m~\\anaconda3\\lib\\site-packages\\pytorch_tabnet\\utils.py\u001b[0m in \u001b[0;36m__getitem__\u001b[1;34m(self, index)\u001b[0m\n\u001b[0;32m     49\u001b[0m \u001b[1;33m\u001b[0m\u001b[0m\n\u001b[0;32m     50\u001b[0m     \u001b[1;32mdef\u001b[0m \u001b[0m__getitem__\u001b[0m\u001b[1;33m(\u001b[0m\u001b[0mself\u001b[0m\u001b[1;33m,\u001b[0m \u001b[0mindex\u001b[0m\u001b[1;33m)\u001b[0m\u001b[1;33m:\u001b[0m\u001b[1;33m\u001b[0m\u001b[1;33m\u001b[0m\u001b[0m\n\u001b[1;32m---> 51\u001b[1;33m         \u001b[0mx\u001b[0m \u001b[1;33m=\u001b[0m \u001b[0mself\u001b[0m\u001b[1;33m.\u001b[0m\u001b[0mx\u001b[0m\u001b[1;33m[\u001b[0m\u001b[0mindex\u001b[0m\u001b[1;33m]\u001b[0m\u001b[1;33m\u001b[0m\u001b[1;33m\u001b[0m\u001b[0m\n\u001b[0m\u001b[0;32m     52\u001b[0m         \u001b[1;32mreturn\u001b[0m \u001b[0mx\u001b[0m\u001b[1;33m\u001b[0m\u001b[1;33m\u001b[0m\u001b[0m\n\u001b[0;32m     53\u001b[0m \u001b[1;33m\u001b[0m\u001b[0m\n",
      "\u001b[1;32m~\\anaconda3\\lib\\site-packages\\pandas\\core\\frame.py\u001b[0m in \u001b[0;36m__getitem__\u001b[1;34m(self, key)\u001b[0m\n\u001b[0;32m   3022\u001b[0m             \u001b[1;32mif\u001b[0m \u001b[0mself\u001b[0m\u001b[1;33m.\u001b[0m\u001b[0mcolumns\u001b[0m\u001b[1;33m.\u001b[0m\u001b[0mnlevels\u001b[0m \u001b[1;33m>\u001b[0m \u001b[1;36m1\u001b[0m\u001b[1;33m:\u001b[0m\u001b[1;33m\u001b[0m\u001b[1;33m\u001b[0m\u001b[0m\n\u001b[0;32m   3023\u001b[0m                 \u001b[1;32mreturn\u001b[0m \u001b[0mself\u001b[0m\u001b[1;33m.\u001b[0m\u001b[0m_getitem_multilevel\u001b[0m\u001b[1;33m(\u001b[0m\u001b[0mkey\u001b[0m\u001b[1;33m)\u001b[0m\u001b[1;33m\u001b[0m\u001b[1;33m\u001b[0m\u001b[0m\n\u001b[1;32m-> 3024\u001b[1;33m             \u001b[0mindexer\u001b[0m \u001b[1;33m=\u001b[0m \u001b[0mself\u001b[0m\u001b[1;33m.\u001b[0m\u001b[0mcolumns\u001b[0m\u001b[1;33m.\u001b[0m\u001b[0mget_loc\u001b[0m\u001b[1;33m(\u001b[0m\u001b[0mkey\u001b[0m\u001b[1;33m)\u001b[0m\u001b[1;33m\u001b[0m\u001b[1;33m\u001b[0m\u001b[0m\n\u001b[0m\u001b[0;32m   3025\u001b[0m             \u001b[1;32mif\u001b[0m \u001b[0mis_integer\u001b[0m\u001b[1;33m(\u001b[0m\u001b[0mindexer\u001b[0m\u001b[1;33m)\u001b[0m\u001b[1;33m:\u001b[0m\u001b[1;33m\u001b[0m\u001b[1;33m\u001b[0m\u001b[0m\n\u001b[0;32m   3026\u001b[0m                 \u001b[0mindexer\u001b[0m \u001b[1;33m=\u001b[0m \u001b[1;33m[\u001b[0m\u001b[0mindexer\u001b[0m\u001b[1;33m]\u001b[0m\u001b[1;33m\u001b[0m\u001b[1;33m\u001b[0m\u001b[0m\n",
      "\u001b[1;32m~\\anaconda3\\lib\\site-packages\\pandas\\core\\indexes\\base.py\u001b[0m in \u001b[0;36mget_loc\u001b[1;34m(self, key, method, tolerance)\u001b[0m\n\u001b[0;32m   3080\u001b[0m                 \u001b[1;32mreturn\u001b[0m \u001b[0mself\u001b[0m\u001b[1;33m.\u001b[0m\u001b[0m_engine\u001b[0m\u001b[1;33m.\u001b[0m\u001b[0mget_loc\u001b[0m\u001b[1;33m(\u001b[0m\u001b[0mcasted_key\u001b[0m\u001b[1;33m)\u001b[0m\u001b[1;33m\u001b[0m\u001b[1;33m\u001b[0m\u001b[0m\n\u001b[0;32m   3081\u001b[0m             \u001b[1;32mexcept\u001b[0m \u001b[0mKeyError\u001b[0m \u001b[1;32mas\u001b[0m \u001b[0merr\u001b[0m\u001b[1;33m:\u001b[0m\u001b[1;33m\u001b[0m\u001b[1;33m\u001b[0m\u001b[0m\n\u001b[1;32m-> 3082\u001b[1;33m                 \u001b[1;32mraise\u001b[0m \u001b[0mKeyError\u001b[0m\u001b[1;33m(\u001b[0m\u001b[0mkey\u001b[0m\u001b[1;33m)\u001b[0m \u001b[1;32mfrom\u001b[0m \u001b[0merr\u001b[0m\u001b[1;33m\u001b[0m\u001b[1;33m\u001b[0m\u001b[0m\n\u001b[0m\u001b[0;32m   3083\u001b[0m \u001b[1;33m\u001b[0m\u001b[0m\n\u001b[0;32m   3084\u001b[0m         \u001b[1;32mif\u001b[0m \u001b[0mtolerance\u001b[0m \u001b[1;32mis\u001b[0m \u001b[1;32mnot\u001b[0m \u001b[1;32mNone\u001b[0m\u001b[1;33m:\u001b[0m\u001b[1;33m\u001b[0m\u001b[1;33m\u001b[0m\u001b[0m\n",
      "\u001b[1;31mKeyError\u001b[0m: 0"
     ]
    }
   ],
   "source": [
    "preds_valid = clf.predict_proba(valid_x) "
   ]
  },
  {
   "cell_type": "code",
   "execution_count": 104,
   "metadata": {},
   "outputs": [],
   "source": [
    "preds = clf.predict_proba(X_tst.values)"
   ]
  },
  {
   "cell_type": "code",
   "execution_count": 105,
   "metadata": {},
   "outputs": [
    {
     "data": {
      "text/plain": [
       "array([0.00000000e+00, 2.00849521e-07, 0.00000000e+00, 0.00000000e+00,\n",
       "       0.00000000e+00, 1.24661225e-08, 2.89296739e-02, 4.96195230e-05,\n",
       "       0.00000000e+00, 6.09123495e-03, 0.00000000e+00, 7.95918225e-03,\n",
       "       2.87692345e-05, 0.00000000e+00, 6.52308535e-03, 1.77970344e-02,\n",
       "       0.00000000e+00, 1.46755834e-04, 8.43464586e-05, 3.56562386e-03,\n",
       "       5.07747956e-02, 2.63306682e-03, 3.68186585e-01, 4.55488098e-03,\n",
       "       9.67713790e-05, 1.93876926e-03, 3.03110960e-05, 0.00000000e+00,\n",
       "       1.35227044e-02, 1.20155367e-04, 1.65185043e-02, 0.00000000e+00,\n",
       "       1.99645820e-02, 1.27087444e-02, 9.96006171e-04, 0.00000000e+00,\n",
       "       9.99052425e-03, 3.52421556e-02, 6.54490846e-02, 7.57587974e-04,\n",
       "       0.00000000e+00, 2.61295126e-01, 6.40433661e-02, 7.39197186e-07,\n",
       "       0.00000000e+00])"
      ]
     },
     "execution_count": 105,
     "metadata": {},
     "output_type": "execute_result"
    }
   ],
   "source": [
    "clf.feature_importances_"
   ]
  },
  {
   "cell_type": "code",
   "execution_count": 107,
   "metadata": {},
   "outputs": [
    {
     "data": {
      "text/plain": [
       "[array([[0.9184187 , 0.08158131],\n",
       "        [0.9077851 , 0.09221484],\n",
       "        [0.908599  , 0.09140091],\n",
       "        ...,\n",
       "        [0.91712284, 0.08287717],\n",
       "        [0.91068983, 0.08931015],\n",
       "        [0.8935914 , 0.10640858]], dtype=float32),\n",
       " array([[0.82641864, 0.17358135],\n",
       "        [0.82653093, 0.17346905],\n",
       "        [0.8144582 , 0.18554188],\n",
       "        ...,\n",
       "        [0.83056337, 0.16943662],\n",
       "        [0.82116115, 0.17883888],\n",
       "        [0.80011714, 0.19988288]], dtype=float32),\n",
       " array([[0.28532866, 0.7146714 ],\n",
       "        [0.2833449 , 0.71665514],\n",
       "        [0.2968669 , 0.7031331 ],\n",
       "        ...,\n",
       "        [0.27105832, 0.7289416 ],\n",
       "        [0.29076704, 0.709233  ],\n",
       "        [0.3025799 , 0.6974201 ]], dtype=float32)]"
      ]
     },
     "execution_count": 107,
     "metadata": {},
     "output_type": "execute_result"
    }
   ],
   "source": [
    "preds"
   ]
  },
  {
   "cell_type": "code",
   "execution_count": 106,
   "metadata": {},
   "outputs": [
    {
     "ename": "IndexError",
     "evalue": "index 2 is out of bounds for axis 0 with size 2",
     "output_type": "error",
     "traceback": [
      "\u001b[1;31m---------------------------------------------------------------------------\u001b[0m",
      "\u001b[1;31mIndexError\u001b[0m                                Traceback (most recent call last)",
      "\u001b[1;32m<ipython-input-106-1cb1b30caf9a>\u001b[0m in \u001b[0;36m<module>\u001b[1;34m\u001b[0m\n\u001b[0;32m      3\u001b[0m   \u001b[0mi\u001b[0m\u001b[1;33m.\u001b[0m\u001b[0mappend\u001b[0m\u001b[1;33m(\u001b[0m\u001b[0mpreds\u001b[0m\u001b[1;33m[\u001b[0m\u001b[1;36m0\u001b[0m\u001b[1;33m]\u001b[0m\u001b[1;33m[\u001b[0m\u001b[0mrow\u001b[0m\u001b[1;33m]\u001b[0m\u001b[1;33m[\u001b[0m\u001b[1;36m0\u001b[0m\u001b[1;33m]\u001b[0m\u001b[1;33m)\u001b[0m\u001b[1;33m\u001b[0m\u001b[1;33m\u001b[0m\u001b[0m\n\u001b[0;32m      4\u001b[0m   \u001b[0mj\u001b[0m\u001b[1;33m.\u001b[0m\u001b[0mappend\u001b[0m\u001b[1;33m(\u001b[0m\u001b[0mpreds\u001b[0m\u001b[1;33m[\u001b[0m\u001b[1;36m0\u001b[0m\u001b[1;33m]\u001b[0m\u001b[1;33m[\u001b[0m\u001b[0mrow\u001b[0m\u001b[1;33m]\u001b[0m\u001b[1;33m[\u001b[0m\u001b[1;36m1\u001b[0m\u001b[1;33m]\u001b[0m\u001b[1;33m)\u001b[0m\u001b[1;33m\u001b[0m\u001b[1;33m\u001b[0m\u001b[0m\n\u001b[1;32m----> 5\u001b[1;33m   \u001b[0mk\u001b[0m\u001b[1;33m.\u001b[0m\u001b[0mappend\u001b[0m\u001b[1;33m(\u001b[0m\u001b[0mpreds\u001b[0m\u001b[1;33m[\u001b[0m\u001b[1;36m0\u001b[0m\u001b[1;33m]\u001b[0m\u001b[1;33m[\u001b[0m\u001b[0mrow\u001b[0m\u001b[1;33m]\u001b[0m\u001b[1;33m[\u001b[0m\u001b[1;36m2\u001b[0m\u001b[1;33m]\u001b[0m\u001b[1;33m)\u001b[0m\u001b[1;33m\u001b[0m\u001b[1;33m\u001b[0m\u001b[0m\n\u001b[0m\u001b[0;32m      6\u001b[0m \u001b[1;33m\u001b[0m\u001b[0m\n\u001b[0;32m      7\u001b[0m \u001b[0mlen\u001b[0m\u001b[1;33m(\u001b[0m\u001b[0mi\u001b[0m\u001b[1;33m)\u001b[0m\u001b[1;33m,\u001b[0m \u001b[0mlen\u001b[0m\u001b[1;33m(\u001b[0m\u001b[0mj\u001b[0m\u001b[1;33m)\u001b[0m\u001b[1;33m,\u001b[0m \u001b[0mlen\u001b[0m\u001b[1;33m(\u001b[0m\u001b[0mk\u001b[0m\u001b[1;33m)\u001b[0m\u001b[1;33m\u001b[0m\u001b[1;33m\u001b[0m\u001b[0m\n",
      "\u001b[1;31mIndexError\u001b[0m: index 2 is out of bounds for axis 0 with size 2"
     ]
    }
   ],
   "source": [
    "i, j, k = [], [], []\n",
    "for row in range(10000):\n",
    "  i.append(preds[0][row][0])\n",
    "  j.append(preds[0][row][1])\n",
    "  k.append(preds[0][row][2])\n",
    "\n",
    "len(i), len(j), len(k)"
   ]
  },
  {
   "cell_type": "code",
   "execution_count": null,
   "metadata": {},
   "outputs": [],
   "source": [
    "sub['0'] = i\n",
    "sub['1'] = j\n",
    "sub['2'] = k\n",
    "sub.head(10)"
   ]
  },
  {
   "cell_type": "code",
   "execution_count": null,
   "metadata": {},
   "outputs": [],
   "source": [
    "submission.to_csv(\"submisison_tabnet.csv\",index=False)"
   ]
  },
  {
   "cell_type": "code",
   "execution_count": null,
   "metadata": {},
   "outputs": [],
   "source": [
    "prediction = pd.read_csv('submisison_tabnet.csv')"
   ]
  },
  {
   "cell_type": "code",
   "execution_count": null,
   "metadata": {},
   "outputs": [],
   "source": [
    "prediction"
   ]
  },
  {
   "cell_type": "code",
   "execution_count": null,
   "metadata": {},
   "outputs": [],
   "source": []
  },
  {
   "cell_type": "code",
   "execution_count": null,
   "metadata": {},
   "outputs": [],
   "source": []
  },
  {
   "cell_type": "code",
   "execution_count": null,
   "metadata": {},
   "outputs": [],
   "source": []
  },
  {
   "cell_type": "code",
   "execution_count": null,
   "metadata": {},
   "outputs": [],
   "source": []
  },
  {
   "cell_type": "code",
   "execution_count": null,
   "metadata": {},
   "outputs": [],
   "source": []
  },
  {
   "cell_type": "code",
   "execution_count": 9,
   "metadata": {},
   "outputs": [],
   "source": [
    "train = pd.read_csv('./open/train.csv')\n",
    "train = train.drop(['index'], axis=1)\n",
    "train.fillna('NAN', inplace=True) \n",
    "\n",
    "\n",
    "test = pd.read_csv('./open/test.csv')\n",
    "test = test.drop(['index'], axis=1)\n",
    "test.fillna('NAN', inplace=True)\n",
    "\n",
    "submission = pd.read_csv('./open/sample_submission.csv')"
   ]
  },
  {
   "cell_type": "code",
   "execution_count": 10,
   "metadata": {},
   "outputs": [
    {
     "data": {
      "text/plain": [
       "(36457, 19)"
      ]
     },
     "execution_count": 10,
     "metadata": {},
     "output_type": "execute_result"
    }
   ],
   "source": [
    "data=pd.concat([train, test], axis=0)\n",
    "data.shape"
   ]
  },
  {
   "cell_type": "code",
   "execution_count": 11,
   "metadata": {},
   "outputs": [],
   "source": [
    "# 나이 변환\n",
    "def days_to_age(x):\n",
    "    return (x*-1)/365\n",
    "data['DAYS_BIRTH'] = data['DAYS_BIRTH'].apply(days_to_age)"
   ]
  },
  {
   "cell_type": "code",
   "execution_count": 12,
   "metadata": {},
   "outputs": [],
   "source": [
    "# 마이너스 값 변환\n",
    "def minus(x):\n",
    "    return x * -1\n",
    "data['begin_month'] = data['begin_month'].apply(minus)"
   ]
  },
  {
   "cell_type": "code",
   "execution_count": 13,
   "metadata": {},
   "outputs": [],
   "source": [
    "data.loc[(data.DAYS_EMPLOYED)>=0,'DAYS_EMPLOYED'] = 0"
   ]
  },
  {
   "cell_type": "code",
   "execution_count": 14,
   "metadata": {},
   "outputs": [],
   "source": [
    "data['DAYS_EMPLOYED'] = data['DAYS_EMPLOYED'].apply(days_to_age)"
   ]
  },
  {
   "cell_type": "code",
   "execution_count": 15,
   "metadata": {},
   "outputs": [],
   "source": [
    "data.loc[data['child_num'] >= 2,'child_num']=2"
   ]
  },
  {
   "cell_type": "code",
   "execution_count": 16,
   "metadata": {},
   "outputs": [
    {
     "name": "stdout",
     "output_type": "stream",
     "text": [
      "(2.544, 18.18]      22460\n",
      "(18.18, 33.66]      11380\n",
      "(33.66, 49.14]       2099\n",
      "(49.14, 64.62]        274\n",
      "(64.62, 80.1]         165\n",
      "(80.1, 95.58]          58\n",
      "(95.58, 111.06]         4\n",
      "(111.06, 126.54]        3\n",
      "(126.54, 142.02]        6\n",
      "(142.02, 157.5]         8\n",
      "Name: income_total, dtype: int64\n"
     ]
    },
    {
     "data": {
      "text/plain": [
       "<AxesSubplot:ylabel='Frequency'>"
      ]
     },
     "execution_count": 16,
     "metadata": {},
     "output_type": "execute_result"
    },
    {
     "data": {
      "image/png": "[encoded data removed]",
      "text/plain": [
       "<Figure size 432x288 with 1 Axes>"
      ]
     },
     "metadata": {},
     "output_type": "display_data"
    }
   ],
   "source": [
    "data['income_total'] = data['income_total'].astype(object)\n",
    "data['income_total'] = data['income_total']/10000 \n",
    "print(data['income_total'].value_counts(bins=10,sort=False))\n",
    "data['income_total'].plot(kind='hist',bins=50,density=True)"
   ]
  },
  {
   "cell_type": "code",
   "execution_count": 17,
   "metadata": {},
   "outputs": [],
   "source": [
    "count, bin_dividers =np.histogram(data['income_total'], bins=7)\n",
    "bin_names=[int(i) for i in range(7) ]\n",
    "data['income_total']=pd.cut(x=data['income_total'], bins=bin_dividers, labels=bin_names, include_lowest=True)"
   ]
  },
  {
   "cell_type": "code",
   "execution_count": 18,
   "metadata": {},
   "outputs": [
    {
     "name": "stdout",
     "output_type": "stream",
     "text": [
      "gender :\n",
      "0    24430\n",
      "1    12027\n",
      "Name: gender, dtype: int64\n",
      "--------------\n",
      "Having a car or not : \n",
      "0    22614\n",
      "1    13843\n",
      "Name: car, dtype: int64\n",
      "--------------\n",
      "Having house reality or not: \n",
      "1    24506\n",
      "0    11951\n",
      "Name: reality, dtype: int64\n",
      "--------------\n",
      "Having a phone or not: \n",
      "0    25709\n",
      "1    10748\n",
      "Name: phone, dtype: int64\n",
      "--------------\n",
      "Having a email or not: \n",
      "0    33186\n",
      "1     3271\n",
      "Name: email, dtype: int64\n",
      "--------------\n",
      "Having a work phone or not: \n",
      "0    28235\n",
      "1     8222\n",
      "Name: work_phone, dtype: int64\n",
      "--------------\n"
     ]
    }
   ],
   "source": [
    "data['gender'] = data['gender'].replace(['F','M'],[0,1])\n",
    "print('gender :')\n",
    "print(data['gender'].value_counts())\n",
    "print('--------------')\n",
    "\n",
    "print('Having a car or not : ')\n",
    "data['car'] = data['car'].replace(['N','Y'],[0,1])\n",
    "print(data['car'].value_counts())\n",
    "print('--------------')\n",
    "\n",
    "print('Having house reality or not: ')\n",
    "data['reality'] = data['reality'].replace(['N','Y'],[0,1])\n",
    "print(data['reality'].value_counts())\n",
    "print('--------------')\n",
    "      \n",
    "print('Having a phone or not: ')\n",
    "print(data['phone'].value_counts())\n",
    "print('--------------')\n",
    "      \n",
    "\n",
    "print('Having a email or not: ')\n",
    "print(data['email'].value_counts())\n",
    "print('--------------')\n",
    "      \n",
    "\n",
    "print('Having a work phone or not: ')\n",
    "print(data['work_phone'].value_counts())\n",
    "print('--------------')"
   ]
  },
  {
   "cell_type": "code",
   "execution_count": 19,
   "metadata": {},
   "outputs": [],
   "source": [
    "from sklearn import preprocessing\n",
    "label_encoder=preprocessing.LabelEncoder()\n",
    "data['income_type']=label_encoder.fit_transform(data['income_type'])\n",
    "data['edu_type']=label_encoder.fit_transform(data['edu_type'])\n",
    "data['family_type']=label_encoder.fit_transform(data['family_type'])\n",
    "data['house_type']=label_encoder.fit_transform(data['house_type'])\n",
    "data['income_total']=label_encoder.fit_transform(data['income_total'])\n",
    "data['occyp_type']=label_encoder.fit_transform(data['occyp_type'])"
   ]
  },
  {
   "cell_type": "code",
   "execution_count": 20,
   "metadata": {},
   "outputs": [
    {
     "name": "stdout",
     "output_type": "stream",
     "text": [
      "<class 'pandas.core.frame.DataFrame'>\n",
      "Int64Index: 36457 entries, 0 to 9999\n",
      "Data columns (total 19 columns):\n",
      " #   Column         Non-Null Count  Dtype  \n",
      "---  ------         --------------  -----  \n",
      " 0   gender         36457 non-null  int64  \n",
      " 1   car            36457 non-null  int64  \n",
      " 2   reality        36457 non-null  int64  \n",
      " 3   child_num      36457 non-null  int64  \n",
      " 4   income_total   36457 non-null  int64  \n",
      " 5   income_type    36457 non-null  int32  \n",
      " 6   edu_type       36457 non-null  int32  \n",
      " 7   family_type    36457 non-null  int32  \n",
      " 8   house_type     36457 non-null  int32  \n",
      " 9   DAYS_BIRTH     36457 non-null  float64\n",
      " 10  DAYS_EMPLOYED  36457 non-null  float64\n",
      " 11  FLAG_MOBIL     36457 non-null  int64  \n",
      " 12  work_phone     36457 non-null  int64  \n",
      " 13  phone          36457 non-null  int64  \n",
      " 14  email          36457 non-null  int64  \n",
      " 15  occyp_type     36457 non-null  int32  \n",
      " 16  family_size    36457 non-null  float64\n",
      " 17  begin_month    36457 non-null  float64\n",
      " 18  credit         26457 non-null  float64\n",
      "dtypes: float64(5), int32(5), int64(9)\n",
      "memory usage: 4.9 MB\n"
     ]
    }
   ],
   "source": [
    "data.info()"
   ]
  },
  {
   "cell_type": "code",
   "execution_count": 21,
   "metadata": {},
   "outputs": [],
   "source": [
    "train=data[:len(data)-10000]\n",
    "test=data[len(data)-10000:]"
   ]
  },
  {
   "cell_type": "code",
   "execution_count": 22,
   "metadata": {},
   "outputs": [],
   "source": [
    "train_x=train.drop('credit', axis=1)\n",
    "train_y=train[['credit']]\n",
    "test_x=test.drop('credit', axis=1)"
   ]
  },
  {
   "cell_type": "code",
   "execution_count": 23,
   "metadata": {},
   "outputs": [],
   "source": [
    "np.random.seed(42)\n",
    "if \"Set\" not in train.columns:\n",
    "    train[\"Set\"] = np.random.choice([\"train\", \"valid\"], p =[.8, .2], size=(train.shape[0],))\n",
    "\n",
    "train_indices = train_x[train.Set==\"train\"].index\n",
    "valid_indices = train_x[train.Set==\"valid\"].index"
   ]
  },
  {
   "cell_type": "code",
   "execution_count": 24,
   "metadata": {},
   "outputs": [
    {
     "name": "stderr",
     "output_type": "stream",
     "text": [
      "  0%|                                                                                           | 0/18 [00:00<?, ?it/s]\n"
     ]
    },
    {
     "name": "stdout",
     "output_type": "stream",
     "text": [
      "gender 2\n"
     ]
    },
    {
     "ename": "IndexError",
     "evalue": "tuple index out of range",
     "output_type": "error",
     "traceback": [
      "\u001b[1;31m---------------------------------------------------------------------------\u001b[0m",
      "\u001b[1;31mIndexError\u001b[0m                                Traceback (most recent call last)",
      "\u001b[1;32m<ipython-input-24-a88bb2fc1361>\u001b[0m in \u001b[0;36m<module>\u001b[1;34m\u001b[0m\n\u001b[0;32m      9\u001b[0m         \u001b[0ml_enc\u001b[0m \u001b[1;33m=\u001b[0m \u001b[0mLabelEncoder\u001b[0m\u001b[1;33m(\u001b[0m\u001b[1;33m)\u001b[0m\u001b[1;33m\u001b[0m\u001b[1;33m\u001b[0m\u001b[0m\n\u001b[0;32m     10\u001b[0m         \u001b[0mtrain_x\u001b[0m\u001b[1;33m[\u001b[0m\u001b[0mcol\u001b[0m\u001b[1;33m]\u001b[0m \u001b[1;33m=\u001b[0m \u001b[0mtrain_x\u001b[0m\u001b[1;33m[\u001b[0m\u001b[0mcol\u001b[0m\u001b[1;33m]\u001b[0m\u001b[1;33m.\u001b[0m\u001b[0mfillna\u001b[0m\u001b[1;33m(\u001b[0m\u001b[1;34m\"NaN\"\u001b[0m\u001b[1;33m)\u001b[0m\u001b[1;33m\u001b[0m\u001b[1;33m\u001b[0m\u001b[0m\n\u001b[1;32m---> 11\u001b[1;33m         \u001b[0mtrain_x\u001b[0m\u001b[1;33m[\u001b[0m\u001b[0mcol\u001b[0m\u001b[1;33m]\u001b[0m \u001b[1;33m=\u001b[0m \u001b[0ml_enc\u001b[0m\u001b[1;33m.\u001b[0m\u001b[0mfit_transform\u001b[0m\u001b[1;33m(\u001b[0m\u001b[0mtrain_x\u001b[0m\u001b[1;33m[\u001b[0m\u001b[0mcol\u001b[0m\u001b[1;33m]\u001b[0m\u001b[1;33m.\u001b[0m\u001b[0mvalues\u001b[0m\u001b[1;33m)\u001b[0m\u001b[1;33m\u001b[0m\u001b[1;33m\u001b[0m\u001b[0m\n\u001b[0m\u001b[0;32m     12\u001b[0m         \u001b[1;32mtry\u001b[0m\u001b[1;33m:\u001b[0m\u001b[1;33m\u001b[0m\u001b[1;33m\u001b[0m\u001b[0m\n\u001b[0;32m     13\u001b[0m             \u001b[0mtest_x\u001b[0m\u001b[1;33m[\u001b[0m\u001b[0mcol\u001b[0m\u001b[1;33m]\u001b[0m \u001b[1;33m=\u001b[0m \u001b[0mtest_x\u001b[0m\u001b[1;33m[\u001b[0m\u001b[0mcol\u001b[0m\u001b[1;33m]\u001b[0m\u001b[1;33m.\u001b[0m\u001b[0mfillna\u001b[0m\u001b[1;33m(\u001b[0m\u001b[1;34m\"NaN\"\u001b[0m\u001b[1;33m)\u001b[0m\u001b[1;33m\u001b[0m\u001b[1;33m\u001b[0m\u001b[0m\n",
      "\u001b[1;32m~\\anaconda3\\lib\\site-packages\\kaggler\\preprocessing\\categorical.py\u001b[0m in \u001b[0;36mfit_transform\u001b[1;34m(self, X, y)\u001b[0m\n\u001b[0;32m    119\u001b[0m         \"\"\"\n\u001b[0;32m    120\u001b[0m \u001b[1;33m\u001b[0m\u001b[0m\n\u001b[1;32m--> 121\u001b[1;33m         \u001b[0mself\u001b[0m\u001b[1;33m.\u001b[0m\u001b[0mlabel_encoders\u001b[0m \u001b[1;33m=\u001b[0m \u001b[1;33m[\u001b[0m\u001b[1;32mNone\u001b[0m\u001b[1;33m]\u001b[0m \u001b[1;33m*\u001b[0m \u001b[0mX\u001b[0m\u001b[1;33m.\u001b[0m\u001b[0mshape\u001b[0m\u001b[1;33m[\u001b[0m\u001b[1;36m1\u001b[0m\u001b[1;33m]\u001b[0m\u001b[1;33m\u001b[0m\u001b[1;33m\u001b[0m\u001b[0m\n\u001b[0m\u001b[0;32m    122\u001b[0m         \u001b[0mself\u001b[0m\u001b[1;33m.\u001b[0m\u001b[0mlabel_maxes\u001b[0m \u001b[1;33m=\u001b[0m \u001b[1;33m[\u001b[0m\u001b[1;32mNone\u001b[0m\u001b[1;33m]\u001b[0m \u001b[1;33m*\u001b[0m \u001b[0mX\u001b[0m\u001b[1;33m.\u001b[0m\u001b[0mshape\u001b[0m\u001b[1;33m[\u001b[0m\u001b[1;36m1\u001b[0m\u001b[1;33m]\u001b[0m\u001b[1;33m\u001b[0m\u001b[1;33m\u001b[0m\u001b[0m\n\u001b[0;32m    123\u001b[0m \u001b[1;33m\u001b[0m\u001b[0m\n",
      "\u001b[1;31mIndexError\u001b[0m: tuple index out of range"
     ]
    }
   ],
   "source": [
    "nunique = train.nunique()\n",
    "types = train.dtypes\n",
    "\n",
    "categorical_columns = []\n",
    "categorical_dims =  {}\n",
    "for col in tqdm(train_x.columns):\n",
    "    if types[col] == 'object' or nunique[col] < 200:\n",
    "        print(col, train_x[col].nunique())\n",
    "        l_enc = LabelEncoder()\n",
    "        train_x[col] = train_x[col].fillna(\"NaN\")\n",
    "        train_x[col] = l_enc.fit_transform(train_x[col].values)\n",
    "        try:\n",
    "            test_x[col] = test_x[col].fillna(\"NaN\")\n",
    "            test_x[col] = l_enc.transform(test_x[col].values)\n",
    "        except:\n",
    "            print(f\"Column {col} does not exist in test set\")\n",
    "        categorical_columns.append(col)\n",
    "        categorical_dims[col] = len(l_enc.classes_)\n",
    "    else:\n",
    "        training_mean = train_x.loc[train_indices, col].mean()\n",
    "        train.fillna(training_mean, inplace=True)\n",
    "        test.fillna(training_mean, inplace=True)"
   ]
  },
  {
   "cell_type": "code",
   "execution_count": 25,
   "metadata": {},
   "outputs": [],
   "source": [
    "features = [ col for col in train_x.columns] \n",
    "\n",
    "cat_idxs = [ i for i, f in enumerate(features) if f in categorical_columns]\n",
    "\n",
    "cat_dims = [ categorical_dims[f] for i, f in enumerate(features) if f in categorical_columns]"
   ]
  },
  {
   "cell_type": "code",
   "execution_count": 26,
   "metadata": {},
   "outputs": [],
   "source": [
    "X_train = train_x[features].values[train_indices]\n",
    "y_train = train_y.values[train_indices]\n",
    "\n",
    "X_valid = train_x[features].values[valid_indices]\n",
    "y_valid = train_y.values[valid_indices]\n",
    "\n",
    "X_test = test_x[features].values"
   ]
  },
  {
   "cell_type": "code",
   "execution_count": 27,
   "metadata": {},
   "outputs": [
    {
     "data": {
      "text/plain": [
       "(21162, 1)"
      ]
     },
     "execution_count": 27,
     "metadata": {},
     "output_type": "execute_result"
    }
   ],
   "source": [
    "y_train.shape"
   ]
  },
  {
   "cell_type": "code",
   "execution_count": 31,
   "metadata": {},
   "outputs": [
    {
     "name": "stdout",
     "output_type": "stream",
     "text": [
      "Device used : cuda\n"
     ]
    }
   ],
   "source": [
    "clf = TabNetMultiTaskClassifier(n_steps=10,\n",
    "                                cat_idxs=cat_idxs,\n",
    "                                cat_dims=cat_dims,\n",
    "                                cat_emb_dim=1,\n",
    "                                optimizer_fn=torch.optim.Adam,\n",
    "                                optimizer_params=dict(lr=2e-2),\n",
    "                                scheduler_params={\"step_size\":50,\n",
    "                                                  \"gamma\":0.9},\n",
    "                                scheduler_fn=torch.optim.lr_scheduler.StepLR,\n",
    "                                mask_type='entmax',\n",
    "                                lambda_sparse=0\n",
    "                      )"
   ]
  },
  {
   "cell_type": "code",
   "execution_count": 32,
   "metadata": {
    "scrolled": true
   },
   "outputs": [
    {
     "name": "stdout",
     "output_type": "stream",
     "text": [
      "epoch 0  | loss: 1.17452 | val_0_logloss: 1.64308 | val_1_logloss: 1.63053 |  0:00:14s\n",
      "epoch 1  | loss: 0.92306 | val_0_logloss: 1.21081 | val_1_logloss: 1.23865 |  0:00:25s\n",
      "epoch 2  | loss: 0.89149 | val_0_logloss: 0.99126 | val_1_logloss: 0.99743 |  0:00:38s\n",
      "epoch 3  | loss: 0.87843 | val_0_logloss: 0.89099 | val_1_logloss: 0.88887 |  0:00:50s\n",
      "epoch 4  | loss: 0.85262 | val_0_logloss: 0.8999  | val_1_logloss: 0.90133 |  0:01:02s\n",
      "epoch 5  | loss: 0.83605 | val_0_logloss: 0.89854 | val_1_logloss: 0.8985  |  0:01:15s\n",
      "epoch 6  | loss: 0.83619 | val_0_logloss: 0.88601 | val_1_logloss: 0.88949 |  0:01:27s\n",
      "epoch 7  | loss: 0.83111 | val_0_logloss: 0.87639 | val_1_logloss: 0.87923 |  0:01:39s\n",
      "epoch 8  | loss: 0.82582 | val_0_logloss: 0.84692 | val_1_logloss: 0.84857 |  0:01:51s\n"
     ]
    },
    {
     "ename": "KeyboardInterrupt",
     "evalue": "",
     "output_type": "error",
     "traceback": [
      "\u001b[1;31m---------------------------------------------------------------------------\u001b[0m",
      "\u001b[1;31mKeyboardInterrupt\u001b[0m                         Traceback (most recent call last)",
      "\u001b[1;32m<ipython-input-32-fcda7cc0558b>\u001b[0m in \u001b[0;36m<module>\u001b[1;34m\u001b[0m\n\u001b[0;32m      1\u001b[0m \u001b[0mmax_epochs\u001b[0m \u001b[1;33m=\u001b[0m \u001b[1;36m100\u001b[0m\u001b[1;33m\u001b[0m\u001b[1;33m\u001b[0m\u001b[0m\n\u001b[1;32m----> 2\u001b[1;33m clf.fit(\n\u001b[0m\u001b[0;32m      3\u001b[0m     \u001b[0mX_train\u001b[0m\u001b[1;33m=\u001b[0m\u001b[0mX_train\u001b[0m\u001b[1;33m,\u001b[0m \u001b[0my_train\u001b[0m\u001b[1;33m=\u001b[0m\u001b[0my_train\u001b[0m\u001b[1;33m,\u001b[0m\u001b[1;33m\u001b[0m\u001b[1;33m\u001b[0m\u001b[0m\n\u001b[0;32m      4\u001b[0m     \u001b[0meval_set\u001b[0m\u001b[1;33m=\u001b[0m\u001b[1;33m[\u001b[0m\u001b[1;33m(\u001b[0m\u001b[0mX_train\u001b[0m\u001b[1;33m,\u001b[0m \u001b[0my_train\u001b[0m\u001b[1;33m)\u001b[0m\u001b[1;33m,\u001b[0m\u001b[1;33m(\u001b[0m\u001b[0mX_valid\u001b[0m\u001b[1;33m,\u001b[0m \u001b[0my_valid\u001b[0m\u001b[1;33m)\u001b[0m\u001b[1;33m]\u001b[0m\u001b[1;33m,\u001b[0m\u001b[1;33m\u001b[0m\u001b[1;33m\u001b[0m\u001b[0m\n\u001b[0;32m      5\u001b[0m     \u001b[0mmax_epochs\u001b[0m\u001b[1;33m=\u001b[0m\u001b[0mmax_epochs\u001b[0m\u001b[1;33m,\u001b[0m\u001b[1;33m\u001b[0m\u001b[1;33m\u001b[0m\u001b[0m\n",
      "\u001b[1;32m~\\anaconda3\\lib\\site-packages\\pytorch_tabnet\\abstract_model.py\u001b[0m in \u001b[0;36mfit\u001b[1;34m(self, X_train, y_train, eval_set, eval_name, eval_metric, loss_fn, weights, max_epochs, patience, batch_size, virtual_batch_size, num_workers, drop_last, callbacks, pin_memory, from_unsupervised)\u001b[0m\n\u001b[0;32m    221\u001b[0m             \u001b[0mself\u001b[0m\u001b[1;33m.\u001b[0m\u001b[0m_callback_container\u001b[0m\u001b[1;33m.\u001b[0m\u001b[0mon_epoch_begin\u001b[0m\u001b[1;33m(\u001b[0m\u001b[0mepoch_idx\u001b[0m\u001b[1;33m)\u001b[0m\u001b[1;33m\u001b[0m\u001b[1;33m\u001b[0m\u001b[0m\n\u001b[0;32m    222\u001b[0m \u001b[1;33m\u001b[0m\u001b[0m\n\u001b[1;32m--> 223\u001b[1;33m             \u001b[0mself\u001b[0m\u001b[1;33m.\u001b[0m\u001b[0m_train_epoch\u001b[0m\u001b[1;33m(\u001b[0m\u001b[0mtrain_dataloader\u001b[0m\u001b[1;33m)\u001b[0m\u001b[1;33m\u001b[0m\u001b[1;33m\u001b[0m\u001b[0m\n\u001b[0m\u001b[0;32m    224\u001b[0m \u001b[1;33m\u001b[0m\u001b[0m\n\u001b[0;32m    225\u001b[0m             \u001b[1;31m# Apply predict epoch to all eval sets\u001b[0m\u001b[1;33m\u001b[0m\u001b[1;33m\u001b[0m\u001b[1;33m\u001b[0m\u001b[0m\n",
      "\u001b[1;32m~\\anaconda3\\lib\\site-packages\\pytorch_tabnet\\abstract_model.py\u001b[0m in \u001b[0;36m_train_epoch\u001b[1;34m(self, train_loader)\u001b[0m\n\u001b[0;32m    432\u001b[0m             \u001b[0mself\u001b[0m\u001b[1;33m.\u001b[0m\u001b[0m_callback_container\u001b[0m\u001b[1;33m.\u001b[0m\u001b[0mon_batch_begin\u001b[0m\u001b[1;33m(\u001b[0m\u001b[0mbatch_idx\u001b[0m\u001b[1;33m)\u001b[0m\u001b[1;33m\u001b[0m\u001b[1;33m\u001b[0m\u001b[0m\n\u001b[0;32m    433\u001b[0m \u001b[1;33m\u001b[0m\u001b[0m\n\u001b[1;32m--> 434\u001b[1;33m             \u001b[0mbatch_logs\u001b[0m \u001b[1;33m=\u001b[0m \u001b[0mself\u001b[0m\u001b[1;33m.\u001b[0m\u001b[0m_train_batch\u001b[0m\u001b[1;33m(\u001b[0m\u001b[0mX\u001b[0m\u001b[1;33m,\u001b[0m \u001b[0my\u001b[0m\u001b[1;33m)\u001b[0m\u001b[1;33m\u001b[0m\u001b[1;33m\u001b[0m\u001b[0m\n\u001b[0m\u001b[0;32m    435\u001b[0m \u001b[1;33m\u001b[0m\u001b[0m\n\u001b[0;32m    436\u001b[0m             \u001b[0mself\u001b[0m\u001b[1;33m.\u001b[0m\u001b[0m_callback_container\u001b[0m\u001b[1;33m.\u001b[0m\u001b[0mon_batch_end\u001b[0m\u001b[1;33m(\u001b[0m\u001b[0mbatch_idx\u001b[0m\u001b[1;33m,\u001b[0m \u001b[0mbatch_logs\u001b[0m\u001b[1;33m)\u001b[0m\u001b[1;33m\u001b[0m\u001b[1;33m\u001b[0m\u001b[0m\n",
      "\u001b[1;32m~\\anaconda3\\lib\\site-packages\\pytorch_tabnet\\abstract_model.py\u001b[0m in \u001b[0;36m_train_batch\u001b[1;34m(self, X, y)\u001b[0m\n\u001b[0;32m    467\u001b[0m             \u001b[0mparam\u001b[0m\u001b[1;33m.\u001b[0m\u001b[0mgrad\u001b[0m \u001b[1;33m=\u001b[0m \u001b[1;32mNone\u001b[0m\u001b[1;33m\u001b[0m\u001b[1;33m\u001b[0m\u001b[0m\n\u001b[0;32m    468\u001b[0m \u001b[1;33m\u001b[0m\u001b[0m\n\u001b[1;32m--> 469\u001b[1;33m         \u001b[0moutput\u001b[0m\u001b[1;33m,\u001b[0m \u001b[0mM_loss\u001b[0m \u001b[1;33m=\u001b[0m \u001b[0mself\u001b[0m\u001b[1;33m.\u001b[0m\u001b[0mnetwork\u001b[0m\u001b[1;33m(\u001b[0m\u001b[0mX\u001b[0m\u001b[1;33m)\u001b[0m\u001b[1;33m\u001b[0m\u001b[1;33m\u001b[0m\u001b[0m\n\u001b[0m\u001b[0;32m    470\u001b[0m \u001b[1;33m\u001b[0m\u001b[0m\n\u001b[0;32m    471\u001b[0m         \u001b[0mloss\u001b[0m \u001b[1;33m=\u001b[0m \u001b[0mself\u001b[0m\u001b[1;33m.\u001b[0m\u001b[0mcompute_loss\u001b[0m\u001b[1;33m(\u001b[0m\u001b[0moutput\u001b[0m\u001b[1;33m,\u001b[0m \u001b[0my\u001b[0m\u001b[1;33m)\u001b[0m\u001b[1;33m\u001b[0m\u001b[1;33m\u001b[0m\u001b[0m\n",
      "\u001b[1;32m~\\anaconda3\\lib\\site-packages\\torch\\nn\\modules\\module.py\u001b[0m in \u001b[0;36m_call_impl\u001b[1;34m(self, *input, **kwargs)\u001b[0m\n\u001b[0;32m    887\u001b[0m             \u001b[0mresult\u001b[0m \u001b[1;33m=\u001b[0m \u001b[0mself\u001b[0m\u001b[1;33m.\u001b[0m\u001b[0m_slow_forward\u001b[0m\u001b[1;33m(\u001b[0m\u001b[1;33m*\u001b[0m\u001b[0minput\u001b[0m\u001b[1;33m,\u001b[0m \u001b[1;33m**\u001b[0m\u001b[0mkwargs\u001b[0m\u001b[1;33m)\u001b[0m\u001b[1;33m\u001b[0m\u001b[1;33m\u001b[0m\u001b[0m\n\u001b[0;32m    888\u001b[0m         \u001b[1;32melse\u001b[0m\u001b[1;33m:\u001b[0m\u001b[1;33m\u001b[0m\u001b[1;33m\u001b[0m\u001b[0m\n\u001b[1;32m--> 889\u001b[1;33m             \u001b[0mresult\u001b[0m \u001b[1;33m=\u001b[0m \u001b[0mself\u001b[0m\u001b[1;33m.\u001b[0m\u001b[0mforward\u001b[0m\u001b[1;33m(\u001b[0m\u001b[1;33m*\u001b[0m\u001b[0minput\u001b[0m\u001b[1;33m,\u001b[0m \u001b[1;33m**\u001b[0m\u001b[0mkwargs\u001b[0m\u001b[1;33m)\u001b[0m\u001b[1;33m\u001b[0m\u001b[1;33m\u001b[0m\u001b[0m\n\u001b[0m\u001b[0;32m    890\u001b[0m         for hook in itertools.chain(\n\u001b[0;32m    891\u001b[0m                 \u001b[0m_global_forward_hooks\u001b[0m\u001b[1;33m.\u001b[0m\u001b[0mvalues\u001b[0m\u001b[1;33m(\u001b[0m\u001b[1;33m)\u001b[0m\u001b[1;33m,\u001b[0m\u001b[1;33m\u001b[0m\u001b[1;33m\u001b[0m\u001b[0m\n",
      "\u001b[1;32m~\\anaconda3\\lib\\site-packages\\pytorch_tabnet\\tab_network.py\u001b[0m in \u001b[0;36mforward\u001b[1;34m(self, x)\u001b[0m\n\u001b[0;32m    581\u001b[0m     \u001b[1;32mdef\u001b[0m \u001b[0mforward\u001b[0m\u001b[1;33m(\u001b[0m\u001b[0mself\u001b[0m\u001b[1;33m,\u001b[0m \u001b[0mx\u001b[0m\u001b[1;33m)\u001b[0m\u001b[1;33m:\u001b[0m\u001b[1;33m\u001b[0m\u001b[1;33m\u001b[0m\u001b[0m\n\u001b[0;32m    582\u001b[0m         \u001b[0mx\u001b[0m \u001b[1;33m=\u001b[0m \u001b[0mself\u001b[0m\u001b[1;33m.\u001b[0m\u001b[0membedder\u001b[0m\u001b[1;33m(\u001b[0m\u001b[0mx\u001b[0m\u001b[1;33m)\u001b[0m\u001b[1;33m\u001b[0m\u001b[1;33m\u001b[0m\u001b[0m\n\u001b[1;32m--> 583\u001b[1;33m         \u001b[1;32mreturn\u001b[0m \u001b[0mself\u001b[0m\u001b[1;33m.\u001b[0m\u001b[0mtabnet\u001b[0m\u001b[1;33m(\u001b[0m\u001b[0mx\u001b[0m\u001b[1;33m)\u001b[0m\u001b[1;33m\u001b[0m\u001b[1;33m\u001b[0m\u001b[0m\n\u001b[0m\u001b[0;32m    584\u001b[0m \u001b[1;33m\u001b[0m\u001b[0m\n\u001b[0;32m    585\u001b[0m     \u001b[1;32mdef\u001b[0m \u001b[0mforward_masks\u001b[0m\u001b[1;33m(\u001b[0m\u001b[0mself\u001b[0m\u001b[1;33m,\u001b[0m \u001b[0mx\u001b[0m\u001b[1;33m)\u001b[0m\u001b[1;33m:\u001b[0m\u001b[1;33m\u001b[0m\u001b[1;33m\u001b[0m\u001b[0m\n",
      "\u001b[1;32m~\\anaconda3\\lib\\site-packages\\torch\\nn\\modules\\module.py\u001b[0m in \u001b[0;36m_call_impl\u001b[1;34m(self, *input, **kwargs)\u001b[0m\n\u001b[0;32m    887\u001b[0m             \u001b[0mresult\u001b[0m \u001b[1;33m=\u001b[0m \u001b[0mself\u001b[0m\u001b[1;33m.\u001b[0m\u001b[0m_slow_forward\u001b[0m\u001b[1;33m(\u001b[0m\u001b[1;33m*\u001b[0m\u001b[0minput\u001b[0m\u001b[1;33m,\u001b[0m \u001b[1;33m**\u001b[0m\u001b[0mkwargs\u001b[0m\u001b[1;33m)\u001b[0m\u001b[1;33m\u001b[0m\u001b[1;33m\u001b[0m\u001b[0m\n\u001b[0;32m    888\u001b[0m         \u001b[1;32melse\u001b[0m\u001b[1;33m:\u001b[0m\u001b[1;33m\u001b[0m\u001b[1;33m\u001b[0m\u001b[0m\n\u001b[1;32m--> 889\u001b[1;33m             \u001b[0mresult\u001b[0m \u001b[1;33m=\u001b[0m \u001b[0mself\u001b[0m\u001b[1;33m.\u001b[0m\u001b[0mforward\u001b[0m\u001b[1;33m(\u001b[0m\u001b[1;33m*\u001b[0m\u001b[0minput\u001b[0m\u001b[1;33m,\u001b[0m \u001b[1;33m**\u001b[0m\u001b[0mkwargs\u001b[0m\u001b[1;33m)\u001b[0m\u001b[1;33m\u001b[0m\u001b[1;33m\u001b[0m\u001b[0m\n\u001b[0m\u001b[0;32m    890\u001b[0m         for hook in itertools.chain(\n\u001b[0;32m    891\u001b[0m                 \u001b[0m_global_forward_hooks\u001b[0m\u001b[1;33m.\u001b[0m\u001b[0mvalues\u001b[0m\u001b[1;33m(\u001b[0m\u001b[1;33m)\u001b[0m\u001b[1;33m,\u001b[0m\u001b[1;33m\u001b[0m\u001b[1;33m\u001b[0m\u001b[0m\n",
      "\u001b[1;32m~\\anaconda3\\lib\\site-packages\\pytorch_tabnet\\tab_network.py\u001b[0m in \u001b[0;36mforward\u001b[1;34m(self, x)\u001b[0m\n\u001b[0;32m    466\u001b[0m     \u001b[1;32mdef\u001b[0m \u001b[0mforward\u001b[0m\u001b[1;33m(\u001b[0m\u001b[0mself\u001b[0m\u001b[1;33m,\u001b[0m \u001b[0mx\u001b[0m\u001b[1;33m)\u001b[0m\u001b[1;33m:\u001b[0m\u001b[1;33m\u001b[0m\u001b[1;33m\u001b[0m\u001b[0m\n\u001b[0;32m    467\u001b[0m         \u001b[0mres\u001b[0m \u001b[1;33m=\u001b[0m \u001b[1;36m0\u001b[0m\u001b[1;33m\u001b[0m\u001b[1;33m\u001b[0m\u001b[0m\n\u001b[1;32m--> 468\u001b[1;33m         \u001b[0msteps_output\u001b[0m\u001b[1;33m,\u001b[0m \u001b[0mM_loss\u001b[0m \u001b[1;33m=\u001b[0m \u001b[0mself\u001b[0m\u001b[1;33m.\u001b[0m\u001b[0mencoder\u001b[0m\u001b[1;33m(\u001b[0m\u001b[0mx\u001b[0m\u001b[1;33m)\u001b[0m\u001b[1;33m\u001b[0m\u001b[1;33m\u001b[0m\u001b[0m\n\u001b[0m\u001b[0;32m    469\u001b[0m         \u001b[0mres\u001b[0m \u001b[1;33m=\u001b[0m \u001b[0mtorch\u001b[0m\u001b[1;33m.\u001b[0m\u001b[0msum\u001b[0m\u001b[1;33m(\u001b[0m\u001b[0mtorch\u001b[0m\u001b[1;33m.\u001b[0m\u001b[0mstack\u001b[0m\u001b[1;33m(\u001b[0m\u001b[0msteps_output\u001b[0m\u001b[1;33m,\u001b[0m \u001b[0mdim\u001b[0m\u001b[1;33m=\u001b[0m\u001b[1;36m0\u001b[0m\u001b[1;33m)\u001b[0m\u001b[1;33m,\u001b[0m \u001b[0mdim\u001b[0m\u001b[1;33m=\u001b[0m\u001b[1;36m0\u001b[0m\u001b[1;33m)\u001b[0m\u001b[1;33m\u001b[0m\u001b[1;33m\u001b[0m\u001b[0m\n\u001b[0;32m    470\u001b[0m \u001b[1;33m\u001b[0m\u001b[0m\n",
      "\u001b[1;32m~\\anaconda3\\lib\\site-packages\\torch\\nn\\modules\\module.py\u001b[0m in \u001b[0;36m_call_impl\u001b[1;34m(self, *input, **kwargs)\u001b[0m\n\u001b[0;32m    887\u001b[0m             \u001b[0mresult\u001b[0m \u001b[1;33m=\u001b[0m \u001b[0mself\u001b[0m\u001b[1;33m.\u001b[0m\u001b[0m_slow_forward\u001b[0m\u001b[1;33m(\u001b[0m\u001b[1;33m*\u001b[0m\u001b[0minput\u001b[0m\u001b[1;33m,\u001b[0m \u001b[1;33m**\u001b[0m\u001b[0mkwargs\u001b[0m\u001b[1;33m)\u001b[0m\u001b[1;33m\u001b[0m\u001b[1;33m\u001b[0m\u001b[0m\n\u001b[0;32m    888\u001b[0m         \u001b[1;32melse\u001b[0m\u001b[1;33m:\u001b[0m\u001b[1;33m\u001b[0m\u001b[1;33m\u001b[0m\u001b[0m\n\u001b[1;32m--> 889\u001b[1;33m             \u001b[0mresult\u001b[0m \u001b[1;33m=\u001b[0m \u001b[0mself\u001b[0m\u001b[1;33m.\u001b[0m\u001b[0mforward\u001b[0m\u001b[1;33m(\u001b[0m\u001b[1;33m*\u001b[0m\u001b[0minput\u001b[0m\u001b[1;33m,\u001b[0m \u001b[1;33m**\u001b[0m\u001b[0mkwargs\u001b[0m\u001b[1;33m)\u001b[0m\u001b[1;33m\u001b[0m\u001b[1;33m\u001b[0m\u001b[0m\n\u001b[0m\u001b[0;32m    890\u001b[0m         for hook in itertools.chain(\n\u001b[0;32m    891\u001b[0m                 \u001b[0m_global_forward_hooks\u001b[0m\u001b[1;33m.\u001b[0m\u001b[0mvalues\u001b[0m\u001b[1;33m(\u001b[0m\u001b[1;33m)\u001b[0m\u001b[1;33m,\u001b[0m\u001b[1;33m\u001b[0m\u001b[1;33m\u001b[0m\u001b[0m\n",
      "\u001b[1;32m~\\anaconda3\\lib\\site-packages\\pytorch_tabnet\\tab_network.py\u001b[0m in \u001b[0;36mforward\u001b[1;34m(self, x, prior)\u001b[0m\n\u001b[0;32m    166\u001b[0m             \u001b[1;31m# output\u001b[0m\u001b[1;33m\u001b[0m\u001b[1;33m\u001b[0m\u001b[1;33m\u001b[0m\u001b[0m\n\u001b[0;32m    167\u001b[0m             \u001b[0mmasked_x\u001b[0m \u001b[1;33m=\u001b[0m \u001b[0mtorch\u001b[0m\u001b[1;33m.\u001b[0m\u001b[0mmul\u001b[0m\u001b[1;33m(\u001b[0m\u001b[0mM\u001b[0m\u001b[1;33m,\u001b[0m \u001b[0mx\u001b[0m\u001b[1;33m)\u001b[0m\u001b[1;33m\u001b[0m\u001b[1;33m\u001b[0m\u001b[0m\n\u001b[1;32m--> 168\u001b[1;33m             \u001b[0mout\u001b[0m \u001b[1;33m=\u001b[0m \u001b[0mself\u001b[0m\u001b[1;33m.\u001b[0m\u001b[0mfeat_transformers\u001b[0m\u001b[1;33m[\u001b[0m\u001b[0mstep\u001b[0m\u001b[1;33m]\u001b[0m\u001b[1;33m(\u001b[0m\u001b[0mmasked_x\u001b[0m\u001b[1;33m)\u001b[0m\u001b[1;33m\u001b[0m\u001b[1;33m\u001b[0m\u001b[0m\n\u001b[0m\u001b[0;32m    169\u001b[0m             \u001b[0md\u001b[0m \u001b[1;33m=\u001b[0m \u001b[0mReLU\u001b[0m\u001b[1;33m(\u001b[0m\u001b[1;33m)\u001b[0m\u001b[1;33m(\u001b[0m\u001b[0mout\u001b[0m\u001b[1;33m[\u001b[0m\u001b[1;33m:\u001b[0m\u001b[1;33m,\u001b[0m \u001b[1;33m:\u001b[0m \u001b[0mself\u001b[0m\u001b[1;33m.\u001b[0m\u001b[0mn_d\u001b[0m\u001b[1;33m]\u001b[0m\u001b[1;33m)\u001b[0m\u001b[1;33m\u001b[0m\u001b[1;33m\u001b[0m\u001b[0m\n\u001b[0;32m    170\u001b[0m             \u001b[0msteps_output\u001b[0m\u001b[1;33m.\u001b[0m\u001b[0mappend\u001b[0m\u001b[1;33m(\u001b[0m\u001b[0md\u001b[0m\u001b[1;33m)\u001b[0m\u001b[1;33m\u001b[0m\u001b[1;33m\u001b[0m\u001b[0m\n",
      "\u001b[1;32m~\\anaconda3\\lib\\site-packages\\torch\\nn\\modules\\module.py\u001b[0m in \u001b[0;36m_call_impl\u001b[1;34m(self, *input, **kwargs)\u001b[0m\n\u001b[0;32m    887\u001b[0m             \u001b[0mresult\u001b[0m \u001b[1;33m=\u001b[0m \u001b[0mself\u001b[0m\u001b[1;33m.\u001b[0m\u001b[0m_slow_forward\u001b[0m\u001b[1;33m(\u001b[0m\u001b[1;33m*\u001b[0m\u001b[0minput\u001b[0m\u001b[1;33m,\u001b[0m \u001b[1;33m**\u001b[0m\u001b[0mkwargs\u001b[0m\u001b[1;33m)\u001b[0m\u001b[1;33m\u001b[0m\u001b[1;33m\u001b[0m\u001b[0m\n\u001b[0;32m    888\u001b[0m         \u001b[1;32melse\u001b[0m\u001b[1;33m:\u001b[0m\u001b[1;33m\u001b[0m\u001b[1;33m\u001b[0m\u001b[0m\n\u001b[1;32m--> 889\u001b[1;33m             \u001b[0mresult\u001b[0m \u001b[1;33m=\u001b[0m \u001b[0mself\u001b[0m\u001b[1;33m.\u001b[0m\u001b[0mforward\u001b[0m\u001b[1;33m(\u001b[0m\u001b[1;33m*\u001b[0m\u001b[0minput\u001b[0m\u001b[1;33m,\u001b[0m \u001b[1;33m**\u001b[0m\u001b[0mkwargs\u001b[0m\u001b[1;33m)\u001b[0m\u001b[1;33m\u001b[0m\u001b[1;33m\u001b[0m\u001b[0m\n\u001b[0m\u001b[0;32m    890\u001b[0m         for hook in itertools.chain(\n\u001b[0;32m    891\u001b[0m                 \u001b[0m_global_forward_hooks\u001b[0m\u001b[1;33m.\u001b[0m\u001b[0mvalues\u001b[0m\u001b[1;33m(\u001b[0m\u001b[1;33m)\u001b[0m\u001b[1;33m,\u001b[0m\u001b[1;33m\u001b[0m\u001b[1;33m\u001b[0m\u001b[0m\n",
      "\u001b[1;32m~\\anaconda3\\lib\\site-packages\\pytorch_tabnet\\tab_network.py\u001b[0m in \u001b[0;36mforward\u001b[1;34m(self, x)\u001b[0m\n\u001b[0;32m    701\u001b[0m \u001b[1;33m\u001b[0m\u001b[0m\n\u001b[0;32m    702\u001b[0m     \u001b[1;32mdef\u001b[0m \u001b[0mforward\u001b[0m\u001b[1;33m(\u001b[0m\u001b[0mself\u001b[0m\u001b[1;33m,\u001b[0m \u001b[0mx\u001b[0m\u001b[1;33m)\u001b[0m\u001b[1;33m:\u001b[0m\u001b[1;33m\u001b[0m\u001b[1;33m\u001b[0m\u001b[0m\n\u001b[1;32m--> 703\u001b[1;33m         \u001b[0mx\u001b[0m \u001b[1;33m=\u001b[0m \u001b[0mself\u001b[0m\u001b[1;33m.\u001b[0m\u001b[0mshared\u001b[0m\u001b[1;33m(\u001b[0m\u001b[0mx\u001b[0m\u001b[1;33m)\u001b[0m\u001b[1;33m\u001b[0m\u001b[1;33m\u001b[0m\u001b[0m\n\u001b[0m\u001b[0;32m    704\u001b[0m         \u001b[0mx\u001b[0m \u001b[1;33m=\u001b[0m \u001b[0mself\u001b[0m\u001b[1;33m.\u001b[0m\u001b[0mspecifics\u001b[0m\u001b[1;33m(\u001b[0m\u001b[0mx\u001b[0m\u001b[1;33m)\u001b[0m\u001b[1;33m\u001b[0m\u001b[1;33m\u001b[0m\u001b[0m\n\u001b[0;32m    705\u001b[0m         \u001b[1;32mreturn\u001b[0m \u001b[0mx\u001b[0m\u001b[1;33m\u001b[0m\u001b[1;33m\u001b[0m\u001b[0m\n",
      "\u001b[1;32m~\\anaconda3\\lib\\site-packages\\torch\\nn\\modules\\module.py\u001b[0m in \u001b[0;36m_call_impl\u001b[1;34m(self, *input, **kwargs)\u001b[0m\n\u001b[0;32m    887\u001b[0m             \u001b[0mresult\u001b[0m \u001b[1;33m=\u001b[0m \u001b[0mself\u001b[0m\u001b[1;33m.\u001b[0m\u001b[0m_slow_forward\u001b[0m\u001b[1;33m(\u001b[0m\u001b[1;33m*\u001b[0m\u001b[0minput\u001b[0m\u001b[1;33m,\u001b[0m \u001b[1;33m**\u001b[0m\u001b[0mkwargs\u001b[0m\u001b[1;33m)\u001b[0m\u001b[1;33m\u001b[0m\u001b[1;33m\u001b[0m\u001b[0m\n\u001b[0;32m    888\u001b[0m         \u001b[1;32melse\u001b[0m\u001b[1;33m:\u001b[0m\u001b[1;33m\u001b[0m\u001b[1;33m\u001b[0m\u001b[0m\n\u001b[1;32m--> 889\u001b[1;33m             \u001b[0mresult\u001b[0m \u001b[1;33m=\u001b[0m \u001b[0mself\u001b[0m\u001b[1;33m.\u001b[0m\u001b[0mforward\u001b[0m\u001b[1;33m(\u001b[0m\u001b[1;33m*\u001b[0m\u001b[0minput\u001b[0m\u001b[1;33m,\u001b[0m \u001b[1;33m**\u001b[0m\u001b[0mkwargs\u001b[0m\u001b[1;33m)\u001b[0m\u001b[1;33m\u001b[0m\u001b[1;33m\u001b[0m\u001b[0m\n\u001b[0m\u001b[0;32m    890\u001b[0m         for hook in itertools.chain(\n\u001b[0;32m    891\u001b[0m                 \u001b[0m_global_forward_hooks\u001b[0m\u001b[1;33m.\u001b[0m\u001b[0mvalues\u001b[0m\u001b[1;33m(\u001b[0m\u001b[1;33m)\u001b[0m\u001b[1;33m,\u001b[0m\u001b[1;33m\u001b[0m\u001b[1;33m\u001b[0m\u001b[0m\n",
      "\u001b[1;32m~\\anaconda3\\lib\\site-packages\\pytorch_tabnet\\tab_network.py\u001b[0m in \u001b[0;36mforward\u001b[1;34m(self, x)\u001b[0m\n\u001b[0;32m    738\u001b[0m         \u001b[0mscale\u001b[0m \u001b[1;33m=\u001b[0m \u001b[0mtorch\u001b[0m\u001b[1;33m.\u001b[0m\u001b[0msqrt\u001b[0m\u001b[1;33m(\u001b[0m\u001b[0mtorch\u001b[0m\u001b[1;33m.\u001b[0m\u001b[0mFloatTensor\u001b[0m\u001b[1;33m(\u001b[0m\u001b[1;33m[\u001b[0m\u001b[1;36m0.5\u001b[0m\u001b[1;33m]\u001b[0m\u001b[1;33m)\u001b[0m\u001b[1;33m.\u001b[0m\u001b[0mto\u001b[0m\u001b[1;33m(\u001b[0m\u001b[0mx\u001b[0m\u001b[1;33m.\u001b[0m\u001b[0mdevice\u001b[0m\u001b[1;33m)\u001b[0m\u001b[1;33m)\u001b[0m\u001b[1;33m\u001b[0m\u001b[1;33m\u001b[0m\u001b[0m\n\u001b[0;32m    739\u001b[0m         \u001b[1;32mif\u001b[0m \u001b[0mself\u001b[0m\u001b[1;33m.\u001b[0m\u001b[0mfirst\u001b[0m\u001b[1;33m:\u001b[0m  \u001b[1;31m# the first layer of the block has no scale multiplication\u001b[0m\u001b[1;33m\u001b[0m\u001b[1;33m\u001b[0m\u001b[0m\n\u001b[1;32m--> 740\u001b[1;33m             \u001b[0mx\u001b[0m \u001b[1;33m=\u001b[0m \u001b[0mself\u001b[0m\u001b[1;33m.\u001b[0m\u001b[0mglu_layers\u001b[0m\u001b[1;33m[\u001b[0m\u001b[1;36m0\u001b[0m\u001b[1;33m]\u001b[0m\u001b[1;33m(\u001b[0m\u001b[0mx\u001b[0m\u001b[1;33m)\u001b[0m\u001b[1;33m\u001b[0m\u001b[1;33m\u001b[0m\u001b[0m\n\u001b[0m\u001b[0;32m    741\u001b[0m             \u001b[0mlayers_left\u001b[0m \u001b[1;33m=\u001b[0m \u001b[0mrange\u001b[0m\u001b[1;33m(\u001b[0m\u001b[1;36m1\u001b[0m\u001b[1;33m,\u001b[0m \u001b[0mself\u001b[0m\u001b[1;33m.\u001b[0m\u001b[0mn_glu\u001b[0m\u001b[1;33m)\u001b[0m\u001b[1;33m\u001b[0m\u001b[1;33m\u001b[0m\u001b[0m\n\u001b[0;32m    742\u001b[0m         \u001b[1;32melse\u001b[0m\u001b[1;33m:\u001b[0m\u001b[1;33m\u001b[0m\u001b[1;33m\u001b[0m\u001b[0m\n",
      "\u001b[1;32m~\\anaconda3\\lib\\site-packages\\torch\\nn\\modules\\module.py\u001b[0m in \u001b[0;36m_call_impl\u001b[1;34m(self, *input, **kwargs)\u001b[0m\n\u001b[0;32m    887\u001b[0m             \u001b[0mresult\u001b[0m \u001b[1;33m=\u001b[0m \u001b[0mself\u001b[0m\u001b[1;33m.\u001b[0m\u001b[0m_slow_forward\u001b[0m\u001b[1;33m(\u001b[0m\u001b[1;33m*\u001b[0m\u001b[0minput\u001b[0m\u001b[1;33m,\u001b[0m \u001b[1;33m**\u001b[0m\u001b[0mkwargs\u001b[0m\u001b[1;33m)\u001b[0m\u001b[1;33m\u001b[0m\u001b[1;33m\u001b[0m\u001b[0m\n\u001b[0;32m    888\u001b[0m         \u001b[1;32melse\u001b[0m\u001b[1;33m:\u001b[0m\u001b[1;33m\u001b[0m\u001b[1;33m\u001b[0m\u001b[0m\n\u001b[1;32m--> 889\u001b[1;33m             \u001b[0mresult\u001b[0m \u001b[1;33m=\u001b[0m \u001b[0mself\u001b[0m\u001b[1;33m.\u001b[0m\u001b[0mforward\u001b[0m\u001b[1;33m(\u001b[0m\u001b[1;33m*\u001b[0m\u001b[0minput\u001b[0m\u001b[1;33m,\u001b[0m \u001b[1;33m**\u001b[0m\u001b[0mkwargs\u001b[0m\u001b[1;33m)\u001b[0m\u001b[1;33m\u001b[0m\u001b[1;33m\u001b[0m\u001b[0m\n\u001b[0m\u001b[0;32m    890\u001b[0m         for hook in itertools.chain(\n\u001b[0;32m    891\u001b[0m                 \u001b[0m_global_forward_hooks\u001b[0m\u001b[1;33m.\u001b[0m\u001b[0mvalues\u001b[0m\u001b[1;33m(\u001b[0m\u001b[1;33m)\u001b[0m\u001b[1;33m,\u001b[0m\u001b[1;33m\u001b[0m\u001b[1;33m\u001b[0m\u001b[0m\n",
      "\u001b[1;32m~\\anaconda3\\lib\\site-packages\\pytorch_tabnet\\tab_network.py\u001b[0m in \u001b[0;36mforward\u001b[1;34m(self, x)\u001b[0m\n\u001b[0;32m    768\u001b[0m     \u001b[1;32mdef\u001b[0m \u001b[0mforward\u001b[0m\u001b[1;33m(\u001b[0m\u001b[0mself\u001b[0m\u001b[1;33m,\u001b[0m \u001b[0mx\u001b[0m\u001b[1;33m)\u001b[0m\u001b[1;33m:\u001b[0m\u001b[1;33m\u001b[0m\u001b[1;33m\u001b[0m\u001b[0m\n\u001b[0;32m    769\u001b[0m         \u001b[0mx\u001b[0m \u001b[1;33m=\u001b[0m \u001b[0mself\u001b[0m\u001b[1;33m.\u001b[0m\u001b[0mfc\u001b[0m\u001b[1;33m(\u001b[0m\u001b[0mx\u001b[0m\u001b[1;33m)\u001b[0m\u001b[1;33m\u001b[0m\u001b[1;33m\u001b[0m\u001b[0m\n\u001b[1;32m--> 770\u001b[1;33m         \u001b[0mx\u001b[0m \u001b[1;33m=\u001b[0m \u001b[0mself\u001b[0m\u001b[1;33m.\u001b[0m\u001b[0mbn\u001b[0m\u001b[1;33m(\u001b[0m\u001b[0mx\u001b[0m\u001b[1;33m)\u001b[0m\u001b[1;33m\u001b[0m\u001b[1;33m\u001b[0m\u001b[0m\n\u001b[0m\u001b[0;32m    771\u001b[0m         \u001b[0mout\u001b[0m \u001b[1;33m=\u001b[0m \u001b[0mtorch\u001b[0m\u001b[1;33m.\u001b[0m\u001b[0mmul\u001b[0m\u001b[1;33m(\u001b[0m\u001b[0mx\u001b[0m\u001b[1;33m[\u001b[0m\u001b[1;33m:\u001b[0m\u001b[1;33m,\u001b[0m \u001b[1;33m:\u001b[0m \u001b[0mself\u001b[0m\u001b[1;33m.\u001b[0m\u001b[0moutput_dim\u001b[0m\u001b[1;33m]\u001b[0m\u001b[1;33m,\u001b[0m \u001b[0mtorch\u001b[0m\u001b[1;33m.\u001b[0m\u001b[0msigmoid\u001b[0m\u001b[1;33m(\u001b[0m\u001b[0mx\u001b[0m\u001b[1;33m[\u001b[0m\u001b[1;33m:\u001b[0m\u001b[1;33m,\u001b[0m \u001b[0mself\u001b[0m\u001b[1;33m.\u001b[0m\u001b[0moutput_dim\u001b[0m \u001b[1;33m:\u001b[0m\u001b[1;33m]\u001b[0m\u001b[1;33m)\u001b[0m\u001b[1;33m)\u001b[0m\u001b[1;33m\u001b[0m\u001b[1;33m\u001b[0m\u001b[0m\n\u001b[0;32m    772\u001b[0m         \u001b[1;32mreturn\u001b[0m \u001b[0mout\u001b[0m\u001b[1;33m\u001b[0m\u001b[1;33m\u001b[0m\u001b[0m\n",
      "\u001b[1;32m~\\anaconda3\\lib\\site-packages\\torch\\nn\\modules\\module.py\u001b[0m in \u001b[0;36m_call_impl\u001b[1;34m(self, *input, **kwargs)\u001b[0m\n\u001b[0;32m    887\u001b[0m             \u001b[0mresult\u001b[0m \u001b[1;33m=\u001b[0m \u001b[0mself\u001b[0m\u001b[1;33m.\u001b[0m\u001b[0m_slow_forward\u001b[0m\u001b[1;33m(\u001b[0m\u001b[1;33m*\u001b[0m\u001b[0minput\u001b[0m\u001b[1;33m,\u001b[0m \u001b[1;33m**\u001b[0m\u001b[0mkwargs\u001b[0m\u001b[1;33m)\u001b[0m\u001b[1;33m\u001b[0m\u001b[1;33m\u001b[0m\u001b[0m\n\u001b[0;32m    888\u001b[0m         \u001b[1;32melse\u001b[0m\u001b[1;33m:\u001b[0m\u001b[1;33m\u001b[0m\u001b[1;33m\u001b[0m\u001b[0m\n\u001b[1;32m--> 889\u001b[1;33m             \u001b[0mresult\u001b[0m \u001b[1;33m=\u001b[0m \u001b[0mself\u001b[0m\u001b[1;33m.\u001b[0m\u001b[0mforward\u001b[0m\u001b[1;33m(\u001b[0m\u001b[1;33m*\u001b[0m\u001b[0minput\u001b[0m\u001b[1;33m,\u001b[0m \u001b[1;33m**\u001b[0m\u001b[0mkwargs\u001b[0m\u001b[1;33m)\u001b[0m\u001b[1;33m\u001b[0m\u001b[1;33m\u001b[0m\u001b[0m\n\u001b[0m\u001b[0;32m    890\u001b[0m         for hook in itertools.chain(\n\u001b[0;32m    891\u001b[0m                 \u001b[0m_global_forward_hooks\u001b[0m\u001b[1;33m.\u001b[0m\u001b[0mvalues\u001b[0m\u001b[1;33m(\u001b[0m\u001b[1;33m)\u001b[0m\u001b[1;33m,\u001b[0m\u001b[1;33m\u001b[0m\u001b[1;33m\u001b[0m\u001b[0m\n",
      "\u001b[1;32m~\\anaconda3\\lib\\site-packages\\pytorch_tabnet\\tab_network.py\u001b[0m in \u001b[0;36mforward\u001b[1;34m(self, x)\u001b[0m\n\u001b[0;32m     34\u001b[0m     \u001b[1;32mdef\u001b[0m \u001b[0mforward\u001b[0m\u001b[1;33m(\u001b[0m\u001b[0mself\u001b[0m\u001b[1;33m,\u001b[0m \u001b[0mx\u001b[0m\u001b[1;33m)\u001b[0m\u001b[1;33m:\u001b[0m\u001b[1;33m\u001b[0m\u001b[1;33m\u001b[0m\u001b[0m\n\u001b[0;32m     35\u001b[0m         \u001b[0mchunks\u001b[0m \u001b[1;33m=\u001b[0m \u001b[0mx\u001b[0m\u001b[1;33m.\u001b[0m\u001b[0mchunk\u001b[0m\u001b[1;33m(\u001b[0m\u001b[0mint\u001b[0m\u001b[1;33m(\u001b[0m\u001b[0mnp\u001b[0m\u001b[1;33m.\u001b[0m\u001b[0mceil\u001b[0m\u001b[1;33m(\u001b[0m\u001b[0mx\u001b[0m\u001b[1;33m.\u001b[0m\u001b[0mshape\u001b[0m\u001b[1;33m[\u001b[0m\u001b[1;36m0\u001b[0m\u001b[1;33m]\u001b[0m \u001b[1;33m/\u001b[0m \u001b[0mself\u001b[0m\u001b[1;33m.\u001b[0m\u001b[0mvirtual_batch_size\u001b[0m\u001b[1;33m)\u001b[0m\u001b[1;33m)\u001b[0m\u001b[1;33m,\u001b[0m \u001b[1;36m0\u001b[0m\u001b[1;33m)\u001b[0m\u001b[1;33m\u001b[0m\u001b[1;33m\u001b[0m\u001b[0m\n\u001b[1;32m---> 36\u001b[1;33m         \u001b[0mres\u001b[0m \u001b[1;33m=\u001b[0m \u001b[1;33m[\u001b[0m\u001b[0mself\u001b[0m\u001b[1;33m.\u001b[0m\u001b[0mbn\u001b[0m\u001b[1;33m(\u001b[0m\u001b[0mx_\u001b[0m\u001b[1;33m)\u001b[0m \u001b[1;32mfor\u001b[0m \u001b[0mx_\u001b[0m \u001b[1;32min\u001b[0m \u001b[0mchunks\u001b[0m\u001b[1;33m]\u001b[0m\u001b[1;33m\u001b[0m\u001b[1;33m\u001b[0m\u001b[0m\n\u001b[0m\u001b[0;32m     37\u001b[0m \u001b[1;33m\u001b[0m\u001b[0m\n\u001b[0;32m     38\u001b[0m         \u001b[1;32mreturn\u001b[0m \u001b[0mtorch\u001b[0m\u001b[1;33m.\u001b[0m\u001b[0mcat\u001b[0m\u001b[1;33m(\u001b[0m\u001b[0mres\u001b[0m\u001b[1;33m,\u001b[0m \u001b[0mdim\u001b[0m\u001b[1;33m=\u001b[0m\u001b[1;36m0\u001b[0m\u001b[1;33m)\u001b[0m\u001b[1;33m\u001b[0m\u001b[1;33m\u001b[0m\u001b[0m\n",
      "\u001b[1;32m~\\anaconda3\\lib\\site-packages\\pytorch_tabnet\\tab_network.py\u001b[0m in \u001b[0;36m<listcomp>\u001b[1;34m(.0)\u001b[0m\n\u001b[0;32m     34\u001b[0m     \u001b[1;32mdef\u001b[0m \u001b[0mforward\u001b[0m\u001b[1;33m(\u001b[0m\u001b[0mself\u001b[0m\u001b[1;33m,\u001b[0m \u001b[0mx\u001b[0m\u001b[1;33m)\u001b[0m\u001b[1;33m:\u001b[0m\u001b[1;33m\u001b[0m\u001b[1;33m\u001b[0m\u001b[0m\n\u001b[0;32m     35\u001b[0m         \u001b[0mchunks\u001b[0m \u001b[1;33m=\u001b[0m \u001b[0mx\u001b[0m\u001b[1;33m.\u001b[0m\u001b[0mchunk\u001b[0m\u001b[1;33m(\u001b[0m\u001b[0mint\u001b[0m\u001b[1;33m(\u001b[0m\u001b[0mnp\u001b[0m\u001b[1;33m.\u001b[0m\u001b[0mceil\u001b[0m\u001b[1;33m(\u001b[0m\u001b[0mx\u001b[0m\u001b[1;33m.\u001b[0m\u001b[0mshape\u001b[0m\u001b[1;33m[\u001b[0m\u001b[1;36m0\u001b[0m\u001b[1;33m]\u001b[0m \u001b[1;33m/\u001b[0m \u001b[0mself\u001b[0m\u001b[1;33m.\u001b[0m\u001b[0mvirtual_batch_size\u001b[0m\u001b[1;33m)\u001b[0m\u001b[1;33m)\u001b[0m\u001b[1;33m,\u001b[0m \u001b[1;36m0\u001b[0m\u001b[1;33m)\u001b[0m\u001b[1;33m\u001b[0m\u001b[1;33m\u001b[0m\u001b[0m\n\u001b[1;32m---> 36\u001b[1;33m         \u001b[0mres\u001b[0m \u001b[1;33m=\u001b[0m \u001b[1;33m[\u001b[0m\u001b[0mself\u001b[0m\u001b[1;33m.\u001b[0m\u001b[0mbn\u001b[0m\u001b[1;33m(\u001b[0m\u001b[0mx_\u001b[0m\u001b[1;33m)\u001b[0m \u001b[1;32mfor\u001b[0m \u001b[0mx_\u001b[0m \u001b[1;32min\u001b[0m \u001b[0mchunks\u001b[0m\u001b[1;33m]\u001b[0m\u001b[1;33m\u001b[0m\u001b[1;33m\u001b[0m\u001b[0m\n\u001b[0m\u001b[0;32m     37\u001b[0m \u001b[1;33m\u001b[0m\u001b[0m\n\u001b[0;32m     38\u001b[0m         \u001b[1;32mreturn\u001b[0m \u001b[0mtorch\u001b[0m\u001b[1;33m.\u001b[0m\u001b[0mcat\u001b[0m\u001b[1;33m(\u001b[0m\u001b[0mres\u001b[0m\u001b[1;33m,\u001b[0m \u001b[0mdim\u001b[0m\u001b[1;33m=\u001b[0m\u001b[1;36m0\u001b[0m\u001b[1;33m)\u001b[0m\u001b[1;33m\u001b[0m\u001b[1;33m\u001b[0m\u001b[0m\n",
      "\u001b[1;32m~\\anaconda3\\lib\\site-packages\\torch\\nn\\modules\\module.py\u001b[0m in \u001b[0;36m_call_impl\u001b[1;34m(self, *input, **kwargs)\u001b[0m\n\u001b[0;32m    887\u001b[0m             \u001b[0mresult\u001b[0m \u001b[1;33m=\u001b[0m \u001b[0mself\u001b[0m\u001b[1;33m.\u001b[0m\u001b[0m_slow_forward\u001b[0m\u001b[1;33m(\u001b[0m\u001b[1;33m*\u001b[0m\u001b[0minput\u001b[0m\u001b[1;33m,\u001b[0m \u001b[1;33m**\u001b[0m\u001b[0mkwargs\u001b[0m\u001b[1;33m)\u001b[0m\u001b[1;33m\u001b[0m\u001b[1;33m\u001b[0m\u001b[0m\n\u001b[0;32m    888\u001b[0m         \u001b[1;32melse\u001b[0m\u001b[1;33m:\u001b[0m\u001b[1;33m\u001b[0m\u001b[1;33m\u001b[0m\u001b[0m\n\u001b[1;32m--> 889\u001b[1;33m             \u001b[0mresult\u001b[0m \u001b[1;33m=\u001b[0m \u001b[0mself\u001b[0m\u001b[1;33m.\u001b[0m\u001b[0mforward\u001b[0m\u001b[1;33m(\u001b[0m\u001b[1;33m*\u001b[0m\u001b[0minput\u001b[0m\u001b[1;33m,\u001b[0m \u001b[1;33m**\u001b[0m\u001b[0mkwargs\u001b[0m\u001b[1;33m)\u001b[0m\u001b[1;33m\u001b[0m\u001b[1;33m\u001b[0m\u001b[0m\n\u001b[0m\u001b[0;32m    890\u001b[0m         for hook in itertools.chain(\n\u001b[0;32m    891\u001b[0m                 \u001b[0m_global_forward_hooks\u001b[0m\u001b[1;33m.\u001b[0m\u001b[0mvalues\u001b[0m\u001b[1;33m(\u001b[0m\u001b[1;33m)\u001b[0m\u001b[1;33m,\u001b[0m\u001b[1;33m\u001b[0m\u001b[1;33m\u001b[0m\u001b[0m\n",
      "\u001b[1;32m~\\anaconda3\\lib\\site-packages\\torch\\nn\\modules\\batchnorm.py\u001b[0m in \u001b[0;36mforward\u001b[1;34m(self, input)\u001b[0m\n\u001b[0;32m    133\u001b[0m         \u001b[1;32massert\u001b[0m \u001b[0mself\u001b[0m\u001b[1;33m.\u001b[0m\u001b[0mrunning_mean\u001b[0m \u001b[1;32mis\u001b[0m \u001b[1;32mNone\u001b[0m \u001b[1;32mor\u001b[0m \u001b[0misinstance\u001b[0m\u001b[1;33m(\u001b[0m\u001b[0mself\u001b[0m\u001b[1;33m.\u001b[0m\u001b[0mrunning_mean\u001b[0m\u001b[1;33m,\u001b[0m \u001b[0mtorch\u001b[0m\u001b[1;33m.\u001b[0m\u001b[0mTensor\u001b[0m\u001b[1;33m)\u001b[0m\u001b[1;33m\u001b[0m\u001b[1;33m\u001b[0m\u001b[0m\n\u001b[0;32m    134\u001b[0m         \u001b[1;32massert\u001b[0m \u001b[0mself\u001b[0m\u001b[1;33m.\u001b[0m\u001b[0mrunning_var\u001b[0m \u001b[1;32mis\u001b[0m \u001b[1;32mNone\u001b[0m \u001b[1;32mor\u001b[0m \u001b[0misinstance\u001b[0m\u001b[1;33m(\u001b[0m\u001b[0mself\u001b[0m\u001b[1;33m.\u001b[0m\u001b[0mrunning_var\u001b[0m\u001b[1;33m,\u001b[0m \u001b[0mtorch\u001b[0m\u001b[1;33m.\u001b[0m\u001b[0mTensor\u001b[0m\u001b[1;33m)\u001b[0m\u001b[1;33m\u001b[0m\u001b[1;33m\u001b[0m\u001b[0m\n\u001b[1;32m--> 135\u001b[1;33m         return F.batch_norm(\n\u001b[0m\u001b[0;32m    136\u001b[0m             \u001b[0minput\u001b[0m\u001b[1;33m,\u001b[0m\u001b[1;33m\u001b[0m\u001b[1;33m\u001b[0m\u001b[0m\n\u001b[0;32m    137\u001b[0m             \u001b[1;31m# If buffers are not to be tracked, ensure that they won't be updated\u001b[0m\u001b[1;33m\u001b[0m\u001b[1;33m\u001b[0m\u001b[1;33m\u001b[0m\u001b[0m\n",
      "\u001b[1;32m~\\anaconda3\\lib\\site-packages\\torch\\nn\\functional.py\u001b[0m in \u001b[0;36mbatch_norm\u001b[1;34m(input, running_mean, running_var, weight, bias, training, momentum, eps)\u001b[0m\n\u001b[0;32m   2147\u001b[0m         \u001b[0m_verify_batch_size\u001b[0m\u001b[1;33m(\u001b[0m\u001b[0minput\u001b[0m\u001b[1;33m.\u001b[0m\u001b[0msize\u001b[0m\u001b[1;33m(\u001b[0m\u001b[1;33m)\u001b[0m\u001b[1;33m)\u001b[0m\u001b[1;33m\u001b[0m\u001b[1;33m\u001b[0m\u001b[0m\n\u001b[0;32m   2148\u001b[0m \u001b[1;33m\u001b[0m\u001b[0m\n\u001b[1;32m-> 2149\u001b[1;33m     return torch.batch_norm(\n\u001b[0m\u001b[0;32m   2150\u001b[0m         \u001b[0minput\u001b[0m\u001b[1;33m,\u001b[0m \u001b[0mweight\u001b[0m\u001b[1;33m,\u001b[0m \u001b[0mbias\u001b[0m\u001b[1;33m,\u001b[0m \u001b[0mrunning_mean\u001b[0m\u001b[1;33m,\u001b[0m \u001b[0mrunning_var\u001b[0m\u001b[1;33m,\u001b[0m \u001b[0mtraining\u001b[0m\u001b[1;33m,\u001b[0m \u001b[0mmomentum\u001b[0m\u001b[1;33m,\u001b[0m \u001b[0meps\u001b[0m\u001b[1;33m,\u001b[0m \u001b[0mtorch\u001b[0m\u001b[1;33m.\u001b[0m\u001b[0mbackends\u001b[0m\u001b[1;33m.\u001b[0m\u001b[0mcudnn\u001b[0m\u001b[1;33m.\u001b[0m\u001b[0menabled\u001b[0m\u001b[1;33m\u001b[0m\u001b[1;33m\u001b[0m\u001b[0m\n\u001b[0;32m   2151\u001b[0m     )\n",
      "\u001b[1;31mKeyboardInterrupt\u001b[0m: "
     ]
    }
   ],
   "source": [
    "max_epochs = 100\n",
    "clf.fit(\n",
    "    X_train=X_train, y_train=y_train,\n",
    "    eval_set=[(X_train, y_train),(X_valid, y_valid)],\n",
    "    max_epochs=max_epochs,\n",
    "    patience=50, # please be patient ^^\n",
    "    batch_size=1024,\n",
    "    virtual_batch_size=128,\n",
    "    num_workers=1,\n",
    "    drop_last=False,\n",
    "    eval_metric=['logloss'],\n",
    "    number_\n",
    "    \n",
    ")"
   ]
  },
  {
   "cell_type": "code",
   "execution_count": null,
   "metadata": {},
   "outputs": [],
   "source": []
  }
 ],
 "metadata": {
  "kernelspec": {
   "display_name": "Python 3",
   "language": "python",
   "name": "python3"
  },
  "language_info": {
   "codemirror_mode": {
    "name": "ipython",
    "version": 3
   },
   "file_extension": ".py",
   "mimetype": "text/x-python",
   "name": "python",
   "nbconvert_exporter": "python",
   "pygments_lexer": "ipython3",
   "version": "3.8.5"
  }
 },
 "nbformat": 4,
 "nbformat_minor": 4
}
