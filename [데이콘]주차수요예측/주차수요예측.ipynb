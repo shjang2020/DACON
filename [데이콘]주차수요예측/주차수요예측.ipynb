{
 "cells": [
  {
   "cell_type": "code",
   "execution_count": 217,
   "metadata": {},
   "outputs": [],
   "source": [
    "import pandas as pd\n",
    "import numpy as np\n",
    "\n",
    "import matplotlib.pyplot as plt\n",
    "import seaborn as sns\n",
    "from matplotlib import rc\n",
    "rc('font', family='AppleGothic')\n",
    "plt.rcParams['axes.unicode_minus'] = False\n",
    "%matplotlib inline\n",
    "import warnings\n",
    "warnings.filterwarnings('ignore')\n",
    "from sklearn.metrics import *\n",
    "from lightgbm import LGBMRegressor\n",
    "from sklearn.model_selection import KFold\n",
    "from sklearn.ensemble import RandomForestRegressor\n",
    "from catboost import CatBoostRegressor, Pool\n",
    "from ngboost import NGBRegressor"
   ]
  },
  {
   "cell_type": "code",
   "execution_count": 218,
   "metadata": {},
   "outputs": [],
   "source": [
    "train = pd.read_csv(\"train.csv\")\n",
    "test = pd.read_csv('test.csv')\n",
    "age = pd.read_csv('age_gender_info.csv')"
   ]
  },
  {
   "cell_type": "code",
   "execution_count": 219,
   "metadata": {},
   "outputs": [],
   "source": [
    "out_idx = ['C1036',\n",
    " 'C1095',\n",
    " 'C1218',\n",
    " 'C1397',\n",
    " 'C1502',\n",
    " 'C1649',\n",
    " 'C1894',\n",
    " 'C1988',\n",
    " 'C2051',\n",
    " 'C2085',\n",
    " 'C2431',\n",
    " 'C2483']"
   ]
  },
  {
   "cell_type": "code",
   "execution_count": 220,
   "metadata": {},
   "outputs": [],
   "source": [
    "train = train.query('단지코드 not in @out_idx')"
   ]
  },
  {
   "cell_type": "code",
   "execution_count": 221,
   "metadata": {},
   "outputs": [],
   "source": [
    "reg_list1 = list(train.지역.unique())\n",
    "reg_list2 = [i for i in reg_list1 if i[-1] == '시']"
   ]
  },
  {
   "cell_type": "code",
   "execution_count": 222,
   "metadata": {
    "scrolled": true
   },
   "outputs": [
    {
     "data": {
      "text/plain": [
       "['대전광역시', '광주광역시', '부산광역시', '울산광역시', '대구광역시', '서울특별시', '세종특별자치시']"
      ]
     },
     "execution_count": 222,
     "metadata": {},
     "output_type": "execute_result"
    }
   ],
   "source": [
    "reg_list2"
   ]
  },
  {
   "cell_type": "code",
   "execution_count": 223,
   "metadata": {},
   "outputs": [],
   "source": [
    "age_list1 = list(age.columns)\n",
    "age_list1.remove('지역')\n",
    "age_list2 = ['10대미만'] + [str(i) + '대' for i in range(10, 110, 10)]\n",
    "age_list3 = ['남자', '여자']"
   ]
  },
  {
   "cell_type": "code",
   "execution_count": 224,
   "metadata": {},
   "outputs": [],
   "source": [
    "\n",
    "\n",
    "sup_list1 = list(train.공급유형.unique())\n",
    "sup_list2 = [i + '세대수' for i in sup_list1]\n",
    "i = 1\n",
    "are_list1 = ['면적' + str(i) + '_' + str(j)  for j in range(10 // i, 600 // i + 1, 1)]\n",
    "i = 5\n",
    "are_list2 = ['면적' + str(i) + '_' + str(j)  for j in range(10 // i, 600 // i + 1, 1)]\n",
    "i = 10\n",
    "are_list3 = ['면적' + str(i) + '_' + str(j)  for j in range(10 // i, 600 // i + 1, 1)]"
   ]
  },
  {
   "cell_type": "code",
   "execution_count": 225,
   "metadata": {},
   "outputs": [],
   "source": [
    "data = train.copy()\n",
    "feature = data.drop_duplicates(['단지코드', '총세대수'])[['단지코드', '지역', '총세대수', '공가수', '단지내주차면수', '등록차량수']]"
   ]
  },
  {
   "cell_type": "code",
   "execution_count": 226,
   "metadata": {},
   "outputs": [],
   "source": [
    "feature = pd.merge(feature, data.groupby('단지코드')['전용면적별세대수'].sum().reset_index(name = '총세대수2'), how = 'left', on = '단지코드')"
   ]
  },
  {
   "cell_type": "code",
   "execution_count": 227,
   "metadata": {},
   "outputs": [],
   "source": [
    "for i in reg_list1:\n",
    "    feature[i] = (feature['지역'] == i) * 1\n",
    "feature['도시'] = 0"
   ]
  },
  {
   "cell_type": "markdown",
   "metadata": {},
   "source": [
    "#### '시'로 끝나는 지역은 도시로 간주"
   ]
  },
  {
   "cell_type": "code",
   "execution_count": 228,
   "metadata": {},
   "outputs": [],
   "source": [
    "for i in reg_list2:\n",
    "    feature['도시'] += feature[i]"
   ]
  },
  {
   "cell_type": "code",
   "execution_count": 229,
   "metadata": {},
   "outputs": [],
   "source": [
    "#나이 비율\n",
    "feature = pd.merge(feature, age, how = 'left', on = '지역')\n",
    "for i in age_list2:\n",
    "    feature[i] = 0\n",
    "    for j in age_list3:\n",
    "        feature[i] += feature[i + '(' + j + ')']"
   ]
  },
  {
   "cell_type": "code",
   "execution_count": 230,
   "metadata": {},
   "outputs": [],
   "source": [
    "for i in age_list3:\n",
    "    feature[i] = 0\n",
    "    for j in age_list2:\n",
    "        feature[i] += feature[j + '(' + i + ')']"
   ]
  },
  {
   "cell_type": "code",
   "execution_count": 231,
   "metadata": {},
   "outputs": [],
   "source": [
    "for i in sup_list1:\n",
    "    tmp = data[data['공급유형'] == i].groupby(['단지코드', '공급유형'])['전용면적별세대수'].sum().reset_index(name = i + '세대수')\n",
    "    tmp[i] = 1\n",
    "    tmp = tmp.drop('공급유형', axis = 1)\n",
    "    feature = pd.merge(feature, tmp, how = 'left', on = '단지코드').fillna(0)"
   ]
  },
  {
   "cell_type": "code",
   "execution_count": 232,
   "metadata": {},
   "outputs": [],
   "source": [
    "#공가수\n",
    "feature['공가비율'] = feature['공가수'] / feature['총세대수2']"
   ]
  },
  {
   "cell_type": "code",
   "execution_count": 233,
   "metadata": {},
   "outputs": [],
   "source": [
    "tmp = data.copy()\n",
    "tmp['총전용면적'] = tmp['전용면적'] * tmp['전용면적별세대수']\n",
    "tmp = tmp.groupby(['단지코드'])['총전용면적'].sum().reset_index(name = '총전용면적')\n",
    "feature = pd.merge(feature, tmp, how = 'left', on = '단지코드').fillna(0)\n",
    "feature['평균전용면적'] = feature['총전용면적'] / feature['총세대수2']"
   ]
  },
  {
   "cell_type": "code",
   "execution_count": 234,
   "metadata": {},
   "outputs": [],
   "source": [
    "tmp = data.copy()\n",
    "tmp = tmp[tmp['임대건물구분'] == '상가']\n",
    "tmp['상가총전용면적'] = tmp['전용면적'] * tmp['전용면적별세대수']\n",
    "tmp = tmp.groupby(['단지코드'])['상가총전용면적'].sum().reset_index(name = '상가총전용면적')\n",
    "feature = pd.merge(feature, tmp, how = 'left', on = '단지코드').fillna(0)\n",
    "feature['상가평균전용면적'] = feature['상가총전용면적'] / feature['총세대수2']"
   ]
  },
  {
   "cell_type": "code",
   "execution_count": 235,
   "metadata": {},
   "outputs": [],
   "source": [
    "tmp = data.copy()\n",
    "tmp = tmp[tmp['임대건물구분'] == '아파트']\n",
    "tmp['아파트총전용면적'] = tmp['전용면적'] * tmp['전용면적별세대수']\n",
    "tmp = tmp.groupby(['단지코드'])['아파트총전용면적'].sum().reset_index(name = '아파트총전용면적')\n",
    "feature = pd.merge(feature, tmp, how = 'left', on = '단지코드').fillna(0)\n",
    "feature['아파트평균전용면적'] = feature['아파트총전용면적'] / feature['총세대수2']"
   ]
  },
  {
   "cell_type": "code",
   "execution_count": 236,
   "metadata": {},
   "outputs": [],
   "source": [
    "for i in [1, 5, 10]:\n",
    "    tmp = data.copy()\n",
    "    tmp['전용면적'] = np.round(tmp['전용면적'] / i)\n",
    "    tmp = tmp.groupby(['단지코드', '전용면적'])['전용면적별세대수'].sum().reset_index(name = '세대수')\n",
    "    for j in range(10 // i, 600 // i + 1, 1):\n",
    "        tmp2 = tmp[tmp['전용면적'] == j]\n",
    "        tmp2['면적' + str(i) + '_' + str(j)] = tmp2['세대수']\n",
    "        tmp2 = tmp2[['단지코드', '면적' + str(i) + '_' + str(j)]]\n",
    "        feature = pd.merge(feature, tmp2, how = 'left', on = '단지코드').fillna(0)"
   ]
  },
  {
   "cell_type": "code",
   "execution_count": 237,
   "metadata": {},
   "outputs": [],
   "source": [
    "#feature['등록차량수'] = (feature['등록차량수'] - feature['단지내주차면수'])\n",
    "feature = feature.drop('지역', axis = 1)\n",
    "feature = feature.set_index('단지코드')"
   ]
  },
  {
   "cell_type": "code",
   "execution_count": 238,
   "metadata": {},
   "outputs": [],
   "source": [
    "i = 1\n",
    "are_list1 = ['면적' + str(i) + '_' + str(j)  for j in range(84 // i, 85 // i + 1, 1)]"
   ]
  },
  {
   "cell_type": "code",
   "execution_count": 239,
   "metadata": {},
   "outputs": [],
   "source": [
    "new_y = np.array(feature['등록차량수'] / feature['단지내주차면수'])\n",
    "parking_able = np.array(feature['단지내주차면수'])\n",
    "car_cnt = np.array(feature['등록차량수'])"
   ]
  },
  {
   "cell_type": "code",
   "execution_count": 240,
   "metadata": {},
   "outputs": [],
   "source": [
    "feature_names_ = ['평균전용면적', '공가수', '40대', '50대']\n",
    "train_feature = np.array(feature[feature_names_])"
   ]
  },
  {
   "cell_type": "code",
   "execution_count": 241,
   "metadata": {},
   "outputs": [],
   "source": [
    "random_state_ = 42\n",
    "n_estimators_ = 1000\n",
    "learning_rate_ = 0.002"
   ]
  },
  {
   "cell_type": "code",
   "execution_count": 242,
   "metadata": {},
   "outputs": [],
   "source": [
    "kf = KFold(n_splits = 8, shuffle = True, random_state = 42)"
   ]
  },
  {
   "cell_type": "code",
   "execution_count": 243,
   "metadata": {
    "scrolled": false
   },
   "outputs": [
    {
     "name": "stdout",
     "output_type": "stream",
     "text": [
      "LGBM MAE: 570.3778 (+/- 107.4974)\n",
      "LGBM MAE: 570.2922 (+/- 112.2254)\n",
      "LGBM MAE: 569.7740 (+/- 114.8336)\n",
      "LGBM MAE: 569.0669 (+/- 115.9308)\n",
      "LGBM MAE: 568.7228 (+/- 117.4491)\n"
     ]
    }
   ],
   "source": [
    "for i in range(5):\n",
    "    scores = []\n",
    "    for tr_idx, val_idx in kf.split(train_feature):\n",
    "        tr_X, val_X = train_feature[tr_idx], train_feature[val_idx]\n",
    "        tr_y, val_y = new_y[tr_idx], new_y[val_idx]\n",
    "        v1, v2 = parking_able[val_idx], car_cnt[val_idx]\n",
    "        rgr = LGBMRegressor(n_estimators = 750,\n",
    "                        random_state = 42,\n",
    "                        learning_rate=learning_rate_)\n",
    "\n",
    "        rgr.fit(tr_X, tr_y)\n",
    "        score = mean_absolute_error(val_y, rgr.predict(val_X) * v1)\n",
    "        scores.append(score)\n",
    "    print(\"LGBM MAE: %0.4f (+/- %0.4f)\" %(np.mean(scores), np.std(scores) * 2))\n",
    "    learning_rate_ += 0.001"
   ]
  },
  {
   "cell_type": "code",
   "execution_count": 244,
   "metadata": {},
   "outputs": [],
   "source": [
    "feature_names_ = ['남자', '10대미만', '20대', '30대', '40대', '국민임대', '공가수', \n",
    "                  '상가평균전용면적', '아파트평균전용면적', '도시', \n",
    "                  '면적1_26', '면적1_31', '면적1_32', '면적1_34', '면적1_36', '면적1_39', '면적1_40', '면적1_47', '면적1_52', '면적1_85', \n",
    "                  '10대미만(여자)', '10대미만(남자)', '10대(여자)', '10대(남자)', '20대(여자)', '30대(남자)', '40대(남자)', \n",
    "                  '50대(여자)', '50대(남자)', '60대(여자)', '60대(남자)', \n",
    "                  '70대(여자)', '70대(남자)']"
   ]
  },
  {
   "cell_type": "code",
   "execution_count": 245,
   "metadata": {},
   "outputs": [],
   "source": [
    "train_feature = np.array(feature[feature_names_])"
   ]
  },
  {
   "cell_type": "code",
   "execution_count": 246,
   "metadata": {
    "scrolled": false
   },
   "outputs": [
    {
     "name": "stdout",
     "output_type": "stream",
     "text": [
      "LGBM MAE: 101.5947 (+/- 38.2226)\n",
      "LGBM MAE: 103.2620 (+/- 39.0320)\n",
      "LGBM MAE: 103.9929 (+/- 39.3878)\n",
      "LGBM MAE: 103.6314 (+/- 40.0605)\n",
      "LGBM MAE: 105.4851 (+/- 40.8031)\n"
     ]
    }
   ],
   "source": [
    "for i in range(5):\n",
    "    scores = []\n",
    "    for tr_idx, val_idx in kf.split(train_feature):\n",
    "        tr_X, val_X = train_feature[tr_idx], train_feature[val_idx]\n",
    "        tr_y, val_y = train_target[tr_idx], train_target[val_idx]\n",
    "        v1, v2 = parking_able[val_idx], car_cnt[val_idx]\n",
    "        rgr = LGBMRegressor(n_estimators = 750,\n",
    "                        random_state = 42,\n",
    "                        learning_rate=learning_rate_)\n",
    "\n",
    "        rgr.fit(tr_X, tr_y)\n",
    "        score = mean_absolute_error(val_y, rgr.predict(val_X) * v1)\n",
    "        scores.append(score)\n",
    "    print(\"LGBM MAE: %0.4f (+/- %0.4f)\" %(np.mean(scores), np.std(scores) * 2))\n",
    "    learning_rate_ += 0.001"
   ]
  },
  {
   "cell_type": "code",
   "execution_count": 247,
   "metadata": {},
   "outputs": [
    {
     "name": "stdout",
     "output_type": "stream",
     "text": [
      "RF MAE: 79.9624 (+/- 31.0014)\n",
      "RF MAE: 82.6789 (+/- 32.0785)\n",
      "RF MAE: 85.4007 (+/- 34.8097)\n",
      "RF MAE: 86.7126 (+/- 33.6916)\n",
      "RF MAE: 88.7598 (+/- 36.6624)\n"
     ]
    }
   ],
   "source": [
    "md = 4\n",
    "for i in range(5):\n",
    "    scores = []\n",
    "    for tr_idx, val_idx in kf.split(train_feature):\n",
    "        tr_X, val_X = train_feature[tr_idx], train_feature[val_idx]\n",
    "        tr_y, val_y = train_target[tr_idx], train_target[val_idx]\n",
    "        v1, v2 = ddd[val_idx], eee[val_idx]\n",
    "        rf = RandomForestRegressor(random_state = 729, criterion = 'mae', max_depth = md)\n",
    "\n",
    "        rf.fit(tr_X, tr_y)\n",
    "        score = mean_absolute_error(val_y, rf.predict(val_X) * v1)\n",
    "        scores.append(score)\n",
    "    print(\"RF MAE: %0.4f (+/- %0.4f)\" %(np.mean(scores), np.std(scores) * 2))\n",
    "    md += 1"
   ]
  },
  {
   "cell_type": "code",
   "execution_count": 248,
   "metadata": {
    "scrolled": true
   },
   "outputs": [
    {
     "name": "stdout",
     "output_type": "stream",
     "text": [
      "CB MAE: 37.0223 (+/- 11.8674)\n",
      "CB MAE: 37.9318 (+/- 11.9344)\n",
      "CB MAE: 38.2801 (+/- 12.0576)\n",
      "CB MAE: 38.4831 (+/- 12.8829)\n",
      "CB MAE: 38.2536 (+/- 13.5398)\n"
     ]
    }
   ],
   "source": [
    "md = 4\n",
    "for i in range(5):\n",
    "    scores = []\n",
    "    for tr_idx, val_idx in kf.split(train_feature):\n",
    "        tr_X, val_X = train_feature[tr_idx], train_feature[val_idx]\n",
    "        tr_y, val_y = train_target[tr_idx], train_target[val_idx]\n",
    "        v1, v2 = ddd[val_idx], eee[val_idx]\n",
    "        cb = CatBoostRegressor(iterations = 1000, max_depth = md, random_state = 42, learning_rate = .001, verbose = 0)\n",
    "\n",
    "        cb.fit(tr_X, tr_y)\n",
    "        score = mean_absolute_error(val_y, cb.predict(val_X) * v1)\n",
    "        scores.append(score)\n",
    "    print(\"CB MAE: %0.4f (+/- %0.4f)\" %(np.mean(scores), np.std(scores) * 2))\n",
    "    md += 1"
   ]
  },
  {
   "cell_type": "code",
   "execution_count": 249,
   "metadata": {},
   "outputs": [],
   "source": [
    "data = test.copy()\n",
    "feature = data.drop_duplicates(['단지코드', '총세대수'])[['단지코드', '지역', '총세대수', '공가수', '단지내주차면수']]\n",
    "feature = pd.merge(feature, data.groupby('단지코드')['전용면적별세대수'].sum().reset_index(name = '총세대수2'), how = 'left', on = '단지코드')"
   ]
  },
  {
   "cell_type": "code",
   "execution_count": 250,
   "metadata": {},
   "outputs": [],
   "source": [
    "for i in reg_list1:\n",
    "    feature[i] = (feature['지역'] == i) * 1\n",
    "feature['도시'] = 0"
   ]
  },
  {
   "cell_type": "code",
   "execution_count": 251,
   "metadata": {},
   "outputs": [],
   "source": [
    "for i in reg_list2:\n",
    "    feature['도시'] += feature[i]"
   ]
  },
  {
   "cell_type": "code",
   "execution_count": 252,
   "metadata": {},
   "outputs": [],
   "source": [
    "#나이 비율\n",
    "feature = pd.merge(feature, age, how = 'left', on = '지역')\n",
    "for i in age_list2:\n",
    "    feature[i] = 0\n",
    "    for j in age_list3:\n",
    "        feature[i] += feature[i + '(' + j + ')']"
   ]
  },
  {
   "cell_type": "code",
   "execution_count": 253,
   "metadata": {},
   "outputs": [],
   "source": [
    "for i in age_list3:\n",
    "    feature[i] = 0\n",
    "    for j in age_list2:\n",
    "        feature[i] += feature[j + '(' + i + ')']"
   ]
  },
  {
   "cell_type": "code",
   "execution_count": 254,
   "metadata": {},
   "outputs": [],
   "source": [
    "for i in sup_list1:\n",
    "    tmp = data[data['공급유형'] == i].groupby(['단지코드', '공급유형'])['전용면적별세대수'].sum().reset_index(name = i + '세대수')\n",
    "    tmp[i] = 1\n",
    "    tmp = tmp.drop('공급유형', axis = 1)\n",
    "    feature = pd.merge(feature, tmp, how = 'left', on = '단지코드').fillna(0)"
   ]
  },
  {
   "cell_type": "code",
   "execution_count": 255,
   "metadata": {},
   "outputs": [],
   "source": [
    "feature['공가비율'] = feature['공가수'] / feature['총세대수2']"
   ]
  },
  {
   "cell_type": "code",
   "execution_count": 256,
   "metadata": {},
   "outputs": [],
   "source": [
    "tmp = data.copy()\n",
    "tmp['총전용면적'] = tmp['전용면적'] * tmp['전용면적별세대수']\n",
    "tmp = tmp.groupby(['단지코드'])['총전용면적'].sum().reset_index(name = '총전용면적')\n",
    "feature = pd.merge(feature, tmp, how = 'left', on = '단지코드').fillna(0)\n",
    "feature['평균전용면적'] = feature['총전용면적'] / feature['총세대수2']"
   ]
  },
  {
   "cell_type": "code",
   "execution_count": 257,
   "metadata": {},
   "outputs": [],
   "source": [
    "tmp = data.copy()\n",
    "tmp = tmp[tmp['임대건물구분'] == '상가']\n",
    "tmp['상가총전용면적'] = tmp['전용면적'] * tmp['전용면적별세대수']\n",
    "tmp = tmp.groupby(['단지코드'])['상가총전용면적'].sum().reset_index(name = '상가총전용면적')\n",
    "feature = pd.merge(feature, tmp, how = 'left', on = '단지코드').fillna(0)\n",
    "feature['상가평균전용면적'] = feature['상가총전용면적'] / feature['총세대수2']"
   ]
  },
  {
   "cell_type": "code",
   "execution_count": 258,
   "metadata": {},
   "outputs": [],
   "source": [
    "tmp = data.copy()\n",
    "tmp = tmp[tmp['임대건물구분'] == '아파트']\n",
    "tmp['아파트총전용면적'] = tmp['전용면적'] * tmp['전용면적별세대수']\n",
    "tmp = tmp.groupby(['단지코드'])['아파트총전용면적'].sum().reset_index(name = '아파트총전용면적')\n",
    "feature = pd.merge(feature, tmp, how = 'left', on = '단지코드').fillna(0)\n",
    "feature['아파트평균전용면적'] = feature['아파트총전용면적'] / feature['총세대수2']"
   ]
  },
  {
   "cell_type": "code",
   "execution_count": 259,
   "metadata": {},
   "outputs": [],
   "source": [
    "\n",
    "for i in [1, 5, 10]:\n",
    "    tmp = data.copy()\n",
    "    tmp['전용면적'] = np.round(tmp['전용면적'] / i)\n",
    "    tmp = tmp.groupby(['단지코드', '전용면적'])['전용면적별세대수'].sum().reset_index(name = '세대수')\n",
    "    for j in range(10 // i, 600 // i + 1, 1):\n",
    "        tmp2 = tmp[tmp['전용면적'] == j]\n",
    "        tmp2['면적' + str(i) + '_' + str(j)] = tmp2['세대수']\n",
    "        tmp2 = tmp2[['단지코드', '면적' + str(i) + '_' + str(j)]]\n",
    "        feature = pd.merge(feature, tmp2, how = 'left', on = '단지코드').fillna(0)\n",
    "feature = feature.drop('지역', axis = 1)\n",
    "feature = feature.set_index('단지코드')"
   ]
  },
  {
   "cell_type": "code",
   "execution_count": 260,
   "metadata": {},
   "outputs": [],
   "source": [
    "tmp = np.array(feature['단지내주차면수'])\n",
    "\n",
    "feature = feature[feature_names_]"
   ]
  },
  {
   "cell_type": "code",
   "execution_count": 261,
   "metadata": {},
   "outputs": [],
   "source": [
    "test_feature = np.array(feature)"
   ]
  },
  {
   "cell_type": "code",
   "execution_count": 262,
   "metadata": {},
   "outputs": [],
   "source": [
    "random_state_ = 3\n",
    "n_estimators_ = 1000\n",
    "learning_rate_ = 0.002\n",
    "\n",
    "train_X, train_y = train_feature, train_target\n",
    "\n",
    "rgr = LGBMRegressor(n_estimators = 750,\n",
    "                    random_state = 42,\n",
    "                    learning_rate=learning_rate_)\n",
    "\n",
    "rgr.fit(train_X, train_y)\n",
    "lgbm_prediction = rgr.predict(test_feature)\n",
    "\n",
    "lgbm_prediction = np.round(tmp * lgbm_prediction + tmp)"
   ]
  },
  {
   "cell_type": "code",
   "execution_count": 264,
   "metadata": {},
   "outputs": [],
   "source": [
    "rf = RandomForestRegressor(n_estimators=1000, criterion = 'mae', random_state = 729)\n",
    "\n",
    "rf.fit(train_X, train_y)\n",
    "rf_prediction = rf.predict(test_feature)\n",
    "rf_prediction = np.round(tmp * rf_prediction + tmp)"
   ]
  },
  {
   "cell_type": "code",
   "execution_count": 265,
   "metadata": {},
   "outputs": [],
   "source": [
    "cb = CatBoostRegressor(iterations = 1000, max_depth = md, random_state = 42, learning_rate = .001, verbose = 0)\n",
    "\n",
    "cb.fit(train_X, train_y)\n",
    "cb_prediction = cb.predict(test_feature)\n",
    "cb_prediction = np.round(tmp * cb_prediction + tmp)"
   ]
  },
  {
   "cell_type": "code",
   "execution_count": 266,
   "metadata": {},
   "outputs": [],
   "source": [
    "submission = pd.read_csv(\"sample_submission.csv\")"
   ]
  },
  {
   "cell_type": "code",
   "execution_count": 270,
   "metadata": {},
   "outputs": [],
   "source": [
    "submission['num'] = (lgbm_prediction * .6  + cb_prediction * .4)"
   ]
  },
  {
   "cell_type": "code",
   "execution_count": 271,
   "metadata": {},
   "outputs": [
    {
     "data": {
      "text/plain": [
       "0       702.4\n",
       "1      1294.8\n",
       "2       477.0\n",
       "3       529.6\n",
       "4      1181.8\n",
       "        ...  \n",
       "145     264.4\n",
       "146     483.2\n",
       "147      39.6\n",
       "148     378.2\n",
       "149     258.0\n",
       "Name: num, Length: 150, dtype: float64"
      ]
     },
     "execution_count": 271,
     "metadata": {},
     "output_type": "execute_result"
    }
   ],
   "source": [
    "submission['num']"
   ]
  },
  {
   "cell_type": "code",
   "execution_count": 272,
   "metadata": {},
   "outputs": [],
   "source": [
    "submission.to_csv('0729.csv', index = False)"
   ]
  },
  {
   "cell_type": "code",
   "execution_count": null,
   "metadata": {},
   "outputs": [],
   "source": []
  }
 ],
 "metadata": {
  "kernelspec": {
   "display_name": "Python 3",
   "language": "python",
   "name": "python3"
  },
  "language_info": {
   "codemirror_mode": {
    "name": "ipython",
    "version": 3
   },
   "file_extension": ".py",
   "mimetype": "text/x-python",
   "name": "python",
   "nbconvert_exporter": "python",
   "pygments_lexer": "ipython3",
   "version": "3.8.5"
  }
 },
 "nbformat": 4,
 "nbformat_minor": 4
}
